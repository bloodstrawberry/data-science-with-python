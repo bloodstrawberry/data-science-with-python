{
 "cells": [
  {
   "cell_type": "code",
   "execution_count": null,
   "id": "fa8e922a",
   "metadata": {},
   "outputs": [],
   "source": [
    "고차원의 데이터를 저차원으로 축소\n",
    "\n",
    "변수들의 상관관계를 기반으로 공통의 요인을 찾는다.\n",
    "\n",
    "요인 분석 결과로 만들어진 새로운 변수들은 서로 대등하다"
   ]
  },
  {
   "cell_type": "code",
   "execution_count": null,
   "id": "784adcec",
   "metadata": {},
   "outputs": [],
   "source": [
    "옳지 않은 것\n",
    "\n",
    " \n",
    "\n",
    "요인 회전 방법으로는 VariMax, ScreenMax 등이 있다.\n",
    "\n",
    "- VariMax, QuartMax, EquaMax, Oblimin , ProMax 등이 있다. (ScreenMax(X))"
   ]
  }
 ],
 "metadata": {
  "kernelspec": {
   "display_name": "Python 3 (ipykernel)",
   "language": "python",
   "name": "python3"
  },
  "language_info": {
   "codemirror_mode": {
    "name": "ipython",
    "version": 3
   },
   "file_extension": ".py",
   "mimetype": "text/x-python",
   "name": "python",
   "nbconvert_exporter": "python",
   "pygments_lexer": "ipython3",
   "version": "3.7.4"
  }
 },
 "nbformat": 4,
 "nbformat_minor": 5
}
