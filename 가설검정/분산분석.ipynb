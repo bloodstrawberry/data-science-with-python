{
 "cells": [
  {
   "cell_type": "code",
   "execution_count": null,
   "id": "06f63349",
   "metadata": {},
   "outputs": [],
   "source": [
    "# ANOVA, 여러 집단의 평균 차이를 검정\n",
    "# 일원분산분석 = 단일 요인\n",
    "# 이원분산분석 = 두 요인과 상호작용이 평균에 미치는 영향\n",
    "\n",
    "# 가정\n",
    "# 독립성, 정규성(Shapiro-Wilk test), 등분산성(Levene test, stats.levene)"
   ]
  },
  {
   "cell_type": "code",
   "execution_count": 1,
   "id": "bf640e71",
   "metadata": {},
   "outputs": [],
   "source": [
    "from scipy.stats import f_oneway"
   ]
  },
  {
   "cell_type": "code",
   "execution_count": null,
   "id": "3f3c1605",
   "metadata": {},
   "outputs": [],
   "source": [
    "from stats.models.formula.api import ols\n",
    "from statsmodels.stats.anova import anova_lm\n",
    "\n",
    "# ~ : 종속변수와 독립변수를 구분, target ~ 독립변수\n",
    "# + : 여러 독립변수들을 모델에 포함\n",
    "# C() : 범주형 명시\n",
    "# model = ols('target ~ C(featA)', df).fit()\n",
    "# anova_lm(model)\n",
    "\n",
    "# 이원분산분석\n",
    "# model = ols('target ~ C(featA) + C(featB) + C(featA):C(featB)', df).fit()\n",
    "# model = ols('target ~ C(featA) + C(featB) + C(featA)*C(featB)', df).fit()\n",
    "# typ = 1, 2, 3 (순차적 합곱제곱, 불순차적 합곱제곱, 합곱제곱)\n",
    "# anova_lm(model, typ)\n"
   ]
  },
  {
   "cell_type": "code",
   "execution_count": null,
   "id": "13eb3363",
   "metadata": {},
   "outputs": [],
   "source": []
  },
  {
   "cell_type": "code",
   "execution_count": null,
   "id": "bbf55885",
   "metadata": {},
   "outputs": [],
   "source": []
  }
 ],
 "metadata": {
  "kernelspec": {
   "display_name": "Python 3 (ipykernel)",
   "language": "python",
   "name": "python3"
  },
  "language_info": {
   "codemirror_mode": {
    "name": "ipython",
    "version": 3
   },
   "file_extension": ".py",
   "mimetype": "text/x-python",
   "name": "python",
   "nbconvert_exporter": "python",
   "pygments_lexer": "ipython3",
   "version": "3.7.4"
  }
 },
 "nbformat": 4,
 "nbformat_minor": 5
}
