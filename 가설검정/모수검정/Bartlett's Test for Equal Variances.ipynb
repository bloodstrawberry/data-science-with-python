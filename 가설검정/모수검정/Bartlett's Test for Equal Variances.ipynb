{
 "cells": [
  {
   "cell_type": "code",
   "execution_count": 45,
   "id": "b05b7a04",
   "metadata": {},
   "outputs": [
    {
     "data": {
      "text/plain": [
       "A     3.786365\n",
       "B     4.293891\n",
       "C    24.989284\n",
       "dtype: float64"
      ]
     },
     "execution_count": 45,
     "metadata": {},
     "output_type": "execute_result"
    }
   ],
   "source": [
    "import numpy as np\n",
    "import pandas as pd\n",
    "\n",
    "np.random.seed(1234)\n",
    "\n",
    "groupA = np.random.normal(loc=10, scale=2.0, size=50) # 평균 10, 표준편차 2\n",
    "groupB = np.random.normal(loc=12, scale=2.0, size=50) # 평균 12, 표준편차 2\n",
    "groupC = np.random.normal(loc=14, scale=5.0, size=50) # 평균 14, 표준편차 5\n",
    "\n",
    "df = pd.DataFrame({'A': groupA, 'B': groupB, 'C': groupC})\n",
    "\n",
    "df.var()"
   ]
  },
  {
   "cell_type": "code",
   "execution_count": 46,
   "id": "8a182820",
   "metadata": {},
   "outputs": [
    {
     "data": {
      "text/plain": [
       "(57.929318677607135, 2.6351678235553495e-13)"
      ]
     },
     "execution_count": 46,
     "metadata": {},
     "output_type": "execute_result"
    }
   ],
   "source": [
    "# from scipy.stats import bartlett\n",
    "from scipy import stats\n",
    "\n",
    "# 모수 검정 (parametric test)\n",
    "# 목적 : 여러 집단 간 분산이 동일한지 (등분산성) 검정\n",
    "# 가정 : 각 그룹은 정규분포를 따라야 한다.\n",
    "# H₀ (귀무가설) : 모든 집단의 분산은 같다.\n",
    "# H₁ (대립가설) : 적어도 하나의 집단 분산은 다르다.\n",
    "\n",
    "stat, p_value = bartlett(df['A'], df['B'], df['C'])\n",
    "stat, p_value"
   ]
  },
  {
   "cell_type": "code",
   "execution_count": 47,
   "id": "bf8952ec",
   "metadata": {},
   "outputs": [
    {
     "name": "stdout",
     "output_type": "stream",
     "text": [
      "유의수준 0.05에서 집단 간 분산이 다릅니다 (귀무가설 기각)\n"
     ]
    }
   ],
   "source": [
    "# 결과 해석\n",
    "if p_value < 0.05:\n",
    "    print(\"유의수준 0.05에서 집단 간 분산이 다릅니다 (귀무가설 기각)\")\n",
    "else:\n",
    "    print(\"유의수준 0.05에서 집단 간 분산이 같다고 볼 수 있습니다 (귀무가설 채택)\")"
   ]
  },
  {
   "cell_type": "code",
   "execution_count": 48,
   "id": "136e0c62",
   "metadata": {},
   "outputs": [
    {
     "data": {
      "text/plain": [
       "(25.93856934414358, 2.248208954594381e-10)"
      ]
     },
     "execution_count": 48,
     "metadata": {},
     "output_type": "execute_result"
    }
   ],
   "source": [
    "# 정규성을 만족하지 않으면 Levene 검정(scipy.stats.levene)을 사용\n",
    "\n",
    "from scipy.stats import levene\n",
    "stat, p_value = levene(group1, group2, group3)\n",
    "stat, p_value"
   ]
  }
 ],
 "metadata": {
  "kernelspec": {
   "display_name": "Python 3 (ipykernel)",
   "language": "python",
   "name": "python3"
  },
  "language_info": {
   "codemirror_mode": {
    "name": "ipython",
    "version": 3
   },
   "file_extension": ".py",
   "mimetype": "text/x-python",
   "name": "python",
   "nbconvert_exporter": "python",
   "pygments_lexer": "ipython3",
   "version": "3.7.4"
  }
 },
 "nbformat": 4,
 "nbformat_minor": 5
}
