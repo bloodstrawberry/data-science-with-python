{
 "cells": [
  {
   "cell_type": "code",
   "execution_count": null,
   "id": "7a95f08d",
   "metadata": {},
   "outputs": [],
   "source": [
    "# groupby 이후 다중 index가 설정된 상태에서 특정 인덱스를 컬럼으로 변환"
   ]
  },
  {
   "cell_type": "code",
   "execution_count": 4,
   "id": "e144ec55",
   "metadata": {},
   "outputs": [
    {
     "name": "stdout",
     "output_type": "stream",
     "text": [
      "원본 DataFrame:\n",
      "   도시    년도   인구\n",
      "0  서울  2024  100\n",
      "1  서울  2025  110\n",
      "2  부산  2024   90\n",
      "3  부산  2025   95\n",
      "\n",
      "GroupBy 후:\n",
      "          인구\n",
      "도시 년도       \n",
      "부산 2024   90\n",
      "   2025   95\n",
      "서울 2024  100\n",
      "   2025  110\n",
      "\n",
      "Unstack 결과:\n",
      "     인구     \n",
      "년도 2024 2025\n",
      "도시          \n",
      "부산   90   95\n",
      "서울  100  110\n"
     ]
    }
   ],
   "source": [
    "import pandas as pd\n",
    "\n",
    "# 예제 데이터 생성\n",
    "data = {\n",
    "    '도시': ['서울', '서울', '부산', '부산'],\n",
    "    '년도': [2024, 2025, 2024, 2025],\n",
    "    '인구': [100, 110, 90, 95]\n",
    "}\n",
    "\n",
    "df = pd.DataFrame(data)\n",
    "print(\"원본 DataFrame:\")\n",
    "print(df)\n",
    "\n",
    "# groupby 후 unstack\n",
    "grouped = df.groupby(['도시', '년도']).sum()\n",
    "print(\"\\nGroupBy 후:\")\n",
    "print(grouped)\n",
    "\n",
    "unstacked = grouped.unstack()  # 또는 grouped.unstack(level='년도')\n",
    "print(\"\\nUnstack 결과:\")\n",
    "print(unstacked)\n"
   ]
  },
  {
   "cell_type": "code",
   "execution_count": null,
   "id": "c34f51ba",
   "metadata": {},
   "outputs": [],
   "source": []
  }
 ],
 "metadata": {
  "kernelspec": {
   "display_name": "Python 3 (ipykernel)",
   "language": "python",
   "name": "python3"
  },
  "language_info": {
   "codemirror_mode": {
    "name": "ipython",
    "version": 3
   },
   "file_extension": ".py",
   "mimetype": "text/x-python",
   "name": "python",
   "nbconvert_exporter": "python",
   "pygments_lexer": "ipython3",
   "version": "3.7.4"
  }
 },
 "nbformat": 4,
 "nbformat_minor": 5
}
