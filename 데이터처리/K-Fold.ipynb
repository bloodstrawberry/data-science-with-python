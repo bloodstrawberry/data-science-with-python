{
 "cells": [
  {
   "cell_type": "code",
   "execution_count": 2,
   "id": "86b4fad2",
   "metadata": {},
   "outputs": [
    {
     "data": {
      "text/html": [
       "<div>\n",
       "<style scoped>\n",
       "    .dataframe tbody tr th:only-of-type {\n",
       "        vertical-align: middle;\n",
       "    }\n",
       "\n",
       "    .dataframe tbody tr th {\n",
       "        vertical-align: top;\n",
       "    }\n",
       "\n",
       "    .dataframe thead th {\n",
       "        text-align: right;\n",
       "    }\n",
       "</style>\n",
       "<table border=\"1\" class=\"dataframe\">\n",
       "  <thead>\n",
       "    <tr style=\"text-align: right;\">\n",
       "      <th></th>\n",
       "      <th>age</th>\n",
       "      <th>salary</th>\n",
       "      <th>owns_house</th>\n",
       "    </tr>\n",
       "  </thead>\n",
       "  <tbody>\n",
       "    <tr>\n",
       "      <td>0</td>\n",
       "      <td>39</td>\n",
       "      <td>102520</td>\n",
       "      <td>0</td>\n",
       "    </tr>\n",
       "    <tr>\n",
       "      <td>1</td>\n",
       "      <td>58</td>\n",
       "      <td>100530</td>\n",
       "      <td>0</td>\n",
       "    </tr>\n",
       "    <tr>\n",
       "      <td>2</td>\n",
       "      <td>32</td>\n",
       "      <td>96155</td>\n",
       "      <td>0</td>\n",
       "    </tr>\n",
       "    <tr>\n",
       "      <td>3</td>\n",
       "      <td>44</td>\n",
       "      <td>117170</td>\n",
       "      <td>1</td>\n",
       "    </tr>\n",
       "    <tr>\n",
       "      <td>4</td>\n",
       "      <td>35</td>\n",
       "      <td>114722</td>\n",
       "      <td>1</td>\n",
       "    </tr>\n",
       "  </tbody>\n",
       "</table>\n",
       "</div>"
      ],
      "text/plain": [
       "   age  salary  owns_house\n",
       "0   39  102520           0\n",
       "1   58  100530           0\n",
       "2   32   96155           0\n",
       "3   44  117170           1\n",
       "4   35  114722           1"
      ]
     },
     "execution_count": 2,
     "metadata": {},
     "output_type": "execute_result"
    }
   ],
   "source": [
    "import pandas as pd\n",
    "import numpy as np\n",
    "\n",
    "np.random.seed(1234)\n",
    "\n",
    "n_samples = 100\n",
    "data = {\n",
    "    'age': np.random.randint(20, 60, size=n_samples),\n",
    "    'salary': np.random.randint(30000, 120000, size=n_samples),\n",
    "    'owns_house': np.random.randint(0, 2, size=n_samples),\n",
    "}\n",
    "\n",
    "df = pd.DataFrame(data)\n",
    "\n",
    "df.head()"
   ]
  },
  {
   "cell_type": "code",
   "execution_count": 21,
   "id": "5d58fc50",
   "metadata": {},
   "outputs": [
    {
     "name": "stdout",
     "output_type": "stream",
     "text": [
      "index : RangeIndex(start=0, stop=20, step=1)\n",
      "train set 0  : (20, 3)\n",
      "test  set 0  : (80, 3)\n",
      "\n",
      "index : RangeIndex(start=20, stop=40, step=1)\n",
      "train set 1  : (20, 3)\n",
      "test  set 1  : (80, 3)\n",
      "\n",
      "index : RangeIndex(start=40, stop=60, step=1)\n",
      "train set 2  : (20, 3)\n",
      "test  set 2  : (80, 3)\n",
      "\n",
      "index : RangeIndex(start=60, stop=80, step=1)\n",
      "train set 3  : (20, 3)\n",
      "test  set 3  : (80, 3)\n",
      "\n",
      "index : RangeIndex(start=80, stop=100, step=1)\n",
      "train set 4  : (20, 3)\n",
      "test  set 4  : (80, 3)\n",
      "\n"
     ]
    }
   ],
   "source": [
    "idx0 = df.iloc[:20].index\n",
    "idx1 = df.iloc[20:40].index\n",
    "idx2 = df.iloc[40:60].index\n",
    "idx3 = df.iloc[60:80].index\n",
    "idx4 = df.iloc[80:100].index\n",
    "\n",
    "for n, idx in enumerate([idx0, idx1, idx2, idx3, idx4]):\n",
    "    print(\"index :\", idx)\n",
    "    print(\"train set\", n, \" :\", df.loc[idx, :].shape)\n",
    "    print(\"test  set\", n, \" :\", df.loc[~df.index.isin(idx), :].shape)\n",
    "    print()"
   ]
  },
  {
   "cell_type": "code",
   "execution_count": null,
   "id": "e6ddf92e",
   "metadata": {},
   "outputs": [],
   "source": [
    "######################################################################################################"
   ]
  },
  {
   "cell_type": "code",
   "execution_count": 7,
   "id": "0a4d0b88",
   "metadata": {},
   "outputs": [
    {
     "name": "stdout",
     "output_type": "stream",
     "text": [
      "Fold 1\n",
      "Train size: 80, Test size: 20\n",
      "    age  salary  owns_house\n",
      "1    58  100530           0\n",
      "27   32   75399           1\n",
      "33   48  102382           1\n",
      "35   43   38849           0\n",
      "39   25   97481           1\n",
      "----------------------------------------\n",
      "Fold 2\n",
      "Train size: 80, Test size: 20\n",
      "    age  salary  owns_house\n",
      "4    35  114722           1\n",
      "7    50   93289           1\n",
      "9    46  105425           0\n",
      "10   48   85673           0\n",
      "29   31   43219           1\n",
      "----------------------------------------\n",
      "Fold 3\n",
      "Train size: 80, Test size: 20\n",
      "    age  salary  owns_house\n",
      "5    43   83294           1\n",
      "6    46   84754           0\n",
      "8    50   83687           1\n",
      "16   54   53314           1\n",
      "18   23   98725           0\n",
      "----------------------------------------\n",
      "Fold 4\n",
      "Train size: 80, Test size: 20\n",
      "    age  salary  owns_house\n",
      "0    39  102520           0\n",
      "2    32   96155           0\n",
      "3    44  117170           1\n",
      "11   25   32730           0\n",
      "12   36  110386           1\n",
      "----------------------------------------\n",
      "Fold 5\n",
      "Train size: 80, Test size: 20\n",
      "    age  salary  owns_house\n",
      "15   57  110163           1\n",
      "23   36   93345           0\n",
      "24   23   47969           1\n",
      "26   39   95179           0\n",
      "30   37   43908           1\n",
      "----------------------------------------\n"
     ]
    }
   ],
   "source": [
    "from sklearn.model_selection import KFold\n",
    "\n",
    "kf = KFold(n_splits=5, shuffle=True, random_state=1234)\n",
    "\n",
    "for i, (train_index, test_index) in enumerate(kf.split(df)):\n",
    "    train_df = df.iloc[train_index]\n",
    "    test_df = df.iloc[test_index]\n",
    "    \n",
    "    print(f'Fold {i+1}')\n",
    "    print(f'Train size: {len(train_df)}, Test size: {len(test_df)}')\n",
    "    print(test_df.head()) \n",
    "    print('-' * 40)"
   ]
  },
  {
   "cell_type": "code",
   "execution_count": null,
   "id": "cb0982cc",
   "metadata": {},
   "outputs": [],
   "source": []
  }
 ],
 "metadata": {
  "kernelspec": {
   "display_name": "Python 3 (ipykernel)",
   "language": "python",
   "name": "python3"
  },
  "language_info": {
   "codemirror_mode": {
    "name": "ipython",
    "version": 3
   },
   "file_extension": ".py",
   "mimetype": "text/x-python",
   "name": "python",
   "nbconvert_exporter": "python",
   "pygments_lexer": "ipython3",
   "version": "3.7.4"
  }
 },
 "nbformat": 4,
 "nbformat_minor": 5
}
