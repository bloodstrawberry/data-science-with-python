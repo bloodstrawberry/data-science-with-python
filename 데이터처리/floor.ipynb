{
 "cells": [
  {
   "cell_type": "code",
   "execution_count": 2,
   "id": "8a7a0872",
   "metadata": {},
   "outputs": [
    {
     "data": {
      "text/plain": [
       "3.141592"
      ]
     },
     "execution_count": 2,
     "metadata": {},
     "output_type": "execute_result"
    }
   ],
   "source": [
    "# 소수점 일곱 번째 자리에서 버림하고, 여섯 번째 자리까지 표시\n",
    "import numpy as np\n",
    "\n",
    "value = 3.14159265358979\n",
    "\n",
    "trimmed = np.floor(value * 1_000_000) / 1_000_000\n",
    "\n",
    "trimmed # 버림"
   ]
  },
  {
   "cell_type": "code",
   "execution_count": 3,
   "id": "f0eb9b0c",
   "metadata": {},
   "outputs": [
    {
     "data": {
      "text/plain": [
       "3.141593"
      ]
     },
     "execution_count": 3,
     "metadata": {},
     "output_type": "execute_result"
    }
   ],
   "source": [
    "round(value, 6) # 반올림"
   ]
  },
  {
   "cell_type": "code",
   "execution_count": null,
   "id": "15b7e903",
   "metadata": {},
   "outputs": [],
   "source": []
  }
 ],
 "metadata": {
  "kernelspec": {
   "display_name": "Python 3 (ipykernel)",
   "language": "python",
   "name": "python3"
  },
  "language_info": {
   "codemirror_mode": {
    "name": "ipython",
    "version": 3
   },
   "file_extension": ".py",
   "mimetype": "text/x-python",
   "name": "python",
   "nbconvert_exporter": "python",
   "pygments_lexer": "ipython3",
   "version": "3.7.4"
  }
 },
 "nbformat": 4,
 "nbformat_minor": 5
}
