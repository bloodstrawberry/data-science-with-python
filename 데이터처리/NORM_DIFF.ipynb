{
 "cells": [
  {
   "cell_type": "code",
   "execution_count": 15,
   "id": "86e90df6",
   "metadata": {},
   "outputs": [
    {
     "data": {
      "text/html": [
       "<div>\n",
       "<style scoped>\n",
       "    .dataframe tbody tr th:only-of-type {\n",
       "        vertical-align: middle;\n",
       "    }\n",
       "\n",
       "    .dataframe tbody tr th {\n",
       "        vertical-align: top;\n",
       "    }\n",
       "\n",
       "    .dataframe thead th {\n",
       "        text-align: right;\n",
       "    }\n",
       "</style>\n",
       "<table border=\"1\" class=\"dataframe\">\n",
       "  <thead>\n",
       "    <tr style=\"text-align: right;\">\n",
       "      <th></th>\n",
       "      <th>feature1</th>\n",
       "      <th>feature2</th>\n",
       "      <th>feature3</th>\n",
       "    </tr>\n",
       "  </thead>\n",
       "  <tbody>\n",
       "    <tr>\n",
       "      <td>0</td>\n",
       "      <td>0.191519</td>\n",
       "      <td>0.622109</td>\n",
       "      <td>0.437728</td>\n",
       "    </tr>\n",
       "    <tr>\n",
       "      <td>1</td>\n",
       "      <td>0.785359</td>\n",
       "      <td>0.779976</td>\n",
       "      <td>0.272593</td>\n",
       "    </tr>\n",
       "    <tr>\n",
       "      <td>2</td>\n",
       "      <td>0.276464</td>\n",
       "      <td>0.801872</td>\n",
       "      <td>0.958139</td>\n",
       "    </tr>\n",
       "    <tr>\n",
       "      <td>3</td>\n",
       "      <td>0.875933</td>\n",
       "      <td>0.357817</td>\n",
       "      <td>0.500995</td>\n",
       "    </tr>\n",
       "    <tr>\n",
       "      <td>4</td>\n",
       "      <td>0.683463</td>\n",
       "      <td>0.712702</td>\n",
       "      <td>0.370251</td>\n",
       "    </tr>\n",
       "    <tr>\n",
       "      <td>5</td>\n",
       "      <td>0.561196</td>\n",
       "      <td>0.503083</td>\n",
       "      <td>0.013768</td>\n",
       "    </tr>\n",
       "    <tr>\n",
       "      <td>6</td>\n",
       "      <td>0.772827</td>\n",
       "      <td>0.882641</td>\n",
       "      <td>0.364886</td>\n",
       "    </tr>\n",
       "    <tr>\n",
       "      <td>7</td>\n",
       "      <td>0.615396</td>\n",
       "      <td>0.075381</td>\n",
       "      <td>0.368824</td>\n",
       "    </tr>\n",
       "    <tr>\n",
       "      <td>8</td>\n",
       "      <td>0.933140</td>\n",
       "      <td>0.651378</td>\n",
       "      <td>0.397203</td>\n",
       "    </tr>\n",
       "    <tr>\n",
       "      <td>9</td>\n",
       "      <td>0.788730</td>\n",
       "      <td>0.316836</td>\n",
       "      <td>0.568099</td>\n",
       "    </tr>\n",
       "  </tbody>\n",
       "</table>\n",
       "</div>"
      ],
      "text/plain": [
       "   feature1  feature2  feature3\n",
       "0  0.191519  0.622109  0.437728\n",
       "1  0.785359  0.779976  0.272593\n",
       "2  0.276464  0.801872  0.958139\n",
       "3  0.875933  0.357817  0.500995\n",
       "4  0.683463  0.712702  0.370251\n",
       "5  0.561196  0.503083  0.013768\n",
       "6  0.772827  0.882641  0.364886\n",
       "7  0.615396  0.075381  0.368824\n",
       "8  0.933140  0.651378  0.397203\n",
       "9  0.788730  0.316836  0.568099"
      ]
     },
     "execution_count": 15,
     "metadata": {},
     "output_type": "execute_result"
    }
   ],
   "source": [
    "import pandas as pd\n",
    "import numpy as np\n",
    "\n",
    "np.random.seed(1234)\n",
    "\n",
    "data = np.random.rand(10, 3)\n",
    "columns = ['feature1', 'feature2', 'feature3']\n",
    "\n",
    "df = pd.DataFrame(data, columns=columns)\n",
    "\n",
    "df"
   ]
  },
  {
   "cell_type": "code",
   "execution_count": 16,
   "id": "ac4cf239",
   "metadata": {},
   "outputs": [],
   "source": [
    "from scipy.stats import norm\n",
    "\n",
    "def norm_diff(srs): # 정규분포를 얼마나 잘 따르는지를 측정하는 지표를 계산\n",
    "    mean = srs.mean()\n",
    "    std = srs.std()\n",
    "    rv = norm(loc=mean, scale=std)\n",
    "    arr_tmp0 = np.zeros(19)\n",
    "    arr_tmp1 = np.zeros(19)\n",
    "    \n",
    "    for i, j in enumerate(np.arange(0.05, 1, 0.05)):\n",
    "        arr_tmp0[i] = rv.ppf(j)\n",
    "        arr_tmp1[i] = srs.quantile(j)\n",
    "    \n",
    "    diff = ((arr_tmp0 - arr_tmp1) ** 2).mean()\n",
    "    \n",
    "    return diff        "
   ]
  },
  {
   "cell_type": "code",
   "execution_count": 17,
   "id": "9de602b2",
   "metadata": {},
   "outputs": [
    {
     "data": {
      "text/plain": [
       "0.004913583195279118"
      ]
     },
     "execution_count": 17,
     "metadata": {},
     "output_type": "execute_result"
    }
   ],
   "source": [
    "norm_diff(df['feature1'])"
   ]
  },
  {
   "cell_type": "code",
   "execution_count": null,
   "id": "5a2f728b",
   "metadata": {},
   "outputs": [],
   "source": [
    "##################################################################################################"
   ]
  },
  {
   "cell_type": "code",
   "execution_count": 22,
   "id": "4533628a",
   "metadata": {},
   "outputs": [
    {
     "name": "stdout",
     "output_type": "stream",
     "text": [
      "MSE between theoretical and empirical quantiles: 0.8476838295464748\n"
     ]
    }
   ],
   "source": [
    "import numpy as np\n",
    "from scipy import stats\n",
    "\n",
    "# srs: 정규성 비교할 pandas Series\n",
    "osm, osr = stats.probplot(df['feature1'], dist=\"norm\")[0]  # 분위수 비교용\n",
    "\n",
    "mse = ((np.array(osm) - np.array(osr)) ** 2).mean()\n",
    "print(\"MSE between theoretical and empirical quantiles:\", mse)"
   ]
  },
  {
   "cell_type": "code",
   "execution_count": 23,
   "id": "1194eeea",
   "metadata": {},
   "outputs": [
    {
     "data": {
      "text/plain": [
       "(array([-1.49876728, -0.98494667, -0.64703803, -0.37109819, -0.12121409,\n",
       "         0.12121409,  0.37109819,  0.64703803,  0.98494667,  1.49876728]),\n",
       " array([0.19151945, 0.27646426, 0.56119619, 0.61539618, 0.68346294,\n",
       "        0.77282662, 0.78535858, 0.78873014, 0.87593263, 0.9331401 ]))"
      ]
     },
     "execution_count": 23,
     "metadata": {},
     "output_type": "execute_result"
    }
   ],
   "source": [
    "osm, osr"
   ]
  },
  {
   "cell_type": "code",
   "execution_count": null,
   "id": "525a7279",
   "metadata": {},
   "outputs": [],
   "source": []
  }
 ],
 "metadata": {
  "kernelspec": {
   "display_name": "Python 3 (ipykernel)",
   "language": "python",
   "name": "python3"
  },
  "language_info": {
   "codemirror_mode": {
    "name": "ipython",
    "version": 3
   },
   "file_extension": ".py",
   "mimetype": "text/x-python",
   "name": "python",
   "nbconvert_exporter": "python",
   "pygments_lexer": "ipython3",
   "version": "3.7.4"
  }
 },
 "nbformat": 4,
 "nbformat_minor": 5
}
