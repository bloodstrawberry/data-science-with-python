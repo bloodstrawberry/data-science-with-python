{
 "cells": [
  {
   "cell_type": "code",
   "execution_count": 59,
   "id": "49b40e83",
   "metadata": {},
   "outputs": [
    {
     "data": {
      "text/html": [
       "<div>\n",
       "<style scoped>\n",
       "    .dataframe tbody tr th:only-of-type {\n",
       "        vertical-align: middle;\n",
       "    }\n",
       "\n",
       "    .dataframe tbody tr th {\n",
       "        vertical-align: top;\n",
       "    }\n",
       "\n",
       "    .dataframe thead th {\n",
       "        text-align: right;\n",
       "    }\n",
       "</style>\n",
       "<table border=\"1\" class=\"dataframe\">\n",
       "  <thead>\n",
       "    <tr style=\"text-align: right;\">\n",
       "      <th></th>\n",
       "      <th>A</th>\n",
       "      <th>B</th>\n",
       "      <th>label</th>\n",
       "    </tr>\n",
       "  </thead>\n",
       "  <tbody>\n",
       "    <tr>\n",
       "      <td>0</td>\n",
       "      <td>0.484288</td>\n",
       "      <td>1.363482</td>\n",
       "      <td>0.0</td>\n",
       "    </tr>\n",
       "    <tr>\n",
       "      <td>1</td>\n",
       "      <td>-4.722474</td>\n",
       "      <td>-2.434092</td>\n",
       "      <td>1.0</td>\n",
       "    </tr>\n",
       "    <tr>\n",
       "      <td>2</td>\n",
       "      <td>-1.735349</td>\n",
       "      <td>1.210384</td>\n",
       "      <td>0.0</td>\n",
       "    </tr>\n",
       "    <tr>\n",
       "      <td>3</td>\n",
       "      <td>-2.123620</td>\n",
       "      <td>-0.333502</td>\n",
       "      <td>0.0</td>\n",
       "    </tr>\n",
       "    <tr>\n",
       "      <td>4</td>\n",
       "      <td>-0.859668</td>\n",
       "      <td>0.225985</td>\n",
       "      <td>0.0</td>\n",
       "    </tr>\n",
       "  </tbody>\n",
       "</table>\n",
       "</div>"
      ],
      "text/plain": [
       "          A         B  label\n",
       "0  0.484288  1.363482    0.0\n",
       "1 -4.722474 -2.434092    1.0\n",
       "2 -1.735349  1.210384    0.0\n",
       "3 -2.123620 -0.333502    0.0\n",
       "4 -0.859668  0.225985    0.0"
      ]
     },
     "execution_count": 59,
     "metadata": {},
     "output_type": "execute_result"
    }
   ],
   "source": [
    "import pandas as pd\n",
    "import numpy as np\n",
    "\n",
    "np.random.seed(1234)\n",
    "normal_data = np.random.normal(loc=0, scale=1, size=(100, 2))  # 정상 데이터\n",
    "outliers = np.random.uniform(low=-6, high=6, size=(5, 2))      # 이상치\n",
    "\n",
    "normal_labels = np.zeros((normal_data.shape[0], 1))\n",
    "outlier_labels = np.ones((outliers.shape[0], 1))\n",
    "\n",
    "normal_data = np.hstack((normal_data, normal_labels))\n",
    "outliers = np.hstack((outliers, outlier_labels))\n",
    "\n",
    "data = np.vstack([normal_data, outliers])\n",
    "\n",
    "# data shuffle\n",
    "data = df.sample(frac=1).reset_index(drop=True)\n",
    "\n",
    "df = pd.DataFrame(data, columns=['A', 'B', 'label'])\n",
    "df.head()"
   ]
  },
  {
   "cell_type": "code",
   "execution_count": 64,
   "id": "72af7bb1",
   "metadata": {},
   "outputs": [
    {
     "data": {
      "text/plain": [
       "array([ 1, -1,  1,  1,  1, -1,  1,  1,  1,  1,  1,  1,  1,  1,  1,  1,  1,\n",
       "        1,  1,  1,  1,  1,  1,  1,  1,  1,  1,  1,  1,  1,  1,  1,  1,  1,\n",
       "        1,  1,  1,  1,  1,  1,  1,  1,  1,  1,  1,  1, -1,  1,  1,  1,  1,\n",
       "        1,  1,  1,  1,  1,  1,  1,  1,  1, -1,  1,  1,  1,  1,  1,  1,  1,\n",
       "        1,  1,  1,  1,  1,  1,  1,  1,  1,  1,  1,  1,  1,  1,  1,  1,  1,\n",
       "        1,  1,  1,  1, -1,  1,  1,  1,  1,  1,  1,  1,  1,  1,  1,  1,  1,\n",
       "        1,  1,  1])"
      ]
     },
     "execution_count": 64,
     "metadata": {},
     "output_type": "execute_result"
    }
   ],
   "source": [
    "from sklearn.neighbors import LocalOutlierFactor\n",
    "\n",
    "# novelty = 훈련 데이터 외의 새로운 데이터에 대해 이상치 탐지를 할지 여부\n",
    "# novelty=False : 학습 데이터 자체에 이상치를 탐지, fit_predict()\n",
    "# novelty=True : 학습 데이터는 정상으로 간주, 새로운 데이터에 대해 이상치 여부 판단, fit(normal) + predict(outlier)\n",
    "# contamination = 데이터 내에 이상치가 차지하는 비율, 0 ~ 0.5 or 'auto'\n",
    "lof = LocalOutlierFactor(n_neighbors=20, novelty=True, contamination=0.05)\n",
    "predict = lof.fit(df[['A', 'B']]).predict(df[['A', 'B']]) # fit에서 모두 정상으로 가정, predict에서 이상치로 다시 감지\n",
    "predict"
   ]
  },
  {
   "cell_type": "code",
   "execution_count": 65,
   "id": "2c5b77c6",
   "metadata": {},
   "outputs": [
    {
     "data": {
      "text/plain": [
       "array([0.])"
      ]
     },
     "execution_count": 65,
     "metadata": {},
     "output_type": "execute_result"
    }
   ],
   "source": [
    "# 정상 데이터 확인\n",
    "df[predict != -1]['label'].unique()"
   ]
  },
  {
   "cell_type": "code",
   "execution_count": null,
   "id": "31ac6527",
   "metadata": {},
   "outputs": [],
   "source": []
  }
 ],
 "metadata": {
  "kernelspec": {
   "display_name": "Python 3 (ipykernel)",
   "language": "python",
   "name": "python3"
  },
  "language_info": {
   "codemirror_mode": {
    "name": "ipython",
    "version": 3
   },
   "file_extension": ".py",
   "mimetype": "text/x-python",
   "name": "python",
   "nbconvert_exporter": "python",
   "pygments_lexer": "ipython3",
   "version": "3.7.4"
  }
 },
 "nbformat": 4,
 "nbformat_minor": 5
}
