{
 "cells": [
  {
   "cell_type": "code",
   "execution_count": 1,
   "id": "2024d315",
   "metadata": {},
   "outputs": [
    {
     "data": {
      "text/plain": [
       "HR             72\n",
       "Engineering    19\n",
       "Marketing       9\n",
       "Name: department, dtype: int64"
      ]
     },
     "execution_count": 1,
     "metadata": {},
     "output_type": "execute_result"
    }
   ],
   "source": [
    "import pandas as pd\n",
    "import numpy as np\n",
    "\n",
    "np.random.seed(1234)\n",
    "\n",
    "n = 100\n",
    "\n",
    "data = {\n",
    "    'age': np.random.randint(18, 65, size=n),  \n",
    "    'salary': np.random.normal(loc=50000, scale=15000, size=n).astype(int),  \n",
    "    'department': np.random.choice(['HR', 'Engineering', 'Marketing'], size=n, p=[0.7, 0.2, 0.1])\n",
    "}\n",
    "\n",
    "# 데이터프레임 생성\n",
    "df = pd.DataFrame(data)\n",
    "\n",
    "df['department'].value_counts()"
   ]
  },
  {
   "cell_type": "code",
   "execution_count": 34,
   "id": "3c08595f",
   "metadata": {},
   "outputs": [],
   "source": [
    "from imblearn.over_sampling import SMOTE \n",
    "# Synthetic Minority Over-sampling Technique\n",
    "# 불균형한 데이터셋에서 소수 클래스 샘플을 인위적으로 생성하여 데이터의 균형을 맞출 때 사용\n",
    " \n",
    "# ratio : 소수 클래스에 대해 얼마나 샘플을 생성할지를 지정하는 파라미터\n",
    "# 'auto' = (기본값) 소수 클래스를 다수 클래스와 동일한 수로 맞춤\n",
    "# float = 예: 0.5이면 소수 클래스가 다수 클래스의 50%가 되도록 샘플 생성  (이진 분류에서 사용)\n",
    "# dict = 예: {0: 100, 1: 300} → 클래스 0은 100개, 클래스 1은 300개로 맞춤\n",
    "# 'minority' = 가장 작은 소수 클래스만 oversampling\n",
    "# 'not majority' = 다수 클래스를 제외한 모든 클래스를 oversampling\n",
    "# 'all' = 모든 클래스를 동일한 수로 맞춤 (다수 클래스 포함)\n",
    "\n",
    "# kind : SMOTE 알고리즘의 변형 종류를 지정\n",
    "# 'regular' = (기본값) KNN 기반으로 단순하게 소수 클래스 샘플을 생성\n",
    "# 'borderline1' = 경계선 근처에 있는 소수 클래스만 oversampling (Borderline-SMOTE 1)\n",
    "#'borderline2' = Borderline-SMOTE 2 방식\n",
    "# 'svm' = SVM 경계 기반 SMOTE (SVM-SMOTE)\n",
    "smote = SMOTE(ratio='auto', kind='regular', random_state=1234)\n",
    "X_train, y_train = smote.fit_resample(df[['age', 'salary']], df['department']) # fit_resample(data, class)"
   ]
  },
  {
   "cell_type": "code",
   "execution_count": 35,
   "id": "a1883c5f",
   "metadata": {},
   "outputs": [],
   "source": [
    "df_resampled = pd.DataFrame(X_train, columns=['age', 'salary'])\n",
    "df_resampled['department'] = y_train"
   ]
  },
  {
   "cell_type": "code",
   "execution_count": 36,
   "id": "68e0c8bd",
   "metadata": {},
   "outputs": [
    {
     "data": {
      "text/plain": [
       "Marketing      72\n",
       "Engineering    72\n",
       "HR             72\n",
       "Name: department, dtype: int64"
      ]
     },
     "execution_count": 36,
     "metadata": {},
     "output_type": "execute_result"
    }
   ],
   "source": [
    "df_resampled['department'].value_counts()"
   ]
  },
  {
   "cell_type": "code",
   "execution_count": null,
   "id": "d068c364",
   "metadata": {},
   "outputs": [],
   "source": []
  }
 ],
 "metadata": {
  "kernelspec": {
   "display_name": "Python 3 (ipykernel)",
   "language": "python",
   "name": "python3"
  },
  "language_info": {
   "codemirror_mode": {
    "name": "ipython",
    "version": 3
   },
   "file_extension": ".py",
   "mimetype": "text/x-python",
   "name": "python",
   "nbconvert_exporter": "python",
   "pygments_lexer": "ipython3",
   "version": "3.7.4"
  }
 },
 "nbformat": 4,
 "nbformat_minor": 5
}
