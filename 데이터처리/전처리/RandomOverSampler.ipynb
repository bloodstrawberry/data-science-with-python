{
 "cells": [
  {
   "cell_type": "code",
   "execution_count": 23,
   "id": "2024d315",
   "metadata": {},
   "outputs": [
    {
     "data": {
      "text/plain": [
       "HR             72\n",
       "Engineering    19\n",
       "Marketing       9\n",
       "Name: department, dtype: int64"
      ]
     },
     "execution_count": 23,
     "metadata": {},
     "output_type": "execute_result"
    }
   ],
   "source": [
    "import pandas as pd\n",
    "import numpy as np\n",
    "\n",
    "np.random.seed(1234)\n",
    "\n",
    "n = 100\n",
    "\n",
    "data = {\n",
    "    'age': np.random.randint(18, 65, size=n),  \n",
    "    'salary': np.random.normal(loc=50000, scale=15000, size=n).astype(int),  \n",
    "    'department': np.random.choice(['HR', 'Engineering', 'Marketing'], size=n, p=[0.7, 0.2, 0.1])\n",
    "}\n",
    "\n",
    "# 데이터프레임 생성\n",
    "df = pd.DataFrame(data)\n",
    "\n",
    "df['department'].value_counts()"
   ]
  },
  {
   "cell_type": "code",
   "execution_count": 24,
   "id": "3c08595f",
   "metadata": {},
   "outputs": [],
   "source": [
    "from imblearn.over_sampling import RandomOverSampler\n",
    "\n",
    "# minority = 소수 클래스만 다수 클래스 수준까지 복제 (default)\n",
    "# 'not minority' = 소수 클래스 이외의 클래스를 모두 복제\n",
    "# 'not majority' = 다수 클래스 이외의 클래스를 모두 복제\n",
    "# 'all' = 모든 클래스를 가장 많은 클래스 수준까지 복제\n",
    "# dict = 원하는 클래스별로 구체적인 수를 지정\n",
    "# float = 전체 데이터의 소수 클래스 비율을 정수 비율로 맞춤 (ex. 0.5 → minority / majority = 0.5)\n",
    "\n",
    "oversample = RandomOverSampler(sampling_strategy='minority', random_state=1234)\n",
    "X_train, y_train = oversample.fit_resample(df[['age', 'salary']], df['department'])"
   ]
  },
  {
   "cell_type": "code",
   "execution_count": 25,
   "id": "a1883c5f",
   "metadata": {},
   "outputs": [],
   "source": [
    "df_resampled = pd.DataFrame(X_train, columns=['age', 'salary'])\n",
    "df_resampled['department'] = y_train"
   ]
  },
  {
   "cell_type": "code",
   "execution_count": 26,
   "id": "68e0c8bd",
   "metadata": {},
   "outputs": [
    {
     "data": {
      "text/plain": [
       "HR             72\n",
       "Marketing      72\n",
       "Engineering    19\n",
       "Name: department, dtype: int64"
      ]
     },
     "execution_count": 26,
     "metadata": {},
     "output_type": "execute_result"
    }
   ],
   "source": [
    "df_resampled['department'].value_counts()"
   ]
  },
  {
   "cell_type": "code",
   "execution_count": 27,
   "id": "c0a053de",
   "metadata": {},
   "outputs": [],
   "source": [
    "# 모든 소수 클래스가 최대 다수 클래스가 되도록 설정\n",
    "target_counts = {\n",
    "    'Engineering': df['department'].value_counts()['HR'],  \n",
    "    'Marketing': df['department'].value_counts()['HR']\n",
    "}\n",
    "\n",
    "oversample = RandomOverSampler(sampling_strategy=target_counts, random_state=1234)\n",
    "X_train, y_train = oversample.fit_resample(df[['age', 'salary']], df['department']) # fit_resample(data, class)"
   ]
  },
  {
   "cell_type": "code",
   "execution_count": 28,
   "id": "bda324d4",
   "metadata": {},
   "outputs": [],
   "source": [
    "df_resampled = pd.DataFrame(X_train, columns=['age', 'salary'])\n",
    "df_resampled['department'] = y_train"
   ]
  },
  {
   "cell_type": "code",
   "execution_count": 29,
   "id": "bcc024cc",
   "metadata": {},
   "outputs": [
    {
     "data": {
      "text/plain": [
       "HR             72\n",
       "Marketing      72\n",
       "Engineering    72\n",
       "Name: department, dtype: int64"
      ]
     },
     "execution_count": 29,
     "metadata": {},
     "output_type": "execute_result"
    }
   ],
   "source": [
    "df_resampled['department'].value_counts()"
   ]
  },
  {
   "cell_type": "code",
   "execution_count": null,
   "id": "927e055a",
   "metadata": {},
   "outputs": [],
   "source": []
  }
 ],
 "metadata": {
  "kernelspec": {
   "display_name": "Python 3 (ipykernel)",
   "language": "python",
   "name": "python3"
  },
  "language_info": {
   "codemirror_mode": {
    "name": "ipython",
    "version": 3
   },
   "file_extension": ".py",
   "mimetype": "text/x-python",
   "name": "python",
   "nbconvert_exporter": "python",
   "pygments_lexer": "ipython3",
   "version": "3.7.4"
  }
 },
 "nbformat": 4,
 "nbformat_minor": 5
}
