{
 "cells": [
  {
   "cell_type": "code",
   "execution_count": 3,
   "id": "d4464a89",
   "metadata": {},
   "outputs": [],
   "source": [
    "Docstring:     \n",
    "Class to perform random over-sampling.\n",
    "\n",
    "Object to over-sample the minority class(es) by picking samples at random\n",
    "with replacement.\n",
    "\n",
    "무작위 오버샘플링(Random Over-Sampling) 을 수행하기 위한 클래스\n",
    "소수 클래스(들)의 샘플을 복원 추출(with replacement)을 통해 무작위로 선택하여 데이터를 증강\n",
    "        \n",
    "    \n",
    "Parameters\n",
    "----------\n",
    "sampling_strategy : float, str, dict or callable, (default='auto')\n",
    "    Sampling information to resample the data set.\n",
    "\n",
    "    - When ``float``, it corresponds to the desired ratio of the number of\n",
    "      samples in the minority class over the number of samples in the\n",
    "      majority class after resampling. Therefore, the ratio is expressed as\n",
    "      :math:`\\alpha_{os} = N_{rm} / N_{M}` where :math:`N_{rm}` is the\n",
    "      number of samples in the minority class after resampling and\n",
    "      :math:`N_{M}` is the number of samples in the majority class.\n",
    "\n",
    "        .. warning::\n",
    "           ``float`` is only available for **binary** classification. An\n",
    "           error is raised for multi-class classification.\n",
    "\n",
    "    - When ``str``, specify the class targeted by the resampling. The\n",
    "      number of samples in the different classes will be equalized.\n",
    "      Possible choices are:\n",
    "\n",
    "        ``'minority'``: resample only the minority class;\n",
    "\n",
    "        ``'not minority'``: resample all classes but the minority class;\n",
    "\n",
    "        ``'not majority'``: resample all classes but the majority class;\n",
    "\n",
    "        ``'all'``: resample all classes;\n",
    "\n",
    "        ``'auto'``: equivalent to ``'not majority'``.\n",
    "\n",
    "    - When ``dict``, the keys correspond to the targeted classes. The\n",
    "      values correspond to the desired number of samples for each targeted\n",
    "      class.\n",
    "\n",
    "    - When callable, function taking ``y`` and returns a ``dict``. The keys\n",
    "      correspond to the targeted classes. The values correspond to the\n",
    "      desired number of samples for each class.\n",
    "\n",
    "    \n",
    "샘플링할 데이터 세트에 대한 정보를 설정\n",
    "\n",
    "float인 경우\n",
    "소수 클래스의 샘플 수를 다수 클래스의 샘플 수에 대한 비율로 설정\n",
    "⚠️ 단, 이 방식은 이진 분류(binary classification) 에서만 사용 가능, 다중 클래스에서는 오류 발생\n",
    "\n",
    "str인 경우\n",
    "리샘플링할 클래스를 문자열로 지정합니다. 선택 가능한 값:\n",
    "'minority': 소수 클래스만 리샘플링\n",
    "'not minority': 소수 클래스를 제외한 모든 클래스 리샘플링\n",
    "'not majority': 다수 클래스를 제외한 모든 클래스 리샘플링\n",
    "'all': 모든 클래스 리샘플링\n",
    "'auto': 'not majority'와 동일\n",
    "\n",
    "dict인 경우\n",
    "키는 리샘플링 대상 클래스이며, 값은 해당 클래스의 목표 샘플 수\n",
    "\n",
    "callable인 경우\n",
    "y를 받아서 dict를 반환하는 함수입니다. 키와 값은 위의 dict와 동일한 의미를 가짐.\n",
    "        \n",
    "\n",
    "\n",
    "Attributes\n",
    "----------\n",
    "sample_indices_ : ndarray, shape (n_new_samples)\n",
    "    Indices of the samples selected.\n",
    "\n",
    "    .. versionadded:: 0.4\n",
    "       ``sample_indices_`` used instead of ``return_indices=True``.\n",
    "    \n",
    "리샘플링된 샘플들의 인덱스\n",
    "✔️ 0.4 버전부터 추가되었으며, return_indices=True 대신 사용합니다.\n",
    "\n",
    "Notes\n",
    "-----\n",
    "Supports multi-class resampling by sampling each class independently.\n",
    "Supports heterogeneous data as object array containing string and numeric data.\n",
    "\n",
    "클래스마다 독립적으로 샘플링하여 다중 클래스 리샘플링을 지원\n",
    "문자열과 숫자가 섞인 데이터(heterogeneous data) 도 처리 가능     "
   ]
  },
  {
   "cell_type": "code",
   "execution_count": 1,
   "id": "2024d315",
   "metadata": {},
   "outputs": [
    {
     "data": {
      "text/plain": [
       "HR             72\n",
       "Engineering    19\n",
       "Marketing       9\n",
       "Name: department, dtype: int64"
      ]
     },
     "execution_count": 1,
     "metadata": {},
     "output_type": "execute_result"
    }
   ],
   "source": [
    "import pandas as pd\n",
    "import numpy as np\n",
    "\n",
    "np.random.seed(1234)\n",
    "\n",
    "n = 100\n",
    "\n",
    "data = {\n",
    "    'age': np.random.randint(18, 65, size=n),  \n",
    "    'salary': np.random.normal(loc=50000, scale=15000, size=n).astype(int),  \n",
    "    'department': np.random.choice(['HR', 'Engineering', 'Marketing'], size=n, p=[0.7, 0.2, 0.1])\n",
    "}\n",
    "\n",
    "# 데이터프레임 생성\n",
    "df = pd.DataFrame(data)\n",
    "\n",
    "df['department'].value_counts()"
   ]
  },
  {
   "cell_type": "code",
   "execution_count": 2,
   "id": "3c08595f",
   "metadata": {},
   "outputs": [],
   "source": [
    "from imblearn.over_sampling import RandomOverSampler\n",
    "\n",
    "# auto (default)\n",
    "# minority = 소수 클래스만 다수 클래스 수준까지 복제 \n",
    "# 'not minority' = 소수 클래스 이외의 클래스를 모두 복제\n",
    "# 'not majority' = 다수 클래스 이외의 클래스를 모두 복제\n",
    "# 'all' = 모든 클래스를 가장 많은 클래스 수준까지 복제\n",
    "# dict = 원하는 클래스별로 구체적인 수를 지정\n",
    "# float = 전체 데이터의 소수 클래스 비율을 정수 비율로 맞춤 (ex. 0.5 → minority / majority = 0.5)\n",
    "\n",
    "oversample = RandomOverSampler(sampling_strategy='minority', random_state=1234)\n",
    "X_train, y_train = oversample.fit_resample(df[['age', 'salary']], df['department']) # fit_resample(data, class)"
   ]
  },
  {
   "cell_type": "code",
   "execution_count": 36,
   "id": "a1883c5f",
   "metadata": {},
   "outputs": [],
   "source": [
    "df_resampled = pd.DataFrame(X_train, columns=['age', 'salary'])\n",
    "df_resampled['department'] = y_train"
   ]
  },
  {
   "cell_type": "code",
   "execution_count": 37,
   "id": "68e0c8bd",
   "metadata": {},
   "outputs": [
    {
     "data": {
      "text/plain": [
       "Marketing      72\n",
       "HR             72\n",
       "Engineering    19\n",
       "Name: department, dtype: int64"
      ]
     },
     "execution_count": 37,
     "metadata": {},
     "output_type": "execute_result"
    }
   ],
   "source": [
    "df_resampled['department'].value_counts()"
   ]
  },
  {
   "cell_type": "code",
   "execution_count": 10,
   "id": "c0a053de",
   "metadata": {},
   "outputs": [],
   "source": [
    "# 모든 소수 클래스가 최대 다수 클래스가 되도록 설정\n",
    "target_counts = {\n",
    "    'Engineering': df['department'].value_counts()['HR'],  \n",
    "    'Marketing': df['department'].value_counts()['HR']\n",
    "}\n",
    "\n",
    "oversample = RandomOverSampler(sampling_strategy=target_counts, random_state=1234)\n",
    "X_train, y_train = oversample.fit_resample(df[['age', 'salary']], df['department'])"
   ]
  },
  {
   "cell_type": "code",
   "execution_count": 11,
   "id": "bda324d4",
   "metadata": {},
   "outputs": [],
   "source": [
    "df_resampled = pd.DataFrame(X_train, columns=['age', 'salary'])\n",
    "df_resampled['department'] = y_train"
   ]
  },
  {
   "cell_type": "code",
   "execution_count": 12,
   "id": "bcc024cc",
   "metadata": {},
   "outputs": [
    {
     "data": {
      "text/plain": [
       "HR             72\n",
       "Engineering    72\n",
       "Marketing      72\n",
       "Name: department, dtype: int64"
      ]
     },
     "execution_count": 12,
     "metadata": {},
     "output_type": "execute_result"
    }
   ],
   "source": [
    "df_resampled['department'].value_counts()"
   ]
  },
  {
   "cell_type": "code",
   "execution_count": null,
   "id": "c21d2d70",
   "metadata": {},
   "outputs": [],
   "source": []
  }
 ],
 "metadata": {
  "kernelspec": {
   "display_name": "Python 3 (ipykernel)",
   "language": "python",
   "name": "python3"
  },
  "language_info": {
   "codemirror_mode": {
    "name": "ipython",
    "version": 3
   },
   "file_extension": ".py",
   "mimetype": "text/x-python",
   "name": "python",
   "nbconvert_exporter": "python",
   "pygments_lexer": "ipython3",
   "version": "3.7.4"
  }
 },
 "nbformat": 4,
 "nbformat_minor": 5
}
