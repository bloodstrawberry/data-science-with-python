{
 "cells": [
  {
   "cell_type": "code",
   "execution_count": 1,
   "id": "cb337d45",
   "metadata": {},
   "outputs": [
    {
     "data": {
      "text/html": [
       "<div>\n",
       "<style scoped>\n",
       "    .dataframe tbody tr th:only-of-type {\n",
       "        vertical-align: middle;\n",
       "    }\n",
       "\n",
       "    .dataframe tbody tr th {\n",
       "        vertical-align: top;\n",
       "    }\n",
       "\n",
       "    .dataframe thead th {\n",
       "        text-align: right;\n",
       "    }\n",
       "</style>\n",
       "<table border=\"1\" class=\"dataframe\">\n",
       "  <thead>\n",
       "    <tr style=\"text-align: right;\">\n",
       "      <th></th>\n",
       "      <th>score</th>\n",
       "    </tr>\n",
       "  </thead>\n",
       "  <tbody>\n",
       "    <tr>\n",
       "      <td>0</td>\n",
       "      <td>74.714352</td>\n",
       "    </tr>\n",
       "    <tr>\n",
       "      <td>1</td>\n",
       "      <td>58.090243</td>\n",
       "    </tr>\n",
       "    <tr>\n",
       "      <td>2</td>\n",
       "      <td>84.327070</td>\n",
       "    </tr>\n",
       "    <tr>\n",
       "      <td>3</td>\n",
       "      <td>66.873481</td>\n",
       "    </tr>\n",
       "    <tr>\n",
       "      <td>4</td>\n",
       "      <td>62.794113</td>\n",
       "    </tr>\n",
       "  </tbody>\n",
       "</table>\n",
       "</div>"
      ],
      "text/plain": [
       "       score\n",
       "0  74.714352\n",
       "1  58.090243\n",
       "2  84.327070\n",
       "3  66.873481\n",
       "4  62.794113"
      ]
     },
     "execution_count": 1,
     "metadata": {},
     "output_type": "execute_result"
    }
   ],
   "source": [
    "import pandas as pd\n",
    "import numpy as np\n",
    "\n",
    "np.random.seed(1234)\n",
    "\n",
    "df = pd.DataFrame({\n",
    "    'score': np.random.normal(loc=70, scale=10, size=100)  # 평균 70, 표준편차 10\n",
    "})\n",
    "\n",
    "df.head()"
   ]
  },
  {
   "cell_type": "code",
   "execution_count": 2,
   "id": "169aca30",
   "metadata": {},
   "outputs": [
    {
     "data": {
      "text/html": [
       "<div>\n",
       "<style scoped>\n",
       "    .dataframe tbody tr th:only-of-type {\n",
       "        vertical-align: middle;\n",
       "    }\n",
       "\n",
       "    .dataframe tbody tr th {\n",
       "        vertical-align: top;\n",
       "    }\n",
       "\n",
       "    .dataframe thead th {\n",
       "        text-align: right;\n",
       "    }\n",
       "</style>\n",
       "<table border=\"1\" class=\"dataframe\">\n",
       "  <thead>\n",
       "    <tr style=\"text-align: right;\">\n",
       "      <th></th>\n",
       "      <th>score</th>\n",
       "      <th>scaled</th>\n",
       "    </tr>\n",
       "  </thead>\n",
       "  <tbody>\n",
       "    <tr>\n",
       "      <td>0</td>\n",
       "      <td>74.714352</td>\n",
       "      <td>0.438214</td>\n",
       "    </tr>\n",
       "    <tr>\n",
       "      <td>1</td>\n",
       "      <td>58.090243</td>\n",
       "      <td>-1.231402</td>\n",
       "    </tr>\n",
       "    <tr>\n",
       "      <td>2</td>\n",
       "      <td>84.327070</td>\n",
       "      <td>1.403652</td>\n",
       "    </tr>\n",
       "    <tr>\n",
       "      <td>3</td>\n",
       "      <td>66.873481</td>\n",
       "      <td>-0.349271</td>\n",
       "    </tr>\n",
       "    <tr>\n",
       "      <td>4</td>\n",
       "      <td>62.794113</td>\n",
       "      <td>-0.758976</td>\n",
       "    </tr>\n",
       "    <tr>\n",
       "      <td>...</td>\n",
       "      <td>...</td>\n",
       "      <td>...</td>\n",
       "    </tr>\n",
       "    <tr>\n",
       "      <td>95</td>\n",
       "      <td>69.180529</td>\n",
       "      <td>-0.117567</td>\n",
       "    </tr>\n",
       "    <tr>\n",
       "      <td>96</td>\n",
       "      <td>66.552340</td>\n",
       "      <td>-0.381525</td>\n",
       "    </tr>\n",
       "    <tr>\n",
       "      <td>97</td>\n",
       "      <td>75.282881</td>\n",
       "      <td>0.495313</td>\n",
       "    </tr>\n",
       "    <tr>\n",
       "      <td>98</td>\n",
       "      <td>59.310112</td>\n",
       "      <td>-1.108886</td>\n",
       "    </tr>\n",
       "    <tr>\n",
       "      <td>99</td>\n",
       "      <td>64.881187</td>\n",
       "      <td>-0.549364</td>\n",
       "    </tr>\n",
       "  </tbody>\n",
       "</table>\n",
       "<p>100 rows × 2 columns</p>\n",
       "</div>"
      ],
      "text/plain": [
       "        score    scaled\n",
       "0   74.714352  0.438214\n",
       "1   58.090243 -1.231402\n",
       "2   84.327070  1.403652\n",
       "3   66.873481 -0.349271\n",
       "4   62.794113 -0.758976\n",
       "..        ...       ...\n",
       "95  69.180529 -0.117567\n",
       "96  66.552340 -0.381525\n",
       "97  75.282881  0.495313\n",
       "98  59.310112 -1.108886\n",
       "99  64.881187 -0.549364\n",
       "\n",
       "[100 rows x 2 columns]"
      ]
     },
     "execution_count": 2,
     "metadata": {},
     "output_type": "execute_result"
    }
   ],
   "source": [
    "from sklearn.preprocessing import StandardScaler\n",
    "\n",
    "ss = StandardScaler()\n",
    "df['scaled'] = ss.fit_transform(df[['score']])\n",
    "df"
   ]
  },
  {
   "cell_type": "code",
   "execution_count": 3,
   "id": "04c2245f",
   "metadata": {},
   "outputs": [],
   "source": [
    "# 구간화\n",
    "# scaled < -Z0       : GROUP 0 (하위 33%)\n",
    "# -Z0 <= scaled < Z0 : GROUP 1 (하위 33% ~ 상위 33%)\n",
    "# scaled >= Z0       : GROUP 2 (상위 33%)"
   ]
  },
  {
   "cell_type": "code",
   "execution_count": null,
   "id": "e7d4e6b1",
   "metadata": {},
   "outputs": [],
   "source": [
    "# 퍼센트 포인트 함수 (Percent Point Function)\n",
    "\n",
    "#          |<- 2.5% ->|<------ 95% ------>|<- 2.5% ->|\n",
    "#          |          |                  |          |\n",
    "#         -1.96       0                +1.96       ...\n",
    "\n",
    "# norm.ppf(0.025)는 왼쪽 2.5% 지점인 -1.96 반환\n",
    "# norm.ppf(0.975)는 오른쪽 97.5% 지점인 +1.96 반환"
   ]
  },
  {
   "cell_type": "code",
   "execution_count": 11,
   "id": "4e24c5db",
   "metadata": {},
   "outputs": [
    {
     "data": {
      "text/plain": [
       "0.4399131656732338"
      ]
     },
     "execution_count": 11,
     "metadata": {},
     "output_type": "execute_result"
    }
   ],
   "source": [
    "from scipy.stats import norm\n",
    "\n",
    "# P(Z < -Z₀) = 0.33 \n",
    "# -Z₀ = norm.ppf(0.33)\n",
    "\n",
    "Z0 = -norm.ppf(0.33)\n",
    "Z0"
   ]
  },
  {
   "cell_type": "code",
   "execution_count": 12,
   "id": "30ba17c0",
   "metadata": {},
   "outputs": [
    {
     "data": {
      "text/plain": [
       "1    40\n",
       "2    33\n",
       "0    27\n",
       "Name: group, dtype: int64"
      ]
     },
     "execution_count": 12,
     "metadata": {},
     "output_type": "execute_result"
    }
   ],
   "source": [
    "df['group'] = np.where(df['scaled'] < -Z0, 0, np.where(df['scaled'] < Z0, 1, 2))\n",
    "df['group'].value_counts()"
   ]
  },
  {
   "cell_type": "code",
   "execution_count": 13,
   "id": "91ff6646",
   "metadata": {},
   "outputs": [
    {
     "data": {
      "text/plain": [
       "-0.4399131656732338"
      ]
     },
     "execution_count": 13,
     "metadata": {},
     "output_type": "execute_result"
    }
   ],
   "source": [
    "Z1 = norm.ppf(0.33)\n",
    "Z1"
   ]
  },
  {
   "cell_type": "code",
   "execution_count": null,
   "id": "d8271265",
   "metadata": {},
   "outputs": [],
   "source": []
  }
 ],
 "metadata": {
  "kernelspec": {
   "display_name": "Python 3 (ipykernel)",
   "language": "python",
   "name": "python3"
  },
  "language_info": {
   "codemirror_mode": {
    "name": "ipython",
    "version": 3
   },
   "file_extension": ".py",
   "mimetype": "text/x-python",
   "name": "python",
   "nbconvert_exporter": "python",
   "pygments_lexer": "ipython3",
   "version": "3.7.4"
  }
 },
 "nbformat": 4,
 "nbformat_minor": 5
}
