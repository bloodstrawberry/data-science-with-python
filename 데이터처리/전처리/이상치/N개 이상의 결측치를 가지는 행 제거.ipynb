{
 "cells": [
  {
   "cell_type": "code",
   "execution_count": 2,
   "id": "604ad550",
   "metadata": {},
   "outputs": [
    {
     "name": "stdout",
     "output_type": "stream",
     "text": [
      "원본 데이터프레임\n",
      "     A    B    C    D\n",
      "0  1.0  NaN  1.0  NaN\n",
      "1  2.0  2.0  NaN  2.0\n",
      "2  NaN  NaN  NaN  3.0\n",
      "3  4.0  4.0  4.0  4.0\n",
      "4  NaN  5.0  5.0  NaN\n",
      "\n",
      "2개 이상의 결측치를 가지는 행 제거 후\n",
      "     A    B    C    D\n",
      "1  2.0  2.0  NaN  2.0\n",
      "3  4.0  4.0  4.0  4.0\n"
     ]
    }
   ],
   "source": [
    "import pandas as pd\n",
    "import numpy as np\n",
    "\n",
    "# 예시 데이터프레임 생성\n",
    "data = {\n",
    "    'A': [1, 2, np.nan, 4, np.nan],\n",
    "    'B': [np.nan, 2, np.nan, 4, 5],\n",
    "    'C': [1, np.nan, np.nan, 4, 5],\n",
    "    'D': [np.nan, 2, 3, 4, np.nan]\n",
    "}\n",
    "df = pd.DataFrame(data)\n",
    "\n",
    "print(\"원본 데이터프레임\")\n",
    "print(df)\n",
    "\n",
    "N = 2  # 결측치 개수 기준\n",
    "\n",
    "# N개 이상의 결측치가 있는 행 제거\n",
    "df_filtered = df[df.isnull().sum(axis=1) < N]\n",
    "\n",
    "print(f\"\\n{N}개 이상의 결측치를 가지는 행 제거 후\")\n",
    "print(df_filtered)"
   ]
  },
  {
   "cell_type": "code",
   "execution_count": 12,
   "id": "ddbfc3a7",
   "metadata": {},
   "outputs": [],
   "source": [
    "data = {\n",
    "    'A': [1, 2, np.nan, 4, np.nan],\n",
    "    'B': [np.nan, 2, np.nan, 4, 5],\n",
    "    'C': [1, np.nan, np.nan, 4, 5],\n",
    "    'D': [np.nan, 2, 3, 4, np.nan]\n",
    "}\n",
    "df = pd.DataFrame(data)"
   ]
  },
  {
   "cell_type": "code",
   "execution_count": 13,
   "id": "60f7fc01",
   "metadata": {},
   "outputs": [],
   "source": [
    "df.loc[df['A'].isna(), 'A'] = [7, 9]"
   ]
  },
  {
   "cell_type": "code",
   "execution_count": 14,
   "id": "3ad1f843",
   "metadata": {},
   "outputs": [
    {
     "data": {
      "text/html": [
       "<div>\n",
       "<style scoped>\n",
       "    .dataframe tbody tr th:only-of-type {\n",
       "        vertical-align: middle;\n",
       "    }\n",
       "\n",
       "    .dataframe tbody tr th {\n",
       "        vertical-align: top;\n",
       "    }\n",
       "\n",
       "    .dataframe thead th {\n",
       "        text-align: right;\n",
       "    }\n",
       "</style>\n",
       "<table border=\"1\" class=\"dataframe\">\n",
       "  <thead>\n",
       "    <tr style=\"text-align: right;\">\n",
       "      <th></th>\n",
       "      <th>A</th>\n",
       "      <th>B</th>\n",
       "      <th>C</th>\n",
       "      <th>D</th>\n",
       "    </tr>\n",
       "  </thead>\n",
       "  <tbody>\n",
       "    <tr>\n",
       "      <td>0</td>\n",
       "      <td>1.0</td>\n",
       "      <td>NaN</td>\n",
       "      <td>1.0</td>\n",
       "      <td>NaN</td>\n",
       "    </tr>\n",
       "    <tr>\n",
       "      <td>1</td>\n",
       "      <td>2.0</td>\n",
       "      <td>2.0</td>\n",
       "      <td>NaN</td>\n",
       "      <td>2.0</td>\n",
       "    </tr>\n",
       "    <tr>\n",
       "      <td>2</td>\n",
       "      <td>7.0</td>\n",
       "      <td>NaN</td>\n",
       "      <td>NaN</td>\n",
       "      <td>3.0</td>\n",
       "    </tr>\n",
       "    <tr>\n",
       "      <td>3</td>\n",
       "      <td>4.0</td>\n",
       "      <td>4.0</td>\n",
       "      <td>4.0</td>\n",
       "      <td>4.0</td>\n",
       "    </tr>\n",
       "    <tr>\n",
       "      <td>4</td>\n",
       "      <td>9.0</td>\n",
       "      <td>5.0</td>\n",
       "      <td>5.0</td>\n",
       "      <td>NaN</td>\n",
       "    </tr>\n",
       "  </tbody>\n",
       "</table>\n",
       "</div>"
      ],
      "text/plain": [
       "     A    B    C    D\n",
       "0  1.0  NaN  1.0  NaN\n",
       "1  2.0  2.0  NaN  2.0\n",
       "2  7.0  NaN  NaN  3.0\n",
       "3  4.0  4.0  4.0  4.0\n",
       "4  9.0  5.0  5.0  NaN"
      ]
     },
     "execution_count": 14,
     "metadata": {},
     "output_type": "execute_result"
    }
   ],
   "source": [
    "df"
   ]
  },
  {
   "cell_type": "code",
   "execution_count": null,
   "id": "11228076",
   "metadata": {},
   "outputs": [],
   "source": []
  }
 ],
 "metadata": {
  "kernelspec": {
   "display_name": "Python 3 (ipykernel)",
   "language": "python",
   "name": "python3"
  },
  "language_info": {
   "codemirror_mode": {
    "name": "ipython",
    "version": 3
   },
   "file_extension": ".py",
   "mimetype": "text/x-python",
   "name": "python",
   "nbconvert_exporter": "python",
   "pygments_lexer": "ipython3",
   "version": "3.7.4"
  }
 },
 "nbformat": 4,
 "nbformat_minor": 5
}
