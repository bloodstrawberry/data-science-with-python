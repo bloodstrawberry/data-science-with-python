{
 "cells": [
  {
   "cell_type": "code",
   "execution_count": 100,
   "id": "a1cd6237",
   "metadata": {},
   "outputs": [
    {
     "data": {
      "text/html": [
       "<div>\n",
       "<style scoped>\n",
       "    .dataframe tbody tr th:only-of-type {\n",
       "        vertical-align: middle;\n",
       "    }\n",
       "\n",
       "    .dataframe tbody tr th {\n",
       "        vertical-align: top;\n",
       "    }\n",
       "\n",
       "    .dataframe thead th {\n",
       "        text-align: right;\n",
       "    }\n",
       "</style>\n",
       "<table border=\"1\" class=\"dataframe\">\n",
       "  <thead>\n",
       "    <tr style=\"text-align: right;\">\n",
       "      <th></th>\n",
       "      <th>NAME</th>\n",
       "      <th>JOIN_DATE</th>\n",
       "      <th>EXIT_DATE</th>\n",
       "    </tr>\n",
       "  </thead>\n",
       "  <tbody>\n",
       "    <tr>\n",
       "      <td>0</td>\n",
       "      <td>김철수</td>\n",
       "      <td>2023-05-01</td>\n",
       "      <td>2024:05:01</td>\n",
       "    </tr>\n",
       "    <tr>\n",
       "      <td>1</td>\n",
       "      <td>이영희</td>\n",
       "      <td>2024-01-15</td>\n",
       "      <td>2025:01:15</td>\n",
       "    </tr>\n",
       "    <tr>\n",
       "      <td>2</td>\n",
       "      <td>박민수</td>\n",
       "      <td>2024-12-01</td>\n",
       "      <td>2025:12:01</td>\n",
       "    </tr>\n",
       "    <tr>\n",
       "      <td>3</td>\n",
       "      <td>최지우</td>\n",
       "      <td>2025-05-20</td>\n",
       "      <td>2025:05:23</td>\n",
       "    </tr>\n",
       "  </tbody>\n",
       "</table>\n",
       "</div>"
      ],
      "text/plain": [
       "  NAME   JOIN_DATE   EXIT_DATE\n",
       "0  김철수  2023-05-01  2024:05:01\n",
       "1  이영희  2024-01-15  2025:01:15\n",
       "2  박민수  2024-12-01  2025:12:01\n",
       "3  최지우  2025-05-20  2025:05:23"
      ]
     },
     "execution_count": 100,
     "metadata": {},
     "output_type": "execute_result"
    }
   ],
   "source": [
    "import pandas as pd\n",
    "\n",
    "# 예시 데이터: 회원 이름과 가입일\n",
    "data = {\n",
    "    'NAME': ['김철수', '이영희', '박민수', '최지우'],\n",
    "    'JOIN_DATE': ['2023-05-01', '2024-01-15', '2024-12-01', '2025-05-20'], \n",
    "    'EXIT_DATE': ['2024:05:01', '2025:01:15', '2025:12:01', '2025:05:23'],     \n",
    "}\n",
    "\n",
    "today = '2026-05-27'\n",
    "\n",
    "df = pd.DataFrame(data)\n",
    "\n",
    "df"
   ]
  },
  {
   "cell_type": "code",
   "execution_count": 101,
   "id": "0e35d858",
   "metadata": {},
   "outputs": [
    {
     "name": "stdout",
     "output_type": "stream",
     "text": [
      "<class 'pandas.core.frame.DataFrame'>\n",
      "RangeIndex: 4 entries, 0 to 3\n",
      "Data columns (total 3 columns):\n",
      "NAME         4 non-null object\n",
      "JOIN_DATE    4 non-null object\n",
      "EXIT_DATE    4 non-null object\n",
      "dtypes: object(3)\n",
      "memory usage: 224.0+ bytes\n"
     ]
    }
   ],
   "source": [
    "df.info() # JOIN_DATE is object"
   ]
  },
  {
   "cell_type": "code",
   "execution_count": 102,
   "id": "12af5d51",
   "metadata": {},
   "outputs": [
    {
     "name": "stdout",
     "output_type": "stream",
     "text": [
      "<class 'pandas.core.frame.DataFrame'>\n",
      "RangeIndex: 4 entries, 0 to 3\n",
      "Data columns (total 3 columns):\n",
      "NAME         4 non-null object\n",
      "JOIN_DATE    4 non-null datetime64[ns]\n",
      "EXIT_DATE    4 non-null datetime64[ns]\n",
      "dtypes: datetime64[ns](2), object(1)\n",
      "memory usage: 224.0+ bytes\n"
     ]
    }
   ],
   "source": [
    "# datetime으로 변환\n",
    "df['JOIN_DATE'] = pd.to_datetime(df['JOIN_DATE'])\n",
    "df['EXIT_DATE'] = pd.to_datetime(df['EXIT_DATE'], format='%Y:%m:%d') # %H:%M:%S\n",
    "\n",
    "df.info()"
   ]
  },
  {
   "cell_type": "code",
   "execution_count": 103,
   "id": "a411ce40",
   "metadata": {},
   "outputs": [
    {
     "data": {
      "text/html": [
       "<div>\n",
       "<style scoped>\n",
       "    .dataframe tbody tr th:only-of-type {\n",
       "        vertical-align: middle;\n",
       "    }\n",
       "\n",
       "    .dataframe tbody tr th {\n",
       "        vertical-align: top;\n",
       "    }\n",
       "\n",
       "    .dataframe thead th {\n",
       "        text-align: right;\n",
       "    }\n",
       "</style>\n",
       "<table border=\"1\" class=\"dataframe\">\n",
       "  <thead>\n",
       "    <tr style=\"text-align: right;\">\n",
       "      <th></th>\n",
       "      <th>NAME</th>\n",
       "      <th>JOIN_DATE</th>\n",
       "      <th>EXIT_DATE</th>\n",
       "    </tr>\n",
       "  </thead>\n",
       "  <tbody>\n",
       "    <tr>\n",
       "      <td>0</td>\n",
       "      <td>김철수</td>\n",
       "      <td>2023-05-01</td>\n",
       "      <td>2024-05-01</td>\n",
       "    </tr>\n",
       "    <tr>\n",
       "      <td>1</td>\n",
       "      <td>이영희</td>\n",
       "      <td>2024-01-15</td>\n",
       "      <td>2025-01-15</td>\n",
       "    </tr>\n",
       "    <tr>\n",
       "      <td>2</td>\n",
       "      <td>박민수</td>\n",
       "      <td>2024-12-01</td>\n",
       "      <td>2025-12-01</td>\n",
       "    </tr>\n",
       "    <tr>\n",
       "      <td>3</td>\n",
       "      <td>최지우</td>\n",
       "      <td>2025-05-20</td>\n",
       "      <td>2025-05-23</td>\n",
       "    </tr>\n",
       "  </tbody>\n",
       "</table>\n",
       "</div>"
      ],
      "text/plain": [
       "  NAME  JOIN_DATE  EXIT_DATE\n",
       "0  김철수 2023-05-01 2024-05-01\n",
       "1  이영희 2024-01-15 2025-01-15\n",
       "2  박민수 2024-12-01 2025-12-01\n",
       "3  최지우 2025-05-20 2025-05-23"
      ]
     },
     "execution_count": 103,
     "metadata": {},
     "output_type": "execute_result"
    }
   ],
   "source": [
    "df"
   ]
  },
  {
   "cell_type": "code",
   "execution_count": 104,
   "id": "a5afb5d2",
   "metadata": {},
   "outputs": [
    {
     "data": {
      "text/plain": [
       "datetime.datetime(2026, 5, 27, 0, 0)"
      ]
     },
     "execution_count": 104,
     "metadata": {},
     "output_type": "execute_result"
    }
   ],
   "source": [
    "from datetime import datetime\n",
    "\n",
    "datetime.strptime(today, '%Y-%m-%d')"
   ]
  },
  {
   "cell_type": "code",
   "execution_count": 105,
   "id": "ebbb2bba",
   "metadata": {},
   "outputs": [
    {
     "data": {
      "text/plain": [
       "0    1122\n",
       "1     863\n",
       "2     542\n",
       "3     372\n",
       "Name: JOIN_DATE, dtype: int64"
      ]
     },
     "execution_count": 105,
     "metadata": {},
     "output_type": "execute_result"
    }
   ],
   "source": [
    "# today를 기준으로 경과일 구하기\n",
    "# datetime이 아닌 경우 strptime 사용\n",
    "# df['JOIN_DATE'].map(lambda x: (datetime.strptime(today, '%Y-%m-%d') - datetime.strptime(x, '%Y-%m-%d')).days)\n",
    "df['JOIN_DATE'].map(lambda x: (datetime.strptime(today, '%Y-%m-%d') - x).days)"
   ]
  },
  {
   "cell_type": "code",
   "execution_count": 106,
   "id": "ea997917",
   "metadata": {},
   "outputs": [
    {
     "data": {
      "text/html": [
       "<div>\n",
       "<style scoped>\n",
       "    .dataframe tbody tr th:only-of-type {\n",
       "        vertical-align: middle;\n",
       "    }\n",
       "\n",
       "    .dataframe tbody tr th {\n",
       "        vertical-align: top;\n",
       "    }\n",
       "\n",
       "    .dataframe thead th {\n",
       "        text-align: right;\n",
       "    }\n",
       "</style>\n",
       "<table border=\"1\" class=\"dataframe\">\n",
       "  <thead>\n",
       "    <tr style=\"text-align: right;\">\n",
       "      <th></th>\n",
       "      <th>NAME</th>\n",
       "      <th>JOIN_DATE</th>\n",
       "      <th>EXIT_DATE</th>\n",
       "      <th>JOIN_YEAR</th>\n",
       "    </tr>\n",
       "  </thead>\n",
       "  <tbody>\n",
       "    <tr>\n",
       "      <td>0</td>\n",
       "      <td>김철수</td>\n",
       "      <td>2023-05-01</td>\n",
       "      <td>2024-05-01</td>\n",
       "      <td>2023</td>\n",
       "    </tr>\n",
       "    <tr>\n",
       "      <td>1</td>\n",
       "      <td>이영희</td>\n",
       "      <td>2024-01-15</td>\n",
       "      <td>2025-01-15</td>\n",
       "      <td>2024</td>\n",
       "    </tr>\n",
       "    <tr>\n",
       "      <td>2</td>\n",
       "      <td>박민수</td>\n",
       "      <td>2024-12-01</td>\n",
       "      <td>2025-12-01</td>\n",
       "      <td>2024</td>\n",
       "    </tr>\n",
       "    <tr>\n",
       "      <td>3</td>\n",
       "      <td>최지우</td>\n",
       "      <td>2025-05-20</td>\n",
       "      <td>2025-05-23</td>\n",
       "      <td>2025</td>\n",
       "    </tr>\n",
       "  </tbody>\n",
       "</table>\n",
       "</div>"
      ],
      "text/plain": [
       "  NAME  JOIN_DATE  EXIT_DATE  JOIN_YEAR\n",
       "0  김철수 2023-05-01 2024-05-01       2023\n",
       "1  이영희 2024-01-15 2025-01-15       2024\n",
       "2  박민수 2024-12-01 2025-12-01       2024\n",
       "3  최지우 2025-05-20 2025-05-23       2025"
      ]
     },
     "execution_count": 106,
     "metadata": {},
     "output_type": "execute_result"
    }
   ],
   "source": [
    "# 데이터 분할 dt\n",
    "df['JOIN_YEAR'] = df['JOIN_DATE'].dt.year # month, day, hour, minute, second, dayofweek\n",
    "df"
   ]
  },
  {
   "cell_type": "code",
   "execution_count": 107,
   "id": "03e6362b",
   "metadata": {},
   "outputs": [
    {
     "data": {
      "text/html": [
       "<div>\n",
       "<style scoped>\n",
       "    .dataframe tbody tr th:only-of-type {\n",
       "        vertical-align: middle;\n",
       "    }\n",
       "\n",
       "    .dataframe tbody tr th {\n",
       "        vertical-align: top;\n",
       "    }\n",
       "\n",
       "    .dataframe thead th {\n",
       "        text-align: right;\n",
       "    }\n",
       "</style>\n",
       "<table border=\"1\" class=\"dataframe\">\n",
       "  <thead>\n",
       "    <tr style=\"text-align: right;\">\n",
       "      <th></th>\n",
       "      <th>NAME</th>\n",
       "      <th>JOIN_DATE</th>\n",
       "      <th>EXIT_DATE</th>\n",
       "      <th>JOIN_YEAR</th>\n",
       "      <th>JOIN_Q</th>\n",
       "    </tr>\n",
       "  </thead>\n",
       "  <tbody>\n",
       "    <tr>\n",
       "      <td>0</td>\n",
       "      <td>김철수</td>\n",
       "      <td>2023-05-01</td>\n",
       "      <td>2024-05-01</td>\n",
       "      <td>2023</td>\n",
       "      <td>2023Q2</td>\n",
       "    </tr>\n",
       "    <tr>\n",
       "      <td>1</td>\n",
       "      <td>이영희</td>\n",
       "      <td>2024-01-15</td>\n",
       "      <td>2025-01-15</td>\n",
       "      <td>2024</td>\n",
       "      <td>2024Q1</td>\n",
       "    </tr>\n",
       "    <tr>\n",
       "      <td>2</td>\n",
       "      <td>박민수</td>\n",
       "      <td>2024-12-01</td>\n",
       "      <td>2025-12-01</td>\n",
       "      <td>2024</td>\n",
       "      <td>2024Q4</td>\n",
       "    </tr>\n",
       "    <tr>\n",
       "      <td>3</td>\n",
       "      <td>최지우</td>\n",
       "      <td>2025-05-20</td>\n",
       "      <td>2025-05-23</td>\n",
       "      <td>2025</td>\n",
       "      <td>2025Q2</td>\n",
       "    </tr>\n",
       "  </tbody>\n",
       "</table>\n",
       "</div>"
      ],
      "text/plain": [
       "  NAME  JOIN_DATE  EXIT_DATE  JOIN_YEAR  JOIN_Q\n",
       "0  김철수 2023-05-01 2024-05-01       2023  2023Q2\n",
       "1  이영희 2024-01-15 2025-01-15       2024  2024Q1\n",
       "2  박민수 2024-12-01 2025-12-01       2024  2024Q4\n",
       "3  최지우 2025-05-20 2025-05-23       2025  2025Q2"
      ]
     },
     "execution_count": 107,
     "metadata": {},
     "output_type": "execute_result"
    }
   ],
   "source": [
    "# 특정 시점과 구간\n",
    "df['JOIN_Q'] = df['JOIN_DATE'].dt.to_period('Q') # Y, Q, M, D, H\n",
    "df"
   ]
  },
  {
   "cell_type": "code",
   "execution_count": 108,
   "id": "4af07d45",
   "metadata": {},
   "outputs": [
    {
     "data": {
      "text/plain": [
       "0   1122 days\n",
       "1    863 days\n",
       "2    542 days\n",
       "3    372 days\n",
       "Name: JOIN_DATE, dtype: timedelta64[ns]"
      ]
     },
     "execution_count": 108,
     "metadata": {},
     "output_type": "execute_result"
    }
   ],
   "source": [
    "# 오늘과 차이\n",
    "diff = datetime.strptime(today, '%Y-%m-%d') - df['JOIN_DATE']\n",
    "diff"
   ]
  },
  {
   "cell_type": "code",
   "execution_count": 109,
   "id": "6369cadb",
   "metadata": {},
   "outputs": [
    {
     "data": {
      "text/html": [
       "<div>\n",
       "<style scoped>\n",
       "    .dataframe tbody tr th:only-of-type {\n",
       "        vertical-align: middle;\n",
       "    }\n",
       "\n",
       "    .dataframe tbody tr th {\n",
       "        vertical-align: top;\n",
       "    }\n",
       "\n",
       "    .dataframe thead th {\n",
       "        text-align: right;\n",
       "    }\n",
       "</style>\n",
       "<table border=\"1\" class=\"dataframe\">\n",
       "  <thead>\n",
       "    <tr style=\"text-align: right;\">\n",
       "      <th></th>\n",
       "      <th>NAME</th>\n",
       "      <th>JOIN_DATE</th>\n",
       "      <th>EXIT_DATE</th>\n",
       "      <th>JOIN_YEAR</th>\n",
       "      <th>JOIN_Q</th>\n",
       "      <th>JOIN_DATE_H</th>\n",
       "    </tr>\n",
       "  </thead>\n",
       "  <tbody>\n",
       "    <tr>\n",
       "      <td>0</td>\n",
       "      <td>김철수</td>\n",
       "      <td>2023-05-01</td>\n",
       "      <td>2024-05-01</td>\n",
       "      <td>2023</td>\n",
       "      <td>2023Q2</td>\n",
       "      <td>2023-05-01 10:00:00</td>\n",
       "    </tr>\n",
       "    <tr>\n",
       "      <td>1</td>\n",
       "      <td>이영희</td>\n",
       "      <td>2024-01-15</td>\n",
       "      <td>2025-01-15</td>\n",
       "      <td>2024</td>\n",
       "      <td>2024Q1</td>\n",
       "      <td>2024-01-15 10:00:00</td>\n",
       "    </tr>\n",
       "    <tr>\n",
       "      <td>2</td>\n",
       "      <td>박민수</td>\n",
       "      <td>2024-12-01</td>\n",
       "      <td>2025-12-01</td>\n",
       "      <td>2024</td>\n",
       "      <td>2024Q4</td>\n",
       "      <td>2024-12-01 10:00:00</td>\n",
       "    </tr>\n",
       "    <tr>\n",
       "      <td>3</td>\n",
       "      <td>최지우</td>\n",
       "      <td>2025-05-20</td>\n",
       "      <td>2025-05-23</td>\n",
       "      <td>2025</td>\n",
       "      <td>2025Q2</td>\n",
       "      <td>2025-05-20 10:00:00</td>\n",
       "    </tr>\n",
       "  </tbody>\n",
       "</table>\n",
       "</div>"
      ],
      "text/plain": [
       "  NAME  JOIN_DATE  EXIT_DATE  JOIN_YEAR  JOIN_Q         JOIN_DATE_H\n",
       "0  김철수 2023-05-01 2024-05-01       2023  2023Q2 2023-05-01 10:00:00\n",
       "1  이영희 2024-01-15 2025-01-15       2024  2024Q1 2024-01-15 10:00:00\n",
       "2  박민수 2024-12-01 2025-12-01       2024  2024Q4 2024-12-01 10:00:00\n",
       "3  최지우 2025-05-20 2025-05-23       2025  2025Q2 2025-05-20 10:00:00"
      ]
     },
     "execution_count": 109,
     "metadata": {},
     "output_type": "execute_result"
    }
   ],
   "source": [
    "# 더하기\n",
    "hour = pd.Timedelta(hours=10)\n",
    "df['JOIN_DATE_H'] = df['JOIN_DATE'] + hour\n",
    "df"
   ]
  },
  {
   "cell_type": "code",
   "execution_count": 110,
   "id": "e4aa7f16",
   "metadata": {},
   "outputs": [
    {
     "data": {
      "text/html": [
       "<div>\n",
       "<style scoped>\n",
       "    .dataframe tbody tr th:only-of-type {\n",
       "        vertical-align: middle;\n",
       "    }\n",
       "\n",
       "    .dataframe tbody tr th {\n",
       "        vertical-align: top;\n",
       "    }\n",
       "\n",
       "    .dataframe thead th {\n",
       "        text-align: right;\n",
       "    }\n",
       "</style>\n",
       "<table border=\"1\" class=\"dataframe\">\n",
       "  <thead>\n",
       "    <tr style=\"text-align: right;\">\n",
       "      <th></th>\n",
       "      <th>NAME</th>\n",
       "      <th>JOIN_DATE</th>\n",
       "      <th>EXIT_DATE</th>\n",
       "      <th>JOIN_YEAR</th>\n",
       "      <th>JOIN_Q</th>\n",
       "      <th>JOIN_DATE_H</th>\n",
       "      <th>JOIN_DATE_BEFORE</th>\n",
       "    </tr>\n",
       "  </thead>\n",
       "  <tbody>\n",
       "    <tr>\n",
       "      <td>0</td>\n",
       "      <td>김철수</td>\n",
       "      <td>2023-05-01</td>\n",
       "      <td>2024-05-01</td>\n",
       "      <td>2023</td>\n",
       "      <td>2023Q2</td>\n",
       "      <td>2023-05-01 10:00:00</td>\n",
       "      <td>2023-04-29 13:59:57</td>\n",
       "    </tr>\n",
       "    <tr>\n",
       "      <td>1</td>\n",
       "      <td>이영희</td>\n",
       "      <td>2024-01-15</td>\n",
       "      <td>2025-01-15</td>\n",
       "      <td>2024</td>\n",
       "      <td>2024Q1</td>\n",
       "      <td>2024-01-15 10:00:00</td>\n",
       "      <td>2024-01-13 13:59:57</td>\n",
       "    </tr>\n",
       "    <tr>\n",
       "      <td>2</td>\n",
       "      <td>박민수</td>\n",
       "      <td>2024-12-01</td>\n",
       "      <td>2025-12-01</td>\n",
       "      <td>2024</td>\n",
       "      <td>2024Q4</td>\n",
       "      <td>2024-12-01 10:00:00</td>\n",
       "      <td>2024-11-29 13:59:57</td>\n",
       "    </tr>\n",
       "    <tr>\n",
       "      <td>3</td>\n",
       "      <td>최지우</td>\n",
       "      <td>2025-05-20</td>\n",
       "      <td>2025-05-23</td>\n",
       "      <td>2025</td>\n",
       "      <td>2025Q2</td>\n",
       "      <td>2025-05-20 10:00:00</td>\n",
       "      <td>2025-05-18 13:59:57</td>\n",
       "    </tr>\n",
       "  </tbody>\n",
       "</table>\n",
       "</div>"
      ],
      "text/plain": [
       "  NAME  JOIN_DATE  EXIT_DATE  JOIN_YEAR  JOIN_Q         JOIN_DATE_H  \\\n",
       "0  김철수 2023-05-01 2024-05-01       2023  2023Q2 2023-05-01 10:00:00   \n",
       "1  이영희 2024-01-15 2025-01-15       2024  2024Q1 2024-01-15 10:00:00   \n",
       "2  박민수 2024-12-01 2025-12-01       2024  2024Q4 2024-12-01 10:00:00   \n",
       "3  최지우 2025-05-20 2025-05-23       2025  2025Q2 2025-05-20 10:00:00   \n",
       "\n",
       "     JOIN_DATE_BEFORE  \n",
       "0 2023-04-29 13:59:57  \n",
       "1 2024-01-13 13:59:57  \n",
       "2 2024-11-29 13:59:57  \n",
       "3 2025-05-18 13:59:57  "
      ]
     },
     "execution_count": 110,
     "metadata": {},
     "output_type": "execute_result"
    }
   ],
   "source": [
    "# 빼기\n",
    "timediff= pd.Timedelta(days=1, hours=10, seconds=3)\n",
    "df['JOIN_DATE_BEFORE'] = df['JOIN_DATE'] - timediff\n",
    "df"
   ]
  },
  {
   "cell_type": "code",
   "execution_count": null,
   "id": "8e00dce5",
   "metadata": {},
   "outputs": [],
   "source": []
  },
  {
   "cell_type": "code",
   "execution_count": null,
   "id": "c1e094a9",
   "metadata": {},
   "outputs": [],
   "source": []
  },
  {
   "cell_type": "code",
   "execution_count": null,
   "id": "59b1f3f7",
   "metadata": {},
   "outputs": [],
   "source": []
  },
  {
   "cell_type": "code",
   "execution_count": null,
   "id": "1ba3bdd3",
   "metadata": {},
   "outputs": [],
   "source": []
  },
  {
   "cell_type": "code",
   "execution_count": null,
   "id": "6b02511c",
   "metadata": {},
   "outputs": [],
   "source": []
  },
  {
   "cell_type": "code",
   "execution_count": null,
   "id": "799fbe71",
   "metadata": {},
   "outputs": [],
   "source": []
  },
  {
   "cell_type": "code",
   "execution_count": null,
   "id": "c122b2da",
   "metadata": {},
   "outputs": [],
   "source": []
  },
  {
   "cell_type": "code",
   "execution_count": null,
   "id": "f17eb454",
   "metadata": {},
   "outputs": [],
   "source": []
  },
  {
   "cell_type": "code",
   "execution_count": null,
   "id": "da91b843",
   "metadata": {},
   "outputs": [],
   "source": []
  },
  {
   "cell_type": "code",
   "execution_count": null,
   "id": "0b20bb91",
   "metadata": {},
   "outputs": [],
   "source": []
  },
  {
   "cell_type": "code",
   "execution_count": null,
   "id": "cff5ffcd",
   "metadata": {},
   "outputs": [],
   "source": []
  },
  {
   "cell_type": "code",
   "execution_count": null,
   "id": "79f87b08",
   "metadata": {},
   "outputs": [],
   "source": [
    "import pandas as pd\n",
    "import numpy as np\n",
    "\n",
    "# 날짜 생성: 2025년 6월 10일부터 시작해 1시간 단위로 생성\n",
    "n_sample = 500\n",
    "dates = pd.date_range(start='2025-06-10 08:00:00', periods=n_sample, freq='H')\n",
    "\n",
    "# 예제 DataFrame 생성\n",
    "df = pd.DataFrame({\n",
    "    'created_at': dates,\n",
    "    'updated_at': dates + pd.to_timedelta(np.random.randint(1, 100, size=n_sample), unit='m'),\n",
    "})\n",
    "\n",
    "df"
   ]
  },
  {
   "cell_type": "code",
   "execution_count": null,
   "id": "9a411a1f",
   "metadata": {},
   "outputs": [],
   "source": [
    "# 특정 날짜 필터링\n",
    "filtered_df = df[df['created_at'].dt.strftime('%Y-%m-%d') == '2025-06-11']\n",
    "filtered_df"
   ]
  }
 ],
 "metadata": {
  "kernelspec": {
   "display_name": "Python 3 (ipykernel)",
   "language": "python",
   "name": "python3"
  },
  "language_info": {
   "codemirror_mode": {
    "name": "ipython",
    "version": 3
   },
   "file_extension": ".py",
   "mimetype": "text/x-python",
   "name": "python",
   "nbconvert_exporter": "python",
   "pygments_lexer": "ipython3",
   "version": "3.7.4"
  }
 },
 "nbformat": 4,
 "nbformat_minor": 5
}
