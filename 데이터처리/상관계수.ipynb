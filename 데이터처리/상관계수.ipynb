{
 "cells": [
  {
   "cell_type": "code",
   "execution_count": 24,
   "id": "9bec93e5",
   "metadata": {},
   "outputs": [
    {
     "data": {
      "text/html": [
       "<div>\n",
       "<style scoped>\n",
       "    .dataframe tbody tr th:only-of-type {\n",
       "        vertical-align: middle;\n",
       "    }\n",
       "\n",
       "    .dataframe tbody tr th {\n",
       "        vertical-align: top;\n",
       "    }\n",
       "\n",
       "    .dataframe thead th {\n",
       "        text-align: right;\n",
       "    }\n",
       "</style>\n",
       "<table border=\"1\" class=\"dataframe\">\n",
       "  <thead>\n",
       "    <tr style=\"text-align: right;\">\n",
       "      <th></th>\n",
       "      <th>a</th>\n",
       "      <th>b</th>\n",
       "      <th>c</th>\n",
       "      <th>d</th>\n",
       "    </tr>\n",
       "  </thead>\n",
       "  <tbody>\n",
       "    <tr>\n",
       "      <td>0</td>\n",
       "      <td>0.471435</td>\n",
       "      <td>-1.190976</td>\n",
       "      <td>1.432707</td>\n",
       "      <td>-0.312652</td>\n",
       "    </tr>\n",
       "    <tr>\n",
       "      <td>1</td>\n",
       "      <td>-0.720589</td>\n",
       "      <td>0.887163</td>\n",
       "      <td>0.859588</td>\n",
       "      <td>-0.636524</td>\n",
       "    </tr>\n",
       "    <tr>\n",
       "      <td>2</td>\n",
       "      <td>0.015696</td>\n",
       "      <td>-2.242685</td>\n",
       "      <td>1.150036</td>\n",
       "      <td>0.991946</td>\n",
       "    </tr>\n",
       "    <tr>\n",
       "      <td>3</td>\n",
       "      <td>0.953324</td>\n",
       "      <td>-2.021255</td>\n",
       "      <td>-0.334077</td>\n",
       "      <td>0.002118</td>\n",
       "    </tr>\n",
       "    <tr>\n",
       "      <td>4</td>\n",
       "      <td>0.405453</td>\n",
       "      <td>0.289092</td>\n",
       "      <td>1.321158</td>\n",
       "      <td>-1.546906</td>\n",
       "    </tr>\n",
       "  </tbody>\n",
       "</table>\n",
       "</div>"
      ],
      "text/plain": [
       "          a         b         c         d\n",
       "0  0.471435 -1.190976  1.432707 -0.312652\n",
       "1 -0.720589  0.887163  0.859588 -0.636524\n",
       "2  0.015696 -2.242685  1.150036  0.991946\n",
       "3  0.953324 -2.021255 -0.334077  0.002118\n",
       "4  0.405453  0.289092  1.321158 -1.546906"
      ]
     },
     "execution_count": 24,
     "metadata": {},
     "output_type": "execute_result"
    }
   ],
   "source": [
    "import pandas as pd\n",
    "import numpy as np\n",
    "import string\n",
    "\n",
    "np.random.seed(1234) \n",
    "\n",
    "columns = list('abcd')\n",
    "data = np.random.normal(loc=0, scale=1, size=(30, 4))\n",
    "\n",
    "# DataFrame 생성\n",
    "df = pd.DataFrame(data, columns=columns)\n",
    "\n",
    "df.head()"
   ]
  },
  {
   "cell_type": "code",
   "execution_count": 25,
   "id": "0dc64501",
   "metadata": {},
   "outputs": [
    {
     "data": {
      "text/html": [
       "<div>\n",
       "<style scoped>\n",
       "    .dataframe tbody tr th:only-of-type {\n",
       "        vertical-align: middle;\n",
       "    }\n",
       "\n",
       "    .dataframe tbody tr th {\n",
       "        vertical-align: top;\n",
       "    }\n",
       "\n",
       "    .dataframe thead th {\n",
       "        text-align: right;\n",
       "    }\n",
       "</style>\n",
       "<table border=\"1\" class=\"dataframe\">\n",
       "  <thead>\n",
       "    <tr style=\"text-align: right;\">\n",
       "      <th></th>\n",
       "      <th>a</th>\n",
       "      <th>b</th>\n",
       "      <th>c</th>\n",
       "      <th>d</th>\n",
       "    </tr>\n",
       "  </thead>\n",
       "  <tbody>\n",
       "    <tr>\n",
       "      <td>a</td>\n",
       "      <td>1.000000</td>\n",
       "      <td>-0.251099</td>\n",
       "      <td>0.262274</td>\n",
       "      <td>-0.177428</td>\n",
       "    </tr>\n",
       "    <tr>\n",
       "      <td>b</td>\n",
       "      <td>-0.251099</td>\n",
       "      <td>1.000000</td>\n",
       "      <td>-0.488502</td>\n",
       "      <td>0.004483</td>\n",
       "    </tr>\n",
       "    <tr>\n",
       "      <td>c</td>\n",
       "      <td>0.262274</td>\n",
       "      <td>-0.488502</td>\n",
       "      <td>1.000000</td>\n",
       "      <td>-0.199800</td>\n",
       "    </tr>\n",
       "    <tr>\n",
       "      <td>d</td>\n",
       "      <td>-0.177428</td>\n",
       "      <td>0.004483</td>\n",
       "      <td>-0.199800</td>\n",
       "      <td>1.000000</td>\n",
       "    </tr>\n",
       "  </tbody>\n",
       "</table>\n",
       "</div>"
      ],
      "text/plain": [
       "          a         b         c         d\n",
       "a  1.000000 -0.251099  0.262274 -0.177428\n",
       "b -0.251099  1.000000 -0.488502  0.004483\n",
       "c  0.262274 -0.488502  1.000000 -0.199800\n",
       "d -0.177428  0.004483 -0.199800  1.000000"
      ]
     },
     "execution_count": 25,
     "metadata": {},
     "output_type": "execute_result"
    }
   ],
   "source": [
    "# 피어슨 상관계수\n",
    "df.corr()"
   ]
  },
  {
   "cell_type": "code",
   "execution_count": 26,
   "id": "100cd6c2",
   "metadata": {},
   "outputs": [
    {
     "name": "stdout",
     "output_type": "stream",
     "text": [
      "0 vs 1\n",
      "Spearman 상관계수: -0.2102\n",
      "p-값: 0.2648\n",
      "유의미한 순위 상관관계가 없습니다.\n",
      "\n",
      "0 vs 2\n",
      "Spearman 상관계수: 0.2810\n",
      "p-값: 0.1326\n",
      "유의미한 순위 상관관계가 없습니다.\n",
      "\n",
      "0 vs 3\n",
      "Spearman 상관계수: -0.1973\n",
      "p-값: 0.2959\n",
      "유의미한 순위 상관관계가 없습니다.\n",
      "\n",
      "1 vs 2\n",
      "Spearman 상관계수: -0.4242\n",
      "p-값: 0.0195\n",
      "유의미한 순위 상관관계가 있습니다.\n",
      "\n",
      "1 vs 3\n",
      "Spearman 상관계수: -0.0821\n",
      "p-값: 0.6663\n",
      "유의미한 순위 상관관계가 없습니다.\n",
      "\n",
      "2 vs 3\n",
      "Spearman 상관계수: -0.1871\n",
      "p-값: 0.3222\n",
      "유의미한 순위 상관관계가 없습니다.\n",
      "\n"
     ]
    }
   ],
   "source": [
    "# 스피어만 상관계수\n",
    "from scipy.stats import spearmanr\n",
    "\n",
    "cols = df.columns.to_list()\n",
    "\n",
    "for i, v1 in enumerate(cols):\n",
    "    for k, v2 in enumerate(cols):\n",
    "        if k > i:\n",
    "            print(f\"{i} vs {k}\")\n",
    "            \n",
    "            correlation, p_value = spearmanr(df[v1], df[v2])\n",
    "            \n",
    "            print(f\"Spearman 상관계수: {correlation:.4f}\")\n",
    "            print(f\"p-값: {p_value:.4f}\")\n",
    "\n",
    "            # 결과 해석\n",
    "            if p_value < 0.05:\n",
    "                print(\"유의미한 순위 상관관계가 있습니다.\")\n",
    "            else:\n",
    "                print(\"유의미한 순위 상관관계가 없습니다.\")\n",
    "            \n",
    "            print()\n",
    "\n"
   ]
  },
  {
   "cell_type": "code",
   "execution_count": 28,
   "id": "c1778e10",
   "metadata": {},
   "outputs": [
    {
     "name": "stdout",
     "output_type": "stream",
     "text": [
      "▶ Spearman 상관계수 행렬:\n",
      "          a         b         c         d\n",
      "a  1.000000 -0.210234  0.280979 -0.197330\n",
      "b -0.210234  1.000000 -0.424249 -0.082091\n",
      "c  0.280979 -0.424249  1.000000 -0.187097\n",
      "d -0.197330 -0.082091 -0.187097  1.000000\n"
     ]
    }
   ],
   "source": [
    "corr_matrix, p_matrix = spearmanr(df)\n",
    "\n",
    "print(\"▶ Spearman 상관계수 행렬:\")\n",
    "print(pd.DataFrame(corr_matrix, index=df.columns, columns=df.columns))"
   ]
  },
  {
   "cell_type": "code",
   "execution_count": 29,
   "id": "d5595c93",
   "metadata": {},
   "outputs": [
    {
     "name": "stdout",
     "output_type": "stream",
     "text": [
      "▶ Spearman p_value 행렬:\n",
      "          a         b         c         d\n",
      "a  0.000000  0.264813  0.132561  0.295922\n",
      "b  0.264813  0.000000  0.019462  0.666282\n",
      "c  0.132561  0.019462  0.000000  0.322172\n",
      "d  0.295922  0.666282  0.322172  0.000000\n"
     ]
    }
   ],
   "source": [
    "print(\"▶ Spearman p_value 행렬:\")\n",
    "print(pd.DataFrame(p_matrix, index=df.columns, columns=df.columns))"
   ]
  },
  {
   "cell_type": "code",
   "execution_count": null,
   "id": "859767c6",
   "metadata": {},
   "outputs": [],
   "source": []
  }
 ],
 "metadata": {
  "kernelspec": {
   "display_name": "Python 3 (ipykernel)",
   "language": "python",
   "name": "python3"
  },
  "language_info": {
   "codemirror_mode": {
    "name": "ipython",
    "version": 3
   },
   "file_extension": ".py",
   "mimetype": "text/x-python",
   "name": "python",
   "nbconvert_exporter": "python",
   "pygments_lexer": "ipython3",
   "version": "3.7.4"
  }
 },
 "nbformat": 4,
 "nbformat_minor": 5
}
