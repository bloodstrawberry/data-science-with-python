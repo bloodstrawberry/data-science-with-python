{
 "cells": [
  {
   "cell_type": "code",
   "execution_count": null,
   "id": "dd57bde3",
   "metadata": {},
   "outputs": [],
   "source": [
    "# 결측치 처리 방법 \n",
    "# 제거\n",
    "# Unknown 범주의 생성 / 대체 (imputation)\n",
    "# 평균, 중앙값, Hot Deck, Regression, EM Algorithm, Multiple imputation (MICE), Interpolation\n",
    "# K-NN을 이용한 대체 : K 최근접 이웃 알고리즘으로 결측치 주변 데이터를 평균값으로 대체\n",
    "# 최빈값 대체 : 결측치를 해당 변수의 최빈값으로 대체\n",
    "# 상수값 대체 : 0 또는 평균값 등 특정 상수로 대체"
   ]
  }
 ],
 "metadata": {
  "kernelspec": {
   "display_name": "Python 3 (ipykernel)",
   "language": "python",
   "name": "python3"
  },
  "language_info": {
   "codemirror_mode": {
    "name": "ipython",
    "version": 3
   },
   "file_extension": ".py",
   "mimetype": "text/x-python",
   "name": "python",
   "nbconvert_exporter": "python",
   "pygments_lexer": "ipython3",
   "version": "3.7.4"
  }
 },
 "nbformat": 4,
 "nbformat_minor": 5
}
