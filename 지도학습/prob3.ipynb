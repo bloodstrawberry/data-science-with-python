{
 "cells": [
  {
   "cell_type": "code",
   "execution_count": 1,
   "id": "484b32b3",
   "metadata": {},
   "outputs": [],
   "source": [
    "import pandas as pd\n",
    "import numpy as np\n",
    "\n",
    "df = pd.DataFrame({\n",
    "    'Resistin': [7.99585, 4.06405, 9.27715, 12.76600, 10.57635],\n",
    "    'Classification': [1, 1, 2, 2, 1]\n",
    "})\n",
    "\n",
    "\n",
    "group1 = df[df['Classification'] == 1]['Resistin']\n",
    "group2 = df[df['Classification'] == 2]['Resistin']"
   ]
  },
  {
   "cell_type": "code",
   "execution_count": 2,
   "id": "fedd3b47",
   "metadata": {},
   "outputs": [
    {
     "data": {
      "text/plain": [
       "(10.754680463333333, 6.0860371612499975)"
      ]
     },
     "execution_count": 2,
     "metadata": {},
     "output_type": "execute_result"
    }
   ],
   "source": [
    "var1 = np.var(group1, ddof=1)\n",
    "var2 = np.var(group2, ddof=1)\n",
    "\n",
    "var1, var2"
   ]
  },
  {
   "cell_type": "code",
   "execution_count": 3,
   "id": "b773e59c",
   "metadata": {},
   "outputs": [
    {
     "data": {
      "text/plain": [
       "10.754680463333333"
      ]
     },
     "execution_count": 3,
     "metadata": {},
     "output_type": "execute_result"
    }
   ],
   "source": [
    "group1.var()"
   ]
  },
  {
   "cell_type": "code",
   "execution_count": 4,
   "id": "3cc3a235",
   "metadata": {},
   "outputs": [],
   "source": [
    "log_group1 = np.log(group1)\n",
    "log_group2 = np.log(group2)\n"
   ]
  },
  {
   "cell_type": "code",
   "execution_count": 9,
   "id": "f0b282fb",
   "metadata": {},
   "outputs": [
    {
     "data": {
      "text/plain": [
       "0.17820580381695172"
      ]
     },
     "execution_count": 9,
     "metadata": {},
     "output_type": "execute_result"
    }
   ],
   "source": [
    "log_var1 = log_group1.var()\n",
    "log_var2 = log_group2.var()\n",
    "\n",
    "n1 = len(log_group1)\n",
    "n2 = len(log_group2)\n",
    "\n",
    "pooled_var = ((n1 - 1) * log_var1 + (n2 - 1) * log_var2) / (n1 + n2 - 2)\n",
    "pooled_var"
   ]
  },
  {
   "cell_type": "code",
   "execution_count": 7,
   "id": "28cb45df",
   "metadata": {},
   "outputs": [
    {
     "data": {
      "text/plain": [
       "0.2418315980011716"
      ]
     },
     "execution_count": 7,
     "metadata": {},
     "output_type": "execute_result"
    }
   ],
   "source": [
    "s1_sq = np.var(log_group1, ddof=1)\n",
    "s1_sq"
   ]
  },
  {
   "cell_type": "code",
   "execution_count": 21,
   "id": "13db18cf",
   "metadata": {},
   "outputs": [
    {
     "data": {
      "text/plain": [
       "-0.44059553826667774"
      ]
     },
     "execution_count": 21,
     "metadata": {},
     "output_type": "execute_result"
    }
   ],
   "source": [
    "from scipy.stats import t\n",
    "\n",
    "mean_diff = np.mean(log_group1) - np.mean(log_group2)\n",
    "\n",
    "# 표준 오차\n",
    "se = np.sqrt(pooled_var * (1/n1 + 1/n2))\n",
    "\n",
    "# t 통계량\n",
    "t_stat = mean_diff / se\n",
    "\n",
    "# 자유도\n",
    "df_t = n1 + n2 - 2\n",
    "\n",
    "# 양측 검정 p값\n",
    "p_value = t.sf(np.abs(t_stat), df=df_t) * 2\n",
    "p_value = round(p_value, 3)\n",
    "p_value\n",
    "\n",
    "mean_diff"
   ]
  },
  {
   "cell_type": "code",
   "execution_count": 19,
   "id": "bebe03df",
   "metadata": {},
   "outputs": [
    {
     "name": "stdout",
     "output_type": "stream",
     "text": [
      "3. t-검정 p-값: 0.336\n"
     ]
    },
    {
     "data": {
      "text/plain": [
       "-1.1433252527466173"
      ]
     },
     "execution_count": 19,
     "metadata": {},
     "output_type": "execute_result"
    }
   ],
   "source": [
    "mean_log1 = np.mean(log_group1)\n",
    "mean_log2 = np.mean(log_group2)\n",
    "se = np.sqrt(pooled_var * (1/n1 + 1/n2))\n",
    "t_value = (mean_log1 - mean_log2) / se\n",
    "\n",
    "# p-value 계산 (양측 검정)\n",
    "p_value = 2 * t.sf(abs(t_value), df=n1 + n2 - 2)\n",
    "p_value_rounded = round(p_value, 3)\n",
    "print(\"3. t-검정 p-값:\", p_value_rounded)\n",
    "\n",
    "p_value = 2 * (1 - t.cdf(abs(t_stat), df))\n",
    "p_value\n",
    "\n",
    "t_stat"
   ]
  },
  {
   "cell_type": "code",
   "execution_count": 15,
   "id": "ba8d89a6",
   "metadata": {},
   "outputs": [
    {
     "name": "stdout",
     "output_type": "stream",
     "text": [
      "3. t-검정 p-값: 0.336\n"
     ]
    }
   ],
   "source": [
    "mean_log1 = np.mean(log_group1)\n",
    "mean_log2 = np.mean(log_group2)\n",
    "\n",
    "# t-검정통계량\n",
    "t_stat = (mean_log1 - mean_log2) / np.sqrt(pooled_var * (1/n1 + 1/n2))\n",
    "\n",
    "# 자유도\n",
    "df = n1 + n2 - 2\n",
    "\n",
    "# 양측 검정 p-값\n",
    "p_value = 2 * (1 - t.cdf(abs(t_stat), df))\n",
    "\n",
    "# 결과 반올림 (소수 셋째 자리)\n",
    "p_value_rounded = round(p_value, 3)\n",
    "print(f\"3. t-검정 p-값: {p_value_rounded}\")"
   ]
  },
  {
   "cell_type": "code",
   "execution_count": 16,
   "id": "f6495faf",
   "metadata": {},
   "outputs": [
    {
     "data": {
      "text/plain": [
       "0.33587360780801934"
      ]
     },
     "execution_count": 16,
     "metadata": {},
     "output_type": "execute_result"
    }
   ],
   "source": [
    "p_value"
   ]
  },
  {
   "cell_type": "code",
   "execution_count": 24,
   "id": "b65c965a",
   "metadata": {},
   "outputs": [
    {
     "name": "stdout",
     "output_type": "stream",
     "text": [
      "p_value : 0.336\n",
      "p_value : 0.33587360780801934\n"
     ]
    }
   ],
   "source": [
    "from scipy.stats import t\n",
    "\n",
    "# 평균 차이\n",
    "mean_diff = log_group1.mean() - log_group2.mean()\n",
    "\n",
    "# 표준 오차\n",
    "se = np.sqrt(pooled_var * (1 / n1 + 1 / n2))\n",
    "\n",
    "# t 통계량\n",
    "t_stat = mean_diff / se\n",
    "\n",
    "# 자유도\n",
    "df_t = n1 + n2 - 2\n",
    "\n",
    "# 양측 검정 p값\n",
    "p_value = t.sf(np.abs(t_stat), df=df_t) * 2\n",
    "print(\"p_value :\", round(p_value, 3))\n",
    "\n",
    "# 3 (t.cdf)\n",
    "p_value = 2 * (1 - t.cdf(abs(t_stat), df))\n",
    "print(\"p_value :\", p_value)"
   ]
  },
  {
   "cell_type": "code",
   "execution_count": null,
   "id": "5280d7bf",
   "metadata": {},
   "outputs": [],
   "source": []
  }
 ],
 "metadata": {
  "kernelspec": {
   "display_name": "Python 3 (ipykernel)",
   "language": "python",
   "name": "python3"
  },
  "language_info": {
   "codemirror_mode": {
    "name": "ipython",
    "version": 3
   },
   "file_extension": ".py",
   "mimetype": "text/x-python",
   "name": "python",
   "nbconvert_exporter": "python",
   "pygments_lexer": "ipython3",
   "version": "3.7.4"
  }
 },
 "nbformat": 4,
 "nbformat_minor": 5
}
