{
 "cells": [
  {
   "cell_type": "code",
   "execution_count": 17,
   "id": "10984cb3",
   "metadata": {},
   "outputs": [
    {
     "data": {
      "text/html": [
       "<div>\n",
       "<style scoped>\n",
       "    .dataframe tbody tr th:only-of-type {\n",
       "        vertical-align: middle;\n",
       "    }\n",
       "\n",
       "    .dataframe tbody tr th {\n",
       "        vertical-align: top;\n",
       "    }\n",
       "\n",
       "    .dataframe thead th {\n",
       "        text-align: right;\n",
       "    }\n",
       "</style>\n",
       "<table border=\"1\" class=\"dataframe\">\n",
       "  <thead>\n",
       "    <tr style=\"text-align: right;\">\n",
       "      <th></th>\n",
       "      <th>age</th>\n",
       "      <th>salary</th>\n",
       "      <th>owns_house</th>\n",
       "      <th>defaulted</th>\n",
       "    </tr>\n",
       "  </thead>\n",
       "  <tbody>\n",
       "    <tr>\n",
       "      <td>0</td>\n",
       "      <td>39</td>\n",
       "      <td>114753</td>\n",
       "      <td>0</td>\n",
       "      <td>0</td>\n",
       "    </tr>\n",
       "    <tr>\n",
       "      <td>1</td>\n",
       "      <td>58</td>\n",
       "      <td>88650</td>\n",
       "      <td>0</td>\n",
       "      <td>0</td>\n",
       "    </tr>\n",
       "    <tr>\n",
       "      <td>2</td>\n",
       "      <td>32</td>\n",
       "      <td>31193</td>\n",
       "      <td>0</td>\n",
       "      <td>0</td>\n",
       "    </tr>\n",
       "    <tr>\n",
       "      <td>3</td>\n",
       "      <td>44</td>\n",
       "      <td>68343</td>\n",
       "      <td>1</td>\n",
       "      <td>0</td>\n",
       "    </tr>\n",
       "    <tr>\n",
       "      <td>4</td>\n",
       "      <td>35</td>\n",
       "      <td>37214</td>\n",
       "      <td>0</td>\n",
       "      <td>0</td>\n",
       "    </tr>\n",
       "  </tbody>\n",
       "</table>\n",
       "</div>"
      ],
      "text/plain": [
       "   age  salary  owns_house  defaulted\n",
       "0   39  114753           0          0\n",
       "1   58   88650           0          0\n",
       "2   32   31193           0          0\n",
       "3   44   68343           1          0\n",
       "4   35   37214           0          0"
      ]
     },
     "execution_count": 17,
     "metadata": {},
     "output_type": "execute_result"
    }
   ],
   "source": [
    "import pandas as pd\n",
    "import numpy as np\n",
    "\n",
    "np.random.seed(1234)\n",
    "\n",
    "n_samples = 1000\n",
    "data = {\n",
    "    'age': np.random.randint(20, 60, size=n_samples),\n",
    "    'salary': np.random.randint(30000, 120000, size=n_samples),\n",
    "    'owns_house': np.random.randint(0, 2, size=n_samples),\n",
    "}\n",
    "\n",
    "df = pd.DataFrame(data)\n",
    "\n",
    "df['defaulted'] = (\n",
    "    (df['age'] < 30) & \n",
    "    (df['salary'] < 60000) & \n",
    "    (df['owns_house'] == 0)\n",
    ").astype(int)\n",
    "\n",
    "df.head()"
   ]
  },
  {
   "cell_type": "code",
   "execution_count": 18,
   "id": "5df6a4cf",
   "metadata": {},
   "outputs": [],
   "source": [
    "from sklearn.model_selection import train_test_split\n",
    "\n",
    "X = df[['age', 'salary', 'owns_house']]\n",
    "y = df['defaulted']\n",
    "\n",
    "X_train, X_test, y_train, y_test = train_test_split(X, y, test_size=0.2, random_state=42)"
   ]
  },
  {
   "cell_type": "code",
   "execution_count": 19,
   "id": "47bfacb7",
   "metadata": {},
   "outputs": [
    {
     "data": {
      "text/plain": [
       "XGBClassifier(base_score=0.5, booster='gbtree', colsample_bylevel=1,\n",
       "              colsample_bytree=1, gamma=0, learning_rate=0.1, max_delta_step=0,\n",
       "              max_depth=5, min_child_weight=1, missing=None, n_estimators=30,\n",
       "              n_jobs=1, nthread=None, objective='binary:logistic',\n",
       "              random_state=1234, reg_alpha=0, reg_lambda=1, scale_pos_weight=1,\n",
       "              seed=None, silent=True, subsample=1)"
      ]
     },
     "execution_count": 19,
     "metadata": {},
     "output_type": "execute_result"
    }
   ],
   "source": [
    "from xgboost import XGBClassifier\n",
    "\n",
    "# n_estimators = 트리의 수\n",
    "\n",
    "# 모델 학습\n",
    "model = XGBClassifier(random_state=1234, max_depth=5, n_estimators=30)\n",
    "model.fit(X_train, y_train)"
   ]
  },
  {
   "cell_type": "code",
   "execution_count": 20,
   "id": "59b98cf3",
   "metadata": {},
   "outputs": [
    {
     "data": {
      "text/plain": [
       "array([0, 0, 0, 0, 0, 0, 0, 0, 0, 0, 0, 0, 1, 0, 0, 0, 0, 0, 0, 0, 0, 0,\n",
       "       0, 0, 0, 0, 0, 0, 0, 0, 0, 0, 0, 1, 0, 0, 0, 0, 0, 0, 0, 0, 0, 0,\n",
       "       0, 0, 0, 0, 0, 0, 0, 0, 0, 0, 0, 0, 0, 0, 0, 0, 0, 0, 0, 0, 0, 0,\n",
       "       0, 0, 0, 0, 0, 0, 0, 0, 0, 0, 0, 0, 0, 0, 0, 0, 0, 0, 0, 0, 0, 0,\n",
       "       0, 0, 0, 0, 0, 0, 0, 0, 0, 0, 0, 0, 0, 0, 1, 0, 0, 0, 0, 0, 0, 0,\n",
       "       0, 0, 0, 0, 0, 0, 0, 0, 0, 0, 0, 0, 0, 0, 0, 0, 0, 0, 0, 0, 0, 0,\n",
       "       0, 0, 0, 0, 0, 0, 0, 0, 0, 0, 0, 0, 0, 0, 0, 0, 0, 0, 0, 0, 0, 0,\n",
       "       0, 0, 0, 0, 0, 0, 0, 0, 0, 0, 0, 0, 0, 0, 0, 0, 0, 0, 0, 0, 0, 0,\n",
       "       0, 0, 0, 0, 0, 0, 0, 0, 0, 0, 0, 0, 0, 0, 0, 0, 0, 0, 0, 0, 0, 0,\n",
       "       0, 0])"
      ]
     },
     "execution_count": 20,
     "metadata": {},
     "output_type": "execute_result"
    }
   ],
   "source": [
    "# 예측\n",
    "y_pred = model.predict(X_test)\n",
    "y_pred"
   ]
  },
  {
   "cell_type": "code",
   "execution_count": 28,
   "id": "a0623566",
   "metadata": {},
   "outputs": [
    {
     "data": {
      "text/plain": [
       "array([0.0257317 , 0.03081029, 0.03081029, 0.0257317 , 0.04803712,\n",
       "       0.0257317 , 0.0257317 , 0.0257317 , 0.0257317 , 0.0257317 ,\n",
       "       0.0257317 , 0.03081029, 0.9578316 , 0.0257317 , 0.0257317 ,\n",
       "       0.0257317 , 0.0257317 , 0.0257317 , 0.03081029, 0.0257317 ,\n",
       "       0.0257317 , 0.0257317 , 0.03081029, 0.03081029, 0.0257317 ,\n",
       "       0.0257317 , 0.03081029, 0.0257317 , 0.03081029, 0.0257317 ,\n",
       "       0.0257317 , 0.0257317 , 0.0257317 , 0.72680855, 0.03081029,\n",
       "       0.0257317 , 0.03081029, 0.04803712, 0.0257317 , 0.03081029,\n",
       "       0.0257317 , 0.03081029, 0.0257317 , 0.04803712, 0.03081029,\n",
       "       0.03081029, 0.0257317 , 0.0257317 , 0.0257317 , 0.0257317 ,\n",
       "       0.0257317 , 0.0257317 , 0.0257317 , 0.04803712, 0.0257317 ,\n",
       "       0.0257317 , 0.0257317 , 0.0257317 , 0.0257317 , 0.0257317 ,\n",
       "       0.0257317 , 0.0257317 , 0.0257317 , 0.0257317 , 0.03081029,\n",
       "       0.0257317 , 0.0257317 , 0.03081029, 0.0257317 , 0.0257317 ,\n",
       "       0.0257317 , 0.0257317 , 0.0257317 , 0.03081029, 0.0257317 ,\n",
       "       0.0257317 , 0.0257317 , 0.03081029, 0.0257317 , 0.0257317 ,\n",
       "       0.0257317 , 0.0257317 , 0.0257317 , 0.0257317 , 0.0257317 ,\n",
       "       0.0257317 , 0.0257317 , 0.0257317 , 0.0257317 , 0.0257317 ,\n",
       "       0.0257317 , 0.0257317 , 0.0257317 , 0.0257317 , 0.03081029,\n",
       "       0.0257317 , 0.0257317 , 0.0257317 , 0.0257317 , 0.0257317 ,\n",
       "       0.0257317 , 0.0257317 , 0.9578316 , 0.0257317 , 0.03081029,\n",
       "       0.03081029, 0.0257317 , 0.0257317 , 0.0257317 , 0.0257317 ,\n",
       "       0.04803712, 0.03081029, 0.0257317 , 0.03081029, 0.0257317 ,\n",
       "       0.0257317 , 0.03011704, 0.04803712, 0.03011704, 0.0257317 ,\n",
       "       0.04803712, 0.0257317 , 0.0257317 , 0.03081029, 0.0257317 ,\n",
       "       0.03081029, 0.03081029, 0.0257317 , 0.0257317 , 0.0257317 ,\n",
       "       0.0257317 , 0.0257317 , 0.04803712, 0.0257317 , 0.03081029,\n",
       "       0.0257317 , 0.0257317 , 0.0257317 , 0.03081029, 0.0257317 ,\n",
       "       0.0257317 , 0.0257317 , 0.0257317 , 0.0257317 , 0.0257317 ,\n",
       "       0.0257317 , 0.0257317 , 0.0257317 , 0.0257317 , 0.03081029,\n",
       "       0.0257317 , 0.0257317 , 0.0257317 , 0.04803712, 0.0257317 ,\n",
       "       0.0257317 , 0.0257317 , 0.03011704, 0.0257317 , 0.0257317 ,\n",
       "       0.0257317 , 0.03081029, 0.0257317 , 0.03081029, 0.0257317 ,\n",
       "       0.03081029, 0.0257317 , 0.03081029, 0.0257317 , 0.0257317 ,\n",
       "       0.0257317 , 0.03011704, 0.03081029, 0.0257317 , 0.03081029,\n",
       "       0.03081029, 0.0257317 , 0.0257317 , 0.0257317 , 0.03081029,\n",
       "       0.0257317 , 0.0257317 , 0.0257317 , 0.0257317 , 0.0257317 ,\n",
       "       0.0257317 , 0.03081029, 0.03081029, 0.0257317 , 0.0257317 ,\n",
       "       0.0257317 , 0.0257317 , 0.03081029, 0.0257317 , 0.0257317 ,\n",
       "       0.0257317 , 0.0257317 , 0.0257317 , 0.0257317 , 0.0257317 ],\n",
       "      dtype=float32)"
      ]
     },
     "execution_count": 28,
     "metadata": {},
     "output_type": "execute_result"
    }
   ],
   "source": [
    "y_proba = model.predict_proba(X_test)[:, 1]  # 양성 클래스(1)의 확률\n",
    "y_proba"
   ]
  },
  {
   "cell_type": "code",
   "execution_count": 29,
   "id": "06b7bcb1",
   "metadata": {},
   "outputs": [
    {
     "name": "stdout",
     "output_type": "stream",
     "text": [
      "Accuracy : 0.995\n",
      "Recall : 0.75\n",
      "Precision : 1.0\n",
      "F1 Score: 0.8571428571428571\n",
      "ROC-AUC Score : 0.9636479591836734\n"
     ]
    }
   ],
   "source": [
    "from sklearn.metrics import accuracy_score, recall_score, precision_score, f1_score, roc_auc_score\n",
    "\n",
    "# ROC-AUC (Receiver Operating Characteristic - Area Under Curve)\n",
    "# 분류 모델이 양성 클래스(1)를 얼마나 잘 구별하는지를 측정하는 지표\n",
    "# 모델이 출력한 확률 값을 이용해서 모든 임계값에서의 성능을 평가\n",
    "\n",
    "acc = accuracy_score(y_test, y_pred)\n",
    "roc_auc = roc_auc_score(y_test, y_proba)\n",
    "\n",
    "print(\"Accuracy :\", accuracy_score(y_test, y_pred))\n",
    "print(\"Recall :\", recall_score(y_test, y_pred))\n",
    "print(\"Precision :\", precision_score(y_test, y_pred))\n",
    "\n",
    "# pos_label=1 => 1이 양성 클래스라고 간주 (default)\n",
    "print(\"F1 Score:\", f1_score(y_test, y_pred, pos_label=1))\n",
    "\n",
    "print(\"ROC-AUC Score :\", roc_auc)"
   ]
  },
  {
   "cell_type": "code",
   "execution_count": null,
   "id": "af40e8f6",
   "metadata": {},
   "outputs": [],
   "source": []
  }
 ],
 "metadata": {
  "kernelspec": {
   "display_name": "Python 3 (ipykernel)",
   "language": "python",
   "name": "python3"
  },
  "language_info": {
   "codemirror_mode": {
    "name": "ipython",
    "version": 3
   },
   "file_extension": ".py",
   "mimetype": "text/x-python",
   "name": "python",
   "nbconvert_exporter": "python",
   "pygments_lexer": "ipython3",
   "version": "3.7.4"
  }
 },
 "nbformat": 4,
 "nbformat_minor": 5
}
