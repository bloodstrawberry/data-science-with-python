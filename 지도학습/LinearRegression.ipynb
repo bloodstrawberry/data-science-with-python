{
 "cells": [
  {
   "cell_type": "code",
   "execution_count": 8,
   "id": "e3e27f93",
   "metadata": {},
   "outputs": [
    {
     "data": {
      "text/html": [
       "<div>\n",
       "<style scoped>\n",
       "    .dataframe tbody tr th:only-of-type {\n",
       "        vertical-align: middle;\n",
       "    }\n",
       "\n",
       "    .dataframe tbody tr th {\n",
       "        vertical-align: top;\n",
       "    }\n",
       "\n",
       "    .dataframe thead th {\n",
       "        text-align: right;\n",
       "    }\n",
       "</style>\n",
       "<table border=\"1\" class=\"dataframe\">\n",
       "  <thead>\n",
       "    <tr style=\"text-align: right;\">\n",
       "      <th></th>\n",
       "      <th>X1</th>\n",
       "      <th>X2</th>\n",
       "      <th>X3</th>\n",
       "      <th>Y</th>\n",
       "    </tr>\n",
       "  </thead>\n",
       "  <tbody>\n",
       "    <tr>\n",
       "      <td>0</td>\n",
       "      <td>0.471435</td>\n",
       "      <td>0.291205</td>\n",
       "      <td>-0.319561</td>\n",
       "      <td>4.810901</td>\n",
       "    </tr>\n",
       "    <tr>\n",
       "      <td>1</td>\n",
       "      <td>-1.190976</td>\n",
       "      <td>0.566534</td>\n",
       "      <td>-0.619993</td>\n",
       "      <td>0.263825</td>\n",
       "    </tr>\n",
       "    <tr>\n",
       "      <td>2</td>\n",
       "      <td>1.432707</td>\n",
       "      <td>0.503592</td>\n",
       "      <td>0.156998</td>\n",
       "      <td>7.472249</td>\n",
       "    </tr>\n",
       "    <tr>\n",
       "      <td>3</td>\n",
       "      <td>-0.312652</td>\n",
       "      <td>0.285296</td>\n",
       "      <td>-0.571455</td>\n",
       "      <td>3.551282</td>\n",
       "    </tr>\n",
       "    <tr>\n",
       "      <td>4</td>\n",
       "      <td>-0.720589</td>\n",
       "      <td>0.484288</td>\n",
       "      <td>1.057633</td>\n",
       "      <td>5.134221</td>\n",
       "    </tr>\n",
       "  </tbody>\n",
       "</table>\n",
       "</div>"
      ],
      "text/plain": [
       "         X1        X2        X3         Y\n",
       "0  0.471435  0.291205 -0.319561  4.810901\n",
       "1 -1.190976  0.566534 -0.619993  0.263825\n",
       "2  1.432707  0.503592  0.156998  7.472249\n",
       "3 -0.312652  0.285296 -0.571455  3.551282\n",
       "4 -0.720589  0.484288  1.057633  5.134221"
      ]
     },
     "execution_count": 8,
     "metadata": {},
     "output_type": "execute_result"
    }
   ],
   "source": [
    "import numpy as np\n",
    "import pandas as pd\n",
    "\n",
    "np.random.seed(1234)\n",
    "\n",
    "n_samples = 100\n",
    "\n",
    "x1 = np.random.randn(n_samples)\n",
    "x2 = np.random.randn(n_samples)\n",
    "x3 = np.random.randn(n_samples)\n",
    "\n",
    "# 임의의 계수\n",
    "a, b, c, d = 2.0, -1.5, 3.0, 5.0\n",
    "\n",
    "# 종속 변수 생성 + noise\n",
    "noise = np.random.randn(n_samples) * 0.5\n",
    "y0 = a * x1 + b * x2 + c * x3 + d + noise\n",
    "\n",
    "df = pd.DataFrame({'X1': x1, 'X2': x2, 'X3': x3, 'Y': y0})\n",
    "df.head()"
   ]
  },
  {
   "cell_type": "code",
   "execution_count": 9,
   "id": "e5cbc749",
   "metadata": {},
   "outputs": [],
   "source": [
    "from sklearn.model_selection import train_test_split\n",
    "\n",
    "X = df[['X1', 'X2', 'X3']]\n",
    "y = df['Y']\n",
    "\n",
    "X_train, X_test, y_train, y_test = train_test_split(X, y, test_size=0.2, random_state=1234)"
   ]
  },
  {
   "cell_type": "code",
   "execution_count": 10,
   "id": "63a7cecf",
   "metadata": {},
   "outputs": [
    {
     "name": "stdout",
     "output_type": "stream",
     "text": [
      "Intercept (절편): 5.052336995858368\n",
      "Coefficients (계수): [ 1.96729623 -1.57951403  2.95907097]\n"
     ]
    }
   ],
   "source": [
    "from sklearn.linear_model import LinearRegression\n",
    "\n",
    "# 모델 학습\n",
    "model = LinearRegression() # 절편 미포함 : LinearRegression(fit_intercept=False)\n",
    "model.fit(X_train, y_train)\n",
    "\n",
    "print(\"Intercept (절편):\", model.intercept_)\n",
    "print(\"Coefficients (계수):\", model.coef_)"
   ]
  },
  {
   "cell_type": "code",
   "execution_count": 11,
   "id": "a63cc257",
   "metadata": {},
   "outputs": [
    {
     "data": {
      "text/plain": [
       "array([ 3.12664969,  7.06984042, -0.93769385,  6.69679378, -2.1026261 ,\n",
       "        2.52734463,  5.65414199,  1.69225091,  9.82235049,  6.56760218,\n",
       "        1.92804274,  5.23218495,  8.6534034 ,  5.00881546,  6.62089209,\n",
       "       13.21558057,  4.4790476 , -0.02011646,  4.87736446, -0.01729664])"
      ]
     },
     "execution_count": 11,
     "metadata": {},
     "output_type": "execute_result"
    }
   ],
   "source": [
    "# 예측\n",
    "y_pred = model.predict(X_test)\n",
    "y_pred"
   ]
  },
  {
   "cell_type": "code",
   "execution_count": 12,
   "id": "4c798f04",
   "metadata": {},
   "outputs": [
    {
     "data": {
      "text/plain": [
       "(0.1407066479342696, 0.2928034528632188, 0.989423116757431)"
      ]
     },
     "execution_count": 12,
     "metadata": {},
     "output_type": "execute_result"
    }
   ],
   "source": [
    "# 평가\n",
    "from sklearn.metrics import mean_squared_error, mean_absolute_error, r2_score\n",
    "\n",
    "mse = mean_squared_error(y_test, y_pred) # rmse = np.sqrt(mse)\n",
    "mae = mean_absolute_error(y_test, y_pred)\n",
    "r2 = r2_score(y_test, y_pred)\n",
    "\n",
    "mse, mae, r2"
   ]
  },
  {
   "cell_type": "code",
   "execution_count": 15,
   "id": "8f1e257b",
   "metadata": {},
   "outputs": [
    {
     "name": "stdout",
     "output_type": "stream",
     "text": [
      "AIC  : -65.264\n",
      "AICc : -64.843\n",
      "BIC  : -54.843\n"
     ]
    }
   ],
   "source": [
    "# 기본 정보\n",
    "n = len(y)             # 관측치 수\n",
    "k = X.shape[1] + 1     # 변수 수 (절편 포함)\n",
    "\n",
    "# MSE & RSS\n",
    "rss = np.sum((y_test - y_pred) ** 2)\n",
    "mse = mean_squared_error(y_test, y_pred)\n",
    "\n",
    "# 로그우도 근사 (가정: 정규분포 오차)\n",
    "log_likelihood = -n / 2 * (np.log(2 * np.pi) + np.log(rss / n) + 1)\n",
    "\n",
    "# AIC\n",
    "aic = 2 * k - 2 * log_likelihood\n",
    "\n",
    "# AICc (수정 AIC)\n",
    "aicc = aic + (2 * k * (k + 1)) / (n - k - 1)\n",
    "\n",
    "# BIC\n",
    "bic = k * np.log(n) - 2 * log_likelihood\n",
    "\n",
    "# 출력\n",
    "print(f\"AIC  : {aic:.3f}\")\n",
    "print(f\"AICc : {aicc:.3f}\")\n",
    "print(f\"BIC  : {bic:.3f}\")"
   ]
  },
  {
   "cell_type": "code",
   "execution_count": null,
   "id": "72cb5670",
   "metadata": {},
   "outputs": [],
   "source": []
  }
 ],
 "metadata": {
  "kernelspec": {
   "display_name": "Python 3 (ipykernel)",
   "language": "python",
   "name": "python3"
  },
  "language_info": {
   "codemirror_mode": {
    "name": "ipython",
    "version": 3
   },
   "file_extension": ".py",
   "mimetype": "text/x-python",
   "name": "python",
   "nbconvert_exporter": "python",
   "pygments_lexer": "ipython3",
   "version": "3.7.4"
  }
 },
 "nbformat": 4,
 "nbformat_minor": 5
}
