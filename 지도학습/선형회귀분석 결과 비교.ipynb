{
 "cells": [
  {
   "cell_type": "code",
   "execution_count": 1,
   "id": "3c84f6ed",
   "metadata": {},
   "outputs": [],
   "source": [
    "# 결과 비교\n",
    "# from sklearn.linear_model import LinearRegression\n",
    "# import statsmodels.api as sm (OLS)\n",
    "# from statsmodels.formula.api import ols"
   ]
  },
  {
   "cell_type": "code",
   "execution_count": 33,
   "id": "b8943983",
   "metadata": {},
   "outputs": [
    {
     "data": {
      "text/html": [
       "<div>\n",
       "<style scoped>\n",
       "    .dataframe tbody tr th:only-of-type {\n",
       "        vertical-align: middle;\n",
       "    }\n",
       "\n",
       "    .dataframe tbody tr th {\n",
       "        vertical-align: top;\n",
       "    }\n",
       "\n",
       "    .dataframe thead th {\n",
       "        text-align: right;\n",
       "    }\n",
       "</style>\n",
       "<table border=\"1\" class=\"dataframe\">\n",
       "  <thead>\n",
       "    <tr style=\"text-align: right;\">\n",
       "      <th></th>\n",
       "      <th>X1</th>\n",
       "      <th>X2</th>\n",
       "      <th>X3</th>\n",
       "      <th>Y</th>\n",
       "    </tr>\n",
       "  </thead>\n",
       "  <tbody>\n",
       "    <tr>\n",
       "      <td>0</td>\n",
       "      <td>0.471435</td>\n",
       "      <td>0.291205</td>\n",
       "      <td>-0.319561</td>\n",
       "      <td>4.810901</td>\n",
       "    </tr>\n",
       "    <tr>\n",
       "      <td>1</td>\n",
       "      <td>-1.190976</td>\n",
       "      <td>0.566534</td>\n",
       "      <td>-0.619993</td>\n",
       "      <td>0.263825</td>\n",
       "    </tr>\n",
       "    <tr>\n",
       "      <td>2</td>\n",
       "      <td>1.432707</td>\n",
       "      <td>0.503592</td>\n",
       "      <td>0.156998</td>\n",
       "      <td>7.472249</td>\n",
       "    </tr>\n",
       "    <tr>\n",
       "      <td>3</td>\n",
       "      <td>-0.312652</td>\n",
       "      <td>0.285296</td>\n",
       "      <td>-0.571455</td>\n",
       "      <td>3.551282</td>\n",
       "    </tr>\n",
       "    <tr>\n",
       "      <td>4</td>\n",
       "      <td>-0.720589</td>\n",
       "      <td>0.484288</td>\n",
       "      <td>1.057633</td>\n",
       "      <td>5.134221</td>\n",
       "    </tr>\n",
       "  </tbody>\n",
       "</table>\n",
       "</div>"
      ],
      "text/plain": [
       "         X1        X2        X3         Y\n",
       "0  0.471435  0.291205 -0.319561  4.810901\n",
       "1 -1.190976  0.566534 -0.619993  0.263825\n",
       "2  1.432707  0.503592  0.156998  7.472249\n",
       "3 -0.312652  0.285296 -0.571455  3.551282\n",
       "4 -0.720589  0.484288  1.057633  5.134221"
      ]
     },
     "execution_count": 33,
     "metadata": {},
     "output_type": "execute_result"
    }
   ],
   "source": [
    "import numpy as np\n",
    "import pandas as pd\n",
    "\n",
    "np.random.seed(1234)\n",
    "\n",
    "n_samples = 100\n",
    "\n",
    "x1 = np.random.randn(n_samples)\n",
    "x2 = np.random.randn(n_samples)\n",
    "x3 = np.random.randn(n_samples)\n",
    "\n",
    "# 임의의 계수\n",
    "a, b, c, d = 2.0, -1.5, 3.0, 5.0\n",
    "\n",
    "# 종속 변수 생성 + noise\n",
    "noise = np.random.randn(n_samples) * 0.5\n",
    "y0 = a * x1 + b * x2 + c * x3 + d + noise\n",
    "\n",
    "df = pd.DataFrame({'X1': x1, 'X2': x2, 'X3': x3, 'Y': y0})\n",
    "df.head()"
   ]
  },
  {
   "cell_type": "code",
   "execution_count": 34,
   "id": "ee81f0e3",
   "metadata": {},
   "outputs": [],
   "source": [
    "from sklearn.model_selection import train_test_split\n",
    "\n",
    "X = df[['X1', 'X2', 'X3']]\n",
    "y = df['Y']\n",
    "\n",
    "X_train, X_test, y_train, y_test = train_test_split(X, y, test_size=0.2, random_state=1234)"
   ]
  },
  {
   "cell_type": "code",
   "execution_count": 35,
   "id": "2a053c7b",
   "metadata": {},
   "outputs": [],
   "source": [
    "#####################################################################################################################"
   ]
  },
  {
   "cell_type": "code",
   "execution_count": 36,
   "id": "61be3018",
   "metadata": {},
   "outputs": [
    {
     "name": "stdout",
     "output_type": "stream",
     "text": [
      "Intercept (절편): 5.052336995858368\n",
      "Coefficients (계수): [ 1.96729623 -1.57951403  2.95907097]\n"
     ]
    }
   ],
   "source": [
    "from sklearn.linear_model import LinearRegression\n",
    "\n",
    "# 모델 학습\n",
    "model = LinearRegression() # 절편 미포함 : LinearRegression(fit_intercept=False)\n",
    "model.fit(X_train, y_train)\n",
    "\n",
    "print(\"Intercept (절편):\", model.intercept_)\n",
    "print(\"Coefficients (계수):\", model.coef_)"
   ]
  },
  {
   "cell_type": "code",
   "execution_count": 37,
   "id": "47867af7",
   "metadata": {},
   "outputs": [
    {
     "data": {
      "text/plain": [
       "array([ 3.12664969,  7.06984042, -0.93769385,  6.69679378, -2.1026261 ,\n",
       "        2.52734463,  5.65414199,  1.69225091,  9.82235049,  6.56760218,\n",
       "        1.92804274,  5.23218495,  8.6534034 ,  5.00881546,  6.62089209,\n",
       "       13.21558057,  4.4790476 , -0.02011646,  4.87736446, -0.01729664])"
      ]
     },
     "execution_count": 37,
     "metadata": {},
     "output_type": "execute_result"
    }
   ],
   "source": [
    "# 예측\n",
    "y_pred = model.predict(X_test)\n",
    "y_pred"
   ]
  },
  {
   "cell_type": "code",
   "execution_count": 38,
   "id": "b2629b21",
   "metadata": {},
   "outputs": [
    {
     "data": {
      "text/plain": [
       "(0.1407066479342696, 0.2928034528632188, 0.989423116757431)"
      ]
     },
     "execution_count": 38,
     "metadata": {},
     "output_type": "execute_result"
    }
   ],
   "source": [
    "# 평가\n",
    "from sklearn.metrics import mean_squared_error, mean_absolute_error, r2_score\n",
    "\n",
    "mse = mean_squared_error(y_test, y_pred) # rmse = np.sqrt(mse)\n",
    "mae = mean_absolute_error(y_test, y_pred)\n",
    "r2 = r2_score(y_test, y_pred)\n",
    "\n",
    "mse, mae, r2"
   ]
  },
  {
   "cell_type": "code",
   "execution_count": 39,
   "id": "602cc613",
   "metadata": {},
   "outputs": [],
   "source": [
    "#####################################################################################################################"
   ]
  },
  {
   "cell_type": "code",
   "execution_count": 40,
   "id": "4a9306db",
   "metadata": {},
   "outputs": [
    {
     "name": "stderr",
     "output_type": "stream",
     "text": [
      "c:\\users\\vvv30\\appdata\\local\\programs\\python\\python37\\lib\\site-packages\\numpy\\core\\fromnumeric.py:2542: FutureWarning: Method .ptp is deprecated and will be removed in a future version. Use numpy.ptp instead.\n",
      "  return ptp(axis=axis, out=out, **kwargs)\n"
     ]
    },
    {
     "data": {
      "text/html": [
       "<div>\n",
       "<style scoped>\n",
       "    .dataframe tbody tr th:only-of-type {\n",
       "        vertical-align: middle;\n",
       "    }\n",
       "\n",
       "    .dataframe tbody tr th {\n",
       "        vertical-align: top;\n",
       "    }\n",
       "\n",
       "    .dataframe thead th {\n",
       "        text-align: right;\n",
       "    }\n",
       "</style>\n",
       "<table border=\"1\" class=\"dataframe\">\n",
       "  <thead>\n",
       "    <tr style=\"text-align: right;\">\n",
       "      <th></th>\n",
       "      <th>const</th>\n",
       "      <th>X1</th>\n",
       "      <th>X2</th>\n",
       "      <th>X3</th>\n",
       "    </tr>\n",
       "  </thead>\n",
       "  <tbody>\n",
       "    <tr>\n",
       "      <td>9</td>\n",
       "      <td>1.0</td>\n",
       "      <td>-2.242685</td>\n",
       "      <td>-1.281108</td>\n",
       "      <td>0.787965</td>\n",
       "    </tr>\n",
       "    <tr>\n",
       "      <td>51</td>\n",
       "      <td>1.0</td>\n",
       "      <td>-1.445810</td>\n",
       "      <td>0.796595</td>\n",
       "      <td>-1.712274</td>\n",
       "    </tr>\n",
       "    <tr>\n",
       "      <td>29</td>\n",
       "      <td>1.0</td>\n",
       "      <td>1.058969</td>\n",
       "      <td>0.678630</td>\n",
       "      <td>0.247112</td>\n",
       "    </tr>\n",
       "    <tr>\n",
       "      <td>88</td>\n",
       "      <td>1.0</td>\n",
       "      <td>0.270836</td>\n",
       "      <td>-0.414505</td>\n",
       "      <td>-0.354509</td>\n",
       "    </tr>\n",
       "    <tr>\n",
       "      <td>75</td>\n",
       "      <td>1.0</td>\n",
       "      <td>2.007843</td>\n",
       "      <td>-0.223019</td>\n",
       "      <td>0.983513</td>\n",
       "    </tr>\n",
       "  </tbody>\n",
       "</table>\n",
       "</div>"
      ],
      "text/plain": [
       "    const        X1        X2        X3\n",
       "9     1.0 -2.242685 -1.281108  0.787965\n",
       "51    1.0 -1.445810  0.796595 -1.712274\n",
       "29    1.0  1.058969  0.678630  0.247112\n",
       "88    1.0  0.270836 -0.414505 -0.354509\n",
       "75    1.0  2.007843 -0.223019  0.983513"
      ]
     },
     "execution_count": 40,
     "metadata": {},
     "output_type": "execute_result"
    }
   ],
   "source": [
    "import statsmodels.api as sm\n",
    "\n",
    "# 절편 포함\n",
    "X_const = sm.add_constant(X_train)\n",
    "X_const.head()"
   ]
  },
  {
   "cell_type": "code",
   "execution_count": 41,
   "id": "751c8a49",
   "metadata": {},
   "outputs": [
    {
     "data": {
      "text/html": [
       "<table class=\"simpletable\">\n",
       "<caption>OLS Regression Results</caption>\n",
       "<tr>\n",
       "  <th>Dep. Variable:</th>            <td>Y</td>        <th>  R-squared:         </th> <td>   0.978</td>\n",
       "</tr>\n",
       "<tr>\n",
       "  <th>Model:</th>                   <td>OLS</td>       <th>  Adj. R-squared:    </th> <td>   0.977</td>\n",
       "</tr>\n",
       "<tr>\n",
       "  <th>Method:</th>             <td>Least Squares</td>  <th>  F-statistic:       </th> <td>   1109.</td>\n",
       "</tr>\n",
       "<tr>\n",
       "  <th>Date:</th>             <td>Wed, 04 Jun 2025</td> <th>  Prob (F-statistic):</th> <td>1.26e-62</td>\n",
       "</tr>\n",
       "<tr>\n",
       "  <th>Time:</th>                 <td>21:43:01</td>     <th>  Log-Likelihood:    </th> <td> -56.317</td>\n",
       "</tr>\n",
       "<tr>\n",
       "  <th>No. Observations:</th>      <td>    80</td>      <th>  AIC:               </th> <td>   120.6</td>\n",
       "</tr>\n",
       "<tr>\n",
       "  <th>Df Residuals:</th>          <td>    76</td>      <th>  BIC:               </th> <td>   130.2</td>\n",
       "</tr>\n",
       "<tr>\n",
       "  <th>Df Model:</th>              <td>     3</td>      <th>                     </th>     <td> </td>   \n",
       "</tr>\n",
       "<tr>\n",
       "  <th>Covariance Type:</th>      <td>nonrobust</td>    <th>                     </th>     <td> </td>   \n",
       "</tr>\n",
       "</table>\n",
       "<table class=\"simpletable\">\n",
       "<tr>\n",
       "    <td></td>       <th>coef</th>     <th>std err</th>      <th>t</th>      <th>P>|t|</th>  <th>[0.025</th>    <th>0.975]</th>  \n",
       "</tr>\n",
       "<tr>\n",
       "  <th>const</th> <td>    5.0523</td> <td>    0.058</td> <td>   86.414</td> <td> 0.000</td> <td>    4.936</td> <td>    5.169</td>\n",
       "</tr>\n",
       "<tr>\n",
       "  <th>X1</th>    <td>    1.9673</td> <td>    0.062</td> <td>   31.827</td> <td> 0.000</td> <td>    1.844</td> <td>    2.090</td>\n",
       "</tr>\n",
       "<tr>\n",
       "  <th>X2</th>    <td>   -1.5795</td> <td>    0.059</td> <td>  -26.839</td> <td> 0.000</td> <td>   -1.697</td> <td>   -1.462</td>\n",
       "</tr>\n",
       "<tr>\n",
       "  <th>X3</th>    <td>    2.9591</td> <td>    0.062</td> <td>   47.842</td> <td> 0.000</td> <td>    2.836</td> <td>    3.082</td>\n",
       "</tr>\n",
       "</table>\n",
       "<table class=\"simpletable\">\n",
       "<tr>\n",
       "  <th>Omnibus:</th>       <td> 1.493</td> <th>  Durbin-Watson:     </th> <td>   2.281</td>\n",
       "</tr>\n",
       "<tr>\n",
       "  <th>Prob(Omnibus):</th> <td> 0.474</td> <th>  Jarque-Bera (JB):  </th> <td>   1.478</td>\n",
       "</tr>\n",
       "<tr>\n",
       "  <th>Skew:</th>          <td> 0.314</td> <th>  Prob(JB):          </th> <td>   0.478</td>\n",
       "</tr>\n",
       "<tr>\n",
       "  <th>Kurtosis:</th>      <td> 2.780</td> <th>  Cond. No.          </th> <td>    1.42</td>\n",
       "</tr>\n",
       "</table><br/><br/>Warnings:<br/>[1] Standard Errors assume that the covariance matrix of the errors is correctly specified."
      ],
      "text/plain": [
       "<class 'statsmodels.iolib.summary.Summary'>\n",
       "\"\"\"\n",
       "                            OLS Regression Results                            \n",
       "==============================================================================\n",
       "Dep. Variable:                      Y   R-squared:                       0.978\n",
       "Model:                            OLS   Adj. R-squared:                  0.977\n",
       "Method:                 Least Squares   F-statistic:                     1109.\n",
       "Date:                Wed, 04 Jun 2025   Prob (F-statistic):           1.26e-62\n",
       "Time:                        21:43:01   Log-Likelihood:                -56.317\n",
       "No. Observations:                  80   AIC:                             120.6\n",
       "Df Residuals:                      76   BIC:                             130.2\n",
       "Df Model:                           3                                         \n",
       "Covariance Type:            nonrobust                                         \n",
       "==============================================================================\n",
       "                 coef    std err          t      P>|t|      [0.025      0.975]\n",
       "------------------------------------------------------------------------------\n",
       "const          5.0523      0.058     86.414      0.000       4.936       5.169\n",
       "X1             1.9673      0.062     31.827      0.000       1.844       2.090\n",
       "X2            -1.5795      0.059    -26.839      0.000      -1.697      -1.462\n",
       "X3             2.9591      0.062     47.842      0.000       2.836       3.082\n",
       "==============================================================================\n",
       "Omnibus:                        1.493   Durbin-Watson:                   2.281\n",
       "Prob(Omnibus):                  0.474   Jarque-Bera (JB):                1.478\n",
       "Skew:                           0.314   Prob(JB):                        0.478\n",
       "Kurtosis:                       2.780   Cond. No.                         1.42\n",
       "==============================================================================\n",
       "\n",
       "Warnings:\n",
       "[1] Standard Errors assume that the covariance matrix of the errors is correctly specified.\n",
       "\"\"\""
      ]
     },
     "execution_count": 41,
     "metadata": {},
     "output_type": "execute_result"
    }
   ],
   "source": [
    "# 모델 학습\n",
    "model = sm.OLS(y_train, X_const).fit()\n",
    "model.summary()"
   ]
  },
  {
   "cell_type": "code",
   "execution_count": 42,
   "id": "c1931903",
   "metadata": {},
   "outputs": [
    {
     "data": {
      "text/plain": [
       "const    5.052337\n",
       "X1       1.967296\n",
       "X2      -1.579514\n",
       "X3       2.959071\n",
       "dtype: float64"
      ]
     },
     "execution_count": 42,
     "metadata": {},
     "output_type": "execute_result"
    }
   ],
   "source": [
    "model.params"
   ]
  },
  {
   "cell_type": "code",
   "execution_count": 43,
   "id": "17560c0c",
   "metadata": {},
   "outputs": [
    {
     "data": {
      "text/plain": [
       "const    1.218428e-77\n",
       "X1       1.095671e-45\n",
       "X2       1.624641e-40\n",
       "X3       1.712198e-58\n",
       "dtype: float64"
      ]
     },
     "execution_count": 43,
     "metadata": {},
     "output_type": "execute_result"
    }
   ],
   "source": [
    "model.pvalues"
   ]
  },
  {
   "cell_type": "code",
   "execution_count": 44,
   "id": "1de115f5",
   "metadata": {},
   "outputs": [
    {
     "data": {
      "text/plain": [
       "0.9776677023867212"
      ]
     },
     "execution_count": 44,
     "metadata": {},
     "output_type": "execute_result"
    }
   ],
   "source": [
    "model.rsquared"
   ]
  },
  {
   "cell_type": "code",
   "execution_count": 45,
   "id": "3d6b26af",
   "metadata": {},
   "outputs": [
    {
     "data": {
      "text/html": [
       "<div>\n",
       "<style scoped>\n",
       "    .dataframe tbody tr th:only-of-type {\n",
       "        vertical-align: middle;\n",
       "    }\n",
       "\n",
       "    .dataframe tbody tr th {\n",
       "        vertical-align: top;\n",
       "    }\n",
       "\n",
       "    .dataframe thead th {\n",
       "        text-align: right;\n",
       "    }\n",
       "</style>\n",
       "<table border=\"1\" class=\"dataframe\">\n",
       "  <thead>\n",
       "    <tr style=\"text-align: right;\">\n",
       "      <th></th>\n",
       "      <th>0</th>\n",
       "      <th>1</th>\n",
       "    </tr>\n",
       "  </thead>\n",
       "  <tbody>\n",
       "    <tr>\n",
       "      <td>const</td>\n",
       "      <td>4.935890</td>\n",
       "      <td>5.168784</td>\n",
       "    </tr>\n",
       "    <tr>\n",
       "      <td>X1</td>\n",
       "      <td>1.844187</td>\n",
       "      <td>2.090405</td>\n",
       "    </tr>\n",
       "    <tr>\n",
       "      <td>X2</td>\n",
       "      <td>-1.696727</td>\n",
       "      <td>-1.462301</td>\n",
       "    </tr>\n",
       "    <tr>\n",
       "      <td>X3</td>\n",
       "      <td>2.835883</td>\n",
       "      <td>3.082259</td>\n",
       "    </tr>\n",
       "  </tbody>\n",
       "</table>\n",
       "</div>"
      ],
      "text/plain": [
       "              0         1\n",
       "const  4.935890  5.168784\n",
       "X1     1.844187  2.090405\n",
       "X2    -1.696727 -1.462301\n",
       "X3     2.835883  3.082259"
      ]
     },
     "execution_count": 45,
     "metadata": {},
     "output_type": "execute_result"
    }
   ],
   "source": [
    "model.conf_int(alpha=0.05) #신뢰구간 95%"
   ]
  },
  {
   "cell_type": "code",
   "execution_count": 46,
   "id": "81c1e46f",
   "metadata": {},
   "outputs": [
    {
     "data": {
      "text/plain": [
       "40     3.126650\n",
       "35     7.069840\n",
       "81    -0.937694\n",
       "61     6.696794\n",
       "98    -2.102626\n",
       "68     2.527345\n",
       "85     5.654142\n",
       "27     1.692251\n",
       "39     9.822350\n",
       "42     6.567602\n",
       "33     1.928043\n",
       "59     5.232185\n",
       "63     8.653403\n",
       "94     5.008815\n",
       "56     6.620892\n",
       "87    13.215581\n",
       "96     4.479048\n",
       "1     -0.020116\n",
       "71     4.877364\n",
       "82    -0.017297\n",
       "dtype: float64"
      ]
     },
     "execution_count": 46,
     "metadata": {},
     "output_type": "execute_result"
    }
   ],
   "source": [
    "# 예측\n",
    "X_const_test = sm.add_constant(X_test) # 평가 세트 절편 포함\n",
    "y_pred = model.predict(X_const_test)\n",
    "y_pred"
   ]
  },
  {
   "cell_type": "code",
   "execution_count": 47,
   "id": "cf901767",
   "metadata": {},
   "outputs": [
    {
     "data": {
      "text/html": [
       "<div>\n",
       "<style scoped>\n",
       "    .dataframe tbody tr th:only-of-type {\n",
       "        vertical-align: middle;\n",
       "    }\n",
       "\n",
       "    .dataframe tbody tr th {\n",
       "        vertical-align: top;\n",
       "    }\n",
       "\n",
       "    .dataframe thead th {\n",
       "        text-align: right;\n",
       "    }\n",
       "</style>\n",
       "<table border=\"1\" class=\"dataframe\">\n",
       "  <thead>\n",
       "    <tr style=\"text-align: right;\">\n",
       "      <th></th>\n",
       "      <th>mean</th>\n",
       "      <th>mean_se</th>\n",
       "      <th>mean_ci_lower</th>\n",
       "      <th>mean_ci_upper</th>\n",
       "      <th>obs_ci_lower</th>\n",
       "      <th>obs_ci_upper</th>\n",
       "    </tr>\n",
       "  </thead>\n",
       "  <tbody>\n",
       "    <tr>\n",
       "      <td>40</td>\n",
       "      <td>3.126650</td>\n",
       "      <td>0.085149</td>\n",
       "      <td>2.957061</td>\n",
       "      <td>3.296239</td>\n",
       "      <td>2.112718</td>\n",
       "      <td>4.140582</td>\n",
       "    </tr>\n",
       "    <tr>\n",
       "      <td>35</td>\n",
       "      <td>7.069840</td>\n",
       "      <td>0.078373</td>\n",
       "      <td>6.913746</td>\n",
       "      <td>7.225934</td>\n",
       "      <td>6.058078</td>\n",
       "      <td>8.081603</td>\n",
       "    </tr>\n",
       "    <tr>\n",
       "      <td>81</td>\n",
       "      <td>-0.937694</td>\n",
       "      <td>0.248427</td>\n",
       "      <td>-1.432480</td>\n",
       "      <td>-0.442908</td>\n",
       "      <td>-2.053091</td>\n",
       "      <td>0.177703</td>\n",
       "    </tr>\n",
       "    <tr>\n",
       "      <td>61</td>\n",
       "      <td>6.696794</td>\n",
       "      <td>0.069562</td>\n",
       "      <td>6.558249</td>\n",
       "      <td>6.835338</td>\n",
       "      <td>5.687590</td>\n",
       "      <td>7.705998</td>\n",
       "    </tr>\n",
       "    <tr>\n",
       "      <td>98</td>\n",
       "      <td>-2.102626</td>\n",
       "      <td>0.152984</td>\n",
       "      <td>-2.407320</td>\n",
       "      <td>-1.797932</td>\n",
       "      <td>-3.147679</td>\n",
       "      <td>-1.057573</td>\n",
       "    </tr>\n",
       "    <tr>\n",
       "      <td>68</td>\n",
       "      <td>2.527345</td>\n",
       "      <td>0.098231</td>\n",
       "      <td>2.331700</td>\n",
       "      <td>2.722989</td>\n",
       "      <td>1.508731</td>\n",
       "      <td>3.545959</td>\n",
       "    </tr>\n",
       "    <tr>\n",
       "      <td>85</td>\n",
       "      <td>5.654142</td>\n",
       "      <td>0.105721</td>\n",
       "      <td>5.443581</td>\n",
       "      <td>5.864703</td>\n",
       "      <td>4.632558</td>\n",
       "      <td>6.675726</td>\n",
       "    </tr>\n",
       "    <tr>\n",
       "      <td>27</td>\n",
       "      <td>1.692251</td>\n",
       "      <td>0.132312</td>\n",
       "      <td>1.428729</td>\n",
       "      <td>1.955773</td>\n",
       "      <td>0.658451</td>\n",
       "      <td>2.726051</td>\n",
       "    </tr>\n",
       "    <tr>\n",
       "      <td>39</td>\n",
       "      <td>9.822350</td>\n",
       "      <td>0.176392</td>\n",
       "      <td>9.471035</td>\n",
       "      <td>10.173666</td>\n",
       "      <td>8.762765</td>\n",
       "      <td>10.881936</td>\n",
       "    </tr>\n",
       "    <tr>\n",
       "      <td>42</td>\n",
       "      <td>6.567602</td>\n",
       "      <td>0.077212</td>\n",
       "      <td>6.413820</td>\n",
       "      <td>6.721384</td>\n",
       "      <td>5.556194</td>\n",
       "      <td>7.579011</td>\n",
       "    </tr>\n",
       "    <tr>\n",
       "      <td>33</td>\n",
       "      <td>1.928043</td>\n",
       "      <td>0.159864</td>\n",
       "      <td>1.609646</td>\n",
       "      <td>2.246439</td>\n",
       "      <td>0.878912</td>\n",
       "      <td>2.977173</td>\n",
       "    </tr>\n",
       "    <tr>\n",
       "      <td>59</td>\n",
       "      <td>5.232185</td>\n",
       "      <td>0.124169</td>\n",
       "      <td>4.984881</td>\n",
       "      <td>5.479489</td>\n",
       "      <td>4.202400</td>\n",
       "      <td>6.261970</td>\n",
       "    </tr>\n",
       "    <tr>\n",
       "      <td>63</td>\n",
       "      <td>8.653403</td>\n",
       "      <td>0.089615</td>\n",
       "      <td>8.474919</td>\n",
       "      <td>8.831887</td>\n",
       "      <td>7.637946</td>\n",
       "      <td>9.668861</td>\n",
       "    </tr>\n",
       "    <tr>\n",
       "      <td>94</td>\n",
       "      <td>5.008815</td>\n",
       "      <td>0.102508</td>\n",
       "      <td>4.804652</td>\n",
       "      <td>5.212979</td>\n",
       "      <td>3.988531</td>\n",
       "      <td>6.029100</td>\n",
       "    </tr>\n",
       "    <tr>\n",
       "      <td>56</td>\n",
       "      <td>6.620892</td>\n",
       "      <td>0.139684</td>\n",
       "      <td>6.342687</td>\n",
       "      <td>6.899097</td>\n",
       "      <td>5.583252</td>\n",
       "      <td>7.658532</td>\n",
       "    </tr>\n",
       "    <tr>\n",
       "      <td>87</td>\n",
       "      <td>13.215581</td>\n",
       "      <td>0.138712</td>\n",
       "      <td>12.939311</td>\n",
       "      <td>13.491850</td>\n",
       "      <td>12.178458</td>\n",
       "      <td>14.252703</td>\n",
       "    </tr>\n",
       "    <tr>\n",
       "      <td>96</td>\n",
       "      <td>4.479048</td>\n",
       "      <td>0.064518</td>\n",
       "      <td>4.350550</td>\n",
       "      <td>4.607546</td>\n",
       "      <td>3.471174</td>\n",
       "      <td>5.486921</td>\n",
       "    </tr>\n",
       "    <tr>\n",
       "      <td>1</td>\n",
       "      <td>-0.020116</td>\n",
       "      <td>0.121731</td>\n",
       "      <td>-0.262565</td>\n",
       "      <td>0.222333</td>\n",
       "      <td>-1.048746</td>\n",
       "      <td>1.008513</td>\n",
       "    </tr>\n",
       "    <tr>\n",
       "      <td>71</td>\n",
       "      <td>4.877364</td>\n",
       "      <td>0.082577</td>\n",
       "      <td>4.712898</td>\n",
       "      <td>5.041831</td>\n",
       "      <td>3.864277</td>\n",
       "      <td>5.890452</td>\n",
       "    </tr>\n",
       "    <tr>\n",
       "      <td>82</td>\n",
       "      <td>-0.017297</td>\n",
       "      <td>0.186470</td>\n",
       "      <td>-0.388685</td>\n",
       "      <td>0.354091</td>\n",
       "      <td>-1.083705</td>\n",
       "      <td>1.049112</td>\n",
       "    </tr>\n",
       "  </tbody>\n",
       "</table>\n",
       "</div>"
      ],
      "text/plain": [
       "         mean   mean_se  mean_ci_lower  mean_ci_upper  obs_ci_lower  \\\n",
       "40   3.126650  0.085149       2.957061       3.296239      2.112718   \n",
       "35   7.069840  0.078373       6.913746       7.225934      6.058078   \n",
       "81  -0.937694  0.248427      -1.432480      -0.442908     -2.053091   \n",
       "61   6.696794  0.069562       6.558249       6.835338      5.687590   \n",
       "98  -2.102626  0.152984      -2.407320      -1.797932     -3.147679   \n",
       "68   2.527345  0.098231       2.331700       2.722989      1.508731   \n",
       "85   5.654142  0.105721       5.443581       5.864703      4.632558   \n",
       "27   1.692251  0.132312       1.428729       1.955773      0.658451   \n",
       "39   9.822350  0.176392       9.471035      10.173666      8.762765   \n",
       "42   6.567602  0.077212       6.413820       6.721384      5.556194   \n",
       "33   1.928043  0.159864       1.609646       2.246439      0.878912   \n",
       "59   5.232185  0.124169       4.984881       5.479489      4.202400   \n",
       "63   8.653403  0.089615       8.474919       8.831887      7.637946   \n",
       "94   5.008815  0.102508       4.804652       5.212979      3.988531   \n",
       "56   6.620892  0.139684       6.342687       6.899097      5.583252   \n",
       "87  13.215581  0.138712      12.939311      13.491850     12.178458   \n",
       "96   4.479048  0.064518       4.350550       4.607546      3.471174   \n",
       "1   -0.020116  0.121731      -0.262565       0.222333     -1.048746   \n",
       "71   4.877364  0.082577       4.712898       5.041831      3.864277   \n",
       "82  -0.017297  0.186470      -0.388685       0.354091     -1.083705   \n",
       "\n",
       "    obs_ci_upper  \n",
       "40      4.140582  \n",
       "35      8.081603  \n",
       "81      0.177703  \n",
       "61      7.705998  \n",
       "98     -1.057573  \n",
       "68      3.545959  \n",
       "85      6.675726  \n",
       "27      2.726051  \n",
       "39     10.881936  \n",
       "42      7.579011  \n",
       "33      2.977173  \n",
       "59      6.261970  \n",
       "63      9.668861  \n",
       "94      6.029100  \n",
       "56      7.658532  \n",
       "87     14.252703  \n",
       "96      5.486921  \n",
       "1       1.008513  \n",
       "71      5.890452  \n",
       "82      1.049112  "
      ]
     },
     "execution_count": 47,
     "metadata": {},
     "output_type": "execute_result"
    }
   ],
   "source": [
    "# 신뢰구간, 예측구간\n",
    "pred = model.get_prediction(X_const_test)\n",
    "pred.summary_frame(alpha=0.05)"
   ]
  },
  {
   "cell_type": "code",
   "execution_count": 48,
   "id": "79d84152",
   "metadata": {},
   "outputs": [
    {
     "data": {
      "text/plain": [
       "(0.14070664793426885, 0.29280345286321896, 0.989423116757431)"
      ]
     },
     "execution_count": 48,
     "metadata": {},
     "output_type": "execute_result"
    }
   ],
   "source": [
    "# 평가\n",
    "from sklearn.metrics import mean_squared_error, mean_absolute_error, r2_score\n",
    "\n",
    "mse = mean_squared_error(y_test, y_pred)\n",
    "mae = mean_absolute_error(y_test, y_pred)\n",
    "r2 = r2_score(y_test, y_pred)\n",
    "\n",
    "mse, mae, r2"
   ]
  },
  {
   "cell_type": "code",
   "execution_count": 49,
   "id": "c297ffe1",
   "metadata": {},
   "outputs": [
    {
     "name": "stdout",
     "output_type": "stream",
     "text": [
      "AIC : 120.63454906181968\n",
      "BIC : 130.16265560051522\n"
     ]
    }
   ],
   "source": [
    "print(\"AIC :\", model.aic)\n",
    "print(\"BIC :\", model.bic)"
   ]
  },
  {
   "cell_type": "code",
   "execution_count": 50,
   "id": "7a693c49",
   "metadata": {},
   "outputs": [
    {
     "data": {
      "text/plain": [
       "121.16788239515301"
      ]
     },
     "execution_count": 50,
     "metadata": {},
     "output_type": "execute_result"
    }
   ],
   "source": [
    "n = model.nobs        # 관측치 수\n",
    "k = model.df_model + 1  # 변수 수 (상수항 포함)\n",
    "aic = model.aic\n",
    "aicc = aic + (2 * k * (k + 1)) / (n - k - 1)\n",
    "aicc"
   ]
  },
  {
   "cell_type": "code",
   "execution_count": 51,
   "id": "9790199c",
   "metadata": {},
   "outputs": [],
   "source": [
    "#####################################################################################################################"
   ]
  },
  {
   "cell_type": "code",
   "execution_count": 52,
   "id": "64482be2",
   "metadata": {},
   "outputs": [
    {
     "data": {
      "text/html": [
       "<div>\n",
       "<style scoped>\n",
       "    .dataframe tbody tr th:only-of-type {\n",
       "        vertical-align: middle;\n",
       "    }\n",
       "\n",
       "    .dataframe tbody tr th {\n",
       "        vertical-align: top;\n",
       "    }\n",
       "\n",
       "    .dataframe thead th {\n",
       "        text-align: right;\n",
       "    }\n",
       "</style>\n",
       "<table border=\"1\" class=\"dataframe\">\n",
       "  <thead>\n",
       "    <tr style=\"text-align: right;\">\n",
       "      <th></th>\n",
       "      <th>X1</th>\n",
       "      <th>X2</th>\n",
       "      <th>X3</th>\n",
       "      <th>y</th>\n",
       "    </tr>\n",
       "  </thead>\n",
       "  <tbody>\n",
       "    <tr>\n",
       "      <td>9</td>\n",
       "      <td>-2.242685</td>\n",
       "      <td>-1.281108</td>\n",
       "      <td>0.787965</td>\n",
       "      <td>3.924334</td>\n",
       "    </tr>\n",
       "    <tr>\n",
       "      <td>51</td>\n",
       "      <td>-1.445810</td>\n",
       "      <td>0.796595</td>\n",
       "      <td>-1.712274</td>\n",
       "      <td>-3.474049</td>\n",
       "    </tr>\n",
       "    <tr>\n",
       "      <td>29</td>\n",
       "      <td>1.058969</td>\n",
       "      <td>0.678630</td>\n",
       "      <td>0.247112</td>\n",
       "      <td>6.629826</td>\n",
       "    </tr>\n",
       "    <tr>\n",
       "      <td>88</td>\n",
       "      <td>0.270836</td>\n",
       "      <td>-0.414505</td>\n",
       "      <td>-0.354509</td>\n",
       "      <td>4.721972</td>\n",
       "    </tr>\n",
       "    <tr>\n",
       "      <td>75</td>\n",
       "      <td>2.007843</td>\n",
       "      <td>-0.223019</td>\n",
       "      <td>0.983513</td>\n",
       "      <td>11.438556</td>\n",
       "    </tr>\n",
       "    <tr>\n",
       "      <td>...</td>\n",
       "      <td>...</td>\n",
       "      <td>...</td>\n",
       "      <td>...</td>\n",
       "      <td>...</td>\n",
       "    </tr>\n",
       "    <tr>\n",
       "      <td>76</td>\n",
       "      <td>0.226963</td>\n",
       "      <td>2.123692</td>\n",
       "      <td>0.023505</td>\n",
       "      <td>3.235071</td>\n",
       "    </tr>\n",
       "    <tr>\n",
       "      <td>53</td>\n",
       "      <td>-0.100918</td>\n",
       "      <td>-0.056696</td>\n",
       "      <td>0.126781</td>\n",
       "      <td>5.034431</td>\n",
       "    </tr>\n",
       "    <tr>\n",
       "      <td>38</td>\n",
       "      <td>0.841675</td>\n",
       "      <td>-1.735349</td>\n",
       "      <td>0.399325</td>\n",
       "      <td>10.550047</td>\n",
       "    </tr>\n",
       "    <tr>\n",
       "      <td>83</td>\n",
       "      <td>0.152631</td>\n",
       "      <td>-0.014752</td>\n",
       "      <td>1.541030</td>\n",
       "      <td>9.783804</td>\n",
       "    </tr>\n",
       "    <tr>\n",
       "      <td>47</td>\n",
       "      <td>0.018289</td>\n",
       "      <td>0.984188</td>\n",
       "      <td>0.391371</td>\n",
       "      <td>4.941961</td>\n",
       "    </tr>\n",
       "  </tbody>\n",
       "</table>\n",
       "<p>80 rows × 4 columns</p>\n",
       "</div>"
      ],
      "text/plain": [
       "          X1        X2        X3          y\n",
       "9  -2.242685 -1.281108  0.787965   3.924334\n",
       "51 -1.445810  0.796595 -1.712274  -3.474049\n",
       "29  1.058969  0.678630  0.247112   6.629826\n",
       "88  0.270836 -0.414505 -0.354509   4.721972\n",
       "75  2.007843 -0.223019  0.983513  11.438556\n",
       "..       ...       ...       ...        ...\n",
       "76  0.226963  2.123692  0.023505   3.235071\n",
       "53 -0.100918 -0.056696  0.126781   5.034431\n",
       "38  0.841675 -1.735349  0.399325  10.550047\n",
       "83  0.152631 -0.014752  1.541030   9.783804\n",
       "47  0.018289  0.984188  0.391371   4.941961\n",
       "\n",
       "[80 rows x 4 columns]"
      ]
     },
     "execution_count": 52,
     "metadata": {},
     "output_type": "execute_result"
    }
   ],
   "source": [
    "df_ols = X_train.copy()\n",
    "df_ols['y'] = y_train\n",
    "df_ols"
   ]
  },
  {
   "cell_type": "code",
   "execution_count": 53,
   "id": "a9612bc1",
   "metadata": {},
   "outputs": [
    {
     "data": {
      "text/html": [
       "<table class=\"simpletable\">\n",
       "<caption>OLS Regression Results</caption>\n",
       "<tr>\n",
       "  <th>Dep. Variable:</th>            <td>y</td>        <th>  R-squared:         </th> <td>   0.978</td>\n",
       "</tr>\n",
       "<tr>\n",
       "  <th>Model:</th>                   <td>OLS</td>       <th>  Adj. R-squared:    </th> <td>   0.977</td>\n",
       "</tr>\n",
       "<tr>\n",
       "  <th>Method:</th>             <td>Least Squares</td>  <th>  F-statistic:       </th> <td>   1109.</td>\n",
       "</tr>\n",
       "<tr>\n",
       "  <th>Date:</th>             <td>Wed, 04 Jun 2025</td> <th>  Prob (F-statistic):</th> <td>1.26e-62</td>\n",
       "</tr>\n",
       "<tr>\n",
       "  <th>Time:</th>                 <td>21:43:01</td>     <th>  Log-Likelihood:    </th> <td> -56.317</td>\n",
       "</tr>\n",
       "<tr>\n",
       "  <th>No. Observations:</th>      <td>    80</td>      <th>  AIC:               </th> <td>   120.6</td>\n",
       "</tr>\n",
       "<tr>\n",
       "  <th>Df Residuals:</th>          <td>    76</td>      <th>  BIC:               </th> <td>   130.2</td>\n",
       "</tr>\n",
       "<tr>\n",
       "  <th>Df Model:</th>              <td>     3</td>      <th>                     </th>     <td> </td>   \n",
       "</tr>\n",
       "<tr>\n",
       "  <th>Covariance Type:</th>      <td>nonrobust</td>    <th>                     </th>     <td> </td>   \n",
       "</tr>\n",
       "</table>\n",
       "<table class=\"simpletable\">\n",
       "<tr>\n",
       "      <td></td>         <th>coef</th>     <th>std err</th>      <th>t</th>      <th>P>|t|</th>  <th>[0.025</th>    <th>0.975]</th>  \n",
       "</tr>\n",
       "<tr>\n",
       "  <th>Intercept</th> <td>    5.0523</td> <td>    0.058</td> <td>   86.414</td> <td> 0.000</td> <td>    4.936</td> <td>    5.169</td>\n",
       "</tr>\n",
       "<tr>\n",
       "  <th>X1</th>        <td>    1.9673</td> <td>    0.062</td> <td>   31.827</td> <td> 0.000</td> <td>    1.844</td> <td>    2.090</td>\n",
       "</tr>\n",
       "<tr>\n",
       "  <th>X2</th>        <td>   -1.5795</td> <td>    0.059</td> <td>  -26.839</td> <td> 0.000</td> <td>   -1.697</td> <td>   -1.462</td>\n",
       "</tr>\n",
       "<tr>\n",
       "  <th>X3</th>        <td>    2.9591</td> <td>    0.062</td> <td>   47.842</td> <td> 0.000</td> <td>    2.836</td> <td>    3.082</td>\n",
       "</tr>\n",
       "</table>\n",
       "<table class=\"simpletable\">\n",
       "<tr>\n",
       "  <th>Omnibus:</th>       <td> 1.493</td> <th>  Durbin-Watson:     </th> <td>   2.281</td>\n",
       "</tr>\n",
       "<tr>\n",
       "  <th>Prob(Omnibus):</th> <td> 0.474</td> <th>  Jarque-Bera (JB):  </th> <td>   1.478</td>\n",
       "</tr>\n",
       "<tr>\n",
       "  <th>Skew:</th>          <td> 0.314</td> <th>  Prob(JB):          </th> <td>   0.478</td>\n",
       "</tr>\n",
       "<tr>\n",
       "  <th>Kurtosis:</th>      <td> 2.780</td> <th>  Cond. No.          </th> <td>    1.42</td>\n",
       "</tr>\n",
       "</table><br/><br/>Warnings:<br/>[1] Standard Errors assume that the covariance matrix of the errors is correctly specified."
      ],
      "text/plain": [
       "<class 'statsmodels.iolib.summary.Summary'>\n",
       "\"\"\"\n",
       "                            OLS Regression Results                            \n",
       "==============================================================================\n",
       "Dep. Variable:                      y   R-squared:                       0.978\n",
       "Model:                            OLS   Adj. R-squared:                  0.977\n",
       "Method:                 Least Squares   F-statistic:                     1109.\n",
       "Date:                Wed, 04 Jun 2025   Prob (F-statistic):           1.26e-62\n",
       "Time:                        21:43:01   Log-Likelihood:                -56.317\n",
       "No. Observations:                  80   AIC:                             120.6\n",
       "Df Residuals:                      76   BIC:                             130.2\n",
       "Df Model:                           3                                         \n",
       "Covariance Type:            nonrobust                                         \n",
       "==============================================================================\n",
       "                 coef    std err          t      P>|t|      [0.025      0.975]\n",
       "------------------------------------------------------------------------------\n",
       "Intercept      5.0523      0.058     86.414      0.000       4.936       5.169\n",
       "X1             1.9673      0.062     31.827      0.000       1.844       2.090\n",
       "X2            -1.5795      0.059    -26.839      0.000      -1.697      -1.462\n",
       "X3             2.9591      0.062     47.842      0.000       2.836       3.082\n",
       "==============================================================================\n",
       "Omnibus:                        1.493   Durbin-Watson:                   2.281\n",
       "Prob(Omnibus):                  0.474   Jarque-Bera (JB):                1.478\n",
       "Skew:                           0.314   Prob(JB):                        0.478\n",
       "Kurtosis:                       2.780   Cond. No.                         1.42\n",
       "==============================================================================\n",
       "\n",
       "Warnings:\n",
       "[1] Standard Errors assume that the covariance matrix of the errors is correctly specified.\n",
       "\"\"\""
      ]
     },
     "execution_count": 53,
     "metadata": {},
     "output_type": "execute_result"
    }
   ],
   "source": [
    "from statsmodels.formula.api import ols\n",
    "\n",
    "# 절편 제외 y ~ X1 + X2 + X3 + 0 or -1 \n",
    "model = ols('y ~ X1 + X2 + X3', df_ols).fit()\n",
    "model.summary()"
   ]
  },
  {
   "cell_type": "code",
   "execution_count": 54,
   "id": "2ea190ef",
   "metadata": {},
   "outputs": [
    {
     "data": {
      "text/plain": [
       "Intercept    5.052337\n",
       "X1           1.967296\n",
       "X2          -1.579514\n",
       "X3           2.959071\n",
       "dtype: float64"
      ]
     },
     "execution_count": 54,
     "metadata": {},
     "output_type": "execute_result"
    }
   ],
   "source": [
    "model.params"
   ]
  },
  {
   "cell_type": "code",
   "execution_count": 55,
   "id": "c4247530",
   "metadata": {},
   "outputs": [
    {
     "data": {
      "text/plain": [
       "Intercept    1.218428e-77\n",
       "X1           1.095671e-45\n",
       "X2           1.624641e-40\n",
       "X3           1.712198e-58\n",
       "dtype: float64"
      ]
     },
     "execution_count": 55,
     "metadata": {},
     "output_type": "execute_result"
    }
   ],
   "source": [
    "model.pvalues"
   ]
  },
  {
   "cell_type": "code",
   "execution_count": 59,
   "id": "4901bc34",
   "metadata": {},
   "outputs": [
    {
     "data": {
      "text/plain": [
       "40     3.126650\n",
       "35     7.069840\n",
       "81    -0.937694\n",
       "61     6.696794\n",
       "98    -2.102626\n",
       "68     2.527345\n",
       "85     5.654142\n",
       "27     1.692251\n",
       "39     9.822350\n",
       "42     6.567602\n",
       "33     1.928043\n",
       "59     5.232185\n",
       "63     8.653403\n",
       "94     5.008815\n",
       "56     6.620892\n",
       "87    13.215581\n",
       "96     4.479048\n",
       "1     -0.020116\n",
       "71     4.877364\n",
       "82    -0.017297\n",
       "dtype: float64"
      ]
     },
     "execution_count": 59,
     "metadata": {},
     "output_type": "execute_result"
    }
   ],
   "source": [
    "# 예측\n",
    "# X_const_test = sm.add_constant(X_test) # 평가 세트 절편 포함\n",
    "y_pred = model.predict(X_test)\n",
    "y_pred"
   ]
  },
  {
   "cell_type": "code",
   "execution_count": 57,
   "id": "451cb067",
   "metadata": {},
   "outputs": [
    {
     "data": {
      "text/plain": [
       "(0.14070664793426885, 0.2928034528632189, 0.989423116757431)"
      ]
     },
     "execution_count": 57,
     "metadata": {},
     "output_type": "execute_result"
    }
   ],
   "source": [
    "# 평가\n",
    "from sklearn.metrics import mean_squared_error, mean_absolute_error, r2_score\n",
    "\n",
    "mse = mean_squared_error(y_test, y_pred)\n",
    "mae = mean_absolute_error(y_test, y_pred)\n",
    "r2 = r2_score(y_test, y_pred)\n",
    "\n",
    "mse, mae, r2"
   ]
  },
  {
   "cell_type": "code",
   "execution_count": null,
   "id": "76ea7c53",
   "metadata": {},
   "outputs": [],
   "source": []
  },
  {
   "cell_type": "code",
   "execution_count": null,
   "id": "0d0fd421",
   "metadata": {},
   "outputs": [],
   "source": []
  }
 ],
 "metadata": {
  "kernelspec": {
   "display_name": "Python 3 (ipykernel)",
   "language": "python",
   "name": "python3"
  },
  "language_info": {
   "codemirror_mode": {
    "name": "ipython",
    "version": 3
   },
   "file_extension": ".py",
   "mimetype": "text/x-python",
   "name": "python",
   "nbconvert_exporter": "python",
   "pygments_lexer": "ipython3",
   "version": "3.7.4"
  }
 },
 "nbformat": 4,
 "nbformat_minor": 5
}
