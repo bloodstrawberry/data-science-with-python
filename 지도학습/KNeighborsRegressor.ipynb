{
 "cells": [
  {
   "cell_type": "code",
   "execution_count": 7,
   "id": "fdb92b11",
   "metadata": {},
   "outputs": [
    {
     "data": {
      "text/html": [
       "<div>\n",
       "<style scoped>\n",
       "    .dataframe tbody tr th:only-of-type {\n",
       "        vertical-align: middle;\n",
       "    }\n",
       "\n",
       "    .dataframe tbody tr th {\n",
       "        vertical-align: top;\n",
       "    }\n",
       "\n",
       "    .dataframe thead th {\n",
       "        text-align: right;\n",
       "    }\n",
       "</style>\n",
       "<table border=\"1\" class=\"dataframe\">\n",
       "  <thead>\n",
       "    <tr style=\"text-align: right;\">\n",
       "      <th></th>\n",
       "      <th>A</th>\n",
       "      <th>B</th>\n",
       "      <th>C</th>\n",
       "    </tr>\n",
       "  </thead>\n",
       "  <tbody>\n",
       "    <tr>\n",
       "      <td>0</td>\n",
       "      <td>1.915195</td>\n",
       "      <td>7.671166</td>\n",
       "      <td>27.472664</td>\n",
       "    </tr>\n",
       "    <tr>\n",
       "      <td>1</td>\n",
       "      <td>6.221088</td>\n",
       "      <td>7.081154</td>\n",
       "      <td>33.872131</td>\n",
       "    </tr>\n",
       "    <tr>\n",
       "      <td>2</td>\n",
       "      <td>4.377277</td>\n",
       "      <td>7.968672</td>\n",
       "      <td>33.613049</td>\n",
       "    </tr>\n",
       "    <tr>\n",
       "      <td>3</td>\n",
       "      <td>7.853586</td>\n",
       "      <td>5.577608</td>\n",
       "      <td>33.428134</td>\n",
       "    </tr>\n",
       "    <tr>\n",
       "      <td>4</td>\n",
       "      <td>7.799758</td>\n",
       "      <td>9.658365</td>\n",
       "      <td>44.502004</td>\n",
       "    </tr>\n",
       "  </tbody>\n",
       "</table>\n",
       "</div>"
      ],
      "text/plain": [
       "          A         B          C\n",
       "0  1.915195  7.671166  27.472664\n",
       "1  6.221088  7.081154  33.872131\n",
       "2  4.377277  7.968672  33.613049\n",
       "3  7.853586  5.577608  33.428134\n",
       "4  7.799758  9.658365  44.502004"
      ]
     },
     "execution_count": 7,
     "metadata": {},
     "output_type": "execute_result"
    }
   ],
   "source": [
    "import pandas as pd\n",
    "import numpy as np\n",
    "\n",
    "np.random.seed(1234)\n",
    "\n",
    "df = pd.DataFrame({\n",
    "    'A': np.random.uniform(0, 10, 100),\n",
    "    'B': np.random.uniform(0, 10, 100)\n",
    "})\n",
    "\n",
    "df['C'] = 2 * df['A'] + 3 * df['B'] + np.random.normal(0, 1, 100)\n",
    "\n",
    "df.head()"
   ]
  },
  {
   "cell_type": "code",
   "execution_count": 12,
   "id": "5aeaf1d2",
   "metadata": {},
   "outputs": [],
   "source": [
    "from sklearn.model_selection import train_test_split\n",
    "\n",
    "X = df[['A', 'B']]\n",
    "y = df['C']\n",
    "\n",
    "X_train, X_test, y_train, y_test = train_test_split(X, y, test_size=0.2, random_state=1234)"
   ]
  },
  {
   "cell_type": "code",
   "execution_count": 16,
   "id": "39817268",
   "metadata": {},
   "outputs": [
    {
     "data": {
      "text/plain": [
       "KNeighborsRegressor(algorithm='auto', leaf_size=30, metric='euclidean',\n",
       "                    metric_params=None, n_jobs=None, n_neighbors=10, p=2,\n",
       "                    weights='uniform')"
      ]
     },
     "execution_count": 16,
     "metadata": {},
     "output_type": "execute_result"
    }
   ],
   "source": [
    "from sklearn.neighbors import KNeighborsRegressor\n",
    "\n",
    "# 모델 학습\n",
    "# 최소 이웃의 수 10 = 최소 이웃의 수에 자기 자신을 포함하지 않음\n",
    "model = KNeighborsRegressor(n_neighbors=10, metric='euclidean')\n",
    "model.fit(X_train, y_train)"
   ]
  },
  {
   "cell_type": "code",
   "execution_count": 17,
   "id": "259ad9c2",
   "metadata": {},
   "outputs": [
    {
     "data": {
      "text/plain": [
       "array([10.79253203, 16.92131168, 26.54397577, 33.24421004, 26.9082499 ,\n",
       "       28.20159287, 10.79253203, 36.54647193, 36.37292438, 28.20159287,\n",
       "       11.21412918, 32.95384063, 30.52422351, 15.77933389, 38.29717848,\n",
       "       38.60306682, 29.77685203, 33.24421004, 22.02364442, 42.53199037])"
      ]
     },
     "execution_count": 17,
     "metadata": {},
     "output_type": "execute_result"
    }
   ],
   "source": [
    "# 예측\n",
    "y_pred = model.predict(X_test)\n",
    "y_pred"
   ]
  },
  {
   "cell_type": "code",
   "execution_count": 18,
   "id": "dfece91b",
   "metadata": {},
   "outputs": [
    {
     "data": {
      "text/plain": [
       "(10.812811065220751, 1.964252092770355, 0.9166806115579151)"
      ]
     },
     "execution_count": 18,
     "metadata": {},
     "output_type": "execute_result"
    }
   ],
   "source": [
    "# 평가\n",
    "from sklearn.metrics import mean_squared_error, mean_absolute_error, r2_score\n",
    "\n",
    "mse = mean_squared_error(y_test, y_pred)\n",
    "mae = mean_absolute_error(y_test, y_pred)\n",
    "r2 = r2_score(y_test, y_pred)\n",
    "\n",
    "mse, mae, r2"
   ]
  },
  {
   "cell_type": "code",
   "execution_count": null,
   "id": "1f2b367f",
   "metadata": {},
   "outputs": [],
   "source": []
  }
 ],
 "metadata": {
  "kernelspec": {
   "display_name": "Python 3 (ipykernel)",
   "language": "python",
   "name": "python3"
  },
  "language_info": {
   "codemirror_mode": {
    "name": "ipython",
    "version": 3
   },
   "file_extension": ".py",
   "mimetype": "text/x-python",
   "name": "python",
   "nbconvert_exporter": "python",
   "pygments_lexer": "ipython3",
   "version": "3.7.4"
  }
 },
 "nbformat": 4,
 "nbformat_minor": 5
}
