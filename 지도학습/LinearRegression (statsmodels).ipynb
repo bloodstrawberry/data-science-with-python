{
 "cells": [
  {
   "cell_type": "code",
   "execution_count": 24,
   "id": "e3e27f93",
   "metadata": {},
   "outputs": [
    {
     "data": {
      "text/html": [
       "<div>\n",
       "<style scoped>\n",
       "    .dataframe tbody tr th:only-of-type {\n",
       "        vertical-align: middle;\n",
       "    }\n",
       "\n",
       "    .dataframe tbody tr th {\n",
       "        vertical-align: top;\n",
       "    }\n",
       "\n",
       "    .dataframe thead th {\n",
       "        text-align: right;\n",
       "    }\n",
       "</style>\n",
       "<table border=\"1\" class=\"dataframe\">\n",
       "  <thead>\n",
       "    <tr style=\"text-align: right;\">\n",
       "      <th></th>\n",
       "      <th>X1</th>\n",
       "      <th>X2</th>\n",
       "      <th>X3</th>\n",
       "      <th>Y</th>\n",
       "    </tr>\n",
       "  </thead>\n",
       "  <tbody>\n",
       "    <tr>\n",
       "      <td>0</td>\n",
       "      <td>0.471435</td>\n",
       "      <td>0.291205</td>\n",
       "      <td>-0.319561</td>\n",
       "      <td>4.810901</td>\n",
       "    </tr>\n",
       "    <tr>\n",
       "      <td>1</td>\n",
       "      <td>-1.190976</td>\n",
       "      <td>0.566534</td>\n",
       "      <td>-0.619993</td>\n",
       "      <td>0.263825</td>\n",
       "    </tr>\n",
       "    <tr>\n",
       "      <td>2</td>\n",
       "      <td>1.432707</td>\n",
       "      <td>0.503592</td>\n",
       "      <td>0.156998</td>\n",
       "      <td>7.472249</td>\n",
       "    </tr>\n",
       "    <tr>\n",
       "      <td>3</td>\n",
       "      <td>-0.312652</td>\n",
       "      <td>0.285296</td>\n",
       "      <td>-0.571455</td>\n",
       "      <td>3.551282</td>\n",
       "    </tr>\n",
       "    <tr>\n",
       "      <td>4</td>\n",
       "      <td>-0.720589</td>\n",
       "      <td>0.484288</td>\n",
       "      <td>1.057633</td>\n",
       "      <td>5.134221</td>\n",
       "    </tr>\n",
       "  </tbody>\n",
       "</table>\n",
       "</div>"
      ],
      "text/plain": [
       "         X1        X2        X3         Y\n",
       "0  0.471435  0.291205 -0.319561  4.810901\n",
       "1 -1.190976  0.566534 -0.619993  0.263825\n",
       "2  1.432707  0.503592  0.156998  7.472249\n",
       "3 -0.312652  0.285296 -0.571455  3.551282\n",
       "4 -0.720589  0.484288  1.057633  5.134221"
      ]
     },
     "execution_count": 24,
     "metadata": {},
     "output_type": "execute_result"
    }
   ],
   "source": [
    "import numpy as np\n",
    "import pandas as pd\n",
    "\n",
    "np.random.seed(1234)\n",
    "\n",
    "n_samples = 100\n",
    "\n",
    "x1 = np.random.randn(n_samples)\n",
    "x2 = np.random.randn(n_samples)\n",
    "x3 = np.random.randn(n_samples)\n",
    "\n",
    "# 임의의 계수\n",
    "a, b, c, d = 2.0, -1.5, 3.0, 5.0\n",
    "\n",
    "# 종속 변수 생성 + noise\n",
    "noise = np.random.randn(n_samples) * 0.5\n",
    "y0 = a * x1 + b * x2 + c * x3 + d + noise\n",
    "\n",
    "df = pd.DataFrame({'X1': x1, 'X2': x2, 'X3': x3, 'Y': y0})\n",
    "df.head()"
   ]
  },
  {
   "cell_type": "code",
   "execution_count": 25,
   "id": "e5cbc749",
   "metadata": {},
   "outputs": [],
   "source": [
    "from sklearn.model_selection import train_test_split\n",
    "\n",
    "X = df[['X1', 'X2', 'X3']]\n",
    "y = df['Y']\n",
    "\n",
    "X_train, X_test, y_train, y_test = train_test_split(X, y, test_size=0.2, random_state=1234)"
   ]
  },
  {
   "cell_type": "code",
   "execution_count": 26,
   "id": "63a7cecf",
   "metadata": {},
   "outputs": [
    {
     "data": {
      "text/html": [
       "<div>\n",
       "<style scoped>\n",
       "    .dataframe tbody tr th:only-of-type {\n",
       "        vertical-align: middle;\n",
       "    }\n",
       "\n",
       "    .dataframe tbody tr th {\n",
       "        vertical-align: top;\n",
       "    }\n",
       "\n",
       "    .dataframe thead th {\n",
       "        text-align: right;\n",
       "    }\n",
       "</style>\n",
       "<table border=\"1\" class=\"dataframe\">\n",
       "  <thead>\n",
       "    <tr style=\"text-align: right;\">\n",
       "      <th></th>\n",
       "      <th>const</th>\n",
       "      <th>X1</th>\n",
       "      <th>X2</th>\n",
       "      <th>X3</th>\n",
       "    </tr>\n",
       "  </thead>\n",
       "  <tbody>\n",
       "    <tr>\n",
       "      <td>9</td>\n",
       "      <td>1.0</td>\n",
       "      <td>-2.242685</td>\n",
       "      <td>-1.281108</td>\n",
       "      <td>0.787965</td>\n",
       "    </tr>\n",
       "    <tr>\n",
       "      <td>51</td>\n",
       "      <td>1.0</td>\n",
       "      <td>-1.445810</td>\n",
       "      <td>0.796595</td>\n",
       "      <td>-1.712274</td>\n",
       "    </tr>\n",
       "    <tr>\n",
       "      <td>29</td>\n",
       "      <td>1.0</td>\n",
       "      <td>1.058969</td>\n",
       "      <td>0.678630</td>\n",
       "      <td>0.247112</td>\n",
       "    </tr>\n",
       "    <tr>\n",
       "      <td>88</td>\n",
       "      <td>1.0</td>\n",
       "      <td>0.270836</td>\n",
       "      <td>-0.414505</td>\n",
       "      <td>-0.354509</td>\n",
       "    </tr>\n",
       "    <tr>\n",
       "      <td>75</td>\n",
       "      <td>1.0</td>\n",
       "      <td>2.007843</td>\n",
       "      <td>-0.223019</td>\n",
       "      <td>0.983513</td>\n",
       "    </tr>\n",
       "  </tbody>\n",
       "</table>\n",
       "</div>"
      ],
      "text/plain": [
       "    const        X1        X2        X3\n",
       "9     1.0 -2.242685 -1.281108  0.787965\n",
       "51    1.0 -1.445810  0.796595 -1.712274\n",
       "29    1.0  1.058969  0.678630  0.247112\n",
       "88    1.0  0.270836 -0.414505 -0.354509\n",
       "75    1.0  2.007843 -0.223019  0.983513"
      ]
     },
     "execution_count": 26,
     "metadata": {},
     "output_type": "execute_result"
    }
   ],
   "source": [
    "import statsmodels.api as sm\n",
    "\n",
    "# 절편 포함\n",
    "X_const = sm.add_constant(X_train)\n",
    "X_const.head()"
   ]
  },
  {
   "cell_type": "code",
   "execution_count": 27,
   "id": "32bdbffe",
   "metadata": {},
   "outputs": [
    {
     "data": {
      "text/html": [
       "<table class=\"simpletable\">\n",
       "<caption>OLS Regression Results</caption>\n",
       "<tr>\n",
       "  <th>Dep. Variable:</th>            <td>Y</td>        <th>  R-squared:         </th> <td>   0.978</td>\n",
       "</tr>\n",
       "<tr>\n",
       "  <th>Model:</th>                   <td>OLS</td>       <th>  Adj. R-squared:    </th> <td>   0.977</td>\n",
       "</tr>\n",
       "<tr>\n",
       "  <th>Method:</th>             <td>Least Squares</td>  <th>  F-statistic:       </th> <td>   1109.</td>\n",
       "</tr>\n",
       "<tr>\n",
       "  <th>Date:</th>             <td>Fri, 23 May 2025</td> <th>  Prob (F-statistic):</th> <td>1.26e-62</td>\n",
       "</tr>\n",
       "<tr>\n",
       "  <th>Time:</th>                 <td>23:13:54</td>     <th>  Log-Likelihood:    </th> <td> -56.317</td>\n",
       "</tr>\n",
       "<tr>\n",
       "  <th>No. Observations:</th>      <td>    80</td>      <th>  AIC:               </th> <td>   120.6</td>\n",
       "</tr>\n",
       "<tr>\n",
       "  <th>Df Residuals:</th>          <td>    76</td>      <th>  BIC:               </th> <td>   130.2</td>\n",
       "</tr>\n",
       "<tr>\n",
       "  <th>Df Model:</th>              <td>     3</td>      <th>                     </th>     <td> </td>   \n",
       "</tr>\n",
       "<tr>\n",
       "  <th>Covariance Type:</th>      <td>nonrobust</td>    <th>                     </th>     <td> </td>   \n",
       "</tr>\n",
       "</table>\n",
       "<table class=\"simpletable\">\n",
       "<tr>\n",
       "    <td></td>       <th>coef</th>     <th>std err</th>      <th>t</th>      <th>P>|t|</th>  <th>[0.025</th>    <th>0.975]</th>  \n",
       "</tr>\n",
       "<tr>\n",
       "  <th>const</th> <td>    5.0523</td> <td>    0.058</td> <td>   86.414</td> <td> 0.000</td> <td>    4.936</td> <td>    5.169</td>\n",
       "</tr>\n",
       "<tr>\n",
       "  <th>X1</th>    <td>    1.9673</td> <td>    0.062</td> <td>   31.827</td> <td> 0.000</td> <td>    1.844</td> <td>    2.090</td>\n",
       "</tr>\n",
       "<tr>\n",
       "  <th>X2</th>    <td>   -1.5795</td> <td>    0.059</td> <td>  -26.839</td> <td> 0.000</td> <td>   -1.697</td> <td>   -1.462</td>\n",
       "</tr>\n",
       "<tr>\n",
       "  <th>X3</th>    <td>    2.9591</td> <td>    0.062</td> <td>   47.842</td> <td> 0.000</td> <td>    2.836</td> <td>    3.082</td>\n",
       "</tr>\n",
       "</table>\n",
       "<table class=\"simpletable\">\n",
       "<tr>\n",
       "  <th>Omnibus:</th>       <td> 1.493</td> <th>  Durbin-Watson:     </th> <td>   2.281</td>\n",
       "</tr>\n",
       "<tr>\n",
       "  <th>Prob(Omnibus):</th> <td> 0.474</td> <th>  Jarque-Bera (JB):  </th> <td>   1.478</td>\n",
       "</tr>\n",
       "<tr>\n",
       "  <th>Skew:</th>          <td> 0.314</td> <th>  Prob(JB):          </th> <td>   0.478</td>\n",
       "</tr>\n",
       "<tr>\n",
       "  <th>Kurtosis:</th>      <td> 2.780</td> <th>  Cond. No.          </th> <td>    1.42</td>\n",
       "</tr>\n",
       "</table><br/><br/>Warnings:<br/>[1] Standard Errors assume that the covariance matrix of the errors is correctly specified."
      ],
      "text/plain": [
       "<class 'statsmodels.iolib.summary.Summary'>\n",
       "\"\"\"\n",
       "                            OLS Regression Results                            \n",
       "==============================================================================\n",
       "Dep. Variable:                      Y   R-squared:                       0.978\n",
       "Model:                            OLS   Adj. R-squared:                  0.977\n",
       "Method:                 Least Squares   F-statistic:                     1109.\n",
       "Date:                Fri, 23 May 2025   Prob (F-statistic):           1.26e-62\n",
       "Time:                        23:13:54   Log-Likelihood:                -56.317\n",
       "No. Observations:                  80   AIC:                             120.6\n",
       "Df Residuals:                      76   BIC:                             130.2\n",
       "Df Model:                           3                                         \n",
       "Covariance Type:            nonrobust                                         \n",
       "==============================================================================\n",
       "                 coef    std err          t      P>|t|      [0.025      0.975]\n",
       "------------------------------------------------------------------------------\n",
       "const          5.0523      0.058     86.414      0.000       4.936       5.169\n",
       "X1             1.9673      0.062     31.827      0.000       1.844       2.090\n",
       "X2            -1.5795      0.059    -26.839      0.000      -1.697      -1.462\n",
       "X3             2.9591      0.062     47.842      0.000       2.836       3.082\n",
       "==============================================================================\n",
       "Omnibus:                        1.493   Durbin-Watson:                   2.281\n",
       "Prob(Omnibus):                  0.474   Jarque-Bera (JB):                1.478\n",
       "Skew:                           0.314   Prob(JB):                        0.478\n",
       "Kurtosis:                       2.780   Cond. No.                         1.42\n",
       "==============================================================================\n",
       "\n",
       "Warnings:\n",
       "[1] Standard Errors assume that the covariance matrix of the errors is correctly specified.\n",
       "\"\"\""
      ]
     },
     "execution_count": 27,
     "metadata": {},
     "output_type": "execute_result"
    }
   ],
   "source": [
    "# 모델 학습\n",
    "model = sm.OLS(y_train, X_const).fit()\n",
    "model.summary()"
   ]
  },
  {
   "cell_type": "code",
   "execution_count": 28,
   "id": "a63cc257",
   "metadata": {},
   "outputs": [
    {
     "name": "stdout",
     "output_type": "stream",
     "text": [
      "const    5.052337\n",
      "X1       1.967296\n",
      "X2      -1.579514\n",
      "X3       2.959071\n",
      "dtype: float64\n"
     ]
    }
   ],
   "source": [
    "print(model.params)"
   ]
  },
  {
   "cell_type": "code",
   "execution_count": 35,
   "id": "6017eb05",
   "metadata": {},
   "outputs": [
    {
     "data": {
      "text/plain": [
       "40     3.126650\n",
       "35     7.069840\n",
       "81    -0.937694\n",
       "61     6.696794\n",
       "98    -2.102626\n",
       "68     2.527345\n",
       "85     5.654142\n",
       "27     1.692251\n",
       "39     9.822350\n",
       "42     6.567602\n",
       "33     1.928043\n",
       "59     5.232185\n",
       "63     8.653403\n",
       "94     5.008815\n",
       "56     6.620892\n",
       "87    13.215581\n",
       "96     4.479048\n",
       "1     -0.020116\n",
       "71     4.877364\n",
       "82    -0.017297\n",
       "dtype: float64"
      ]
     },
     "execution_count": 35,
     "metadata": {},
     "output_type": "execute_result"
    }
   ],
   "source": [
    "# 예측\n",
    "X_const_test = sm.add_constant(X_test) # 평가 세트 절편 포함\n",
    "y_pred = model.predict(X_const_test)\n",
    "y_pred"
   ]
  },
  {
   "cell_type": "code",
   "execution_count": 33,
   "id": "f1295110",
   "metadata": {},
   "outputs": [
    {
     "data": {
      "text/plain": [
       "(0.14070664793426885, 0.29280345286321896, 0.989423116757431)"
      ]
     },
     "execution_count": 33,
     "metadata": {},
     "output_type": "execute_result"
    }
   ],
   "source": [
    "# 평가\n",
    "from sklearn.metrics import mean_squared_error, mean_absolute_error, r2_score\n",
    "\n",
    "mse = mean_squared_error(y_test, y_pred)\n",
    "mae = mean_absolute_error(y_test, y_pred)\n",
    "r2 = r2_score(y_test, y_pred)\n",
    "\n",
    "mse, mae, r2"
   ]
  }
 ],
 "metadata": {
  "kernelspec": {
   "display_name": "Python 3 (ipykernel)",
   "language": "python",
   "name": "python3"
  },
  "language_info": {
   "codemirror_mode": {
    "name": "ipython",
    "version": 3
   },
   "file_extension": ".py",
   "mimetype": "text/x-python",
   "name": "python",
   "nbconvert_exporter": "python",
   "pygments_lexer": "ipython3",
   "version": "3.7.4"
  }
 },
 "nbformat": 4,
 "nbformat_minor": 5
}
