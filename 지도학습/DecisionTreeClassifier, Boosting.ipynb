{
 "cells": [
  {
   "cell_type": "code",
   "execution_count": 1,
   "id": "eab53712",
   "metadata": {},
   "outputs": [
    {
     "data": {
      "text/html": [
       "<div>\n",
       "<style scoped>\n",
       "    .dataframe tbody tr th:only-of-type {\n",
       "        vertical-align: middle;\n",
       "    }\n",
       "\n",
       "    .dataframe tbody tr th {\n",
       "        vertical-align: top;\n",
       "    }\n",
       "\n",
       "    .dataframe thead th {\n",
       "        text-align: right;\n",
       "    }\n",
       "</style>\n",
       "<table border=\"1\" class=\"dataframe\">\n",
       "  <thead>\n",
       "    <tr style=\"text-align: right;\">\n",
       "      <th></th>\n",
       "      <th>feature1</th>\n",
       "      <th>feature2</th>\n",
       "      <th>target</th>\n",
       "    </tr>\n",
       "  </thead>\n",
       "  <tbody>\n",
       "    <tr>\n",
       "      <td>0</td>\n",
       "      <td>0.471435</td>\n",
       "      <td>55.824107</td>\n",
       "      <td>0</td>\n",
       "    </tr>\n",
       "    <tr>\n",
       "      <td>1</td>\n",
       "      <td>-1.190976</td>\n",
       "      <td>61.330674</td>\n",
       "      <td>1</td>\n",
       "    </tr>\n",
       "    <tr>\n",
       "      <td>2</td>\n",
       "      <td>1.432707</td>\n",
       "      <td>60.071835</td>\n",
       "      <td>0</td>\n",
       "    </tr>\n",
       "    <tr>\n",
       "      <td>3</td>\n",
       "      <td>-0.312652</td>\n",
       "      <td>55.705914</td>\n",
       "      <td>1</td>\n",
       "    </tr>\n",
       "    <tr>\n",
       "      <td>4</td>\n",
       "      <td>-0.720589</td>\n",
       "      <td>59.685762</td>\n",
       "      <td>1</td>\n",
       "    </tr>\n",
       "  </tbody>\n",
       "</table>\n",
       "</div>"
      ],
      "text/plain": [
       "   feature1   feature2  target\n",
       "0  0.471435  55.824107       0\n",
       "1 -1.190976  61.330674       1\n",
       "2  1.432707  60.071835       0\n",
       "3 -0.312652  55.705914       1\n",
       "4 -0.720589  59.685762       1"
      ]
     },
     "execution_count": 1,
     "metadata": {},
     "output_type": "execute_result"
    }
   ],
   "source": [
    "import pandas as pd\n",
    "import numpy as np\n",
    "\n",
    "np.random.seed(1234)\n",
    "\n",
    "df = pd.DataFrame({\n",
    "    'feature1': np.random.normal(0, 1, 100),\n",
    "    'feature2': np.random.normal(50, 20, 100),\n",
    "    'target': np.random.choice([0, 1], size=100)\n",
    "})\n",
    "\n",
    "df.head()"
   ]
  },
  {
   "cell_type": "code",
   "execution_count": 2,
   "id": "2123693b",
   "metadata": {},
   "outputs": [],
   "source": [
    "X = df[['feature1', 'feature2']]\n",
    "y = df['target']"
   ]
  },
  {
   "cell_type": "code",
   "execution_count": 3,
   "id": "89dac1ad",
   "metadata": {},
   "outputs": [],
   "source": [
    "from sklearn.model_selection import train_test_split\n",
    "\n",
    "X_train, X_test, y_train, y_test = train_test_split(X, y, test_size=0.2, random_state=1234)"
   ]
  },
  {
   "attachments": {
    "image.png": {
     "image/png": "[encoded data removed]"
    }
   },
   "cell_type": "markdown",
   "id": "0d25a75b",
   "metadata": {},
   "source": [
    "![image.png](attachment:image.png)"
   ]
  },
  {
   "cell_type": "code",
   "execution_count": 4,
   "id": "6680bf81",
   "metadata": {},
   "outputs": [
    {
     "data": {
      "text/plain": [
       "DecisionTreeClassifier(class_weight=None, criterion='entropy', max_depth=2,\n",
       "                       max_features=None, max_leaf_nodes=None,\n",
       "                       min_impurity_decrease=0.0, min_impurity_split=None,\n",
       "                       min_samples_leaf=1, min_samples_split=2,\n",
       "                       min_weight_fraction_leaf=0.0, presort=False,\n",
       "                       random_state=1234, splitter='best')"
      ]
     },
     "execution_count": 4,
     "metadata": {},
     "output_type": "execute_result"
    }
   ],
   "source": [
    "from sklearn.tree import DecisionTreeClassifier\n",
    "\n",
    "# 모델 학습\n",
    "model = DecisionTreeClassifier(random_state=1234, max_depth=2, criterion=\"entropy\")\n",
    "model.fit(X_train, y_train)"
   ]
  },
  {
   "cell_type": "code",
   "execution_count": 5,
   "id": "f9dbba4d",
   "metadata": {},
   "outputs": [
    {
     "data": {
      "text/plain": [
       "array([1, 1, 0, 1, 1, 1, 1, 0, 0, 1, 0, 0, 1, 1, 1, 1, 1, 1, 1, 0])"
      ]
     },
     "execution_count": 5,
     "metadata": {},
     "output_type": "execute_result"
    }
   ],
   "source": [
    "# 예측\n",
    "y_pred = model.predict(X_test)\n",
    "y_pred"
   ]
  },
  {
   "cell_type": "code",
   "execution_count": 6,
   "id": "3f2b029f",
   "metadata": {},
   "outputs": [
    {
     "name": "stdout",
     "output_type": "stream",
     "text": [
      "Accuracy : 0.55\n",
      "Recall : 0.7272727272727273\n",
      "Precision : 0.5714285714285714\n",
      "F1 Score: 0.64\n"
     ]
    }
   ],
   "source": [
    "# 평가\n",
    "from sklearn.metrics import accuracy_score, recall_score, precision_score, f1_score\n",
    "\n",
    "print(\"Accuracy :\", accuracy_score(y_test, y_pred))\n",
    "print(\"Recall :\", recall_score(y_test, y_pred))\n",
    "print(\"Precision :\", precision_score(y_test, y_pred))\n",
    "\n",
    "# pos_label=1 => 1이 양성 클래스라고 간주 (default)\n",
    "print(\"F1 Score:\", f1_score(y_test, y_pred, pos_label=1))"
   ]
  },
  {
   "cell_type": "code",
   "execution_count": 14,
   "id": "2d014e44",
   "metadata": {},
   "outputs": [
    {
     "name": "stdout",
     "output_type": "stream",
     "text": [
      "Root impurity: 0.9837\n",
      "Left impurity: 0.0000, samples: 6\n",
      "Right impurity: 0.9953, samples: 74\n",
      "Impurity decrease after split: 0.0631\n"
     ]
    }
   ],
   "source": [
    "# 지니 불순도 감소량\n",
    "tree_ = model.tree_\n",
    "\n",
    "# 노드 정보\n",
    "root_node = 0\n",
    "left_child = tree_.children_left[root_node]\n",
    "right_child = tree_.children_right[root_node]\n",
    "\n",
    "# 노드별 impurity\n",
    "impurity_root = tree_.impurity[root_node]\n",
    "impurity_left = tree_.impurity[left_child]\n",
    "impurity_right = tree_.impurity[right_child]\n",
    "\n",
    "# 노드별 sample 수\n",
    "n_root = tree_.n_node_samples[root_node]\n",
    "n_left = tree_.n_node_samples[left_child]\n",
    "n_right = tree_.n_node_samples[right_child]\n",
    "\n",
    "# 지니 불순도 감소량 계산\n",
    "weighted_impurity = (n_left / n_root) * impurity_left + (n_right / n_root) * impurity_right\n",
    "gini_decrease = impurity_root - weighted_impurity\n",
    "\n",
    "# 출력\n",
    "print(f\"Root impurity: {impurity_root:.4f}\")\n",
    "print(f\"Left impurity: {impurity_left:.4f}, samples: {n_left}\")\n",
    "print(f\"Right impurity: {impurity_right:.4f}, samples: {n_right}\")\n",
    "print(f\"Impurity decrease after split: {gini_decrease:.4f}\")"
   ]
  },
  {
   "cell_type": "code",
   "execution_count": 15,
   "id": "edd89a02",
   "metadata": {},
   "outputs": [
    {
     "name": "stdout",
     "output_type": "stream",
     "text": [
      "[[46. 34.]] 0.9837082626231857\n",
      "[[6. 0.]] 0.0\n",
      "[[40. 34.]] 0.9952525494396791\n",
      "[[32. 33.]] 0.9998292601233936\n",
      "[[8. 1.]] 0.5032583347756457\n"
     ]
    }
   ],
   "source": [
    "for i in range(model.tree_.node_count):\n",
    "    print(model.tree_.value[i], model.tree_.impurity[i])"
   ]
  },
  {
   "cell_type": "code",
   "execution_count": 8,
   "id": "1dc88f70",
   "metadata": {},
   "outputs": [
    {
     "name": "stdout",
     "output_type": "stream",
     "text": [
      "Boosting : 0\n",
      "Accuracy : 0.58\n",
      "Recall : 0.06666666666666667\n",
      "Precision : 1.0\n",
      "F1 Score: 0.125\n",
      "\n",
      "Boosting : 1\n",
      "Accuracy : 0.676056338028169\n",
      "Recall : 0.9310344827586207\n",
      "Precision : 0.6694214876033058\n",
      "F1 Score: 0.7788461538461537\n",
      "\n",
      "Boosting : 2\n",
      "Accuracy : 0.526595744680851\n",
      "Recall : 0.043010752688172046\n",
      "Precision : 1.0\n",
      "F1 Score: 0.08247422680412372\n",
      "\n",
      "Boosting : 3\n",
      "Accuracy : 0.6750902527075813\n",
      "Recall : 1.0\n",
      "Precision : 0.6691176470588235\n",
      "F1 Score: 0.801762114537445\n",
      "\n"
     ]
    }
   ],
   "source": [
    "df_tmp = df.copy()\n",
    "X_col = ['feature1', 'feature2']\n",
    "y_col = ['target']\n",
    "\n",
    "# 부스팅\n",
    "# 오류 데이터에 더 큰 가중치를 부여하여 다시 샘플링을 실시\n",
    "# train1 = train0 + (예측값 != 실제값) 데이터 추가\n",
    "\n",
    "model0 = model\n",
    "\n",
    "# 3번 부스팅\n",
    "for i in range(4):\n",
    "    # index reset\n",
    "    df_tmp.index = range(df_tmp.shape[0])\n",
    "    globals()['model{}'.format(i)] = DecisionTreeClassifier(random_state=1234, max_depth=2, criterion=\"entropy\")\n",
    "    globals()['model{}'.format(i)].fit(df_tmp[X_col], df_tmp[y_col])\n",
    "    \n",
    "    y_test = df_tmp[y_col]\n",
    "    y_pred = globals()['model{}'.format(i)].predict(df_tmp[X_col])\n",
    "    \n",
    "    print(\"Boosting :\", i)\n",
    "    print(\"Accuracy :\", accuracy_score(y_test, y_pred))\n",
    "    print(\"Recall :\", recall_score(y_test, y_pred))\n",
    "    print(\"Precision :\", precision_score(y_test, y_pred))\n",
    "    print(\"F1 Score:\", f1_score(y_test, y_pred, pos_label=1))\n",
    "        \n",
    "    df_tmp2 = df_tmp[np.array(y_test['target']) != y_pred]\n",
    "    # print(df_tmp.shape, df_tmp2.shape, len(np.array(y_test) != y_pred))\n",
    "    df_tmp = pd.concat([df_tmp, df_tmp2], axis=0)\n",
    "    print()\n",
    "\n"
   ]
  },
  {
   "cell_type": "code",
   "execution_count": null,
   "id": "1b6d87d3",
   "metadata": {},
   "outputs": [],
   "source": []
  }
 ],
 "metadata": {
  "kernelspec": {
   "display_name": "Python 3 (ipykernel)",
   "language": "python",
   "name": "python3"
  },
  "language_info": {
   "codemirror_mode": {
    "name": "ipython",
    "version": 3
   },
   "file_extension": ".py",
   "mimetype": "text/x-python",
   "name": "python",
   "nbconvert_exporter": "python",
   "pygments_lexer": "ipython3",
   "version": "3.7.4"
  }
 },
 "nbformat": 4,
 "nbformat_minor": 5
}
