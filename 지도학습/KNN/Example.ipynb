{
 "cells": [
  {
   "cell_type": "code",
   "execution_count": null,
   "id": "dafe0d70",
   "metadata": {},
   "outputs": [],
   "source": [
    "# 거리 측정 방법에 따라 결과가 달라진다.\n",
    "# 훈련 과정이 없고 계산은 예측시에 이루어진다."
   ]
  },
  {
   "cell_type": "code",
   "execution_count": null,
   "id": "2d1ea031",
   "metadata": {},
   "outputs": [],
   "source": []
  },
  {
   "cell_type": "code",
   "execution_count": null,
   "id": "f1306538",
   "metadata": {},
   "outputs": [],
   "source": []
  },
  {
   "cell_type": "code",
   "execution_count": null,
   "id": "70e1a2be",
   "metadata": {},
   "outputs": [],
   "source": [
    "# 장점\n"
   ]
  },
  {
   "cell_type": "code",
   "execution_count": null,
   "id": "f86bcbcc",
   "metadata": {},
   "outputs": [],
   "source": [
    "# 단점\n",
    "# 데이터가 많으면 예측시 연산 자원이 많이 필요하게 되고, 고차원 데이터에서는 효율이 낮아진다. (차원의 저주에 취약)"
   ]
  },
  {
   "cell_type": "code",
   "execution_count": null,
   "id": "c0b72c27",
   "metadata": {},
   "outputs": [],
   "source": [
    "# 과적합 해결\n",
    "# 근접 이웃의 수를 눌려 모델의 분산을 줄인다."
   ]
  },
  {
   "cell_type": "code",
   "execution_count": null,
   "id": "2ce3ebba",
   "metadata": {},
   "outputs": [],
   "source": []
  }
 ],
 "metadata": {
  "kernelspec": {
   "display_name": "Python 3 (ipykernel)",
   "language": "python",
   "name": "python3"
  },
  "language_info": {
   "codemirror_mode": {
    "name": "ipython",
    "version": 3
   },
   "file_extension": ".py",
   "mimetype": "text/x-python",
   "name": "python",
   "nbconvert_exporter": "python",
   "pygments_lexer": "ipython3",
   "version": "3.7.4"
  }
 },
 "nbformat": 4,
 "nbformat_minor": 5
}
