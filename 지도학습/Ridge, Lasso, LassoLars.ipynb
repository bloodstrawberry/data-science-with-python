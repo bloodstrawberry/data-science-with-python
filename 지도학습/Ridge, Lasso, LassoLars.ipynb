{
 "cells": [
  {
   "cell_type": "code",
   "execution_count": 1,
   "id": "e3e27f93",
   "metadata": {},
   "outputs": [
    {
     "data": {
      "text/html": [
       "<div>\n",
       "<style scoped>\n",
       "    .dataframe tbody tr th:only-of-type {\n",
       "        vertical-align: middle;\n",
       "    }\n",
       "\n",
       "    .dataframe tbody tr th {\n",
       "        vertical-align: top;\n",
       "    }\n",
       "\n",
       "    .dataframe thead th {\n",
       "        text-align: right;\n",
       "    }\n",
       "</style>\n",
       "<table border=\"1\" class=\"dataframe\">\n",
       "  <thead>\n",
       "    <tr style=\"text-align: right;\">\n",
       "      <th></th>\n",
       "      <th>X1</th>\n",
       "      <th>X2</th>\n",
       "      <th>X3</th>\n",
       "      <th>Y</th>\n",
       "    </tr>\n",
       "  </thead>\n",
       "  <tbody>\n",
       "    <tr>\n",
       "      <td>0</td>\n",
       "      <td>0.471435</td>\n",
       "      <td>0.291205</td>\n",
       "      <td>-0.319561</td>\n",
       "      <td>4.810901</td>\n",
       "    </tr>\n",
       "    <tr>\n",
       "      <td>1</td>\n",
       "      <td>-1.190976</td>\n",
       "      <td>0.566534</td>\n",
       "      <td>-0.619993</td>\n",
       "      <td>0.263825</td>\n",
       "    </tr>\n",
       "    <tr>\n",
       "      <td>2</td>\n",
       "      <td>1.432707</td>\n",
       "      <td>0.503592</td>\n",
       "      <td>0.156998</td>\n",
       "      <td>7.472249</td>\n",
       "    </tr>\n",
       "    <tr>\n",
       "      <td>3</td>\n",
       "      <td>-0.312652</td>\n",
       "      <td>0.285296</td>\n",
       "      <td>-0.571455</td>\n",
       "      <td>3.551282</td>\n",
       "    </tr>\n",
       "    <tr>\n",
       "      <td>4</td>\n",
       "      <td>-0.720589</td>\n",
       "      <td>0.484288</td>\n",
       "      <td>1.057633</td>\n",
       "      <td>5.134221</td>\n",
       "    </tr>\n",
       "  </tbody>\n",
       "</table>\n",
       "</div>"
      ],
      "text/plain": [
       "         X1        X2        X3         Y\n",
       "0  0.471435  0.291205 -0.319561  4.810901\n",
       "1 -1.190976  0.566534 -0.619993  0.263825\n",
       "2  1.432707  0.503592  0.156998  7.472249\n",
       "3 -0.312652  0.285296 -0.571455  3.551282\n",
       "4 -0.720589  0.484288  1.057633  5.134221"
      ]
     },
     "execution_count": 1,
     "metadata": {},
     "output_type": "execute_result"
    }
   ],
   "source": [
    "import numpy as np\n",
    "import pandas as pd\n",
    "\n",
    "np.random.seed(1234)\n",
    "\n",
    "n_samples = 100\n",
    "\n",
    "x1 = np.random.randn(n_samples)\n",
    "x2 = np.random.randn(n_samples)\n",
    "x3 = np.random.randn(n_samples)\n",
    "\n",
    "# 임의의 계수\n",
    "a, b, c, d = 2.0, -1.5, 3.0, 5.0\n",
    "\n",
    "# 종속 변수 생성 + noise\n",
    "noise = np.random.randn(n_samples) * 0.5\n",
    "y0 = a * x1 + b * x2 + c * x3 + d + noise\n",
    "\n",
    "df = pd.DataFrame({'X1': x1, 'X2': x2, 'X3': x3, 'Y': y0})\n",
    "df.head()"
   ]
  },
  {
   "cell_type": "code",
   "execution_count": 2,
   "id": "e5cbc749",
   "metadata": {},
   "outputs": [],
   "source": [
    "from sklearn.model_selection import train_test_split\n",
    "\n",
    "X = df[['X1', 'X2', 'X3']]\n",
    "y = df['Y']\n",
    "\n",
    "X_train, X_test, y_train, y_test = train_test_split(X, y, test_size=0.2, random_state=1234)"
   ]
  },
  {
   "cell_type": "code",
   "execution_count": 3,
   "id": "72746faa",
   "metadata": {},
   "outputs": [
    {
     "name": "stdout",
     "output_type": "stream",
     "text": [
      "Intercept (절편): 5.067887852086875\n",
      "Coefficients (계수): [ 1.93240891 -1.55096515  2.90693538]\n"
     ]
    }
   ],
   "source": [
    "from sklearn.linear_model import Ridge, Lasso, LassoLars\n",
    "\n",
    "# Ridge 모델 학습, L2 정규화\n",
    "ridge = Ridge(random_state=1234)\n",
    "ridge.fit(X_train, y_train)\n",
    "\n",
    "print(\"Intercept (절편):\", ridge.intercept_)\n",
    "print(\"Coefficients (계수):\", ridge.coef_)"
   ]
  },
  {
   "cell_type": "code",
   "execution_count": 4,
   "id": "fa5e7845",
   "metadata": {},
   "outputs": [
    {
     "data": {
      "text/plain": [
       "array([ 3.17668566,  7.04918039, -0.81677053,  6.68285175, -1.96056385,\n",
       "        2.58802063,  5.65814372,  1.76719776,  9.75419023,  6.55695311,\n",
       "        1.99976668,  5.24445869,  8.60489521,  5.02574345,  6.60719873,\n",
       "       13.08665584,  4.50466105,  0.08548194,  4.89549765,  0.08753902])"
      ]
     },
     "execution_count": 4,
     "metadata": {},
     "output_type": "execute_result"
    }
   ],
   "source": [
    "# 예측\n",
    "y_pred = ridge.predict(X_test)\n",
    "y_pred"
   ]
  },
  {
   "cell_type": "code",
   "execution_count": 5,
   "id": "ce6f785b",
   "metadata": {},
   "outputs": [
    {
     "data": {
      "text/plain": [
       "(0.13147636881405128, 0.2901602983157575, 0.9901169545112554)"
      ]
     },
     "execution_count": 5,
     "metadata": {},
     "output_type": "execute_result"
    }
   ],
   "source": [
    "# 평가\n",
    "from sklearn.metrics import mean_squared_error, mean_absolute_error, r2_score\n",
    "\n",
    "mse = mean_squared_error(y_test, y_pred)\n",
    "mae = mean_absolute_error(y_test, y_pred)\n",
    "r2 = r2_score(y_test, y_pred)\n",
    "\n",
    "mse, mae, r2"
   ]
  },
  {
   "attachments": {
    "image.png": {
     "image/png": "[encoded data removed]"
    }
   },
   "cell_type": "markdown",
   "id": "077947b4",
   "metadata": {},
   "source": [
    "# Lasso 모델 학습, L1 정규화\n",
    "## 비용 함수는 절댓값 때문에 좌표 하강법으로 최적화\n",
    "![image.png](attachment:image.png)"
   ]
  },
  {
   "cell_type": "code",
   "execution_count": null,
   "id": "92561152",
   "metadata": {},
   "outputs": [],
   "source": [
    "lasso = Lasso(random_state=1234)\n",
    "lasso.fit(X_train, y_train)\n",
    "\n",
    "print(\"Intercept (절편):\", lasso.intercept_)\n",
    "print(\"Coefficients (계수):\", lasso.coef_)"
   ]
  },
  {
   "cell_type": "code",
   "execution_count": 7,
   "id": "50135374",
   "metadata": {},
   "outputs": [
    {
     "data": {
      "text/plain": [
       "array([4.99848947, 6.10228749, 3.26377927, 6.01091275, 2.69503885,\n",
       "       4.74853271, 5.32209709, 4.41989748, 7.58347328, 6.56371731,\n",
       "       4.63685494, 5.32145464, 6.88319444, 5.78297138, 5.23136772,\n",
       "       8.78030784, 5.32596062, 3.8217066 , 5.09170193, 2.9689345 ])"
      ]
     },
     "execution_count": 7,
     "metadata": {},
     "output_type": "execute_result"
    }
   ],
   "source": [
    "# 예측\n",
    "y_pred = lasso.predict(X_test)\n",
    "y_pred"
   ]
  },
  {
   "cell_type": "code",
   "execution_count": 8,
   "id": "299652cb",
   "metadata": {},
   "outputs": [
    {
     "data": {
      "text/plain": [
       "(5.696902714648381, 1.9336190783936786, 0.5717652595543412)"
      ]
     },
     "execution_count": 8,
     "metadata": {},
     "output_type": "execute_result"
    }
   ],
   "source": [
    "# 평가\n",
    "mse = mean_squared_error(y_test, y_pred)\n",
    "mae = mean_absolute_error(y_test, y_pred)\n",
    "r2 = r2_score(y_test, y_pred)\n",
    "\n",
    "mse, mae, r2"
   ]
  },
  {
   "cell_type": "code",
   "execution_count": null,
   "id": "65ff08f5",
   "metadata": {},
   "outputs": [],
   "source": []
  },
  {
   "attachments": {
    "image.png": {
     "image/png": "[encoded data removed]"
    }
   },
   "cell_type": "markdown",
   "id": "02313e05",
   "metadata": {},
   "source": [
    "![image.png](attachment:image.png)"
   ]
  },
  {
   "cell_type": "code",
   "execution_count": null,
   "id": "62921ba0",
   "metadata": {},
   "outputs": [],
   "source": [
    "# Lasso -> 기본 solver='cd'\n",
    "# SGDRegressor -> with L1 penalty (saga)\n",
    "# LassoLars -> Least Angle Regression\n",
    "# Proximal Gradient Descent -> 미제공\n",
    "# Interior Point Method -> 미제공"
   ]
  },
  {
   "cell_type": "code",
   "execution_count": null,
   "id": "31fda22f",
   "metadata": {},
   "outputs": [],
   "source": []
  },
  {
   "cell_type": "code",
   "execution_count": 9,
   "id": "8733abe2",
   "metadata": {},
   "outputs": [
    {
     "name": "stdout",
     "output_type": "stream",
     "text": [
      "Intercept (절편): 5.932382244041056\n",
      "Coefficients (계수): [0. 0. 0.]\n"
     ]
    }
   ],
   "source": [
    "# LassoLars 모델 학습, L1 정규화 + Least Angle Regression 기반의 Lasso\n",
    "# 최소 각도 회귀 = Least Angle Regression\n",
    "# 선형 회귀에서 변수를 단계적으로 추가하는 방식\n",
    "# 매 단계마다 가장 상관관계가 높은 변수를 선택하되, 각 변수의 기여가 균형을 이루도록 각도를 \"최소화\"하면서 계수를 조절\n",
    "lassoLars = LassoLars()\n",
    "lassoLars.fit(X_train, y_train)\n",
    "\n",
    "print(\"Intercept (절편):\", lassoLars.intercept_)\n",
    "print(\"Coefficients (계수):\", lassoLars.coef_)"
   ]
  },
  {
   "cell_type": "code",
   "execution_count": 10,
   "id": "7e653a1a",
   "metadata": {},
   "outputs": [
    {
     "data": {
      "text/plain": [
       "array([5.93238224, 5.93238224, 5.93238224, 5.93238224, 5.93238224,\n",
       "       5.93238224, 5.93238224, 5.93238224, 5.93238224, 5.93238224,\n",
       "       5.93238224, 5.93238224, 5.93238224, 5.93238224, 5.93238224,\n",
       "       5.93238224, 5.93238224, 5.93238224, 5.93238224, 5.93238224])"
      ]
     },
     "execution_count": 10,
     "metadata": {},
     "output_type": "execute_result"
    }
   ],
   "source": [
    "# 예측\n",
    "y_pred = lassoLars.predict(X_test)\n",
    "y_pred"
   ]
  },
  {
   "cell_type": "code",
   "execution_count": 11,
   "id": "c2c0fec7",
   "metadata": {},
   "outputs": [
    {
     "data": {
      "text/plain": [
       "(15.29213668941544, 3.1473843704206095, -0.14950605865410949)"
      ]
     },
     "execution_count": 11,
     "metadata": {},
     "output_type": "execute_result"
    }
   ],
   "source": [
    "# 평가\n",
    "mse = mean_squared_error(y_test, y_pred)\n",
    "mae = mean_absolute_error(y_test, y_pred)\n",
    "r2 = r2_score(y_test, y_pred)\n",
    "\n",
    "mse, mae, r2"
   ]
  },
  {
   "cell_type": "code",
   "execution_count": 12,
   "id": "9d168225",
   "metadata": {},
   "outputs": [
    {
     "name": "stdout",
     "output_type": "stream",
     "text": [
      "lambda : 0.1 5.696902714648381 1.9336190783936786 0.5717652595543412\n",
      "lambda : 0.5 5.696902714648381 1.9336190783936786 0.5717652595543412\n",
      "lambda : 1 5.696902714648381 1.9336190783936786 0.5717652595543412\n",
      "lambda : 2 5.696902714648381 1.9336190783936786 0.5717652595543412\n",
      "lambda : 5 5.696902714648381 1.9336190783936786 0.5717652595543412\n"
     ]
    }
   ],
   "source": [
    "# Lasso lambda 변경\n",
    "for ld in [0.1, 0.5, 1, 2, 5]:\n",
    "    lasso_ld = Lasso(alpha=ld, random_state=1234)\n",
    "    lasso_ld.fit(X_train, y_train)\n",
    "    \n",
    "    y_pred = lasso.predict(X_test)\n",
    "    \n",
    "    mse = mean_squared_error(y_test, y_pred)\n",
    "    mae = mean_absolute_error(y_test, y_pred)\n",
    "    r2 = r2_score(y_test, y_pred)\n",
    "    \n",
    "    print(\"lambda :\", ld, mse, mae, r2)\n"
   ]
  },
  {
   "cell_type": "code",
   "execution_count": 14,
   "id": "916d8975",
   "metadata": {},
   "outputs": [],
   "source": [
    "Lasso?"
   ]
  },
  {
   "cell_type": "code",
   "execution_count": null,
   "id": "77cee438",
   "metadata": {},
   "outputs": [],
   "source": []
  }
 ],
 "metadata": {
  "kernelspec": {
   "display_name": "Python 3 (ipykernel)",
   "language": "python",
   "name": "python3"
  },
  "language_info": {
   "codemirror_mode": {
    "name": "ipython",
    "version": 3
   },
   "file_extension": ".py",
   "mimetype": "text/x-python",
   "name": "python",
   "nbconvert_exporter": "python",
   "pygments_lexer": "ipython3",
   "version": "3.7.4"
  }
 },
 "nbformat": 4,
 "nbformat_minor": 5
}
