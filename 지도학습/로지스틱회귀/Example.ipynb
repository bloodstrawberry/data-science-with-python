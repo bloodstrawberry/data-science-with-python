{
 "cells": [
  {
   "cell_type": "code",
   "execution_count": null,
   "id": "4cc6f9a7",
   "metadata": {},
   "outputs": [],
   "source": [
    "# 로지스틱 회귀에서는 각 피처가 종속 변수에 미치는 영향을 평가할 수 있다.\n",
    "# t-검정을 했을 때 클래스 레이블 간에 유의미한 차이가 없다면 피처로 선택하지 않는다.\n",
    "# 로지스틱 회귀에서 독립 변수는 정규성을 가정하지 않는다.\n",
    "# 단일 로지스틱 회귀 모델은 다중 클래스 뷴류를 위해 소프트맥스(softmax) 함수를 사용한다."
   ]
  }
 ],
 "metadata": {
  "kernelspec": {
   "display_name": "Python 3 (ipykernel)",
   "language": "python",
   "name": "python3"
  },
  "language_info": {
   "codemirror_mode": {
    "name": "ipython",
    "version": 3
   },
   "file_extension": ".py",
   "mimetype": "text/x-python",
   "name": "python",
   "nbconvert_exporter": "python",
   "pygments_lexer": "ipython3",
   "version": "3.7.4"
  }
 },
 "nbformat": 4,
 "nbformat_minor": 5
}
