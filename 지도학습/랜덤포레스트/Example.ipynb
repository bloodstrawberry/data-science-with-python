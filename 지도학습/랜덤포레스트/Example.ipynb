{
 "cells": [
  {
   "cell_type": "code",
   "execution_count": null,
   "id": "d9941411",
   "metadata": {},
   "outputs": [],
   "source": [
    "# 랜덤 포레스트\n",
    "# 결정 트리를 기반으로 한 앙상블 모델\n",
    "# 학습 데이터셋의 일부를 택한 후 각각에 대해 결정 트리를 구성하여 랜덤 포레스트로 활용\n",
    "# 여러 결정 트리가 독립적으로 존재하여 Multi Core 환경에서 병렬 처리로 효율적으로 학습을 진행\n",
    "# 분류, 회귀 모두 지원"
   ]
  }
 ],
 "metadata": {
  "kernelspec": {
   "display_name": "Python 3 (ipykernel)",
   "language": "python",
   "name": "python3"
  },
  "language_info": {
   "codemirror_mode": {
    "name": "ipython",
    "version": 3
   },
   "file_extension": ".py",
   "mimetype": "text/x-python",
   "name": "python",
   "nbconvert_exporter": "python",
   "pygments_lexer": "ipython3",
   "version": "3.7.4"
  }
 },
 "nbformat": 4,
 "nbformat_minor": 5
}
