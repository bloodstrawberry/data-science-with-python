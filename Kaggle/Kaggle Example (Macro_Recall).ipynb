{
 "cells": [
  {
   "cell_type": "code",
   "execution_count": 115,
   "id": "24e0c69e",
   "metadata": {},
   "outputs": [
    {
     "data": {
      "text/html": [
       "<div>\n",
       "<style scoped>\n",
       "    .dataframe tbody tr th:only-of-type {\n",
       "        vertical-align: middle;\n",
       "    }\n",
       "\n",
       "    .dataframe tbody tr th {\n",
       "        vertical-align: top;\n",
       "    }\n",
       "\n",
       "    .dataframe thead th {\n",
       "        text-align: right;\n",
       "    }\n",
       "</style>\n",
       "<table border=\"1\" class=\"dataframe\">\n",
       "  <thead>\n",
       "    <tr style=\"text-align: right;\">\n",
       "      <th></th>\n",
       "      <th>temperature</th>\n",
       "      <th>pressure</th>\n",
       "      <th>vibration</th>\n",
       "      <th>failure</th>\n",
       "    </tr>\n",
       "  </thead>\n",
       "  <tbody>\n",
       "    <tr>\n",
       "      <td>0</td>\n",
       "      <td>74.714352</td>\n",
       "      <td>22.088960</td>\n",
       "      <td>0.381296</td>\n",
       "      <td>Not Fail</td>\n",
       "    </tr>\n",
       "    <tr>\n",
       "      <td>1</td>\n",
       "      <td>58.090243</td>\n",
       "      <td>21.899049</td>\n",
       "      <td>0.661708</td>\n",
       "      <td>Not Fail</td>\n",
       "    </tr>\n",
       "    <tr>\n",
       "      <td>2</td>\n",
       "      <td>84.327070</td>\n",
       "      <td>30.232809</td>\n",
       "      <td>0.495732</td>\n",
       "      <td>Not Fail</td>\n",
       "    </tr>\n",
       "    <tr>\n",
       "      <td>3</td>\n",
       "      <td>66.873481</td>\n",
       "      <td>21.600856</td>\n",
       "      <td>0.536798</td>\n",
       "      <td>Not Fail</td>\n",
       "    </tr>\n",
       "    <tr>\n",
       "      <td>4</td>\n",
       "      <td>62.794113</td>\n",
       "      <td>36.979462</td>\n",
       "      <td>0.680919</td>\n",
       "      <td>Not Fail</td>\n",
       "    </tr>\n",
       "  </tbody>\n",
       "</table>\n",
       "</div>"
      ],
      "text/plain": [
       "   temperature   pressure  vibration   failure\n",
       "0    74.714352  22.088960   0.381296  Not Fail\n",
       "1    58.090243  21.899049   0.661708  Not Fail\n",
       "2    84.327070  30.232809   0.495732  Not Fail\n",
       "3    66.873481  21.600856   0.536798  Not Fail\n",
       "4    62.794113  36.979462   0.680919  Not Fail"
      ]
     },
     "execution_count": 115,
     "metadata": {},
     "output_type": "execute_result"
    }
   ],
   "source": [
    "import numpy as np\n",
    "import pandas as pd\n",
    "\n",
    "np.random.seed(1234)\n",
    "\n",
    "n_samples = 1000\n",
    "\n",
    "df = pd.DataFrame({\n",
    "    'temperature': np.random.normal(70, 10, n_samples),         # 연속형\n",
    "    'pressure': np.random.normal(30, 5, n_samples),             # 연속형\n",
    "    'vibration': np.random.normal(0.5, 0.1, n_samples),         # 연속형\n",
    "})\n",
    "\n",
    "# 실패 종류 (타겟): 온도와 진동이 높고 압력이 낮으면 실패 확률 증가\n",
    "df['failure'] = np.where(\n",
    "    (df['temperature'] > 65) & (df['vibration'] > 0.55) & (df['pressure'] < 38),\n",
    "    \"Fail\",\n",
    "    \"Not Fail\"\n",
    ")\n",
    "\n",
    "# failure가 Fail인 데이터 중 30%는 Unknown으로 변경 (noise)\n",
    "zero_idx = df.index[df['failure'] == 'Fail']\n",
    "n_change = int(len(zero_idx) * 0.3)  \n",
    "change_idx = np.random.choice(zero_idx, size=n_change, replace=False)\n",
    "df.loc[change_idx, 'failure'] = 'Unknown'\n",
    "\n",
    "df.head()"
   ]
  },
  {
   "cell_type": "code",
   "execution_count": 116,
   "id": "e844276e",
   "metadata": {},
   "outputs": [
    {
     "data": {
      "text/plain": [
       "Not Fail    797\n",
       "Fail        143\n",
       "Unknown      60\n",
       "Name: failure, dtype: int64"
      ]
     },
     "execution_count": 116,
     "metadata": {},
     "output_type": "execute_result"
    }
   ],
   "source": [
    "df['failure'].value_counts()"
   ]
  },
  {
   "cell_type": "code",
   "execution_count": 117,
   "id": "1fdd0ddd",
   "metadata": {},
   "outputs": [],
   "source": [
    "X = df.drop(['failure'], axis=1).copy()\n",
    "y = df['failure'].copy()"
   ]
  },
  {
   "cell_type": "code",
   "execution_count": 118,
   "id": "33f3d1d6",
   "metadata": {},
   "outputs": [],
   "source": [
    "from sklearn.metrics import recall_score\n",
    "\n",
    "# 'binary' = 이진 분류 전용. pos_label(기본: 1) 클래스만 대상으로 재현율 계산\n",
    "# 'micro' = 전체 TP, FN을 전부 합산해서 재현율 계산 (샘플 기준)\n",
    "# 'macro' = 클래스별 재현율을 계산한 후 단순 평균 (클래스 간 가중치 없음)\n",
    "# 'weighted' = 클래스별 재현율을 계산한 후, 샘플 수 기준 가중 평균\n",
    "# 'samples' = 다중 레이블 문제(multi-label)에서 사용. 각 샘플에 대한 평균\n",
    "# None = 클래스별 재현율을 리스트 형태로 반환"
   ]
  },
  {
   "cell_type": "code",
   "execution_count": 119,
   "id": "5652ed60",
   "metadata": {},
   "outputs": [
    {
     "data": {
      "text/plain": [
       "0.9198912198912198"
      ]
     },
     "execution_count": 119,
     "metadata": {},
     "output_type": "execute_result"
    }
   ],
   "source": [
    "# XGB\n",
    "from xgboost import XGBClassifier\n",
    "\n",
    "# n_estimators = 결정 트리의 수\n",
    "# max_depth = 최대 깊이\n",
    "model1 = XGBClassifier(n_estimators=100, max_depth=4, random_state=1234)\n",
    "model1.fit(X, y)\n",
    "pred1 = model1.predict(X)\n",
    "recall_score(y, pred1, average='macro')"
   ]
  },
  {
   "cell_type": "code",
   "execution_count": 120,
   "id": "680661ef",
   "metadata": {},
   "outputs": [
    {
     "data": {
      "text/plain": [
       "0.6722222222222222"
      ]
     },
     "execution_count": 120,
     "metadata": {},
     "output_type": "execute_result"
    }
   ],
   "source": [
    "# RandomForest\n",
    "from sklearn.ensemble import RandomForestClassifier\n",
    "\n",
    "# n_estimators = 결정 트리의 수\n",
    "# max_depth = 최대 깊이\n",
    "model2 = RandomForestClassifier(n_estimators=100, max_depth=4, random_state=1234)\n",
    "model2.fit(X, y)\n",
    "pred2 = model2.predict(X)\n",
    "recall_score(y, pred2, average='macro')"
   ]
  },
  {
   "cell_type": "code",
   "execution_count": 121,
   "id": "d8960d63",
   "metadata": {},
   "outputs": [
    {
     "data": {
      "text/plain": [
       "0.9777777777777779"
      ]
     },
     "execution_count": 121,
     "metadata": {},
     "output_type": "execute_result"
    }
   ],
   "source": [
    "# GB\n",
    "from sklearn.ensemble import GradientBoostingClassifier\n",
    "\n",
    "model3 = GradientBoostingClassifier(random_state=1234)\n",
    "model3.fit(X, y)\n",
    "pred3 = model3.predict(X)\n",
    "recall_score(y, pred3, average='macro')"
   ]
  },
  {
   "cell_type": "code",
   "execution_count": 122,
   "id": "a46cc970",
   "metadata": {},
   "outputs": [
    {
     "data": {
      "text/plain": [
       "0.42435375860720903"
      ]
     },
     "execution_count": 122,
     "metadata": {},
     "output_type": "execute_result"
    }
   ],
   "source": [
    "# KNN\n",
    "from sklearn.neighbors import KNeighborsClassifier\n",
    "\n",
    "model4 = KNeighborsClassifier(n_neighbors=5)\n",
    "model4.fit(X, y)\n",
    "pred4 = model4.predict(X)\n",
    "recall_score(y, pred4, average='macro')"
   ]
  },
  {
   "cell_type": "code",
   "execution_count": 123,
   "id": "3660c8f5",
   "metadata": {},
   "outputs": [
    {
     "data": {
      "text/html": [
       "<div>\n",
       "<style scoped>\n",
       "    .dataframe tbody tr th:only-of-type {\n",
       "        vertical-align: middle;\n",
       "    }\n",
       "\n",
       "    .dataframe tbody tr th {\n",
       "        vertical-align: top;\n",
       "    }\n",
       "\n",
       "    .dataframe thead th {\n",
       "        text-align: right;\n",
       "    }\n",
       "</style>\n",
       "<table border=\"1\" class=\"dataframe\">\n",
       "  <thead>\n",
       "    <tr style=\"text-align: right;\">\n",
       "      <th></th>\n",
       "      <th>PRED1</th>\n",
       "      <th>PRED2</th>\n",
       "      <th>PRED3</th>\n",
       "      <th>PRED4</th>\n",
       "    </tr>\n",
       "  </thead>\n",
       "  <tbody>\n",
       "    <tr>\n",
       "      <td>0</td>\n",
       "      <td>Not Fail</td>\n",
       "      <td>Not Fail</td>\n",
       "      <td>Not Fail</td>\n",
       "      <td>Not Fail</td>\n",
       "    </tr>\n",
       "    <tr>\n",
       "      <td>1</td>\n",
       "      <td>Not Fail</td>\n",
       "      <td>Not Fail</td>\n",
       "      <td>Not Fail</td>\n",
       "      <td>Not Fail</td>\n",
       "    </tr>\n",
       "    <tr>\n",
       "      <td>2</td>\n",
       "      <td>Not Fail</td>\n",
       "      <td>Not Fail</td>\n",
       "      <td>Not Fail</td>\n",
       "      <td>Not Fail</td>\n",
       "    </tr>\n",
       "    <tr>\n",
       "      <td>3</td>\n",
       "      <td>Not Fail</td>\n",
       "      <td>Not Fail</td>\n",
       "      <td>Not Fail</td>\n",
       "      <td>Not Fail</td>\n",
       "    </tr>\n",
       "    <tr>\n",
       "      <td>4</td>\n",
       "      <td>Not Fail</td>\n",
       "      <td>Not Fail</td>\n",
       "      <td>Not Fail</td>\n",
       "      <td>Not Fail</td>\n",
       "    </tr>\n",
       "    <tr>\n",
       "      <td>...</td>\n",
       "      <td>...</td>\n",
       "      <td>...</td>\n",
       "      <td>...</td>\n",
       "      <td>...</td>\n",
       "    </tr>\n",
       "    <tr>\n",
       "      <td>995</td>\n",
       "      <td>Unknown</td>\n",
       "      <td>Fail</td>\n",
       "      <td>Unknown</td>\n",
       "      <td>Not Fail</td>\n",
       "    </tr>\n",
       "    <tr>\n",
       "      <td>996</td>\n",
       "      <td>Not Fail</td>\n",
       "      <td>Not Fail</td>\n",
       "      <td>Not Fail</td>\n",
       "      <td>Not Fail</td>\n",
       "    </tr>\n",
       "    <tr>\n",
       "      <td>997</td>\n",
       "      <td>Not Fail</td>\n",
       "      <td>Not Fail</td>\n",
       "      <td>Not Fail</td>\n",
       "      <td>Not Fail</td>\n",
       "    </tr>\n",
       "    <tr>\n",
       "      <td>998</td>\n",
       "      <td>Not Fail</td>\n",
       "      <td>Not Fail</td>\n",
       "      <td>Not Fail</td>\n",
       "      <td>Not Fail</td>\n",
       "    </tr>\n",
       "    <tr>\n",
       "      <td>999</td>\n",
       "      <td>Not Fail</td>\n",
       "      <td>Not Fail</td>\n",
       "      <td>Not Fail</td>\n",
       "      <td>Not Fail</td>\n",
       "    </tr>\n",
       "  </tbody>\n",
       "</table>\n",
       "<p>1000 rows × 4 columns</p>\n",
       "</div>"
      ],
      "text/plain": [
       "        PRED1     PRED2     PRED3     PRED4\n",
       "0    Not Fail  Not Fail  Not Fail  Not Fail\n",
       "1    Not Fail  Not Fail  Not Fail  Not Fail\n",
       "2    Not Fail  Not Fail  Not Fail  Not Fail\n",
       "3    Not Fail  Not Fail  Not Fail  Not Fail\n",
       "4    Not Fail  Not Fail  Not Fail  Not Fail\n",
       "..        ...       ...       ...       ...\n",
       "995   Unknown      Fail   Unknown  Not Fail\n",
       "996  Not Fail  Not Fail  Not Fail  Not Fail\n",
       "997  Not Fail  Not Fail  Not Fail  Not Fail\n",
       "998  Not Fail  Not Fail  Not Fail  Not Fail\n",
       "999  Not Fail  Not Fail  Not Fail  Not Fail\n",
       "\n",
       "[1000 rows x 4 columns]"
      ]
     },
     "execution_count": 123,
     "metadata": {},
     "output_type": "execute_result"
    }
   ],
   "source": [
    "# Voting\n",
    "result = {'PRED1': pred1, 'PRED2': pred2, 'PRED3': pred3, 'PRED4': pred4}\n",
    "pred = pd.DataFrame(result)\n",
    "pred"
   ]
  },
  {
   "cell_type": "code",
   "execution_count": 124,
   "id": "ae2e0156",
   "metadata": {},
   "outputs": [
    {
     "data": {
      "text/html": [
       "<div>\n",
       "<style scoped>\n",
       "    .dataframe tbody tr th:only-of-type {\n",
       "        vertical-align: middle;\n",
       "    }\n",
       "\n",
       "    .dataframe tbody tr th {\n",
       "        vertical-align: top;\n",
       "    }\n",
       "\n",
       "    .dataframe thead th {\n",
       "        text-align: right;\n",
       "    }\n",
       "</style>\n",
       "<table border=\"1\" class=\"dataframe\">\n",
       "  <thead>\n",
       "    <tr style=\"text-align: right;\">\n",
       "      <th></th>\n",
       "      <th>PRED1</th>\n",
       "      <th>PRED2</th>\n",
       "      <th>PRED3</th>\n",
       "      <th>PRED4</th>\n",
       "      <th>PRED</th>\n",
       "    </tr>\n",
       "  </thead>\n",
       "  <tbody>\n",
       "    <tr>\n",
       "      <td>0</td>\n",
       "      <td>Not Fail</td>\n",
       "      <td>Not Fail</td>\n",
       "      <td>Not Fail</td>\n",
       "      <td>Not Fail</td>\n",
       "      <td>Not Fail</td>\n",
       "    </tr>\n",
       "    <tr>\n",
       "      <td>1</td>\n",
       "      <td>Not Fail</td>\n",
       "      <td>Not Fail</td>\n",
       "      <td>Not Fail</td>\n",
       "      <td>Not Fail</td>\n",
       "      <td>Not Fail</td>\n",
       "    </tr>\n",
       "    <tr>\n",
       "      <td>2</td>\n",
       "      <td>Not Fail</td>\n",
       "      <td>Not Fail</td>\n",
       "      <td>Not Fail</td>\n",
       "      <td>Not Fail</td>\n",
       "      <td>Not Fail</td>\n",
       "    </tr>\n",
       "    <tr>\n",
       "      <td>3</td>\n",
       "      <td>Not Fail</td>\n",
       "      <td>Not Fail</td>\n",
       "      <td>Not Fail</td>\n",
       "      <td>Not Fail</td>\n",
       "      <td>Not Fail</td>\n",
       "    </tr>\n",
       "    <tr>\n",
       "      <td>4</td>\n",
       "      <td>Not Fail</td>\n",
       "      <td>Not Fail</td>\n",
       "      <td>Not Fail</td>\n",
       "      <td>Not Fail</td>\n",
       "      <td>Not Fail</td>\n",
       "    </tr>\n",
       "    <tr>\n",
       "      <td>...</td>\n",
       "      <td>...</td>\n",
       "      <td>...</td>\n",
       "      <td>...</td>\n",
       "      <td>...</td>\n",
       "      <td>...</td>\n",
       "    </tr>\n",
       "    <tr>\n",
       "      <td>995</td>\n",
       "      <td>Unknown</td>\n",
       "      <td>Fail</td>\n",
       "      <td>Unknown</td>\n",
       "      <td>Not Fail</td>\n",
       "      <td>Unknown</td>\n",
       "    </tr>\n",
       "    <tr>\n",
       "      <td>996</td>\n",
       "      <td>Not Fail</td>\n",
       "      <td>Not Fail</td>\n",
       "      <td>Not Fail</td>\n",
       "      <td>Not Fail</td>\n",
       "      <td>Not Fail</td>\n",
       "    </tr>\n",
       "    <tr>\n",
       "      <td>997</td>\n",
       "      <td>Not Fail</td>\n",
       "      <td>Not Fail</td>\n",
       "      <td>Not Fail</td>\n",
       "      <td>Not Fail</td>\n",
       "      <td>Not Fail</td>\n",
       "    </tr>\n",
       "    <tr>\n",
       "      <td>998</td>\n",
       "      <td>Not Fail</td>\n",
       "      <td>Not Fail</td>\n",
       "      <td>Not Fail</td>\n",
       "      <td>Not Fail</td>\n",
       "      <td>Not Fail</td>\n",
       "    </tr>\n",
       "    <tr>\n",
       "      <td>999</td>\n",
       "      <td>Not Fail</td>\n",
       "      <td>Not Fail</td>\n",
       "      <td>Not Fail</td>\n",
       "      <td>Not Fail</td>\n",
       "      <td>Not Fail</td>\n",
       "    </tr>\n",
       "  </tbody>\n",
       "</table>\n",
       "<p>1000 rows × 5 columns</p>\n",
       "</div>"
      ],
      "text/plain": [
       "        PRED1     PRED2     PRED3     PRED4      PRED\n",
       "0    Not Fail  Not Fail  Not Fail  Not Fail  Not Fail\n",
       "1    Not Fail  Not Fail  Not Fail  Not Fail  Not Fail\n",
       "2    Not Fail  Not Fail  Not Fail  Not Fail  Not Fail\n",
       "3    Not Fail  Not Fail  Not Fail  Not Fail  Not Fail\n",
       "4    Not Fail  Not Fail  Not Fail  Not Fail  Not Fail\n",
       "..        ...       ...       ...       ...       ...\n",
       "995   Unknown      Fail   Unknown  Not Fail   Unknown\n",
       "996  Not Fail  Not Fail  Not Fail  Not Fail  Not Fail\n",
       "997  Not Fail  Not Fail  Not Fail  Not Fail  Not Fail\n",
       "998  Not Fail  Not Fail  Not Fail  Not Fail  Not Fail\n",
       "999  Not Fail  Not Fail  Not Fail  Not Fail  Not Fail\n",
       "\n",
       "[1000 rows x 5 columns]"
      ]
     },
     "execution_count": 124,
     "metadata": {},
     "output_type": "execute_result"
    }
   ],
   "source": [
    "pred['PRED'] = pred[['PRED1', 'PRED2', 'PRED3', 'PRED4']].mode(axis=1).iloc[:, 0]\n",
    "pred"
   ]
  },
  {
   "cell_type": "code",
   "execution_count": 126,
   "id": "f83cb33a",
   "metadata": {},
   "outputs": [
    {
     "data": {
      "text/plain": [
       "0.8722222222222222"
      ]
     },
     "execution_count": 126,
     "metadata": {},
     "output_type": "execute_result"
    }
   ],
   "source": [
    "recall_score(y, pred['PRED'], average='macro')"
   ]
  },
  {
   "cell_type": "code",
   "execution_count": null,
   "id": "48b7451a",
   "metadata": {},
   "outputs": [],
   "source": []
  }
 ],
 "metadata": {
  "kernelspec": {
   "display_name": "Python 3 (ipykernel)",
   "language": "python",
   "name": "python3"
  },
  "language_info": {
   "codemirror_mode": {
    "name": "ipython",
    "version": 3
   },
   "file_extension": ".py",
   "mimetype": "text/x-python",
   "name": "python",
   "nbconvert_exporter": "python",
   "pygments_lexer": "ipython3",
   "version": "3.7.4"
  }
 },
 "nbformat": 4,
 "nbformat_minor": 5
}
