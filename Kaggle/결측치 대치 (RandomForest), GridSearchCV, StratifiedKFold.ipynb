{
 "cells": [
  {
   "cell_type": "code",
   "execution_count": 98,
   "id": "cd0b89bf",
   "metadata": {},
   "outputs": [
    {
     "data": {
      "text/html": [
       "<div>\n",
       "<style scoped>\n",
       "    .dataframe tbody tr th:only-of-type {\n",
       "        vertical-align: middle;\n",
       "    }\n",
       "\n",
       "    .dataframe tbody tr th {\n",
       "        vertical-align: top;\n",
       "    }\n",
       "\n",
       "    .dataframe thead th {\n",
       "        text-align: right;\n",
       "    }\n",
       "</style>\n",
       "<table border=\"1\" class=\"dataframe\">\n",
       "  <thead>\n",
       "    <tr style=\"text-align: right;\">\n",
       "      <th></th>\n",
       "      <th>feature_0</th>\n",
       "      <th>feature_1</th>\n",
       "      <th>feature_2</th>\n",
       "      <th>feature_3</th>\n",
       "      <th>feature_4</th>\n",
       "      <th>feature_5</th>\n",
       "      <th>feature_6</th>\n",
       "      <th>feature_7</th>\n",
       "      <th>feature_8</th>\n",
       "      <th>feature_9</th>\n",
       "    </tr>\n",
       "  </thead>\n",
       "  <tbody>\n",
       "    <tr>\n",
       "      <td>0</td>\n",
       "      <td>1.125100</td>\n",
       "      <td>1.178124</td>\n",
       "      <td>0.493516</td>\n",
       "      <td>0.790880</td>\n",
       "      <td>-0.614278</td>\n",
       "      <td>1.347020</td>\n",
       "      <td>1.419515</td>\n",
       "      <td>1.357325</td>\n",
       "      <td>0.966041</td>\n",
       "      <td>-1.981139</td>\n",
       "    </tr>\n",
       "    <tr>\n",
       "      <td>1</td>\n",
       "      <td>-0.564641</td>\n",
       "      <td>3.638629</td>\n",
       "      <td>-1.522415</td>\n",
       "      <td>-1.541705</td>\n",
       "      <td>1.616697</td>\n",
       "      <td>4.781310</td>\n",
       "      <td>3.190292</td>\n",
       "      <td>-0.890254</td>\n",
       "      <td>1.438826</td>\n",
       "      <td>-3.828748</td>\n",
       "    </tr>\n",
       "    <tr>\n",
       "      <td>2</td>\n",
       "      <td>0.516313</td>\n",
       "      <td>2.165426</td>\n",
       "      <td>-0.628486</td>\n",
       "      <td>-0.386923</td>\n",
       "      <td>0.492518</td>\n",
       "      <td>1.442381</td>\n",
       "      <td>1.332905</td>\n",
       "      <td>-1.958175</td>\n",
       "      <td>-0.348803</td>\n",
       "      <td>-1.804124</td>\n",
       "    </tr>\n",
       "    <tr>\n",
       "      <td>3</td>\n",
       "      <td>0.537282</td>\n",
       "      <td>0.966618</td>\n",
       "      <td>-0.115420</td>\n",
       "      <td>0.670755</td>\n",
       "      <td>-0.958516</td>\n",
       "      <td>0.871440</td>\n",
       "      <td>0.508186</td>\n",
       "      <td>-1.034471</td>\n",
       "      <td>-1.654176</td>\n",
       "      <td>-1.910503</td>\n",
       "    </tr>\n",
       "    <tr>\n",
       "      <td>4</td>\n",
       "      <td>0.278385</td>\n",
       "      <td>1.065828</td>\n",
       "      <td>-1.724917</td>\n",
       "      <td>-2.235667</td>\n",
       "      <td>0.715107</td>\n",
       "      <td>0.731249</td>\n",
       "      <td>-0.674119</td>\n",
       "      <td>0.598330</td>\n",
       "      <td>-0.524283</td>\n",
       "      <td>1.047610</td>\n",
       "    </tr>\n",
       "  </tbody>\n",
       "</table>\n",
       "</div>"
      ],
      "text/plain": [
       "   feature_0  feature_1  feature_2  feature_3  feature_4  feature_5  \\\n",
       "0   1.125100   1.178124   0.493516   0.790880  -0.614278   1.347020   \n",
       "1  -0.564641   3.638629  -1.522415  -1.541705   1.616697   4.781310   \n",
       "2   0.516313   2.165426  -0.628486  -0.386923   0.492518   1.442381   \n",
       "3   0.537282   0.966618  -0.115420   0.670755  -0.958516   0.871440   \n",
       "4   0.278385   1.065828  -1.724917  -2.235667   0.715107   0.731249   \n",
       "\n",
       "   feature_6  feature_7  feature_8  feature_9  \n",
       "0   1.419515   1.357325   0.966041  -1.981139  \n",
       "1   3.190292  -0.890254   1.438826  -3.828748  \n",
       "2   1.332905  -1.958175  -0.348803  -1.804124  \n",
       "3   0.508186  -1.034471  -1.654176  -1.910503  \n",
       "4  -0.674119   0.598330  -0.524283   1.047610  "
      ]
     },
     "execution_count": 98,
     "metadata": {},
     "output_type": "execute_result"
    }
   ],
   "source": [
    "import pandas as pd\n",
    "import numpy as np\n",
    "from sklearn.datasets import make_classification\n",
    "\n",
    "# 1000개의 샘플, 10개의 특성, 이진 분류\n",
    "X, y = make_classification(n_samples=1000,\n",
    "                           n_features=10,\n",
    "                           n_informative=5,\n",
    "                           n_redundant=2,\n",
    "                           n_classes=2,\n",
    "                           random_state=42)\n",
    "\n",
    "# DataFrame으로 변환\n",
    "df = pd.DataFrame(X, columns=[f'feature_{i}' for i in range(10)])\n",
    "\n",
    "df.head()"
   ]
  },
  {
   "cell_type": "code",
   "execution_count": 99,
   "id": "f89fedf5",
   "metadata": {},
   "outputs": [
    {
     "data": {
      "text/plain": [
       "feature_0    56\n",
       "feature_1    45\n",
       "feature_2    50\n",
       "feature_3    40\n",
       "feature_4    58\n",
       "feature_5    44\n",
       "feature_6    42\n",
       "feature_7    39\n",
       "feature_8    44\n",
       "feature_9    63\n",
       "dtype: int64"
      ]
     },
     "execution_count": 99,
     "metadata": {},
     "output_type": "execute_result"
    }
   ],
   "source": [
    "# 임의의 결측치 추가\n",
    "def insert_random_nans(df, nan_fraction=0.05, seed=42):\n",
    "    np.random.seed(seed)\n",
    "    df_nan = df.copy()\n",
    "    \n",
    "    # 결측치를 넣을 총 셀 수\n",
    "    n_rows, n_cols = df.shape\n",
    "    n_total_cells = n_rows * n_cols\n",
    "    n_nans = int(n_total_cells * nan_fraction)\n",
    "    \n",
    "    # 무작위 인덱스 선택\n",
    "    row_indices = np.random.randint(0, n_rows, n_nans)\n",
    "    col_indices = np.random.randint(0, n_cols, n_nans)\n",
    "    \n",
    "    for row, col in zip(row_indices, col_indices):\n",
    "        df_nan.iat[row, col] = np.nan\n",
    "    \n",
    "    return df_nan\n",
    "\n",
    "df_nan = insert_random_nans(df, nan_fraction=0.05)\n",
    "\n",
    "df_nan.isnull().sum()"
   ]
  },
  {
   "cell_type": "code",
   "execution_count": 100,
   "id": "df2ef28c",
   "metadata": {},
   "outputs": [
    {
     "data": {
      "text/html": [
       "<div>\n",
       "<style scoped>\n",
       "    .dataframe tbody tr th:only-of-type {\n",
       "        vertical-align: middle;\n",
       "    }\n",
       "\n",
       "    .dataframe tbody tr th {\n",
       "        vertical-align: top;\n",
       "    }\n",
       "\n",
       "    .dataframe thead th {\n",
       "        text-align: right;\n",
       "    }\n",
       "</style>\n",
       "<table border=\"1\" class=\"dataframe\">\n",
       "  <thead>\n",
       "    <tr style=\"text-align: right;\">\n",
       "      <th></th>\n",
       "      <th>feature_0</th>\n",
       "      <th>feature_1</th>\n",
       "      <th>feature_2</th>\n",
       "      <th>feature_3</th>\n",
       "      <th>feature_4</th>\n",
       "      <th>feature_5</th>\n",
       "      <th>feature_6</th>\n",
       "      <th>feature_7</th>\n",
       "      <th>feature_8</th>\n",
       "      <th>feature_9</th>\n",
       "      <th>target</th>\n",
       "    </tr>\n",
       "  </thead>\n",
       "  <tbody>\n",
       "    <tr>\n",
       "      <td>0</td>\n",
       "      <td>1.125100</td>\n",
       "      <td>1.178124</td>\n",
       "      <td>0.493516</td>\n",
       "      <td>0.790880</td>\n",
       "      <td>-0.614278</td>\n",
       "      <td>1.347020</td>\n",
       "      <td>1.419515</td>\n",
       "      <td>1.357325</td>\n",
       "      <td>0.966041</td>\n",
       "      <td>-1.981139</td>\n",
       "      <td>1</td>\n",
       "    </tr>\n",
       "    <tr>\n",
       "      <td>1</td>\n",
       "      <td>-0.564641</td>\n",
       "      <td>3.638629</td>\n",
       "      <td>NaN</td>\n",
       "      <td>-1.541705</td>\n",
       "      <td>NaN</td>\n",
       "      <td>4.781310</td>\n",
       "      <td>3.190292</td>\n",
       "      <td>-0.890254</td>\n",
       "      <td>1.438826</td>\n",
       "      <td>NaN</td>\n",
       "      <td>0</td>\n",
       "    </tr>\n",
       "    <tr>\n",
       "      <td>2</td>\n",
       "      <td>0.516313</td>\n",
       "      <td>2.165426</td>\n",
       "      <td>-0.628486</td>\n",
       "      <td>-0.386923</td>\n",
       "      <td>0.492518</td>\n",
       "      <td>1.442381</td>\n",
       "      <td>1.332905</td>\n",
       "      <td>-1.958175</td>\n",
       "      <td>-0.348803</td>\n",
       "      <td>-1.804124</td>\n",
       "      <td>0</td>\n",
       "    </tr>\n",
       "    <tr>\n",
       "      <td>3</td>\n",
       "      <td>0.537282</td>\n",
       "      <td>0.966618</td>\n",
       "      <td>-0.115420</td>\n",
       "      <td>0.670755</td>\n",
       "      <td>-0.958516</td>\n",
       "      <td>0.871440</td>\n",
       "      <td>0.508186</td>\n",
       "      <td>-1.034471</td>\n",
       "      <td>-1.654176</td>\n",
       "      <td>-1.910503</td>\n",
       "      <td>1</td>\n",
       "    </tr>\n",
       "    <tr>\n",
       "      <td>4</td>\n",
       "      <td>NaN</td>\n",
       "      <td>1.065828</td>\n",
       "      <td>-1.724917</td>\n",
       "      <td>-2.235667</td>\n",
       "      <td>0.715107</td>\n",
       "      <td>0.731249</td>\n",
       "      <td>-0.674119</td>\n",
       "      <td>0.598330</td>\n",
       "      <td>-0.524283</td>\n",
       "      <td>1.047610</td>\n",
       "      <td>0</td>\n",
       "    </tr>\n",
       "  </tbody>\n",
       "</table>\n",
       "</div>"
      ],
      "text/plain": [
       "   feature_0  feature_1  feature_2  feature_3  feature_4  feature_5  \\\n",
       "0   1.125100   1.178124   0.493516   0.790880  -0.614278   1.347020   \n",
       "1  -0.564641   3.638629        NaN  -1.541705        NaN   4.781310   \n",
       "2   0.516313   2.165426  -0.628486  -0.386923   0.492518   1.442381   \n",
       "3   0.537282   0.966618  -0.115420   0.670755  -0.958516   0.871440   \n",
       "4        NaN   1.065828  -1.724917  -2.235667   0.715107   0.731249   \n",
       "\n",
       "   feature_6  feature_7  feature_8  feature_9  target  \n",
       "0   1.419515   1.357325   0.966041  -1.981139       1  \n",
       "1   3.190292  -0.890254   1.438826        NaN       0  \n",
       "2   1.332905  -1.958175  -0.348803  -1.804124       0  \n",
       "3   0.508186  -1.034471  -1.654176  -1.910503       1  \n",
       "4  -0.674119   0.598330  -0.524283   1.047610       0  "
      ]
     },
     "execution_count": 100,
     "metadata": {},
     "output_type": "execute_result"
    }
   ],
   "source": [
    "df = df_nan.copy()\n",
    "df['target'] = y\n",
    "df.head()"
   ]
  },
  {
   "cell_type": "code",
   "execution_count": 101,
   "id": "2743ccb8",
   "metadata": {},
   "outputs": [
    {
     "data": {
      "text/plain": [
       "feature_0     0\n",
       "feature_1     0\n",
       "feature_2     0\n",
       "feature_3     0\n",
       "feature_4     0\n",
       "feature_5     0\n",
       "feature_6     0\n",
       "feature_7    39\n",
       "feature_8    44\n",
       "feature_9    63\n",
       "target        0\n",
       "dtype: int64"
      ]
     },
     "execution_count": 101,
     "metadata": {},
     "output_type": "execute_result"
    }
   ],
   "source": [
    "# feature_0 ~ 6 평균값 대치\n",
    "\n",
    "for i in range(7):\n",
    "    feat = f\"feature_{i}\"\n",
    "    df[feat] = df[feat].fillna(df[feat].mean())\n",
    "\n",
    "df.isna().sum()"
   ]
  },
  {
   "cell_type": "code",
   "execution_count": 102,
   "id": "1c6fbdb2",
   "metadata": {},
   "outputs": [
    {
     "name": "stdout",
     "output_type": "stream",
     "text": [
      "feature_0    481.417569\n",
      "feature_1    -30.876998\n",
      "feature_2    -73.601172\n",
      "feature_3   -469.289955\n",
      "feature_4    486.317475\n",
      "feature_5    514.414923\n",
      "feature_6    470.197616\n",
      "feature_7     22.580556\n",
      "feature_8    -65.941171\n",
      "feature_9    633.542178\n",
      "target       503.000000\n",
      "dtype: float64\n"
     ]
    },
    {
     "data": {
      "text/plain": [
       "feature_0    0\n",
       "feature_1    0\n",
       "feature_2    0\n",
       "feature_3    0\n",
       "feature_4    0\n",
       "feature_5    0\n",
       "feature_6    0\n",
       "feature_7    0\n",
       "feature_8    0\n",
       "feature_9    0\n",
       "target       0\n",
       "dtype: int64"
      ]
     },
     "execution_count": 102,
     "metadata": {},
     "output_type": "execute_result"
    }
   ],
   "source": [
    "# 랜덤포레스트로 결측치 제거\n",
    "from sklearn.ensemble import RandomForestRegressor\n",
    "\n",
    "df2 = df.copy()\n",
    "\n",
    "rfr = RandomForestRegressor(random_state=1234, n_estimators=100, max_depth=15)\n",
    "\n",
    "notnull_list = [f'feature_{i}' for i in range(7)]\n",
    "for col in ['feature_7', 'feature_8', 'feature_9']:\n",
    "    X = df2.loc[df2[col].notnull(), notnull_list]\n",
    "    y = df2.loc[df2[col].notnull(), col]\n",
    "    \n",
    "    rfr.fit(X, y)\n",
    "    \n",
    "    pred = rfr.predict(df2.loc[df2[col].isnull(), notnull_list])\n",
    "    # pred = pd.Series(pred)\n",
    "    # pred.index = df2[df2[col].isnull()].index\n",
    "    df2.loc[df2[col].isnull(), col] = pred\n",
    "\n",
    "print(df2.sum())\n",
    "df2.isna().sum()"
   ]
  },
  {
   "cell_type": "code",
   "execution_count": 103,
   "id": "355756e1",
   "metadata": {},
   "outputs": [],
   "source": [
    "###################################################################################################"
   ]
  },
  {
   "attachments": {
    "image.png": {
     "image/png": "[encoded data removed]"
    }
   },
   "cell_type": "markdown",
   "id": "46c8ca09",
   "metadata": {},
   "source": [
    "![image.png](attachment:image.png)"
   ]
  },
  {
   "cell_type": "code",
   "execution_count": 106,
   "id": "78de0d1b",
   "metadata": {},
   "outputs": [
    {
     "name": "stdout",
     "output_type": "stream",
     "text": [
      "[10 20 30 40 50 60 70 80 90]\n",
      "[3, 5, 7, 9, 11, 13]\n",
      "Fitting 5 folds for each of 216 candidates, totalling 1080 fits\n"
     ]
    },
    {
     "name": "stderr",
     "output_type": "stream",
     "text": [
      "[Parallel(n_jobs=1)]: Using backend SequentialBackend with 1 concurrent workers.\n"
     ]
    },
    {
     "name": "stdout",
     "output_type": "stream",
     "text": [
      "Best parameters: {'learning_rate': 0.5, 'max_depth': 7, 'n_estimators': 20}\n",
      "Best score: 0.9167809207950137\n"
     ]
    },
    {
     "name": "stderr",
     "output_type": "stream",
     "text": [
      "[Parallel(n_jobs=1)]: Done 1080 out of 1080 | elapsed:   59.6s finished\n"
     ]
    }
   ],
   "source": [
    "from sklearn.model_selection import GridSearchCV, StratifiedKFold\n",
    "from xgboost import XGBClassifier\n",
    "\n",
    "est = np.arange(10, 100, 10)\n",
    "md = list(np.arange(3, 15, 2)) # + [None]\n",
    "\n",
    "print(est)\n",
    "print(md)\n",
    "param_grid = {\n",
    "    'n_estimators': est,\n",
    "    'max_depth': md,\n",
    "    'learning_rate': [0.01, 0.1, 0.2, 0.5]\n",
    "}\n",
    "\n",
    "\n",
    "xgb_model = XGBClassifier()\n",
    "cv = StratifiedKFold(n_splits=5, shuffle=True, random_state=1234)\n",
    "\n",
    "grid = GridSearchCV(estimator=xgb_model,\n",
    "                    param_grid=param_grid,\n",
    "                    cv=cv,\n",
    "                    scoring='f1',\n",
    "                    verbose=1)\n",
    "\n",
    "grid.fit(df2.drop(['target'], axis=1), df2['target'])\n",
    "\n",
    "# 결과\n",
    "print(\"Best parameters:\", grid.best_params_)\n",
    "print(\"Best score:\", grid.best_score_)"
   ]
  },
  {
   "cell_type": "code",
   "execution_count": null,
   "id": "158aedb5",
   "metadata": {},
   "outputs": [],
   "source": []
  }
 ],
 "metadata": {
  "kernelspec": {
   "display_name": "Python 3 (ipykernel)",
   "language": "python",
   "name": "python3"
  },
  "language_info": {
   "codemirror_mode": {
    "name": "ipython",
    "version": 3
   },
   "file_extension": ".py",
   "mimetype": "text/x-python",
   "name": "python",
   "nbconvert_exporter": "python",
   "pygments_lexer": "ipython3",
   "version": "3.7.4"
  }
 },
 "nbformat": 4,
 "nbformat_minor": 5
}
