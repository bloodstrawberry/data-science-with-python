{
 "cells": [
  {
   "cell_type": "code",
   "execution_count": null,
   "id": "c98b43db",
   "metadata": {},
   "outputs": [],
   "source": [
    "# 특징\n",
    "# 변수 간의 상호 관계 파악이 가능"
   ]
  },
  {
   "cell_type": "code",
   "execution_count": null,
   "id": "cfa12208",
   "metadata": {},
   "outputs": [],
   "source": [
    "# 단점\n",
    "# 많은 양의 자료를 효율적으로 표시하기 힘들다"
   ]
  }
 ],
 "metadata": {
  "kernelspec": {
   "display_name": "Python 3 (ipykernel)",
   "language": "python",
   "name": "python3"
  },
  "language_info": {
   "codemirror_mode": {
    "name": "ipython",
    "version": 3
   },
   "file_extension": ".py",
   "mimetype": "text/x-python",
   "name": "python",
   "nbconvert_exporter": "python",
   "pygments_lexer": "ipython3",
   "version": "3.7.4"
  }
 },
 "nbformat": 4,
 "nbformat_minor": 5
}
