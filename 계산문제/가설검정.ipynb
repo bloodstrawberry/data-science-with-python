{
 "cells": [
  {
   "cell_type": "code",
   "execution_count": null,
   "id": "608ac240",
   "metadata": {},
   "outputs": [],
   "source": [
    "# 검정력 : H0가 참이 아닐 때, H0를 기각하는 확률 = 1 - β"
   ]
  },
  {
   "cell_type": "code",
   "execution_count": 3,
   "id": "0d54f633",
   "metadata": {},
   "outputs": [
    {
     "name": "stdout",
     "output_type": "stream",
     "text": [
      "P(X <= 11) = 0.05556\n"
     ]
    }
   ],
   "source": [
    "# 대머리 치료제가 90%의 환자를 치료한다고 할 때,\n",
    "# 15명의 대머리에게 약을 투여한 후, 11명이 치료가 되었다.\n",
    "# 이 약은 90%의 환자를 치료한다고 할 수 있을까?\n",
    "\n",
    "# H0 : p = 0.9\n",
    "# H1 : p < 0.9\n",
    "\n",
    "from scipy.stats import binom\n",
    "\n",
    "# 파라미터\n",
    "n = 15       # 시도 횟수\n",
    "p = 0.9      # 성공 확률\n",
    "x = 11       # 누적 확률을 구할 x값\n",
    "\n",
    "# 누적 확률 계산: P(X <= 11)\n",
    "prob = binom.cdf(x, n, p)\n",
    "\n",
    "# 결과 출력\n",
    "print(f\"P(X <= 11) = {prob:.5f}\")"
   ]
  },
  {
   "cell_type": "code",
   "execution_count": null,
   "id": "ea6c8865",
   "metadata": {},
   "outputs": [],
   "source": [
    "# 0.05556은 0.5보다 크므로, 귀무가설을 채택"
   ]
  },
  {
   "cell_type": "code",
   "execution_count": null,
   "id": "f793ebf5",
   "metadata": {},
   "outputs": [],
   "source": [
    "from scipy.stats import binomtest\n",
    "\n",
    "# 파라미터\n",
    "n = 15        # 총 환자 수\n",
    "x = 11        # 치료된 환자 수\n",
    "p = 0.9       # 주장되는 치료 확률\n",
    "\n",
    "# 이항 검정 (단측검정: p < 0.9)\n",
    "result = binomtest(x, n=n, p=p, alternative='less')\n",
    "\n",
    "# 결과 출력\n",
    "print(f\"p-value: {result.pvalue:.5f}\")\n",
    "if result.pvalue < 0.05:\n",
    "    print(\"귀무가설을 기각합니다: 치료율이 90%보다 낮을 수 있습니다.\")\n",
    "else:\n",
    "    print(\"귀무가설을 기각할 수 없습니다: 치료율이 90%라고 볼 수 있습니다.\")"
   ]
  },
  {
   "cell_type": "code",
   "execution_count": 5,
   "id": "de1b67d8",
   "metadata": {},
   "outputs": [
    {
     "name": "stdout",
     "output_type": "stream",
     "text": [
      "P(X <= 80) ≈ P(Z <= -3.17) = 0.00077\n"
     ]
    }
   ],
   "source": [
    "# N이 100이고 치료된 환자의 수가 80이라면?\n",
    "# E(X) = np가 5보다 크므로, 정규분포로 근사\n",
    "# X ~ B(n, p) -> N(np, npq) = N(100 * 0.9, 100 * 0.9 * (1 - 0.9)) = N(90, 9)\n",
    "from scipy.stats import norm\n",
    "\n",
    "mu = 100 * 0.9\n",
    "std = (100 * 0.9 * 0.1) ** 0.5\n",
    "\n",
    "# 연속성 보정: X <= 80 => X <= 80.5\n",
    "z = (80.5 - mu) / std\n",
    "\n",
    "# 누적 확률 계산\n",
    "prob = norm.cdf(z)\n",
    " \n",
    "print(f\"P(X <= 80) ≈ P(Z <= {z:.2f}) = {prob:.5f}\") # 귀무가설 기각"
   ]
  },
  {
   "cell_type": "code",
   "execution_count": 8,
   "id": "6ca57fe6",
   "metadata": {},
   "outputs": [
    {
     "data": {
      "text/plain": [
       "(80.0, 15.999999999999996)"
      ]
     },
     "execution_count": 8,
     "metadata": {},
     "output_type": "execute_result"
    }
   ],
   "source": [
    "# 2종 오류 확률은?\n",
    "# H0 : p = 0.9\n",
    "# H1 : p = 0.8\n",
    "\n",
    "# P(Z < -1.64) = 0.05\n",
    "# 기각역 바깥 = Z >= 1.64 \n",
    "# -> (X - 90) / 3 >= -1.64 \n",
    "# -> X >= 85.08\n",
    "from scipy.stats import norm\n",
    "import math\n",
    "\n",
    "n = 100\n",
    "p = 0.8\n",
    "\n",
    "np = n * p\n",
    "npq = n * p * (1 - p)\n",
    "\n",
    "np, npq"
   ]
  },
  {
   "cell_type": "code",
   "execution_count": 12,
   "id": "5388ade3",
   "metadata": {},
   "outputs": [
    {
     "data": {
      "text/plain": [
       "0.1020423150748192"
      ]
     },
     "execution_count": 12,
     "metadata": {},
     "output_type": "execute_result"
    }
   ],
   "source": [
    "# X ~ N(80, 16)으로 근사\n",
    "# P(X >= 85.08)를 계산하면 2종 오류를 확인할 수 있다.\n",
    "\n",
    "mu = np\n",
    "std = math.sqrt(npq)\n",
    "\n",
    "z = (85.08 - mu) / std\n",
    "\n",
    "# P(Z >= 1.27) = 1 - P(Z < 1.27)\n",
    "1 - norm.cdf(z) # 2종 오류 확률, 80% 사람이 치료되었을 때, 90%의 사람이 치료되었다는 귀무 가설을 사실로 받아들이는 확률"
   ]
  },
  {
   "cell_type": "code",
   "execution_count": null,
   "id": "38ace44f",
   "metadata": {},
   "outputs": [],
   "source": []
  },
  {
   "cell_type": "code",
   "execution_count": null,
   "id": "8e413320",
   "metadata": {},
   "outputs": [],
   "source": [
    "# 성별과 과자 A, B, C에 대한 선호도가 주어졌을 대, 카이제곱 검정을 수행하시오"
   ]
  },
  {
   "cell_type": "code",
   "execution_count": 1,
   "id": "0367ac17",
   "metadata": {},
   "outputs": [
    {
     "name": "stdout",
     "output_type": "stream",
     "text": [
      "Chi-squared 통계량: 0.926\n",
      "p-value: 0.6294\n",
      "자유도: 2\n",
      "기대도수표:\n",
      "[[15. 27. 18.]\n",
      " [10. 18. 12.]]\n",
      "귀무가설 채택: 성별과 영화 장르 선호는 독립이다.\n"
     ]
    }
   ],
   "source": [
    "import numpy as np\n",
    "from scipy.stats import chi2_contingency\n",
    "\n",
    "# 관측도수 테이블\n",
    "data = np.array([\n",
    "    # A, B, C\n",
    "    [15, 25, 20],  # 남자\n",
    "    [10, 20, 10]   # 여자\n",
    "])\n",
    "\n",
    "# 카이제곱 독립성 검정\n",
    "chi2, p, dof, expected = chi2_contingency(data)\n",
    "\n",
    "# 결과 출력\n",
    "print(f\"Chi-squared 통계량: {chi2:.3f}\")\n",
    "print(f\"p-value: {p:.4f}\")\n",
    "print(f\"자유도: {dof}\")\n",
    "print(\"기대도수표:\")\n",
    "print(expected) \n",
    "# 남자가 과자 A를 좋아할 확률은 0.6 * 0.25 = 0.15\n",
    "\n",
    "# 해석\n",
    "alpha = 0.05\n",
    "if p < alpha:\n",
    "    print(\"귀무가설 기각: 성별과 과자 선호는 독립이 아니다.\")\n",
    "else:\n",
    "    print(\"귀무가설 채택: 성별과 과자 선호는 독립이다.\")"
   ]
  },
  {
   "cell_type": "code",
   "execution_count": null,
   "id": "372eef87",
   "metadata": {},
   "outputs": [],
   "source": []
  }
 ],
 "metadata": {
  "kernelspec": {
   "display_name": "Python 3 (ipykernel)",
   "language": "python",
   "name": "python3"
  },
  "language_info": {
   "codemirror_mode": {
    "name": "ipython",
    "version": 3
   },
   "file_extension": ".py",
   "mimetype": "text/x-python",
   "name": "python",
   "nbconvert_exporter": "python",
   "pygments_lexer": "ipython3",
   "version": "3.7.4"
  }
 },
 "nbformat": 4,
 "nbformat_minor": 5
}
