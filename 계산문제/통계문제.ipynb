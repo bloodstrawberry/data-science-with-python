{
 "cells": [
  {
   "cell_type": "code",
   "execution_count": null,
   "id": "146685d5",
   "metadata": {},
   "outputs": [],
   "source": [
    "# 선수 1 : 평균 슛 성공률 70%, 표준편차 20%\n",
    "# 선수 2 : 평균 슛 성공률 40%, 표준편차 10%\n",
    "# 선수 1번이 75% 슛을 성공하였고, 선수 2번이 55%로 성공했다면, 평소보다 더 나은 선수는?"
   ]
  }
 ],
 "metadata": {
  "kernelspec": {
   "display_name": "Python 3 (ipykernel)",
   "language": "python",
   "name": "python3"
  },
  "language_info": {
   "codemirror_mode": {
    "name": "ipython",
    "version": 3
   },
   "file_extension": ".py",
   "mimetype": "text/x-python",
   "name": "python",
   "nbconvert_exporter": "python",
   "pygments_lexer": "ipython3",
   "version": "3.7.4"
  }
 },
 "nbformat": 4,
 "nbformat_minor": 5
}
