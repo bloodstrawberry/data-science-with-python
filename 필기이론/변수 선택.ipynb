{
 "cells": [
  {
   "cell_type": "code",
   "execution_count": null,
   "id": "4db5da8b",
   "metadata": {},
   "outputs": [],
   "source": [
    "회귀방정식의 변수 선택 방법\n",
    "② 후진제거법은 독립변수 후보 모두를 포함한 모형에서 시작한다.\n",
    "\n",
    "③ 단계별 선택법은 기준 통계치에 가장 도움이 되지 않는 변수를 삭제하거나, \n",
    "모델에서 빠져 있는 변수 중에서 기준 통계치를 가장 개선 시키는 변수를 추가한다.\n",
    "\n",
    "④ 회귀모델에서 변수 선택을 위한 판단 기준에는 Cp, AIC, BIC등이 있으며 값이 작을수록 좋다.\n",
    "\n",
    "\n",
    "\n",
    "Stepwise Elimination??"
   ]
  },
  {
   "cell_type": "code",
   "execution_count": null,
   "id": "78be25cf",
   "metadata": {},
   "outputs": [],
   "source": []
  },
  {
   "cell_type": "code",
   "execution_count": null,
   "id": "9559b336",
   "metadata": {},
   "outputs": [],
   "source": []
  },
  {
   "cell_type": "code",
   "execution_count": null,
   "id": "e2405ebd",
   "metadata": {},
   "outputs": [],
   "source": []
  }
 ],
 "metadata": {
  "kernelspec": {
   "display_name": "Python 3 (ipykernel)",
   "language": "python",
   "name": "python3"
  },
  "language_info": {
   "codemirror_mode": {
    "name": "ipython",
    "version": 3
   },
   "file_extension": ".py",
   "mimetype": "text/x-python",
   "name": "python",
   "nbconvert_exporter": "python",
   "pygments_lexer": "ipython3",
   "version": "3.7.4"
  }
 },
 "nbformat": 4,
 "nbformat_minor": 5
}
