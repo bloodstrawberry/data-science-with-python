{
 "cells": [
  {
   "cell_type": "code",
   "execution_count": 1,
   "id": "5c4be172",
   "metadata": {},
   "outputs": [],
   "source": [
    "# 차원의 저주\n",
    "# 차원의 저주(Curse of Dimensionality)에서는 고차원으로 갈수록 데이터 포인트들이 희소해지고, \n",
    "# 각 포인트 간의 거리가 멀어지는 현상이 발생\n",
    "# 이로 인해 모델이 학습 데이터에만 지나치게 맞춰 과적합될 가능성이 높아진다.\n",
    "# 고차원에서는 모델이 복잡해지고, 훈련 데이터에 완벽하게 맞추기 쉬워지기 때문에 과적합이 더 쉬워진다. \n",
    "# KNN은 차원의 저주에 취약하다."
   ]
  },
  {
   "cell_type": "code",
   "execution_count": null,
   "id": "fd01ded0",
   "metadata": {},
   "outputs": [],
   "source": []
  }
 ],
 "metadata": {
  "kernelspec": {
   "display_name": "Python 3 (ipykernel)",
   "language": "python",
   "name": "python3"
  },
  "language_info": {
   "codemirror_mode": {
    "name": "ipython",
    "version": 3
   },
   "file_extension": ".py",
   "mimetype": "text/x-python",
   "name": "python",
   "nbconvert_exporter": "python",
   "pygments_lexer": "ipython3",
   "version": "3.7.4"
  }
 },
 "nbformat": 4,
 "nbformat_minor": 5
}
