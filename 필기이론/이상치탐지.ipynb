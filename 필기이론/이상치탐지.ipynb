{
 "cells": [
  {
   "cell_type": "code",
   "execution_count": null,
   "id": "846a9d54",
   "metadata": {},
   "outputs": [],
   "source": [
    "# PCA의 일정 수준이상의 성분을 선택한 후, 다시 역변환 했을 때 원래 데이터의 차이가 큰 데이터 포인트가 이상치\n",
    "\n"
   ]
  },
  {
   "cell_type": "code",
   "execution_count": null,
   "id": "c6509218",
   "metadata": {},
   "outputs": [],
   "source": []
  },
  {
   "cell_type": "code",
   "execution_count": null,
   "id": "05947c3e",
   "metadata": {},
   "outputs": [],
   "source": [
    "# LOF\n",
    "# 데이터의 분포나 밀도에 대한 가정을 하지 않음 (다양한 데이터 유형 적용)\n",
    "# 모든 데이터를 고려하지 않고, 해당 포인트의 주변 데이터만 이용하여 이상치 탐지\n",
    "# 데이터 포인트 K에 대해서 LOF(K) < 1이면 이웃보다 밀도가 높은 것을 의미\n",
    "# LOF는 거리 기반 방법이므로 차원의 저주에 취약, 차원이 높을수록 이상치 판별 효과가 낮아진다."
   ]
  },
  {
   "cell_type": "code",
   "execution_count": null,
   "id": "535e55e3",
   "metadata": {},
   "outputs": [],
   "source": []
  },
  {
   "cell_type": "code",
   "execution_count": null,
   "id": "590b193b",
   "metadata": {},
   "outputs": [],
   "source": [
    "# Isolation Forest\n",
    "# 데이터 포에 대한 가정이 필요 없음\n",
    "# 데이터 포인트가 더 이상 분기를 만들 수 없을 때, 깊이가 작을수록 이상치 (쉽게 고립되거나 작은 깊이로 도달 가능)\n",
    "# 고차원 데이터에서 성능 저하가 상대적으로 적음.\n",
    "# 단일 Tree의 결과가 불안정(편향/분산 문제)하여 Bagging 방법을 응용하여 이상치 여부를 나타내는 점수의 신뢰성을 높임.\n",
    "\n",
    "\n"
   ]
  },
  {
   "cell_type": "code",
   "execution_count": null,
   "id": "7dce8fb7",
   "metadata": {},
   "outputs": [],
   "source": []
  }
 ],
 "metadata": {
  "kernelspec": {
   "display_name": "Python 3 (ipykernel)",
   "language": "python",
   "name": "python3"
  },
  "language_info": {
   "codemirror_mode": {
    "name": "ipython",
    "version": 3
   },
   "file_extension": ".py",
   "mimetype": "text/x-python",
   "name": "python",
   "nbconvert_exporter": "python",
   "pygments_lexer": "ipython3",
   "version": "3.7.4"
  }
 },
 "nbformat": 4,
 "nbformat_minor": 5
}
