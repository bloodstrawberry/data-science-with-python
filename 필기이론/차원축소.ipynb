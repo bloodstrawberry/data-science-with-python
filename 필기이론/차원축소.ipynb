{
 "cells": [
  {
   "cell_type": "code",
   "execution_count": null,
   "id": "d7a5d399",
   "metadata": {},
   "outputs": [],
   "source": []
  },
  {
   "cell_type": "code",
   "execution_count": null,
   "id": "6c9d2581",
   "metadata": {},
   "outputs": [],
   "source": [
    "# 차원 축소 모델\n",
    "# 다차원 척도법(MDS)에서 차원 축소의 목표점은 원래 데이터의 거리 정보와 유지하는 것이다.\n",
    "# Compact SVD 방식은 손실이 발생하지 않은 수준까지 rank를 줄인다.\n",
    "# 부분 최소 제곱 회귀(PLS)는 k 차원의 입력 데이터 X와 수치형 대상 변수 y에서, y와의 공분산이 최대가 되는 X의 선형 변환을 찾아 차원을 축소\n",
    "# LDA의 성분수는 대상 변수 클래스의 수(M) - 1 이다.\n",
    "# t-SNE는 데이터 포인트 사이의 유사도를 구하여 확률 분포를 나타내고, 확률 분포가 유사한 방향으로 차원을 축소한다."
   ]
  },
  {
   "cell_type": "code",
   "execution_count": null,
   "id": "37911ee5",
   "metadata": {},
   "outputs": [],
   "source": []
  },
  {
   "cell_type": "code",
   "execution_count": null,
   "id": "9b39c4fe",
   "metadata": {},
   "outputs": [],
   "source": []
  },
  {
   "cell_type": "code",
   "execution_count": null,
   "id": "de810787",
   "metadata": {},
   "outputs": [],
   "source": []
  },
  {
   "cell_type": "code",
   "execution_count": null,
   "id": "7db40c3e",
   "metadata": {},
   "outputs": [],
   "source": [
    "# PCA\n",
    "# 설명하는 분산의 양이 큰 성분을 우선적으로 선택\n",
    "# 모든 변수들이 서로 완전히 독립이라면 주성분분석 효과가 없다.\n",
    "# 선택과정에서 제외된 성분들이 가진 분산만큼 설명력이 사라짐\n",
    "# 선택한 주성분 수가 많아질수록 분산이 높아지는 경향이 있다.\n",
    "# PCA 결과는 특이값 분해를 활용하여 얻는다.\n",
    "\n",
    "# 이상치 탐색 : PCA의 일정 수준이상의 성분을 선택한 후, 다시 역변환 했을 때 원래 데이터의 차이가 큰 데이터 포인트가 이상치"
   ]
  },
  {
   "cell_type": "code",
   "execution_count": null,
   "id": "46c5dcc1",
   "metadata": {},
   "outputs": [],
   "source": []
  },
  {
   "cell_type": "code",
   "execution_count": null,
   "id": "4aacb775",
   "metadata": {},
   "outputs": [],
   "source": []
  },
  {
   "cell_type": "code",
   "execution_count": null,
   "id": "2f659a8d",
   "metadata": {},
   "outputs": [],
   "source": []
  },
  {
   "cell_type": "code",
   "execution_count": null,
   "id": "fa8e73ed",
   "metadata": {},
   "outputs": [],
   "source": []
  }
 ],
 "metadata": {
  "kernelspec": {
   "display_name": "Python 3 (ipykernel)",
   "language": "python",
   "name": "python3"
  },
  "language_info": {
   "codemirror_mode": {
    "name": "ipython",
    "version": 3
   },
   "file_extension": ".py",
   "mimetype": "text/x-python",
   "name": "python",
   "nbconvert_exporter": "python",
   "pygments_lexer": "ipython3",
   "version": "3.7.4"
  }
 },
 "nbformat": 4,
 "nbformat_minor": 5
}
