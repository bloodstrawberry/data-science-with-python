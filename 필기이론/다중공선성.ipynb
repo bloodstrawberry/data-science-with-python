{
 "cells": [
  {
   "cell_type": "code",
   "execution_count": 1,
   "id": "5241ca99",
   "metadata": {},
   "outputs": [],
   "source": [
    "# 다중공선성\n",
    "# 독립변수들이 서로 거의 선형적으로 종속되어 있는 상태\n",
    "# 예를 들어, 변수 A와 B가 거의 완벽히 비례한다면 둘 다 동시에 회귀식에 들어가면 문제가 생김\n",
    "# 다중공선성이 있으면 회귀계수 추정이 불안정해지고, 해석이 어려워짐\n",
    "# 분산이 커지고, 회귀계수의 신뢰구간이 넓어져서 통계적 유의성이 떨어질 수 있음\n",
    "\n",
    "# 문제점\n",
    "# 계수 추정치가 매우 불안정\n",
    "# 예측 성능에는 큰 문제 없을 수도 있지만, 변수별 영향 해석이 어려움\n",
    "# 모델의 해석력을 떨어뜨림\n",
    "\n",
    "# 진단 방법\n",
    "# VIF(분산팽창계수, Variance Inflation Factor)\n",
    "# VIF가 10 이상이면 다중공선성이 높다고 판단\n",
    "# 상관계수 행렬을 보고 독립변수들 간 강한 상관이 있는지 확인\n",
    "\n",
    "# 해결방법\n",
    "# AutoEncoder를 사용하여 차원을 줄인다. (비지도 신경망)\n",
    "# 해당 변수를 제거한다.\n",
    "# Lasso 모델을 사용한다. (일부 계수를 0으로 만들어서 변수 선택 효과가 있음.)\n",
    "\n",
    "# 이상치 제거는 다중공선성과 무관. 변수 간의 상관관계를 없애지는 못함."
   ]
  },
  {
   "cell_type": "code",
   "execution_count": 2,
   "id": "53ae167f",
   "metadata": {},
   "outputs": [
    {
     "name": "stdout",
     "output_type": "stream",
     "text": [
      "상관계수 행렬:\n",
      "          X1        X2        X3\n",
      "X1  1.000000  0.999427  0.076116\n",
      "X2  0.999427  1.000000  0.077692\n",
      "X3  0.076116  0.077692  1.000000\n",
      "\n",
      "VIF 결과:\n",
      "  feature         VIF\n",
      "0      X1  872.544357\n",
      "1      X2  872.724327\n",
      "2      X3    1.007086\n",
      "\n",
      "회귀분석 결과 요약:\n",
      "                            OLS Regression Results                            \n",
      "==============================================================================\n",
      "Dep. Variable:                      y   R-squared:                       0.888\n",
      "Model:                            OLS   Adj. R-squared:                  0.885\n",
      "Method:                 Least Squares   F-statistic:                     254.2\n",
      "Date:                Sun, 22 Jun 2025   Prob (F-statistic):           1.58e-45\n",
      "Time:                        20:11:42   Log-Likelihood:                -133.20\n",
      "No. Observations:                 100   AIC:                             274.4\n",
      "Df Residuals:                      96   BIC:                             284.8\n",
      "Df Model:                           3                                         \n",
      "Covariance Type:            nonrobust                                         \n",
      "==============================================================================\n",
      "                 coef    std err          t      P>|t|      [0.025      0.975]\n",
      "------------------------------------------------------------------------------\n",
      "const         -0.1909      0.094     -2.026      0.046      -0.378      -0.004\n",
      "X1            -0.1941      2.745     -0.071      0.944      -5.642       5.254\n",
      "X2             0.7073      0.911      0.776      0.439      -1.101       2.516\n",
      "X3             1.6251      0.099     16.468      0.000       1.429       1.821\n",
      "==============================================================================\n",
      "Omnibus:                        0.370   Durbin-Watson:                   2.076\n",
      "Prob(Omnibus):                  0.831   Jarque-Bera (JB):                0.537\n",
      "Skew:                           0.070   Prob(JB):                        0.765\n",
      "Kurtosis:                       2.670   Cond. No.                         99.1\n",
      "==============================================================================\n",
      "\n",
      "Warnings:\n",
      "[1] Standard Errors assume that the covariance matrix of the errors is correctly specified.\n"
     ]
    },
    {
     "name": "stderr",
     "output_type": "stream",
     "text": [
      "c:\\users\\vvv30\\appdata\\local\\programs\\python\\python37\\lib\\site-packages\\numpy\\core\\fromnumeric.py:2542: FutureWarning: Method .ptp is deprecated and will be removed in a future version. Use numpy.ptp instead.\n",
      "  return ptp(axis=axis, out=out, **kwargs)\n"
     ]
    }
   ],
   "source": [
    "import numpy as np\n",
    "import pandas as pd\n",
    "from statsmodels.stats.outliers_influence import variance_inflation_factor\n",
    "import statsmodels.api as sm\n",
    "\n",
    "# 샘플 데이터 생성\n",
    "np.random.seed(0)\n",
    "X1 = np.random.normal(0, 1, 100)\n",
    "X2 = 3*X1 + np.random.normal(0, 0.1, 100)  # X1과 강한 선형관계\n",
    "X3 = np.random.normal(0, 1, 100)\n",
    "\n",
    "df = pd.DataFrame({'X1': X1, 'X2': X2, 'X3': X3})\n",
    "\n",
    "# 상관계수 확인\n",
    "print(\"상관계수 행렬:\")\n",
    "print(df.corr())\n",
    "\n",
    "# VIF 계산 함수\n",
    "def calculate_vif(df):\n",
    "    vif_data = pd.DataFrame()\n",
    "    vif_data[\"feature\"] = df.columns\n",
    "    vif_data[\"VIF\"] = [variance_inflation_factor(df.values, i) for i in range(df.shape[1])]\n",
    "    return vif_data\n",
    "\n",
    "print(\"\\nVIF 결과:\")\n",
    "print(calculate_vif(df))\n",
    "\n",
    "# 간단한 회귀분석\n",
    "X = sm.add_constant(df)\n",
    "y = 2*X1 + 1.5*X3 + np.random.normal(0, 1, 100)  # 종속변수 생성\n",
    "\n",
    "model = sm.OLS(y, X).fit()\n",
    "print(\"\\n회귀분석 결과 요약:\")\n",
    "print(model.summary())"
   ]
  },
  {
   "cell_type": "code",
   "execution_count": null,
   "id": "31240254",
   "metadata": {},
   "outputs": [],
   "source": []
  },
  {
   "cell_type": "code",
   "execution_count": null,
   "id": "b3a54e52",
   "metadata": {},
   "outputs": [],
   "source": []
  },
  {
   "cell_type": "code",
   "execution_count": null,
   "id": "559944c6",
   "metadata": {},
   "outputs": [],
   "source": []
  },
  {
   "cell_type": "code",
   "execution_count": null,
   "id": "646c56b8",
   "metadata": {},
   "outputs": [],
   "source": []
  },
  {
   "cell_type": "code",
   "execution_count": null,
   "id": "fa42d360",
   "metadata": {},
   "outputs": [],
   "source": []
  }
 ],
 "metadata": {
  "kernelspec": {
   "display_name": "Python 3 (ipykernel)",
   "language": "python",
   "name": "python3"
  },
  "language_info": {
   "codemirror_mode": {
    "name": "ipython",
    "version": 3
   },
   "file_extension": ".py",
   "mimetype": "text/x-python",
   "name": "python",
   "nbconvert_exporter": "python",
   "pygments_lexer": "ipython3",
   "version": "3.7.4"
  }
 },
 "nbformat": 4,
 "nbformat_minor": 5
}
