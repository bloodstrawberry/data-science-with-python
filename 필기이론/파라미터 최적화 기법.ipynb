{
 "cells": [
  {
   "cell_type": "code",
   "execution_count": null,
   "id": "0444f99d",
   "metadata": {},
   "outputs": [],
   "source": [
    "CNN 기법의 초매개변수 = 스트라이드 크기, 패딩, 필터 크기\n",
    "\n",
    "매개변수 = 필터 값\n",
    "\n",
    " \n",
    "\n",
    " \n",
    "\n",
    "파라미터 최적화\n",
    "RMSProp\n",
    "Adadelta\n",
    "Nadam\n",
    "\n",
    " \n",
    "\n",
    "하이퍼 파라미터 탐색 \n",
    "Bayesian Optimization \n",
    "Grid Search\n",
    "Random Search\n",
    "\n",
    " \n",
    "\n",
    " \n",
    "\n",
    "--------\n",
    "\n",
    "매개변수 및 초매개변수에 대한 설명으로 옳은 것\n",
    "\n",
    "매개변수는 모형 내부에서 측정되거나 훈련 데이터로부터 값을 추정할 수 있는 변수이다.\n",
    "\n",
    "초매개변수는 모형의 매개변수를 측정하기 위해 알고리즘 구현 과정에서 사용되는 변수이다.\n",
    "\n",
    "초매개변수는 연구자가 직접 설정한다."
   ]
  },
  {
   "cell_type": "code",
   "execution_count": null,
   "id": "a90ac2ba",
   "metadata": {},
   "outputs": [],
   "source": []
  },
  {
   "cell_type": "code",
   "execution_count": null,
   "id": "43bdaff5",
   "metadata": {},
   "outputs": [],
   "source": [
    "옳지 않은 것\n",
    "\n",
    "SVM 모형의 서포트벡터, 회귀계수는 초매개변수에 해당한다.\n",
    "\n",
    "- SVM 모형의 서포트벡터, 회귀계수, 인공신경망의 가중치 등은 매개변수"
   ]
  },
  {
   "cell_type": "code",
   "execution_count": null,
   "id": "1b43de35",
   "metadata": {},
   "outputs": [],
   "source": []
  },
  {
   "cell_type": "code",
   "execution_count": null,
   "id": "e8888a97",
   "metadata": {},
   "outputs": [],
   "source": []
  }
 ],
 "metadata": {
  "kernelspec": {
   "display_name": "Python 3 (ipykernel)",
   "language": "python",
   "name": "python3"
  },
  "language_info": {
   "codemirror_mode": {
    "name": "ipython",
    "version": 3
   },
   "file_extension": ".py",
   "mimetype": "text/x-python",
   "name": "python",
   "nbconvert_exporter": "python",
   "pygments_lexer": "ipython3",
   "version": "3.7.4"
  }
 },
 "nbformat": 4,
 "nbformat_minor": 5
}
