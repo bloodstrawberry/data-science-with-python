{
 "cells": [
  {
   "cell_type": "code",
   "execution_count": null,
   "id": "1ca4e341",
   "metadata": {},
   "outputs": [],
   "source": [
    "홀드 아웃 교차 검증\n",
    "\n",
    "홀드 아웃 = 데이터 세트를 겹치지 않는 임의의 두 집합으로 나누는 것\n",
    "\n",
    "전체 데이터 = 훈련 세트 ∪ 테스트 세트\n",
    "\n",
    "되도록 데이터 분포가 같게 나눠야 한다. (-> 층화 추출법 stratified sampling)\n",
    "\n",
    " \n",
    "\n",
    " \n",
    "\n",
    "교차 검증 (cross validation)\n",
    "\n",
    "데이터 세트 D를 k개의 서로소 집합(disjoint set)으로 나누는 것\n",
    "\n",
    "D = D1 ∪ D2 ∪ ... ∪ ∪ Dk, Di ∩ Dj = ∅ (i != j)\n",
    "\n",
    "k - 1개의 부분집합을 훈련 세트로, 나머지 하나의 부분집합을 테스트 세트로 사용\n",
    "\n",
    "=> k-fold 교차 검증 K-Fold Cross Validation\n",
    "\n",
    " \n",
    "\n",
    " \n",
    "\n",
    "LOOCV\n",
    "\n",
    "m개의 샘플이 있는 데이터 세트 D를 k = m으로 설정하고 교차 검증을 실행하는 것\n",
    "\n",
    "Leave-One-Out Cross Validation\n",
    "\n",
    " \n",
    "\n",
    "데이터 세트의 크기가 매우 클 때, 모델을 m번 적합해야 하므로 계산량이 많아진다.\n",
    "\n",
    " \n",
    "\n",
    " \n",
    "\n",
    " \n",
    "\n",
    "LpOCV\n",
    "\n",
    " \n",
    "\n",
    " \n",
    "\n",
    "부트스트랩 bootstrap"
   ]
  },
  {
   "cell_type": "code",
   "execution_count": 1,
   "id": "d3cae7b1",
   "metadata": {},
   "outputs": [
    {
     "name": "stdout",
     "output_type": "stream",
     "text": [
      "0.0\n",
      "0.3676956086801094\n",
      "0.36778749812707684\n",
      "0.36781813985070533\n",
      "0.36783346294637675\n",
      "0.3678426575187399\n",
      "0.36784878753150924\n",
      "0.3678531662579549\n",
      "0.367856450382852\n",
      "0.3678590047492208\n"
     ]
    }
   ],
   "source": [
    "for x in range(1, 10001, 1000):\n",
    "    value = (1 - 1 / x) ** x\n",
    "    print(value)"
   ]
  },
  {
   "cell_type": "code",
   "execution_count": null,
   "id": "f1d2a8d0",
   "metadata": {},
   "outputs": [],
   "source": []
  }
 ],
 "metadata": {
  "kernelspec": {
   "display_name": "Python 3 (ipykernel)",
   "language": "python",
   "name": "python3"
  },
  "language_info": {
   "codemirror_mode": {
    "name": "ipython",
    "version": 3
   },
   "file_extension": ".py",
   "mimetype": "text/x-python",
   "name": "python",
   "nbconvert_exporter": "python",
   "pygments_lexer": "ipython3",
   "version": "3.7.4"
  }
 },
 "nbformat": 4,
 "nbformat_minor": 5
}
