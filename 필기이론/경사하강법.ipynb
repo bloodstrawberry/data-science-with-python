{
 "cells": [
  {
   "cell_type": "code",
   "execution_count": null,
   "id": "bb083104",
   "metadata": {},
   "outputs": [],
   "source": [
    "# 표준화, 정규화 과정은 안정적이고 효율적인 경사 하강법에 도움이 된다.\n",
    "# 경사 하강법이 전역 최적점을 보장하진 않는다.\n",
    "\n",
    "# 확률적 경사 하강법은 비슷한 성격의 데이터가 정렬되어 학습되면 정렬 기준에 편향성을 지니게 되어 데이터를 잘 대표하지 못하게 된다.\n",
    "# 확률적 경사 하강법은 전체 데이터 셋을 메모리에 로드하지 않아 대규모 데이터도 가능하다."
   ]
  },
  {
   "cell_type": "code",
   "execution_count": null,
   "id": "2ae0f7fa",
   "metadata": {},
   "outputs": [],
   "source": []
  },
  {
   "cell_type": "code",
   "execution_count": null,
   "id": "1b4fb928",
   "metadata": {},
   "outputs": [],
   "source": [
    "경사 하강법에서 중요한 초매개변수 - Learning Rate, Epoch\n",
    "경사 하강법은 랜덤하게 선택된 가중치가 지역 극소점에 위치하게 된다면 지역 극소점에 수렴되어 전역 극소점을 찾지 못하는 문제가 발생할 수 있다.\n",
    "지그재그 현상은 매개변수의 스케일의 차이가 크기 때문에 최적해에 제대로 수렴하지 못하는 현상"
   ]
  },
  {
   "cell_type": "code",
   "execution_count": null,
   "id": "987cbfd5",
   "metadata": {},
   "outputs": [],
   "source": []
  },
  {
   "cell_type": "code",
   "execution_count": null,
   "id": "8713c4e1",
   "metadata": {},
   "outputs": [],
   "source": [
    "옳지 않은 것\n",
    "확률적 경사 하강법은 학습 데이터 세트에서 무작위로 한 개의 샘플 데이터를 추출 후, \n",
    "그 샘플의 기울기를 계산하는 방식으로 학습속도가 매우 빠르고 최적점에 안정적으로 수렴할 수 있다. (X)\n",
    "ㄴ 학습속도가 매우 빠르고 큰 훈련 데이터 세트도 학습이 가능하지만, 풀 배치 경사 하강법보다 불안하고 최적점에 정확히 도달하기 어렵다."
   ]
  }
 ],
 "metadata": {
  "kernelspec": {
   "display_name": "Python 3 (ipykernel)",
   "language": "python",
   "name": "python3"
  },
  "language_info": {
   "codemirror_mode": {
    "name": "ipython",
    "version": 3
   },
   "file_extension": ".py",
   "mimetype": "text/x-python",
   "name": "python",
   "nbconvert_exporter": "python",
   "pygments_lexer": "ipython3",
   "version": "3.7.4"
  }
 },
 "nbformat": 4,
 "nbformat_minor": 5
}
