{
 "cells": [
  {
   "cell_type": "code",
   "execution_count": null,
   "id": "bb083104",
   "metadata": {},
   "outputs": [],
   "source": [
    "# 표준화, 정규화 과정은 안정적이고 효율적인 경사 하강법에 도움이 된다.\n",
    "# 경사 하강법이 전역 최적점을 보장하진 않는다.\n",
    "\n",
    "# 확률적 경사 하강법은 비슷한 성격의 데이터가 정렬되어 학습되면 정렬 기준에 편향성을 지니게 되어 데이터를 잘 대표하지 못하게 된다.\n",
    "# 확률적 경사 하강법은 전체 데이터 셋을 메모리에 로드하지 않아 대규모 데이터도 가능하다."
   ]
  }
 ],
 "metadata": {
  "kernelspec": {
   "display_name": "Python 3 (ipykernel)",
   "language": "python",
   "name": "python3"
  },
  "language_info": {
   "codemirror_mode": {
    "name": "ipython",
    "version": 3
   },
   "file_extension": ".py",
   "mimetype": "text/x-python",
   "name": "python",
   "nbconvert_exporter": "python",
   "pygments_lexer": "ipython3",
   "version": "3.7.4"
  }
 },
 "nbformat": 4,
 "nbformat_minor": 5
}
