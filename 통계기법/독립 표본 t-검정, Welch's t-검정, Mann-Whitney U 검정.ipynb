{
 "cells": [
  {
   "cell_type": "code",
   "execution_count": 1,
   "id": "4c24524a",
   "metadata": {},
   "outputs": [],
   "source": [
    "# 다른 그룹에 대한 평균 비교\n",
    "# 각 관측치는 서로 독립이어야 한다.\n",
    "# 각 관측치의 모분산이 동일할 필요는 없다.\n",
    "\n",
    "# 정규성을 만족하고 등분산성도 만족한다면? 독립 표본 t-검정\n",
    "# scipy.stats.ttest_ind(data1, data2)\n",
    "\n",
    "# 정규성을 만족하고 등분산성은 만족하지 않는다면? Welch's t-검정\n",
    "# scipy.stats.ttest_ind(data1, data2, equal_var=False)\n",
    "\n",
    "# 정규성, 등분산성 모두 만족하지 않는다면? Mann-Whitney U 검정 (어떠한 가정도 불필요한 비모수 검정)\n",
    "# scipy.stats.mannwhitneyu(data1, data2)"
   ]
  },
  {
   "cell_type": "code",
   "execution_count": 86,
   "id": "7b638397",
   "metadata": {},
   "outputs": [
    {
     "data": {
      "text/plain": [
       "(73.85714285714286, 75.9, 74.0, 75.5)"
      ]
     },
     "execution_count": 86,
     "metadata": {},
     "output_type": "execute_result"
    }
   ],
   "source": [
    "import numpy as np\n",
    "\n",
    "groupA = [70, 68, 75, 80, 72, 78, 74] # 대조군\n",
    "groupB = [75, 70, 78, 82, 74, 80, 76, 70, 79, 75] # 실험군\n",
    "\n",
    "np.mean(groupA), np.mean(groupB), np.median(groupA), np.median(groupB)"
   ]
  },
  {
   "cell_type": "code",
   "execution_count": 87,
   "id": "9e986685",
   "metadata": {},
   "outputs": [
    {
     "name": "stdout",
     "output_type": "stream",
     "text": [
      "Shapiro-Wilk p-value: 0.9560, 0.9560\n",
      "정규성 만족\n"
     ]
    }
   ],
   "source": [
    "from scipy.stats import shapiro\n",
    "\n",
    "# 귀무가설 : 데이터가 정규 분포를 따른다.\n",
    "# 대립가설 : 데이터가 정규 분포를 따르지 않는다.\n",
    "\n",
    "# 샤피로-윌크 정규성 검정\n",
    "shapiro_stat1, shapiro_p1 = shapiro(groupA)\n",
    "shapiro_stat2, shapiro_p2 = shapiro(groupA)\n",
    "\n",
    "print(f\"Shapiro-Wilk p-value: {shapiro_p1:.4f}, {shapiro_p2:.4f}\")\n",
    "\n",
    "# 유의수준 0.05 기준 해석\n",
    "alpha = 0.05\n",
    "if shapiro_p1 > alpha and shapiro_p2 > alpha :\n",
    "    print(\"정규성 만족\")\n",
    "else:\n",
    "    print(\"정규성 불만족 → Mann-Whitney U 검정\")"
   ]
  },
  {
   "cell_type": "code",
   "execution_count": 88,
   "id": "dddf1f69",
   "metadata": {},
   "outputs": [
    {
     "name": "stdout",
     "output_type": "stream",
     "text": [
      "Levene p-value: 0.8740\n",
      "등분산 만족 → 독립 표본 t-검정 수행\n"
     ]
    }
   ],
   "source": [
    "from scipy.stats import levene\n",
    "\n",
    "# 귀무가설 : 집단의 분산이 같다. (등분산성)\n",
    "# 대립가설 : 집단의 분산이 다르다. (이분산성)\n",
    "\n",
    "shapiro_stat, levene_p = levene(groupA, groupB)\n",
    "\n",
    "print(f\"Levene p-value: {levene_p:.4f}\")\n",
    "\n",
    "# 유의수준 0.05 기준 해석\n",
    "alpha = 0.05\n",
    "if levene_p > alpha:\n",
    "    print(\"등분산 만족 → 독립 표본 t-검정 수행\")\n",
    "else:\n",
    "    print(\"등분산 불만족 → Welch's t-검정 수행\")"
   ]
  },
  {
   "cell_type": "code",
   "execution_count": null,
   "id": "abce3f06",
   "metadata": {},
   "outputs": [],
   "source": []
  },
  {
   "cell_type": "code",
   "execution_count": 89,
   "id": "966e8e25",
   "metadata": {},
   "outputs": [
    {
     "name": "stdout",
     "output_type": "stream",
     "text": [
      "등분산성 만족 → 독립 표본 t-검정 수행\n",
      "t-statistic: -1.012\n",
      "p-value: 0.3277\n",
      "\n",
      "등분산성 불만족 → Welch’s t-검정 수행\n",
      "t-statistic: -0.999\n",
      "p-value: 0.3367\n",
      "\n",
      "귀무가설 채택: 두 그룹 평균은 유의하게 다르지 않습니다.\n"
     ]
    }
   ],
   "source": [
    "from scipy.stats import ttest_ind\n",
    "\n",
    "print(\"등분산성 만족 → 독립 표본 t-검정 수행\")\n",
    "t_stat, p_value = ttest_ind(groupA, groupB, equal_var=True)\n",
    "print(f\"t-statistic: {t_stat:.3f}\")\n",
    "print(f\"p-value: {p_value:.4f}\")\n",
    "\n",
    "print()\n",
    "\n",
    "print(\"등분산성 불만족 → Welch’s t-검정 수행\")\n",
    "t_stat, p_value = ttest_ind(groupA, groupB, equal_var=False)\n",
    "print(f\"t-statistic: {t_stat:.3f}\")\n",
    "print(f\"p-value: {p_value:.4f}\")\n",
    "\n",
    "print()\n",
    "\n",
    "# 유의수준 0.05 기준 해석\n",
    "if p_value < alpha:\n",
    "    print(\"귀무가설 기각: 두 그룹 평균은 유의하게 다릅니다.\")\n",
    "else:\n",
    "    print(\"귀무가설 채택: 두 그룹 평균은 유의하게 다르지 않습니다.\")"
   ]
  },
  {
   "cell_type": "code",
   "execution_count": 90,
   "id": "d0155889",
   "metadata": {},
   "outputs": [
    {
     "name": "stdout",
     "output_type": "stream",
     "text": [
      "U-statistic: 24.500\n",
      "p-value: 0.3258\n",
      "귀무가설 채택: 두 그룹 중앙값은 유의하게 다르지 않습니다.\n"
     ]
    }
   ],
   "source": [
    "from scipy.stats import mannwhitneyu\n",
    "\n",
    "u_stat, p_value = mannwhitneyu(groupA, groupB, alternative='two-sided')\n",
    "\n",
    "print(f\"U-statistic: {u_stat:.3f}\")\n",
    "print(f\"p-value: {p_value:.4f}\")\n",
    "\n",
    "# 유의수준 0.05 기준 해석\n",
    "alpha = 0.05\n",
    "if p_value < alpha:\n",
    "    print(\"귀무가설 기각: 두 그룹 중앙값은 유의하게 다릅니다.\")\n",
    "else:\n",
    "    print(\"귀무가설 채택: 두 그룹 중앙값은 유의하게 다르지 않습니다.\")"
   ]
  },
  {
   "cell_type": "code",
   "execution_count": null,
   "id": "a9d99da3",
   "metadata": {},
   "outputs": [],
   "source": []
  }
 ],
 "metadata": {
  "kernelspec": {
   "display_name": "Python 3 (ipykernel)",
   "language": "python",
   "name": "python3"
  },
  "language_info": {
   "codemirror_mode": {
    "name": "ipython",
    "version": 3
   },
   "file_extension": ".py",
   "mimetype": "text/x-python",
   "name": "python",
   "nbconvert_exporter": "python",
   "pygments_lexer": "ipython3",
   "version": "3.7.4"
  }
 },
 "nbformat": 4,
 "nbformat_minor": 5
}
