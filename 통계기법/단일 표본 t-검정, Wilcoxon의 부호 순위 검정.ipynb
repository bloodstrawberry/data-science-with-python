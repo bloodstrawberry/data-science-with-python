{
 "cells": [
  {
   "cell_type": "code",
   "execution_count": null,
   "id": "b2d94b89",
   "metadata": {},
   "outputs": [],
   "source": [
    "# 어떤 집단의 평균이 특정 값과 유의미하게 다른지 검정\n",
    "\n",
    "# 정규성을 만족한다면? 단일 표본 t-검정 \n",
    "# scipy.stats.ttest_1samp(data, 기대값, alternative)\n",
    "\n",
    "# 정규성을 만족하지 않는다면? Wilcoxon의 부호 순위 검정 \n",
    "# scipy.stats.wilcoxon(data - 기대값, alternative)"
   ]
  },
  {
   "cell_type": "code",
   "execution_count": 3,
   "id": "2e84185e",
   "metadata": {},
   "outputs": [],
   "source": [
    "# 귀무가설 : 수학 점수의 평균은 70이다.\n",
    "# 대립가설 : 수학 점수의 평균이 70이 아니다."
   ]
  },
  {
   "cell_type": "code",
   "execution_count": 10,
   "id": "b08b98cb",
   "metadata": {},
   "outputs": [],
   "source": [
    "import numpy as np\n",
    "\n",
    "# 한 반의 수학 점수 데이터\n",
    "scores = [68, 75, 70, 72, 69, 74, 71, 70, 73, 68]"
   ]
  },
  {
   "cell_type": "code",
   "execution_count": 11,
   "id": "68e56134",
   "metadata": {},
   "outputs": [
    {
     "name": "stdout",
     "output_type": "stream",
     "text": [
      "Shapiro-Wilk p-value: 0.5776\n",
      "정규성을 만족합니다. → t-검정 사용 가능\n"
     ]
    }
   ],
   "source": [
    "from scipy.stats import shapiro\n",
    "\n",
    "# 샤피로-윌크 정규성 검정\n",
    "shapiro_stat, shapiro_p = shapiro(scores)\n",
    "\n",
    "# 귀무가설 : 데이터가 정규 분포를 따른다.\n",
    "# 대립가설 : 데이터가 정규 분포를 따르지 않는다.\n",
    "\n",
    "print(f\"Shapiro-Wilk p-value: {shapiro_p:.4f}\")\n",
    "\n",
    "# 유의수준 0.05 기준 해석\n",
    "alpha = 0.05\n",
    "if shapiro_p > alpha:\n",
    "    print(\"정규성을 만족합니다. → t-검정 사용 가능\")\n",
    "else:\n",
    "    print(\"정규성을 만족하지 않습니다. → 비모수 검정 필요 (Wilcoxon)\")"
   ]
  },
  {
   "cell_type": "code",
   "execution_count": null,
   "id": "b0b50919",
   "metadata": {},
   "outputs": [],
   "source": []
  },
  {
   "cell_type": "code",
   "execution_count": 12,
   "id": "0b28fdd8",
   "metadata": {},
   "outputs": [
    {
     "name": "stdout",
     "output_type": "stream",
     "text": [
      "t-statistic: 1.291\n",
      "p-value: 0.229\n",
      "귀무가설 채택: 표본 평균은 모평균과 유의하게 다르지 않습니다.\n"
     ]
    }
   ],
   "source": [
    "from scipy.stats import ttest_1samp\n",
    "\n",
    "# 알려진 전체 평균\n",
    "population_mean = 70\n",
    "\n",
    "# 단일 표본 t-검정 수행\n",
    "t_stat, p_value = stats.ttest_1samp(scores, population_mean)\n",
    "\n",
    "# 결과 출력\n",
    "print(f\"t-statistic: {t_stat:.3f}\")\n",
    "print(f\"p-value: {p_value:.3f}\")\n",
    "\n",
    "# 유의수준 0.05 기준 해석\n",
    "alpha = 0.05\n",
    "if p_value < alpha:\n",
    "    print(\"귀무가설 기각: 표본 평균은 모평균과 유의하게 다릅니다.\")\n",
    "else:\n",
    "    print(\"귀무가설 채택: 표본 평균은 모평균과 유의하게 다르지 않습니다.\")\n"
   ]
  },
  {
   "cell_type": "code",
   "execution_count": 13,
   "id": "b4fc327c",
   "metadata": {},
   "outputs": [
    {
     "name": "stdout",
     "output_type": "stream",
     "text": [
      "Wilcoxon p-value: 0.2311\n",
      "귀무가설 채택: 표본의 중앙값은 모평균과 유의하게 다르지 않습니다.\n"
     ]
    }
   ],
   "source": [
    "from scipy.stats import wilcoxon\n",
    "\n",
    "differences = [x - population_mean for x in scores]\n",
    "\n",
    "# 윌콕슨 부호 순위 검정\n",
    "wilcoxon_stat, wilcoxon_p = wilcoxon(differences)\n",
    "\n",
    "print(f\"Wilcoxon p-value: {wilcoxon_p:.4f}\")\n",
    "\n",
    "# 유의수준 0.05 기준 해석\n",
    "alpha = 0.05\n",
    "if wilcoxon_p < alpha:\n",
    "    print(\"귀무가설 기각: 표본의 중앙값은 모평균과 유의하게 다릅니다.\")\n",
    "else:\n",
    "    print(\"귀무가설 채택: 표본의 중앙값은 모평균과 유의하게 다르지 않습니다.\")"
   ]
  },
  {
   "cell_type": "code",
   "execution_count": null,
   "id": "62f1cabb",
   "metadata": {},
   "outputs": [],
   "source": []
  }
 ],
 "metadata": {
  "kernelspec": {
   "display_name": "Python 3 (ipykernel)",
   "language": "python",
   "name": "python3"
  },
  "language_info": {
   "codemirror_mode": {
    "name": "ipython",
    "version": 3
   },
   "file_extension": ".py",
   "mimetype": "text/x-python",
   "name": "python",
   "nbconvert_exporter": "python",
   "pygments_lexer": "ipython3",
   "version": "3.7.4"
  }
 },
 "nbformat": 4,
 "nbformat_minor": 5
}
