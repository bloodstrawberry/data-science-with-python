{
 "cells": [
  {
   "cell_type": "code",
   "execution_count": null,
   "id": "6df86a00",
   "metadata": {},
   "outputs": [],
   "source": [
    "# 주로 사용하는 도구는 순위와 비율\n",
    "# Mann-Whitney U 검정, 윌콕슨 검정"
   ]
  },
  {
   "cell_type": "code",
   "execution_count": null,
   "id": "7a2779c4",
   "metadata": {},
   "outputs": [],
   "source": []
  },
  {
   "cell_type": "code",
   "execution_count": null,
   "id": "647c732f",
   "metadata": {},
   "outputs": [],
   "source": []
  },
  {
   "cell_type": "code",
   "execution_count": null,
   "id": "a2f87ef3",
   "metadata": {},
   "outputs": [],
   "source": []
  },
  {
   "cell_type": "code",
   "execution_count": null,
   "id": "67014d97",
   "metadata": {},
   "outputs": [],
   "source": [
    "# Mann-Whitney U 검정(Mann-Whitney U test)\n",
    "\n",
    "# 두 독립된 집단의 중앙값 차이를 비교하는 비모수 검정\n",
    "# 정규성 가정이 불필요\n",
    "\n",
    "# 사용 조건\n",
    "# 가정 : 두 집단이 독립적이어야 한다.\n",
    "# 순서(서열) 정보가 있어야 한다 (측정값이 순위를 매길 수 있어야 함).\n",
    "# 데이터는 연속형 또는 순서형 자료여야 함.\n",
    "# 정규분포를 가정하지 않아도 됨 → 비모수 검정.\n",
    "\n",
    "# 귀무가설 : 두 집단의 분포는 같다 (중앙값의 차이가 없다).\n",
    "# 대립가설 : 두 집단의 분포는 다르다 (중앙값에 차이가 있다)."
   ]
  },
  {
   "cell_type": "code",
   "execution_count": 2,
   "id": "0ca30d2c",
   "metadata": {},
   "outputs": [
    {
     "name": "stdout",
     "output_type": "stream",
     "text": [
      "U 통계량: 0.0, p-value: 0.03038282197657749\n"
     ]
    }
   ],
   "source": [
    "from scipy.stats import mannwhitneyu\n",
    "\n",
    "group1 = [10, 15, 20, 25]\n",
    "group2 = [30, 35, 40, 45]\n",
    "\n",
    "# 양측 검정\n",
    "stat, p = mannwhitneyu(group1, group2, alternative='two-sided')\n",
    "print(f\"U 통계량: {stat}, p-value: {p}\")"
   ]
  },
  {
   "cell_type": "code",
   "execution_count": null,
   "id": "1748f08e",
   "metadata": {},
   "outputs": [],
   "source": []
  },
  {
   "cell_type": "code",
   "execution_count": null,
   "id": "0a931faa",
   "metadata": {},
   "outputs": [],
   "source": []
  },
  {
   "cell_type": "code",
   "execution_count": null,
   "id": "5565e5fe",
   "metadata": {},
   "outputs": [],
   "source": []
  },
  {
   "cell_type": "code",
   "execution_count": null,
   "id": "376384d3",
   "metadata": {},
   "outputs": [],
   "source": []
  },
  {
   "cell_type": "code",
   "execution_count": null,
   "id": "2b1a8b09",
   "metadata": {},
   "outputs": [],
   "source": []
  }
 ],
 "metadata": {
  "kernelspec": {
   "display_name": "Python 3 (ipykernel)",
   "language": "python",
   "name": "python3"
  },
  "language_info": {
   "codemirror_mode": {
    "name": "ipython",
    "version": 3
   },
   "file_extension": ".py",
   "mimetype": "text/x-python",
   "name": "python",
   "nbconvert_exporter": "python",
   "pygments_lexer": "ipython3",
   "version": "3.7.4"
  }
 },
 "nbformat": 4,
 "nbformat_minor": 5
}
