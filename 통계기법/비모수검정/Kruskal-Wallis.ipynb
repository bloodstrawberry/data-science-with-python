{
 "cells": [
  {
   "cell_type": "code",
   "execution_count": 1,
   "id": "6bf27b69",
   "metadata": {},
   "outputs": [],
   "source": [
    "# 세 개 이상의 독립된 그룹 간의 중앙값 차이를 비교할 때 사용하는 비모수 검정\n",
    "# 일원분산분석(ANOVA)의 비모수적 대안\n",
    "# 세 그룹 이상에서 종속 변수의 중앙값 차이를 비교하고 싶을 때 사용\n",
    "# 정규성을 가정하지 못하는 경우에 유용\n",
    "# 측정 수준이 순위(ordinal) 또는 정규성을 만족하지 않는 연속형 자료에 적합"
   ]
  },
  {
   "attachments": {
    "image.png": {
     "image/png": "[encoded data removed]"
    }
   },
   "cell_type": "markdown",
   "id": "ec304b72",
   "metadata": {},
   "source": [
    "![image.png](attachment:image.png)"
   ]
  },
  {
   "cell_type": "code",
   "execution_count": 5,
   "id": "037bcba6",
   "metadata": {},
   "outputs": [
    {
     "name": "stdout",
     "output_type": "stream",
     "text": [
      "H 통계량: 9.572\n",
      "p-값: 0.008\n",
      "유의미한 차이가 있습니다. (귀무가설 기각)\n"
     ]
    }
   ],
   "source": [
    "from scipy.stats import kruskal\n",
    "\n",
    "group1 = [85, 86, 88, 75, 78]\n",
    "group2 = [82, 79, 88, 84, 91]\n",
    "group3 = [71, 70, 69, 68, 72]\n",
    "\n",
    "# Kruskal-Wallis H-test 수행\n",
    "statistic, p_value = kruskal(group1, group2, group3)\n",
    "\n",
    "print(f\"H 통계량: {statistic:.3f}\")\n",
    "print(f\"p-값: {p_value:.3f}\")\n",
    "\n",
    "# 결과 해석\n",
    "if p_value < 0.05:\n",
    "    print(\"유의미한 차이가 있습니다. (귀무가설 기각)\")\n",
    "else:\n",
    "    print(\"유의미한 차이가 없습니다. (귀무가설 채택)\")"
   ]
  },
  {
   "cell_type": "code",
   "execution_count": null,
   "id": "20cbc633",
   "metadata": {},
   "outputs": [],
   "source": []
  }
 ],
 "metadata": {
  "kernelspec": {
   "display_name": "Python 3 (ipykernel)",
   "language": "python",
   "name": "python3"
  },
  "language_info": {
   "codemirror_mode": {
    "name": "ipython",
    "version": 3
   },
   "file_extension": ".py",
   "mimetype": "text/x-python",
   "name": "python",
   "nbconvert_exporter": "python",
   "pygments_lexer": "ipython3",
   "version": "3.7.4"
  }
 },
 "nbformat": 4,
 "nbformat_minor": 5
}
