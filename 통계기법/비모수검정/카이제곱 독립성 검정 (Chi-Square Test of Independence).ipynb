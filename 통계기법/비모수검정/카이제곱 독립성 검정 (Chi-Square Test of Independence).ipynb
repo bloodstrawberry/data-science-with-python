{
 "cells": [
  {
   "cell_type": "code",
   "execution_count": null,
   "id": "d2968e43",
   "metadata": {},
   "outputs": [],
   "source": [
    "# 두 범주형 변수의 독립성 검정"
   ]
  },
  {
   "cell_type": "code",
   "execution_count": 12,
   "id": "f9a11542",
   "metadata": {},
   "outputs": [
    {
     "data": {
      "text/html": [
       "<div>\n",
       "<style scoped>\n",
       "    .dataframe tbody tr th:only-of-type {\n",
       "        vertical-align: middle;\n",
       "    }\n",
       "\n",
       "    .dataframe tbody tr th {\n",
       "        vertical-align: top;\n",
       "    }\n",
       "\n",
       "    .dataframe thead th {\n",
       "        text-align: right;\n",
       "    }\n",
       "</style>\n",
       "<table border=\"1\" class=\"dataframe\">\n",
       "  <thead>\n",
       "    <tr style=\"text-align: right;\">\n",
       "      <th></th>\n",
       "      <th>Sex</th>\n",
       "      <th>Preference</th>\n",
       "    </tr>\n",
       "  </thead>\n",
       "  <tbody>\n",
       "    <tr>\n",
       "      <td>0</td>\n",
       "      <td>Male</td>\n",
       "      <td>A</td>\n",
       "    </tr>\n",
       "    <tr>\n",
       "      <td>1</td>\n",
       "      <td>Male</td>\n",
       "      <td>B</td>\n",
       "    </tr>\n",
       "    <tr>\n",
       "      <td>2</td>\n",
       "      <td>Male</td>\n",
       "      <td>A</td>\n",
       "    </tr>\n",
       "    <tr>\n",
       "      <td>3</td>\n",
       "      <td>Female</td>\n",
       "      <td>A</td>\n",
       "    </tr>\n",
       "    <tr>\n",
       "      <td>4</td>\n",
       "      <td>Female</td>\n",
       "      <td>C</td>\n",
       "    </tr>\n",
       "    <tr>\n",
       "      <td>5</td>\n",
       "      <td>Female</td>\n",
       "      <td>C</td>\n",
       "    </tr>\n",
       "    <tr>\n",
       "      <td>6</td>\n",
       "      <td>Male</td>\n",
       "      <td>B</td>\n",
       "    </tr>\n",
       "    <tr>\n",
       "      <td>7</td>\n",
       "      <td>Female</td>\n",
       "      <td>B</td>\n",
       "    </tr>\n",
       "    <tr>\n",
       "      <td>8</td>\n",
       "      <td>Female</td>\n",
       "      <td>A</td>\n",
       "    </tr>\n",
       "    <tr>\n",
       "      <td>9</td>\n",
       "      <td>Male</td>\n",
       "      <td>C</td>\n",
       "    </tr>\n",
       "    <tr>\n",
       "      <td>10</td>\n",
       "      <td>Female</td>\n",
       "      <td>B</td>\n",
       "    </tr>\n",
       "    <tr>\n",
       "      <td>11</td>\n",
       "      <td>Male</td>\n",
       "      <td>B</td>\n",
       "    </tr>\n",
       "    <tr>\n",
       "      <td>12</td>\n",
       "      <td>Male</td>\n",
       "      <td>A</td>\n",
       "    </tr>\n",
       "    <tr>\n",
       "      <td>13</td>\n",
       "      <td>Female</td>\n",
       "      <td>C</td>\n",
       "    </tr>\n",
       "    <tr>\n",
       "      <td>14</td>\n",
       "      <td>Female</td>\n",
       "      <td>A</td>\n",
       "    </tr>\n",
       "    <tr>\n",
       "      <td>15</td>\n",
       "      <td>Male</td>\n",
       "      <td>C</td>\n",
       "    </tr>\n",
       "    <tr>\n",
       "      <td>16</td>\n",
       "      <td>Female</td>\n",
       "      <td>B</td>\n",
       "    </tr>\n",
       "    <tr>\n",
       "      <td>17</td>\n",
       "      <td>Female</td>\n",
       "      <td>A</td>\n",
       "    </tr>\n",
       "  </tbody>\n",
       "</table>\n",
       "</div>"
      ],
      "text/plain": [
       "       Sex Preference\n",
       "0     Male          A\n",
       "1     Male          B\n",
       "2     Male          A\n",
       "3   Female          A\n",
       "4   Female          C\n",
       "5   Female          C\n",
       "6     Male          B\n",
       "7   Female          B\n",
       "8   Female          A\n",
       "9     Male          C\n",
       "10  Female          B\n",
       "11    Male          B\n",
       "12    Male          A\n",
       "13  Female          C\n",
       "14  Female          A\n",
       "15    Male          C\n",
       "16  Female          B\n",
       "17  Female          A"
      ]
     },
     "execution_count": 12,
     "metadata": {},
     "output_type": "execute_result"
    }
   ],
   "source": [
    "import pandas as pd\n",
    "\n",
    "# 범주형 데이터 예시\n",
    "data = {\n",
    "    'Sex': ['Male', 'Male', 'Male', 'Female', 'Female', 'Female',\n",
    "            'Male', 'Female', 'Female', 'Male', 'Female', 'Male',\n",
    "            'Male', 'Female', 'Female', 'Male', 'Female', 'Female'],\n",
    "    'Preference': ['A', 'B', 'A', 'A', 'C', 'C',\n",
    "                   'B', 'B', 'A', 'C', 'B', 'B',\n",
    "                   'A', 'C', 'A', 'C', 'B', 'A']\n",
    "}\n",
    "\n",
    "df = pd.DataFrame(data)\n",
    "df"
   ]
  },
  {
   "cell_type": "code",
   "execution_count": 15,
   "id": "1f5e34ae",
   "metadata": {},
   "outputs": [
    {
     "data": {
      "text/plain": [
       "4"
      ]
     },
     "execution_count": 15,
     "metadata": {},
     "output_type": "execute_result"
    }
   ],
   "source": [
    "((df['Sex'] == 'Female') & (df['Preference'] == 'A')).sum()"
   ]
  },
  {
   "cell_type": "code",
   "execution_count": 10,
   "id": "490d7f07",
   "metadata": {},
   "outputs": [
    {
     "name": "stdout",
     "output_type": "stream",
     "text": [
      "Preference  A  B  C\n",
      "Sex                \n",
      "Female      4  3  3\n",
      "Male        3  3  2\n"
     ]
    }
   ],
   "source": [
    "# 카이제곱 검정은 2차원 행렬(교차표)을 입력으로 받는다.\n",
    "# 2차원 빈도 행렬로 변경\n",
    "contingency_table = pd.crosstab(df['Sex'], df['Preference'])\n",
    "print(contingency_table)"
   ]
  },
  {
   "cell_type": "code",
   "execution_count": 16,
   "id": "ba3420c2",
   "metadata": {},
   "outputs": [
    {
     "name": "stdout",
     "output_type": "stream",
     "text": [
      "Chi-squared Statistic: 0.1221\n",
      "p-value: 0.9408\n",
      "Degrees of Freedom: 2\n",
      "Expected Frequencies:\n",
      "[[3.88888889 3.33333333 2.77777778]\n",
      " [3.11111111 2.66666667 2.22222222]]\n"
     ]
    }
   ],
   "source": [
    "from scipy.stats import chi2_contingency # 데이터가 특정한 분포(예: 정규분포)를 따른다는 가정이 필요 없음.\n",
    "\n",
    "# correction=False : 보정 없이 순수한 Pearson 카이제곱 통계량으로 검정 수행\n",
    "chi2, p, dof, expected = chi2_contingency(contingency_table, correction=False)\n",
    "\n",
    "print(f\"Chi-squared Statistic: {chi2:.4f}\")\n",
    "print(f\"p-value: {p:.4f}\") # p-value ≥ 0.05 → 성별과 선호도는 독립적이다 (관련 없다)\n",
    "print(f\"Degrees of Freedom: {dof}\")\n",
    "\n",
    "# expected : 두 범주형 변수가 서로 독립적이라고 가정했을 때, 각 셀에서 기대되는 빈도수\n",
    "# \"두 변수가 아무 관계도 없다면 이 셀에 이 정도의 빈도수가 나올 것으로 기대된다\"\n",
    "print(\"Expected Frequencies:\")\n",
    "print(expected)"
   ]
  },
  {
   "cell_type": "code",
   "execution_count": null,
   "id": "43e924f4",
   "metadata": {},
   "outputs": [],
   "source": []
  }
 ],
 "metadata": {
  "kernelspec": {
   "display_name": "Python 3 (ipykernel)",
   "language": "python",
   "name": "python3"
  },
  "language_info": {
   "codemirror_mode": {
    "name": "ipython",
    "version": 3
   },
   "file_extension": ".py",
   "mimetype": "text/x-python",
   "name": "python",
   "nbconvert_exporter": "python",
   "pygments_lexer": "ipython3",
   "version": "3.7.4"
  }
 },
 "nbformat": 4,
 "nbformat_minor": 5
}
