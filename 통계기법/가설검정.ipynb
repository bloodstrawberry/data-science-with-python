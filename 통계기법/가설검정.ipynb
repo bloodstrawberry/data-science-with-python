{
 "cells": [
  {
   "cell_type": "code",
   "execution_count": 7,
   "id": "ddd272f8",
   "metadata": {},
   "outputs": [
    {
     "data": {
      "text/plain": [
       "Ttest_1sampResult(statistic=0.0, pvalue=1.0)"
      ]
     },
     "execution_count": 7,
     "metadata": {},
     "output_type": "execute_result"
    }
   ],
   "source": [
    "# 단일 표본 검정\n",
    "# 어떤 집단의 평균이 다른지 검정\n",
    "# t-검정 : 모수 검정, 정규 분포를 따르는 경우\n",
    "from scipy.stats import ttest_1samp\n",
    "\n",
    "ttest_1samp([1, 2, 3], 2)"
   ]
  },
  {
   "cell_type": "code",
   "execution_count": null,
   "id": "096f4bae",
   "metadata": {},
   "outputs": [],
   "source": [
    "# 정규성 판단\n",
    "# Shapiro-Wilk test :"
   ]
  },
  {
   "cell_type": "code",
   "execution_count": null,
   "id": "c3281a07",
   "metadata": {},
   "outputs": [],
   "source": []
  },
  {
   "cell_type": "code",
   "execution_count": null,
   "id": "bccb0991",
   "metadata": {},
   "outputs": [],
   "source": [
    "# Wilcoxon 부호 순위 검정\n",
    "# 정규성을 만족하지 않는 경우"
   ]
  },
  {
   "cell_type": "code",
   "execution_count": null,
   "id": "e84d606e",
   "metadata": {},
   "outputs": [],
   "source": []
  },
  {
   "cell_type": "code",
   "execution_count": 10,
   "id": "0d7db2b8",
   "metadata": {},
   "outputs": [],
   "source": [
    "# 대응 표본 검정 (Paried sample t-test) : 모집단 1개, 두번 측정 (체중 감량 프로그램, 약물 효과, 교육 프로그램)\n",
    "from scipy.stats import ttest_rel"
   ]
  },
  {
   "cell_type": "code",
   "execution_count": 20,
   "id": "a17165a8",
   "metadata": {},
   "outputs": [
    {
     "data": {
      "text/plain": [
       "Ttest_indResult(statistic=-4.082472698462367e-06, pvalue=0.9999969381454762)"
      ]
     },
     "execution_count": 20,
     "metadata": {},
     "output_type": "execute_result"
    }
   ],
   "source": [
    "# 독립 표본 검정 (Independent sample t-test) : 모집단 2개, 서로 다른 그룹 비교 (두 집단의 교육 성과, 수면 효과, 임상실험 비교)\n",
    "from scipy.stats import ttest_ind\n",
    "\n",
    "# equal_var=True  : Student's t-test\n",
    "# equal_var=False : Welch's t-test\n",
    "\n",
    "ttest_ind([1, 2, 3], [1, 2, 3.00001], equal_var=True)"
   ]
  },
  {
   "cell_type": "code",
   "execution_count": null,
   "id": "09220ec7",
   "metadata": {},
   "outputs": [],
   "source": [
    "# 2개 모집단\n",
    "# 정규성을 만족 -> 분산이 동일 -> 독립 표본 검정\n",
    "# 정규성을 만족 -> 분산이 다름 -> Welch's t-test\n",
    "\n",
    "# 정규성 만족 x -> Mann-Whitney U 검정"
   ]
  },
  {
   "cell_type": "code",
   "execution_count": 12,
   "id": "76c37ffc",
   "metadata": {},
   "outputs": [
    {
     "data": {
      "text/plain": [
       "'1.5.2'"
      ]
     },
     "execution_count": 12,
     "metadata": {},
     "output_type": "execute_result"
    }
   ],
   "source": [
    "import scipy\n",
    "scipy.__version__"
   ]
  },
  {
   "cell_type": "code",
   "execution_count": null,
   "id": "a04c2355",
   "metadata": {},
   "outputs": [],
   "source": []
  }
 ],
 "metadata": {
  "kernelspec": {
   "display_name": "Python 3 (ipykernel)",
   "language": "python",
   "name": "python3"
  },
  "language_info": {
   "codemirror_mode": {
    "name": "ipython",
    "version": 3
   },
   "file_extension": ".py",
   "mimetype": "text/x-python",
   "name": "python",
   "nbconvert_exporter": "python",
   "pygments_lexer": "ipython3",
   "version": "3.7.4"
  }
 },
 "nbformat": 4,
 "nbformat_minor": 5
}
