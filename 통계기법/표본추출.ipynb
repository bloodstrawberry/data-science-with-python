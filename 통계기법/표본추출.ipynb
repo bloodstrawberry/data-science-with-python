{
 "cells": [
  {
   "cell_type": "code",
   "execution_count": null,
   "id": "ffbb8445",
   "metadata": {},
   "outputs": [],
   "source": [
    "단순 랜덤 추출법\n",
    "\n",
    " \n",
    "\n",
    "계통추출법\n",
    "\n",
    " \n",
    "\n",
    "집락 추출법 = A, B, C 지역에서 A만 사전조사 (A, B, C는 동일한 특성을 가진다고 가정)\n",
    "\n",
    " \n",
    "\n",
    "층화 추출법 = 상이한 집단에서 샘플링\n",
    "\n",
    "ㄴ 단점 : 층 내 동질성과 층 사이의 이질성을 갖추어야 하는 문제의 경우 층화하는 과정이 쉽지 않음.\n",
    "    \n",
    "\n",
    "    계통추출은 모집단을 일정한 간격으로 나누어 일정한 간격마다 한 개체씩 선택하는 방법\n",
    "    \n",
    "    층화추출은 모집단을 여러 층으로 나눈 뒤 각 층에서 일정 비율의 개체를 추출하는 방법"
   ]
  },
  {
   "cell_type": "code",
   "execution_count": null,
   "id": "572ffb7f",
   "metadata": {},
   "outputs": [],
   "source": [
    "층화추출\n",
    "\n",
    "- 이질적인 원소들로 구성된 모집단에서 각 계층을 대표할 수 있도록 추출하는 방법\n",
    "\n",
    "- 1학년, 2학년, 3학년(이질적인 원소들로 구성된 모집단)에서 각각 10명씩 뽑는것\n",
    "\n",
    "- 층 내는 동질, 층 간은 이질"
   ]
  }
 ],
 "metadata": {
  "kernelspec": {
   "display_name": "Python 3 (ipykernel)",
   "language": "python",
   "name": "python3"
  },
  "language_info": {
   "codemirror_mode": {
    "name": "ipython",
    "version": 3
   },
   "file_extension": ".py",
   "mimetype": "text/x-python",
   "name": "python",
   "nbconvert_exporter": "python",
   "pygments_lexer": "ipython3",
   "version": "3.7.4"
  }
 },
 "nbformat": 4,
 "nbformat_minor": 5
}
