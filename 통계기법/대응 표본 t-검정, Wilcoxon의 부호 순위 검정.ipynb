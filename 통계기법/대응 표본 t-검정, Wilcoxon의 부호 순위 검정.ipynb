{
 "cells": [
  {
   "cell_type": "code",
   "execution_count": 15,
   "id": "b2d94b89",
   "metadata": {},
   "outputs": [],
   "source": [
    "# 모분산을 모르는 경우\n",
    "# 동일한 그룹에 대해 전후의 측정 결과를 비교\n",
    "\n",
    "# 정규성을 만족한다면? 대응 표본 t-검정 \n",
    "# scipy.stats.ttest_rel(data1, data2, alternative)\n",
    "\n",
    "# 정규성을 만족하지 않는다면? Wilcoxon의 부호 순위 검정 \n",
    "# scipy.stats.wilcoxon(data1, data2, alternative)"
   ]
  },
  {
   "cell_type": "code",
   "execution_count": 16,
   "id": "2e84185e",
   "metadata": {},
   "outputs": [],
   "source": [
    "# 귀무가설 : 수업 전후 점수의 차이가 없다.\n",
    "# 대립가설 : 수업 전후 점수의 차이가 있다."
   ]
  },
  {
   "cell_type": "code",
   "execution_count": 17,
   "id": "b08b98cb",
   "metadata": {},
   "outputs": [],
   "source": [
    "import numpy as np\n",
    "\n",
    "# 수업 전과 후의 점수 (같은 학생 대상)\n",
    "before = [70, 68, 75, 80, 72, 78, 74, 69, 77, 73]\n",
    "after  = [75, 70, 78, 82, 74, 80, 76, 70, 79, 75]"
   ]
  },
  {
   "cell_type": "code",
   "execution_count": 18,
   "id": "68e56134",
   "metadata": {},
   "outputs": [
    {
     "name": "stdout",
     "output_type": "stream",
     "text": [
      "Shapiro-Wilk p-value: 0.0005\n",
      "정규성 불만족 → 윌콕슨 부호 순위 검정 수행\n"
     ]
    }
   ],
   "source": [
    "from scipy.stats import shapiro\n",
    "\n",
    "# 귀무가설 : 데이터가 정규 분포를 따른다.\n",
    "# 대립가설 : 데이터가 정규 분포를 따르지 않는다.\n",
    "\n",
    "# 차이 계산\n",
    "differences = [after[i] - before[i] for i in range(len(before))]\n",
    "\n",
    "# 샤피로-윌크 정규성 검정\n",
    "shapiro_stat, shapiro_p = shapiro(differences)\n",
    "\n",
    "print(f\"Shapiro-Wilk p-value: {shapiro_p:.4f}\")\n",
    "\n",
    "# 유의수준 0.05 기준 해석\n",
    "alpha = 0.05\n",
    "if shapiro_p > alpha:\n",
    "    print(\"정규성 만족 → 대응 표본 t-검정 수행\")\n",
    "else:\n",
    "    print(\"정규성 불만족 → 윌콕슨 부호 순위 검정 수행\")"
   ]
  },
  {
   "cell_type": "code",
   "execution_count": null,
   "id": "c43e02e7",
   "metadata": {},
   "outputs": [],
   "source": []
  },
  {
   "cell_type": "code",
   "execution_count": 19,
   "id": "0b28fdd8",
   "metadata": {},
   "outputs": [
    {
     "name": "stdout",
     "output_type": "stream",
     "text": [
      "t-statistic: 6.866\n",
      "p-value: 0.000\n",
      "귀무가설 기각: 표본 평균은 모평균과 유의하게 다릅니다.\n"
     ]
    }
   ],
   "source": [
    "from scipy.stats import ttest_rel\n",
    "\n",
    "# 대응 표본 t-검정 수행\n",
    "t_stat, p_value = ttest_rel(after, before)\n",
    "\n",
    "# 결과 출력\n",
    "print(f\"t-statistic: {t_stat:.3f}\")\n",
    "print(f\"p-value: {p_value:.3f}\")\n",
    "\n",
    "# 유의수준 0.05 기준 해석\n",
    "alpha = 0.05\n",
    "if p_value < alpha:\n",
    "    print(\"귀무가설 기각: 표본 평균은 모평균과 유의하게 다릅니다.\")\n",
    "else:\n",
    "    print(\"귀무가설 채택: 표본 평균은 모평균과 유의하게 다르지 않습니다.\")\n"
   ]
  },
  {
   "cell_type": "code",
   "execution_count": 20,
   "id": "b4fc327c",
   "metadata": {},
   "outputs": [
    {
     "name": "stdout",
     "output_type": "stream",
     "text": [
      "Wilcoxon p-value: 0.0020\n",
      "귀무가설 기각: 표본의 중앙값은 모평균과 유의하게 다릅니다.\n"
     ]
    }
   ],
   "source": [
    "from scipy.stats import wilcoxon\n",
    "\n",
    "# 윌콕슨 부호 순위 검정\n",
    "wilcoxon_stat, wilcoxon_p = wilcoxon(after, before) # or wilcoxon(differences)\n",
    "\n",
    "print(f\"Wilcoxon p-value: {wilcoxon_p:.4f}\")\n",
    "\n",
    "alpha = 0.05\n",
    "if wilcoxon_p < alpha:\n",
    "    print(\"귀무가설 기각: 표본의 중앙값은 모평균과 유의하게 다릅니다.\")\n",
    "else:\n",
    "    print(\"귀무가설 채택: 표본의 중앙값은 모평균과 유의하게 다르지 않습니다.\")"
   ]
  },
  {
   "cell_type": "code",
   "execution_count": null,
   "id": "2a19fb0a",
   "metadata": {},
   "outputs": [],
   "source": []
  },
  {
   "cell_type": "code",
   "execution_count": null,
   "id": "83259299",
   "metadata": {},
   "outputs": [],
   "source": []
  }
 ],
 "metadata": {
  "kernelspec": {
   "display_name": "Python 3 (ipykernel)",
   "language": "python",
   "name": "python3"
  },
  "language_info": {
   "codemirror_mode": {
    "name": "ipython",
    "version": 3
   },
   "file_extension": ".py",
   "mimetype": "text/x-python",
   "name": "python",
   "nbconvert_exporter": "python",
   "pygments_lexer": "ipython3",
   "version": "3.7.4"
  }
 },
 "nbformat": 4,
 "nbformat_minor": 5
}
