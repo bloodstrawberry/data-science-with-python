{
 "cells": [
  {
   "cell_type": "code",
   "execution_count": 8,
   "id": "ce7476d6",
   "metadata": {},
   "outputs": [
    {
     "data": {
      "text/plain": [
       "A    10.281119\n",
       "B    11.958114\n",
       "C    14.513070\n",
       "dtype: float64"
      ]
     },
     "execution_count": 8,
     "metadata": {},
     "output_type": "execute_result"
    }
   ],
   "source": [
    "import numpy as np\n",
    "import pandas as pd\n",
    "\n",
    "# 샘플 데이터 생성\n",
    "np.random.seed(0)\n",
    "\n",
    "groupA = np.random.normal(loc=10, scale=2.0, size=50) # 평균 10, 표준편차 2\n",
    "groupB = np.random.normal(loc=12, scale=2.0, size=50) # 평균 12, 표준편차 2\n",
    "groupC = np.random.normal(loc=14, scale=2.0, size=50) # 평균 14, 표준편차 2\n",
    "\n",
    "df = pd.DataFrame({'A': groupA, 'B': groupB, 'C': groupC})\n",
    "\n",
    "df.mean()"
   ]
  },
  {
   "cell_type": "code",
   "execution_count": 14,
   "id": "53c3be4d",
   "metadata": {},
   "outputs": [
    {
     "name": "stdout",
     "output_type": "stream",
     "text": [
      "         value group\n",
      "0    13.528105     A\n",
      "1    10.800314     A\n",
      "2    11.957476     A\n",
      "3    14.481786     A\n",
      "4    13.735116     A\n",
      "..         ...   ...\n",
      "145  15.888959     C\n",
      "146  12.174356     C\n",
      "147  16.234033     C\n",
      "148  11.368185     C\n",
      "149  13.076831     C\n",
      "\n",
      "[150 rows x 2 columns]\n"
     ]
    }
   ],
   "source": [
    "from statsmodels.formula.api import ols\n",
    "from statsmodels.stats.anova import anova_lm\n",
    "\n",
    "# 모수 검정 (parametric test)\n",
    "# 목적 : 여러 그룹 간의 평균 차이가 통계적으로 유의미한지를 검정\n",
    "# 가정 : 각 그룹은 정규분포를 따르고 분산이 같으며(등분산성) 독립된 표본이어야 한다.\n",
    "# H₀ (귀무가설) : 모든 그룹의 모평균이 같다.\n",
    "# H₁ (대립가설) : 적어도 하나의 그룹의 평균이 다르다.\n",
    "# 정규성이나 등분산성이 안 맞는 경우엔 Kruskal-Wallis 등의 비모수 검정 사용\n",
    "\n",
    "# 그룹 이름과 값을 하나의 DataFrame으로 통합\n",
    "df_new = pd.DataFrame({\n",
    "    'value': np.concatenate([groupA, groupB, groupC]),\n",
    "    'group': ['A']*50 + ['B']*50 + ['C']*50\n",
    "})\n",
    "\n",
    "print(df_new)"
   ]
  },
  {
   "cell_type": "code",
   "execution_count": 22,
   "id": "a5f84a4d",
   "metadata": {},
   "outputs": [
    {
     "data": {
      "text/html": [
       "<div>\n",
       "<style scoped>\n",
       "    .dataframe tbody tr th:only-of-type {\n",
       "        vertical-align: middle;\n",
       "    }\n",
       "\n",
       "    .dataframe tbody tr th {\n",
       "        vertical-align: top;\n",
       "    }\n",
       "\n",
       "    .dataframe thead th {\n",
       "        text-align: right;\n",
       "    }\n",
       "</style>\n",
       "<table border=\"1\" class=\"dataframe\">\n",
       "  <thead>\n",
       "    <tr style=\"text-align: right;\">\n",
       "      <th></th>\n",
       "      <th>df</th>\n",
       "      <th>sum_sq</th>\n",
       "      <th>mean_sq</th>\n",
       "      <th>F</th>\n",
       "      <th>PR(&gt;F)</th>\n",
       "    </tr>\n",
       "  </thead>\n",
       "  <tbody>\n",
       "    <tr>\n",
       "      <td>C(group)</td>\n",
       "      <td>2.0</td>\n",
       "      <td>454.158726</td>\n",
       "      <td>227.079363</td>\n",
       "      <td>54.119975</td>\n",
       "      <td>2.438362e-18</td>\n",
       "    </tr>\n",
       "    <tr>\n",
       "      <td>Residual</td>\n",
       "      <td>147.0</td>\n",
       "      <td>616.790127</td>\n",
       "      <td>4.195851</td>\n",
       "      <td>NaN</td>\n",
       "      <td>NaN</td>\n",
       "    </tr>\n",
       "  </tbody>\n",
       "</table>\n",
       "</div>"
      ],
      "text/plain": [
       "             df      sum_sq     mean_sq          F        PR(>F)\n",
       "C(group)    2.0  454.158726  227.079363  54.119975  2.438362e-18\n",
       "Residual  147.0  616.790127    4.195851        NaN           NaN"
      ]
     },
     "execution_count": 22,
     "metadata": {},
     "output_type": "execute_result"
    }
   ],
   "source": [
    "# OLS 모델 적합 (종속변수 ~ 독립변수)\n",
    "model = ols('value ~ C(group)', data=df_new).fit()\n",
    "\n",
    "# ANOVA 수행\n",
    "# typ=1 : 순서에 의존\n",
    "# typ=2 : 평균 중심화된 효과\n",
    "# typ=3 : 독립 효과 (SPSS 방식과 유사)\n",
    "anova_results = anova_lm(model, typ=1)\n",
    "anova_results\n",
    "# C(group)는 그룹 간 차이에 대한 효과를 나타냄\n",
    "# sum_sq : 제곱합\n",
    "# mean_sq : 평균 제곱합, sum_sq / df\n",
    "# df : 자유도\n",
    "# F : F 통계량, 그룹 간 변동이 그룹 내 변동보다 얼마나 큰지 비교 (F가 크면 통계적으로 유의)\n",
    "# PR(>F): p-value (0.05보다 작으면 그룹 간 평균 차이가 유의함)"
   ]
  },
  {
   "cell_type": "code",
   "execution_count": 24,
   "id": "e41ebb3b",
   "metadata": {},
   "outputs": [
    {
     "data": {
      "text/plain": [
       "(54.11997511564046, 2.4383623043908716e-18)"
      ]
     },
     "execution_count": 24,
     "metadata": {},
     "output_type": "execute_result"
    }
   ],
   "source": [
    "anova_results['F'][0], anova_results['PR(>F)'][0]"
   ]
  },
  {
   "cell_type": "code",
   "execution_count": 9,
   "id": "3352d6ac",
   "metadata": {},
   "outputs": [
    {
     "data": {
      "text/plain": [
       "(54.11997511564093, 2.4383623043902153e-18)"
      ]
     },
     "execution_count": 9,
     "metadata": {},
     "output_type": "execute_result"
    }
   ],
   "source": [
    "# scipy의 f_oneway 사용\n",
    "from scipy.stats import f_oneway\n",
    "\n",
    "stat, p_value = f_oneway(df['A'], df['B'], df['C'])\n",
    "stat, p_value"
   ]
  }
 ],
 "metadata": {
  "kernelspec": {
   "display_name": "Python 3 (ipykernel)",
   "language": "python",
   "name": "python3"
  },
  "language_info": {
   "codemirror_mode": {
    "name": "ipython",
    "version": 3
   },
   "file_extension": ".py",
   "mimetype": "text/x-python",
   "name": "python",
   "nbconvert_exporter": "python",
   "pygments_lexer": "ipython3",
   "version": "3.7.4"
  }
 },
 "nbformat": 4,
 "nbformat_minor": 5
}
