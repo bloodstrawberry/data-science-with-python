{
 "cells": [
  {
   "cell_type": "code",
   "execution_count": 1,
   "id": "1705eaaa",
   "metadata": {},
   "outputs": [
    {
     "data": {
      "text/html": [
       "<div>\n",
       "<style scoped>\n",
       "    .dataframe tbody tr th:only-of-type {\n",
       "        vertical-align: middle;\n",
       "    }\n",
       "\n",
       "    .dataframe tbody tr th {\n",
       "        vertical-align: top;\n",
       "    }\n",
       "\n",
       "    .dataframe thead th {\n",
       "        text-align: right;\n",
       "    }\n",
       "</style>\n",
       "<table border=\"1\" class=\"dataframe\">\n",
       "  <thead>\n",
       "    <tr style=\"text-align: right;\">\n",
       "      <th></th>\n",
       "      <th>score</th>\n",
       "      <th>gender</th>\n",
       "      <th>method</th>\n",
       "    </tr>\n",
       "  </thead>\n",
       "  <tbody>\n",
       "    <tr>\n",
       "      <td>0</td>\n",
       "      <td>88</td>\n",
       "      <td>M</td>\n",
       "      <td>online</td>\n",
       "    </tr>\n",
       "    <tr>\n",
       "      <td>1</td>\n",
       "      <td>92</td>\n",
       "      <td>M</td>\n",
       "      <td>online</td>\n",
       "    </tr>\n",
       "    <tr>\n",
       "      <td>2</td>\n",
       "      <td>95</td>\n",
       "      <td>M</td>\n",
       "      <td>offline</td>\n",
       "    </tr>\n",
       "    <tr>\n",
       "      <td>3</td>\n",
       "      <td>89</td>\n",
       "      <td>M</td>\n",
       "      <td>offline</td>\n",
       "    </tr>\n",
       "    <tr>\n",
       "      <td>4</td>\n",
       "      <td>90</td>\n",
       "      <td>F</td>\n",
       "      <td>online</td>\n",
       "    </tr>\n",
       "  </tbody>\n",
       "</table>\n",
       "</div>"
      ],
      "text/plain": [
       "   score gender   method\n",
       "0     88      M   online\n",
       "1     92      M   online\n",
       "2     95      M  offline\n",
       "3     89      M  offline\n",
       "4     90      F   online"
      ]
     },
     "execution_count": 1,
     "metadata": {},
     "output_type": "execute_result"
    }
   ],
   "source": [
    "import numpy as np\n",
    "import pandas as pd\n",
    "\n",
    "# 종속변수 = 점수\n",
    "# 독립변수 1, 2 = 성별, 수업방식\n",
    "\n",
    "df = pd.DataFrame({\n",
    "    'score': [88, 92, 95, 89, 90, 91, 85, 87, 86, 90, 93, 94],\n",
    "    'gender': ['M', 'M', 'M', 'M', 'F', 'F', 'F', 'F', 'M', 'M', 'F', 'F'],\n",
    "    'method': ['online', 'online', 'offline', 'offline', 'online', 'online', 'offline', 'offline',\n",
    "               'online', 'offline', 'online', 'offline']\n",
    "})\n",
    "\n",
    "df.head()"
   ]
  },
  {
   "cell_type": "code",
   "execution_count": 13,
   "id": "b5917ed3",
   "metadata": {},
   "outputs": [
    {
     "data": {
      "text/html": [
       "<div>\n",
       "<style scoped>\n",
       "    .dataframe tbody tr th:only-of-type {\n",
       "        vertical-align: middle;\n",
       "    }\n",
       "\n",
       "    .dataframe tbody tr th {\n",
       "        vertical-align: top;\n",
       "    }\n",
       "\n",
       "    .dataframe thead th {\n",
       "        text-align: right;\n",
       "    }\n",
       "</style>\n",
       "<table border=\"1\" class=\"dataframe\">\n",
       "  <thead>\n",
       "    <tr style=\"text-align: right;\">\n",
       "      <th></th>\n",
       "      <th>df</th>\n",
       "      <th>sum_sq</th>\n",
       "      <th>mean_sq</th>\n",
       "      <th>F</th>\n",
       "      <th>PR(&gt;F)</th>\n",
       "    </tr>\n",
       "  </thead>\n",
       "  <tbody>\n",
       "    <tr>\n",
       "      <td>gender</td>\n",
       "      <td>1.0</td>\n",
       "      <td>4.543839e-28</td>\n",
       "      <td>4.543839e-28</td>\n",
       "      <td>4.099704e-29</td>\n",
       "      <td>1.000000</td>\n",
       "    </tr>\n",
       "    <tr>\n",
       "      <td>method</td>\n",
       "      <td>1.0</td>\n",
       "      <td>2.999644e-28</td>\n",
       "      <td>2.999644e-28</td>\n",
       "      <td>2.706445e-29</td>\n",
       "      <td>1.000000</td>\n",
       "    </tr>\n",
       "    <tr>\n",
       "      <td>gender:method</td>\n",
       "      <td>1.0</td>\n",
       "      <td>2.133333e+01</td>\n",
       "      <td>2.133333e+01</td>\n",
       "      <td>1.924812e+00</td>\n",
       "      <td>0.202751</td>\n",
       "    </tr>\n",
       "    <tr>\n",
       "      <td>Residual</td>\n",
       "      <td>8.0</td>\n",
       "      <td>8.866667e+01</td>\n",
       "      <td>1.108333e+01</td>\n",
       "      <td>NaN</td>\n",
       "      <td>NaN</td>\n",
       "    </tr>\n",
       "  </tbody>\n",
       "</table>\n",
       "</div>"
      ],
      "text/plain": [
       "                df        sum_sq       mean_sq             F    PR(>F)\n",
       "gender         1.0  4.543839e-28  4.543839e-28  4.099704e-29  1.000000\n",
       "method         1.0  2.999644e-28  2.999644e-28  2.706445e-29  1.000000\n",
       "gender:method  1.0  2.133333e+01  2.133333e+01  1.924812e+00  0.202751\n",
       "Residual       8.0  8.866667e+01  1.108333e+01           NaN       NaN"
      ]
     },
     "execution_count": 13,
     "metadata": {},
     "output_type": "execute_result"
    }
   ],
   "source": [
    "from statsmodels.formula.api import ols\n",
    "from statsmodels.stats.anova import anova_lm\n",
    "\n",
    "# 모수 검정 (parametric test)\n",
    "# 목적 : 두 개의 독립 변수(요인)가 종속 변수에 미치는 주효과 또는 상호작용 효과를 평가\n",
    "# 가정 : 각 그룹은 정규분포를 따르고 분산이 같으며(등분산성) 독립된 표본이어야 한다.\n",
    "# H₀ (귀무가설) : 두 독립변수의 교호작용 효과가 존재하지 않는다.\n",
    "# H₁ (대립가설) : 두 독립변수의 교호작용 효과가 존재한다.\n",
    "\n",
    "model = ols('score ~ gender + method + gender:method', data=df).fit()\n",
    "anova_results = anova_lm(model)\n",
    "\n",
    "anova_results"
   ]
  },
  {
   "cell_type": "code",
   "execution_count": 14,
   "id": "351e520b",
   "metadata": {},
   "outputs": [
    {
     "data": {
      "text/html": [
       "<div>\n",
       "<style scoped>\n",
       "    .dataframe tbody tr th:only-of-type {\n",
       "        vertical-align: middle;\n",
       "    }\n",
       "\n",
       "    .dataframe tbody tr th {\n",
       "        vertical-align: top;\n",
       "    }\n",
       "\n",
       "    .dataframe thead th {\n",
       "        text-align: right;\n",
       "    }\n",
       "</style>\n",
       "<table border=\"1\" class=\"dataframe\">\n",
       "  <thead>\n",
       "    <tr style=\"text-align: right;\">\n",
       "      <th></th>\n",
       "      <th>df</th>\n",
       "      <th>sum_sq</th>\n",
       "      <th>mean_sq</th>\n",
       "      <th>F</th>\n",
       "      <th>PR(&gt;F)</th>\n",
       "    </tr>\n",
       "  </thead>\n",
       "  <tbody>\n",
       "    <tr>\n",
       "      <td>gender</td>\n",
       "      <td>1.0</td>\n",
       "      <td>4.543839e-28</td>\n",
       "      <td>4.543839e-28</td>\n",
       "      <td>4.099704e-29</td>\n",
       "      <td>1.000000</td>\n",
       "    </tr>\n",
       "    <tr>\n",
       "      <td>method</td>\n",
       "      <td>1.0</td>\n",
       "      <td>2.999644e-28</td>\n",
       "      <td>2.999644e-28</td>\n",
       "      <td>2.706445e-29</td>\n",
       "      <td>1.000000</td>\n",
       "    </tr>\n",
       "    <tr>\n",
       "      <td>gender:method</td>\n",
       "      <td>1.0</td>\n",
       "      <td>2.133333e+01</td>\n",
       "      <td>2.133333e+01</td>\n",
       "      <td>1.924812e+00</td>\n",
       "      <td>0.202751</td>\n",
       "    </tr>\n",
       "    <tr>\n",
       "      <td>Residual</td>\n",
       "      <td>8.0</td>\n",
       "      <td>8.866667e+01</td>\n",
       "      <td>1.108333e+01</td>\n",
       "      <td>NaN</td>\n",
       "      <td>NaN</td>\n",
       "    </tr>\n",
       "  </tbody>\n",
       "</table>\n",
       "</div>"
      ],
      "text/plain": [
       "                df        sum_sq       mean_sq             F    PR(>F)\n",
       "gender         1.0  4.543839e-28  4.543839e-28  4.099704e-29  1.000000\n",
       "method         1.0  2.999644e-28  2.999644e-28  2.706445e-29  1.000000\n",
       "gender:method  1.0  2.133333e+01  2.133333e+01  1.924812e+00  0.202751\n",
       "Residual       8.0  8.866667e+01  1.108333e+01           NaN       NaN"
      ]
     },
     "execution_count": 14,
     "metadata": {},
     "output_type": "execute_result"
    }
   ],
   "source": [
    "from statsmodels.formula.api import ols\n",
    "from statsmodels.stats.anova import anova_lm\n",
    "\n",
    "model = ols('score ~ gender * method', data=df).fit()\n",
    "anova_results = anova_lm(model)\n",
    "\n",
    "anova_results"
   ]
  },
  {
   "cell_type": "code",
   "execution_count": 15,
   "id": "01a01cc9",
   "metadata": {},
   "outputs": [
    {
     "name": "stdout",
     "output_type": "stream",
     "text": [
      "Gender effect: F=0.000, p=1.000\n",
      "Method effect: F=0.000, p=1.000\n"
     ]
    }
   ],
   "source": [
    "from scipy.stats import f_oneway\n",
    "\n",
    "# 1) gender 그룹별 점수 리스트 만들기\n",
    "scores_M = df[df['gender'] == 'M']['score']\n",
    "scores_F = df[df['gender'] == 'F']['score']\n",
    "\n",
    "# gender에 따른 f_oneway\n",
    "f_stat_gender, p_val_gender = f_oneway(scores_M, scores_F)\n",
    "print(f\"Gender effect: F={f_stat_gender:.3f}, p={p_val_gender:.3f}\")\n",
    "\n",
    "# 2) method 그룹별 점수 리스트 만들기\n",
    "scores_online = df[df['method'] == 'online']['score']\n",
    "scores_offline = df[df['method'] == 'offline']['score']\n",
    "\n",
    "# method에 따른 f_oneway\n",
    "f_stat_method, p_val_method = f_oneway(scores_online, scores_offline)\n",
    "print(f\"Method effect: F={f_stat_method:.3f}, p={p_val_method:.3f}\")"
   ]
  },
  {
   "cell_type": "code",
   "execution_count": 8,
   "id": "7e3e1e14",
   "metadata": {},
   "outputs": [
    {
     "name": "stdout",
     "output_type": "stream",
     "text": [
      "                      df        sum_sq       mean_sq             F    PR(>F)\n",
      "C(gender)            1.0  4.543839e-28  4.543839e-28  4.099704e-29  1.000000\n",
      "C(method)            1.0  2.999644e-28  2.999644e-28  2.706445e-29  1.000000\n",
      "C(gender):C(method)  1.0  2.133333e+01  2.133333e+01  1.924812e+00  0.202751\n",
      "Residual             8.0  8.866667e+01  1.108333e+01           NaN       NaN\n"
     ]
    }
   ],
   "source": [
    "import pandas as pd\n",
    "import statsmodels.api as sm\n",
    "from statsmodels.formula.api import ols\n",
    "from statsmodels.stats.anova import anova_lm\n",
    "\n",
    "# 🎲 샘플 데이터 생성\n",
    "data = pd.DataFrame({\n",
    "    'score': [88, 92, 95, 89, 90, 91, 85, 87, 86, 90, 93, 94],\n",
    "    'gender': ['M', 'M', 'M', 'M', 'F', 'F', 'F', 'F', 'M', 'M', 'F', 'F'],\n",
    "    'method': ['online', 'online', 'offline', 'offline', 'online', 'online', 'offline', 'offline',\n",
    "               'online', 'offline', 'online', 'offline']\n",
    "})\n",
    "\n",
    "# 📈 모델 적합\n",
    "model = ols('score ~ C(gender) + C(method) + C(gender):C(method)', data=data).fit()\n",
    "\n",
    "# 🔍 이원분산분석 수행\n",
    "anova_results = anova_lm(model, typ=1)\n",
    "print(anova_results)\n",
    "\n",
    "# 이원분산분석 데이터 수 df의 합 + 1"
   ]
  },
  {
   "cell_type": "code",
   "execution_count": null,
   "id": "43ffc816",
   "metadata": {},
   "outputs": [],
   "source": []
  },
  {
   "cell_type": "code",
   "execution_count": null,
   "id": "22f924e3",
   "metadata": {},
   "outputs": [],
   "source": []
  },
  {
   "cell_type": "code",
   "execution_count": null,
   "id": "5355e18d",
   "metadata": {},
   "outputs": [],
   "source": []
  },
  {
   "cell_type": "code",
   "execution_count": null,
   "id": "38e6d830",
   "metadata": {},
   "outputs": [],
   "source": []
  },
  {
   "cell_type": "code",
   "execution_count": null,
   "id": "e3552480",
   "metadata": {},
   "outputs": [],
   "source": []
  },
  {
   "cell_type": "code",
   "execution_count": null,
   "id": "bcdd4aac",
   "metadata": {},
   "outputs": [],
   "source": [
    "# 교호작용"
   ]
  },
  {
   "cell_type": "code",
   "execution_count": 1,
   "id": "58d9fd08",
   "metadata": {},
   "outputs": [
    {
     "data": {
      "image/png": "[encoded data removed]",
      "text/plain": [
       "<Figure size 1200x500 with 2 Axes>"
      ]
     },
     "metadata": {},
     "output_type": "display_data"
    }
   ],
   "source": [
    "import matplotlib.pyplot as plt\n",
    "import seaborn as sns\n",
    "import pandas as pd\n",
    "import numpy as np\n",
    "import statsmodels.formula.api as smf\n",
    "\n",
    "# 데이터 생성\n",
    "np.random.seed(42)\n",
    "n = 100\n",
    "A = np.random.choice(['Low', 'High'], size=n)\n",
    "B = np.random.choice(['X', 'Y'], size=n)\n",
    "\n",
    "# 교호작용이 없는 경우 (평행한 효과)\n",
    "y_no_interaction = (\n",
    "    5 +\n",
    "    (A == 'High') * 2 +     # A 효과\n",
    "    (B == 'Y') * 3 +        # B 효과\n",
    "    np.random.normal(0, 1, size=n)\n",
    ")\n",
    "\n",
    "# 교호작용이 있는 경우 (비평행)\n",
    "y_interaction = (\n",
    "    5 +\n",
    "    (A == 'High') * 2 +\n",
    "    (B == 'Y') * 3 +\n",
    "    (A == 'High') * (B == 'Y') * 4 +  # interaction 효과\n",
    "    np.random.normal(0, 1, size=n)\n",
    ")\n",
    "\n",
    "# 데이터프레임 생성\n",
    "df_no_interaction = pd.DataFrame({'A': A, 'B': B, 'y': y_no_interaction})\n",
    "df_interaction = pd.DataFrame({'A': A, 'B': B, 'y': y_interaction})\n",
    "\n",
    "# 교호작용 플롯\n",
    "fig, axes = plt.subplots(1, 2, figsize=(12, 5), sharey=True)\n",
    "\n",
    "sns.pointplot(x='B', y='y', hue='A', data=df_no_interaction, ax=axes[0])\n",
    "axes[0].set_title('Interaction Effcet X (parallel)')\n",
    "\n",
    "sns.pointplot(x='B', y='y', hue='A', data=df_interaction, ax=axes[1])\n",
    "axes[1].set_title('Interaction Effcet O')\n",
    "\n",
    "plt.tight_layout()\n",
    "plt.show()"
   ]
  },
  {
   "cell_type": "code",
   "execution_count": null,
   "id": "9061436b",
   "metadata": {},
   "outputs": [],
   "source": [
    "교호작용에서의 P-value 의미 정리\n",
    "귀무가설 (H₀): 교호작용 효과가 없다.\n",
    "→ 두 요인의 결합 효과는 단순히 개별 효과의 합이다 (선형적, 플롯이 평행함).\n",
    "\n",
    "대립가설 (H₁): 교호작용 효과가 있다.\n",
    "→ 두 요인의 조합에 따라 효과가 달라진다 (비선형적, 플롯이 비평행함).\n",
    "\n",
    "교호작용에서 Pvalue가 0.05이하면 플롯은 평행하지 않다."
   ]
  },
  {
   "cell_type": "code",
   "execution_count": null,
   "id": "4bdea3c0",
   "metadata": {},
   "outputs": [],
   "source": []
  },
  {
   "cell_type": "code",
   "execution_count": null,
   "id": "fe75ca6c",
   "metadata": {},
   "outputs": [],
   "source": []
  }
 ],
 "metadata": {
  "kernelspec": {
   "display_name": "Python 3 (ipykernel)",
   "language": "python",
   "name": "python3"
  },
  "language_info": {
   "codemirror_mode": {
    "name": "ipython",
    "version": 3
   },
   "file_extension": ".py",
   "mimetype": "text/x-python",
   "name": "python",
   "nbconvert_exporter": "python",
   "pygments_lexer": "ipython3",
   "version": "3.7.4"
  }
 },
 "nbformat": 4,
 "nbformat_minor": 5
}
