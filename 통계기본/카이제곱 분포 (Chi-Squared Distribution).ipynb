{
 "cells": [
  {
   "cell_type": "code",
   "execution_count": null,
   "id": "cb29a53c",
   "metadata": {},
   "outputs": [],
   "source": [
    "# 카이제곱 분포는 차이를 검정한다.\n",
    "# 기대치와 관측치 사이에 존재하는 차이에서 관측도수를 얻을 확률을 얻을 수 있다.\n",
    "# 카이제곱의 값이 낮으면 기대치와 관측치 사이에 유의한 차이가 없다는 것을 의미한다.\n",
    "\n",
    "# 자유도 v = (클래스의 수) - (제약의 수)\n",
    "# 기대치와 관측치의 개수가 같아야 한다는 한 가지 제약이 있다.\n",
    "# 카이제곱은 가설검정을 수행할 경우, \n",
    "# 검정통계의 값이 높을수록 관측치와 기대치가 더 많이 달라지므로 항상 상위꼬리(우측 누적확률)를 사용한다."
   ]
  },
  {
   "cell_type": "code",
   "execution_count": null,
   "id": "f8835176",
   "metadata": {},
   "outputs": [],
   "source": []
  },
  {
   "attachments": {
    "image.png": {
     "image/png": "[encoded data removed]"
    }
   },
   "cell_type": "markdown",
   "id": "23fc1ce2",
   "metadata": {},
   "source": [
    "![image.png](attachment:image.png)"
   ]
  },
  {
   "cell_type": "code",
   "execution_count": 10,
   "id": "d964dee5",
   "metadata": {},
   "outputs": [
    {
     "name": "stdout",
     "output_type": "stream",
     "text": [
      "p-value: 0.0500\n"
     ]
    }
   ],
   "source": [
    "# 카이제곱 확률 테이블\n",
    "from scipy.stats import chi2\n",
    "\n",
    "# 예: 통계량이 11.07이고 자유도는 5일 때\n",
    "chi2_stat = 11.07\n",
    "df = 5\n",
    "\n",
    "# 우측 누적 확률 (p-value)\n",
    "p_value = 1 - chi2.cdf(chi2_stat, df)\n",
    "\n",
    "print(f\"p-value: {p_value:.4f}\")"
   ]
  },
  {
   "cell_type": "code",
   "execution_count": 11,
   "id": "9fc9a289",
   "metadata": {},
   "outputs": [
    {
     "name": "stdout",
     "output_type": "stream",
     "text": [
      "Chi-squared Statistic: 4.0000\n",
      "p-value: 0.5494\n"
     ]
    }
   ],
   "source": [
    "import numpy as np\n",
    "from scipy.stats import chi2\n",
    "# 주사위를 60번 던졌을 때, 1 ~ 6이 나온 횟수\n",
    "\n",
    "# 관측값\n",
    "observed = np.array([5, 9, 10, 11, 12, 13])\n",
    "# 기대값 (공정한 주사위라면 각 면이 10번 나와야 함)\n",
    "expected = np.array([10, 10, 10, 10, 10, 10])\n",
    "\n",
    "chi_squared_stat = np.sum((observed - expected) ** 2 / expected)\n",
    "\n",
    "print(f\"Chi-squared Statistic: {chi_squared_stat:.4f}\")\n",
    "\n",
    "# 자유도\n",
    "df = 5\n",
    "\n",
    "# p-value 계산 (우측 누적 확률)\n",
    "p_value = 1 - chi2.cdf(chi_squared_stat, df)\n",
    "\n",
    "print(f\"p-value: {p_value:.4f}\")"
   ]
  },
  {
   "cell_type": "code",
   "execution_count": 8,
   "id": "88ab1004",
   "metadata": {},
   "outputs": [
    {
     "name": "stdout",
     "output_type": "stream",
     "text": [
      "Chi-squared Statistic: 4.0000\n",
      "P-value: 0.5494\n",
      "귀무가설 채택: 주사위는 공정하다.\n"
     ]
    }
   ],
   "source": [
    "import scipy.stats as stats\n",
    "\n",
    "# 카이제곱 통계량과 p-value 계산\n",
    "chi2_stat, p_value = stats.chisquare(f_obs=observed, f_exp=expected)\n",
    "\n",
    "print(f\"Chi-squared Statistic: {chi2_stat:.4f}\")\n",
    "print(f\"P-value: {p_value:.4f}\")\n",
    "\n",
    "# 결과 해석\n",
    "alpha = 0.05\n",
    "if p_value < alpha:\n",
    "    print(\"귀무가설 기각: 주사위는 공정하지 않다.\")\n",
    "else:\n",
    "    print(\"귀무가설 채택: 주사위는 공정하다.\")"
   ]
  },
  {
   "cell_type": "code",
   "execution_count": null,
   "id": "69980dc3",
   "metadata": {},
   "outputs": [],
   "source": []
  },
  {
   "cell_type": "code",
   "execution_count": 26,
   "id": "82db7c2a",
   "metadata": {},
   "outputs": [
    {
     "name": "stdout",
     "output_type": "stream",
     "text": [
      "유의수준 1%에서의 임계값: 15.0863\n",
      "Chi-squared Statistic: 88.2395\n"
     ]
    }
   ],
   "source": [
    "from scipy.stats import chi2\n",
    "\n",
    "observed = np.array([107, 198, 192, 125, 132, 248])\n",
    "expected = np.array([167, 167, 167, 167, 167, 167])\n",
    "\n",
    "df = 5\n",
    "alpha = 0.01\n",
    "\n",
    "critical_value = chi2.ppf(1 - alpha, df)\n",
    "print(f\"유의수준 1%에서의 임계값: {critical_value:.4f}\")\n",
    "\n",
    "chi_squared_stat = np.sum((observed - expected) ** 2 / expected)\n",
    "print(f\"Chi-squared Statistic: {chi_squared_stat:.4f}\")\n",
    "# chi_squared_stat은 critical_value보다 크기 때문에, 검정통계가 기각역 안에 있다.\n",
    "# 주사위는 공정하지 않다."
   ]
  },
  {
   "cell_type": "code",
   "execution_count": 27,
   "id": "2b1c61f9",
   "metadata": {},
   "outputs": [
    {
     "data": {
      "text/plain": [
       "(88.23952095808383, 1.5740730408691192e-17)"
      ]
     },
     "execution_count": 27,
     "metadata": {},
     "output_type": "execute_result"
    }
   ],
   "source": [
    "chi2_stat, p_value = stats.chisquare(f_obs=observed, f_exp=expected)\n",
    "chi2_stat, p_value"
   ]
  },
  {
   "cell_type": "code",
   "execution_count": null,
   "id": "5c0ea9e5",
   "metadata": {},
   "outputs": [],
   "source": []
  },
  {
   "cell_type": "code",
   "execution_count": null,
   "id": "5b14ddeb",
   "metadata": {},
   "outputs": [],
   "source": [
    "# A, B, C 독립성 검정\n",
    "# H0 : 아무 관계가 없다.\n",
    "# H1 : 관계가 있다."
   ]
  },
  {
   "attachments": {
    "image.png": {
     "image/png": "[encoded data removed]"
    }
   },
   "cell_type": "markdown",
   "id": "e734f9c5",
   "metadata": {},
   "source": [
    "![image.png](attachment:image.png)"
   ]
  },
  {
   "cell_type": "code",
   "execution_count": 29,
   "id": "b9e7faf8",
   "metadata": {},
   "outputs": [
    {
     "data": {
      "text/plain": [
       "44.688"
      ]
     },
     "execution_count": 29,
     "metadata": {},
     "output_type": "execute_result"
    }
   ],
   "source": [
    "# 카이제곱 검정통계를 계산하려면 기대도수가 필요\n",
    "# P(A) = A의 총합 / 전체 총합\n",
    "# P(A 승리) = (승리 총합 / 전체 총합) * (A의 총합 / 전체 총합) \n",
    "# 기대도수 = 전체총합 * P(A 승리) = (승리 총합 * A의 총합) / 전체 총합\n",
    "\n",
    "total = 250\n",
    "win_total = 114\n",
    "A_total = 98\n",
    "\n",
    "A_win = (win_total * A_total) / total # A 승리에 대한 기대도수"
   ]
  },
  {
   "cell_type": "code",
   "execution_count": 41,
   "id": "994e0a82",
   "metadata": {},
   "outputs": [
    {
     "data": {
      "text/plain": [
       "5.617747972948175"
      ]
     },
     "execution_count": 41,
     "metadata": {},
     "output_type": "execute_result"
    }
   ],
   "source": [
    "observed = np.array([43, 8, 47, 49, 2, 44, 22, 5, 30])\n",
    "expected = np.array([44.688, 5.88, 47.432, 43.32, 5.7, 45.98, 25.992, 3.42, 27.588])\n",
    "\n",
    "sum(((observed - expected) ** 2) / expected)"
   ]
  },
  {
   "cell_type": "code",
   "execution_count": 28,
   "id": "666ae317",
   "metadata": {},
   "outputs": [
    {
     "name": "stdout",
     "output_type": "stream",
     "text": [
      "Chi-squared Statistic: 5.6177\n",
      "Degrees of Freedom: 4\n",
      "P-value: 0.2296\n"
     ]
    }
   ],
   "source": [
    "import numpy as np\n",
    "from scipy.stats import chi2_contingency\n",
    "\n",
    "# 분할표: 행 = A, B, C / 열 = 승, 무, 패\n",
    "observed = np.array([\n",
    "    [43, 8, 47],\n",
    "    [49, 2, 44],\n",
    "    [22, 5, 30]\n",
    "])\n",
    "\n",
    "# 카이제곱 독립성 검정\n",
    "chi2_stat, p_value, dof, expected = chi2_contingency(observed)\n",
    "\n",
    "print(f\"Chi-squared Statistic: {chi2_stat:.4f}\")\n",
    "print(f\"Degrees of Freedom: {dof}\") # 3x3 기대도수에서 2x2만 계산하면 나머지는 총합에 맞춰서 구할 수 있음, 자유도 = 4\n",
    "print(f\"P-value: {p_value:.4f}\")"
   ]
  },
  {
   "cell_type": "code",
   "execution_count": 35,
   "id": "e5a2e976",
   "metadata": {},
   "outputs": [
    {
     "name": "stdout",
     "output_type": "stream",
     "text": [
      "Chi-squared Statistic: 1.6273\n",
      "Degrees of Freedom: 4\n",
      "P-value: 0.8039\n"
     ]
    }
   ],
   "source": [
    "import numpy as np\n",
    "from scipy.stats import chi2_contingency\n",
    "\n",
    "# 분할표: 행 = A, B, C / 열 = 승, 무, 패\n",
    "observed = np.array([\n",
    "    [375, 367, 357],\n",
    "    [379, 336, 362],\n",
    "    [46, 37, 41]\n",
    "])\n",
    "\n",
    "# 카이제곱 독립성 검정\n",
    "chi2_stat, p_value, dof, expected = chi2_contingency(observed)\n",
    "\n",
    "print(f\"Chi-squared Statistic: {chi2_stat:.4f}\")\n",
    "print(f\"Degrees of Freedom: {dof}\") # 3x3 기대도수에서 2x2만 계산하면 나머지는 총합에 맞춰서 구할 수 있음, 자유도 = 4\n",
    "print(f\"P-value: {p_value:.4f}\")"
   ]
  },
  {
   "cell_type": "code",
   "execution_count": null,
   "id": "54541822",
   "metadata": {},
   "outputs": [],
   "source": []
  },
  {
   "cell_type": "code",
   "execution_count": null,
   "id": "ac0bb59e",
   "metadata": {},
   "outputs": [],
   "source": []
  },
  {
   "cell_type": "code",
   "execution_count": null,
   "id": "819f87ae",
   "metadata": {},
   "outputs": [],
   "source": []
  },
  {
   "cell_type": "code",
   "execution_count": null,
   "id": "7f079a28",
   "metadata": {},
   "outputs": [],
   "source": []
  },
  {
   "cell_type": "code",
   "execution_count": null,
   "id": "2cc7949c",
   "metadata": {},
   "outputs": [],
   "source": []
  }
 ],
 "metadata": {
  "kernelspec": {
   "display_name": "Python 3 (ipykernel)",
   "language": "python",
   "name": "python3"
  },
  "language_info": {
   "codemirror_mode": {
    "name": "ipython",
    "version": 3
   },
   "file_extension": ".py",
   "mimetype": "text/x-python",
   "name": "python",
   "nbconvert_exporter": "python",
   "pygments_lexer": "ipython3",
   "version": "3.7.4"
  }
 },
 "nbformat": 4,
 "nbformat_minor": 5
}
