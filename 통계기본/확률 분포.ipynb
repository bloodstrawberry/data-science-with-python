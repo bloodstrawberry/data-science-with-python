{
 "cells": [
  {
   "cell_type": "code",
   "execution_count": null,
   "id": "d3a192ee",
   "metadata": {},
   "outputs": [],
   "source": [
    "T-분포\n",
    "\n",
    "ㄴ 모집단이 정규분포라는 사실을 알고 모표준편차는 모를 때, 모집단의 평균을 추정하기 위해 사용하는 분포\n",
    "\n",
    "ㄴ 표본의 크기가 작은 소표본인 경우 사용\n",
    "\n",
    "ㄴ 표본의 크기인 n의 크기가 클 경우, 중심 극한 정리에 의하여 T-분포는 정규분포를 따른다.\n",
    "\n",
    "ㄴ 표준종규분포와 유사하게 0을 중심으로 좌우대칭이나 표준정규분포보다 평평하고 기다란 꼬리를 가진다.\n",
    "\n",
    " \n",
    "\n",
    " \n",
    "\n",
    " \n",
    "\n",
    "F-분포\n",
    "\n",
    " \n",
    "\n",
    " \n",
    "\n",
    "Z-분포\n",
    "\n",
    " \n",
    "\n",
    " \n",
    "\n",
    "x^2-분포"
   ]
  }
 ],
 "metadata": {
  "kernelspec": {
   "display_name": "Python 3 (ipykernel)",
   "language": "python",
   "name": "python3"
  },
  "language_info": {
   "codemirror_mode": {
    "name": "ipython",
    "version": 3
   },
   "file_extension": ".py",
   "mimetype": "text/x-python",
   "name": "python",
   "nbconvert_exporter": "python",
   "pygments_lexer": "ipython3",
   "version": "3.7.4"
  }
 },
 "nbformat": 4,
 "nbformat_minor": 5
}
