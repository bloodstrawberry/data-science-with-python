{
 "cells": [
  {
   "cell_type": "code",
   "execution_count": null,
   "id": "42079dd7",
   "metadata": {},
   "outputs": [],
   "source": [
    "# DBSCAN\n",
    "\n",
    "# 이상치 탐지에 사용할 수 있다.\n",
    "# 밀도가 낮은 지역의 데이터 포인트를 이상치로 간주\n",
    "\n",
    "# 데이터의 지역적인 구조(지역적인 밀집 정도)를 이용한다.\n",
    "\n",
    "# 직선으로 분리가 불가능한 그룹을 군집화 할 수 있다.\n",
    "# 군집을 밀도 기반으로 찾기 때문에, 직선으로 분리할 수 없는 복잡한 형태의 군집도 잘 탐지\n",
    "\n",
    "# 군집의 개수를 지정할 필요가 없다.\n",
    "# 두 가지 주요 파라미터인 epsilon (ε)(주변 반경)과 min_samples(최소 샘플 수)를 설정하여 군집을 형성"
   ]
  }
 ],
 "metadata": {
  "kernelspec": {
   "display_name": "Python 3 (ipykernel)",
   "language": "python",
   "name": "python3"
  },
  "language_info": {
   "codemirror_mode": {
    "name": "ipython",
    "version": 3
   },
   "file_extension": ".py",
   "mimetype": "text/x-python",
   "name": "python",
   "nbconvert_exporter": "python",
   "pygments_lexer": "ipython3",
   "version": "3.7.4"
  }
 },
 "nbformat": 4,
 "nbformat_minor": 5
}
