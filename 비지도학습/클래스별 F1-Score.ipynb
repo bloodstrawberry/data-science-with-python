{
 "cells": [
  {
   "cell_type": "code",
   "execution_count": 1,
   "id": "c850e136",
   "metadata": {},
   "outputs": [],
   "source": [
    "# 클래스별 F1-Score"
   ]
  },
  {
   "cell_type": "code",
   "execution_count": 2,
   "id": "4b37eb00",
   "metadata": {},
   "outputs": [],
   "source": [
    "import numpy as np\n",
    "\n",
    "np.random.seed(1234)\n",
    "\n",
    "# 클래스 A, B, C를 균등하게 포함하는 실제값 생성\n",
    "y_true = np.random.choice(['A', 'B', 'C'], size=1000, p=[0.4, 0.3, 0.3])\n",
    "\n",
    "# 예측값은 일부 오류를 포함해서 생성\n",
    "y_pred = []\n",
    "for label in y_true:\n",
    "    if np.random.rand() < 0.75:\n",
    "        # 75% 확률로 맞게 예측\n",
    "        y_pred.append(label)\n",
    "    else:\n",
    "        # 25% 확률로 틀리게 예측 (다른 범주 중 하나 선택)\n",
    "        y_pred.append(np.random.choice([l for l in ['A', 'B', 'C'] if l != label]))\n",
    "\n",
    "y_pred = np.array(y_pred)"
   ]
  },
  {
   "cell_type": "code",
   "execution_count": 3,
   "id": "830a7c54",
   "metadata": {},
   "outputs": [
    {
     "name": "stdout",
     "output_type": "stream",
     "text": [
      "Precision: [0.82065217 0.74074074 0.73432836]\n",
      "Recall: [0.78441558 0.73825503 0.77602524]\n",
      "F1 Score: [0.80212483 0.7394958  0.75460123]\n",
      "F1 Score: 0.7654072864368455\n"
     ]
    }
   ],
   "source": [
    "from sklearn.metrics import precision_score, recall_score, f1_score, classification_report\n",
    "\n",
    "# 클래스별 F1 Score 계산\n",
    "print(\"Precision:\", precision_score(y_true, y_pred, average=None, labels=['A', 'B', 'C']))\n",
    "print(\"Recall:\", recall_score(y_true, y_pred, average=None, labels=['A', 'B', 'C']))\n",
    "print(\"F1 Score:\", f1_score(y_true, y_pred, average=None, labels=['A', 'B', 'C'])) # 각각의 F1 Score 반환\n",
    "print(\"F1 Score:\", f1_score(y_true, y_pred, average='macro'))"
   ]
  },
  {
   "cell_type": "code",
   "execution_count": 4,
   "id": "f7c6afa8",
   "metadata": {},
   "outputs": [
    {
     "name": "stdout",
     "output_type": "stream",
     "text": [
      "\n",
      "Classification Report:\n",
      "              precision    recall  f1-score   support\n",
      "\n",
      "           A       0.82      0.78      0.80       385\n",
      "           B       0.74      0.74      0.74       298\n",
      "           C       0.73      0.78      0.75       317\n",
      "\n",
      "    accuracy                           0.77      1000\n",
      "   macro avg       0.77      0.77      0.77      1000\n",
      "weighted avg       0.77      0.77      0.77      1000\n",
      "\n"
     ]
    }
   ],
   "source": [
    "# 또는 전체 보고서 출력\n",
    "print(\"\\nClassification Report:\")\n",
    "print(classification_report(y_true, y_pred, labels=['A', 'B', 'C']))"
   ]
  },
  {
   "cell_type": "code",
   "execution_count": 5,
   "id": "222a7629",
   "metadata": {},
   "outputs": [
    {
     "data": {
      "text/plain": [
       "0.8021248339973439"
      ]
     },
     "execution_count": 5,
     "metadata": {},
     "output_type": "execute_result"
    }
   ],
   "source": [
    "label = 'A'\n",
    "rec = (((y_pred==label)&(y_true==label))*1).sum() / ((y_true==label)*1).sum()\n",
    "pre = (((y_pred==label)&(y_true==label))*1).sum() / ((y_pred==label)*1).sum()\n",
    "f1_score = (2 * rec * pre) / (rec + pre)\n",
    "\n",
    "f1_score"
   ]
  },
  {
   "cell_type": "code",
   "execution_count": null,
   "id": "0288125c",
   "metadata": {},
   "outputs": [],
   "source": []
  },
  {
   "cell_type": "code",
   "execution_count": null,
   "id": "69357ab7",
   "metadata": {},
   "outputs": [],
   "source": []
  },
  {
   "cell_type": "code",
   "execution_count": null,
   "id": "212387c1",
   "metadata": {},
   "outputs": [],
   "source": []
  },
  {
   "cell_type": "code",
   "execution_count": null,
   "id": "ae70e7d8",
   "metadata": {},
   "outputs": [],
   "source": []
  },
  {
   "cell_type": "code",
   "execution_count": null,
   "id": "056a72e1",
   "metadata": {},
   "outputs": [],
   "source": []
  },
  {
   "cell_type": "code",
   "execution_count": null,
   "id": "b510c748",
   "metadata": {},
   "outputs": [],
   "source": []
  },
  {
   "cell_type": "code",
   "execution_count": null,
   "id": "c14fd624",
   "metadata": {},
   "outputs": [],
   "source": []
  },
  {
   "cell_type": "code",
   "execution_count": null,
   "id": "ebf5eb70",
   "metadata": {},
   "outputs": [],
   "source": []
  },
  {
   "cell_type": "code",
   "execution_count": null,
   "id": "b36a505b",
   "metadata": {},
   "outputs": [],
   "source": []
  }
 ],
 "metadata": {
  "kernelspec": {
   "display_name": "Python 3 (ipykernel)",
   "language": "python",
   "name": "python3"
  },
  "language_info": {
   "codemirror_mode": {
    "name": "ipython",
    "version": 3
   },
   "file_extension": ".py",
   "mimetype": "text/x-python",
   "name": "python",
   "nbconvert_exporter": "python",
   "pygments_lexer": "ipython3",
   "version": "3.7.4"
  }
 },
 "nbformat": 4,
 "nbformat_minor": 5
}
