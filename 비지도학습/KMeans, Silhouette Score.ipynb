{
 "cells": [
  {
   "cell_type": "code",
   "execution_count": 58,
   "id": "1a5b6830",
   "metadata": {},
   "outputs": [
    {
     "data": {
      "text/html": [
       "<div>\n",
       "<style scoped>\n",
       "    .dataframe tbody tr th:only-of-type {\n",
       "        vertical-align: middle;\n",
       "    }\n",
       "\n",
       "    .dataframe tbody tr th {\n",
       "        vertical-align: top;\n",
       "    }\n",
       "\n",
       "    .dataframe thead th {\n",
       "        text-align: right;\n",
       "    }\n",
       "</style>\n",
       "<table border=\"1\" class=\"dataframe\">\n",
       "  <thead>\n",
       "    <tr style=\"text-align: right;\">\n",
       "      <th></th>\n",
       "      <th>CustomerID</th>\n",
       "      <th>Age</th>\n",
       "      <th>Annual_Income</th>\n",
       "    </tr>\n",
       "  </thead>\n",
       "  <tbody>\n",
       "    <tr>\n",
       "      <td>0</td>\n",
       "      <td>1</td>\n",
       "      <td>23</td>\n",
       "      <td>31530</td>\n",
       "    </tr>\n",
       "    <tr>\n",
       "      <td>1</td>\n",
       "      <td>2</td>\n",
       "      <td>26</td>\n",
       "      <td>36903</td>\n",
       "    </tr>\n",
       "    <tr>\n",
       "      <td>2</td>\n",
       "      <td>3</td>\n",
       "      <td>25</td>\n",
       "      <td>74762</td>\n",
       "    </tr>\n",
       "    <tr>\n",
       "      <td>3</td>\n",
       "      <td>4</td>\n",
       "      <td>24</td>\n",
       "      <td>87555</td>\n",
       "    </tr>\n",
       "    <tr>\n",
       "      <td>4</td>\n",
       "      <td>5</td>\n",
       "      <td>28</td>\n",
       "      <td>35964</td>\n",
       "    </tr>\n",
       "  </tbody>\n",
       "</table>\n",
       "</div>"
      ],
      "text/plain": [
       "   CustomerID  Age  Annual_Income\n",
       "0           1   23          31530\n",
       "1           2   26          36903\n",
       "2           3   25          74762\n",
       "3           4   24          87555\n",
       "4           5   28          35964"
      ]
     },
     "execution_count": 58,
     "metadata": {},
     "output_type": "execute_result"
    }
   ],
   "source": [
    "import pandas as pd\n",
    "import numpy as np\n",
    "\n",
    "np.random.seed(1234)\n",
    "\n",
    "data = {\n",
    "    'CustomerID': range(1, 301),\n",
    "    'Age': np.random.randint(20, 30, size=300),\n",
    "    'Annual_Income': np.random.randint(30000, 100000, size=300)\n",
    "}\n",
    "\n",
    "df = pd.DataFrame(data)\n",
    "\n",
    "df.head()"
   ]
  },
  {
   "cell_type": "code",
   "execution_count": 59,
   "id": "d664a192",
   "metadata": {},
   "outputs": [
    {
     "data": {
      "text/html": [
       "<div>\n",
       "<style scoped>\n",
       "    .dataframe tbody tr th:only-of-type {\n",
       "        vertical-align: middle;\n",
       "    }\n",
       "\n",
       "    .dataframe tbody tr th {\n",
       "        vertical-align: top;\n",
       "    }\n",
       "\n",
       "    .dataframe thead th {\n",
       "        text-align: right;\n",
       "    }\n",
       "</style>\n",
       "<table border=\"1\" class=\"dataframe\">\n",
       "  <thead>\n",
       "    <tr style=\"text-align: right;\">\n",
       "      <th></th>\n",
       "      <th>CustomerID</th>\n",
       "      <th>Age</th>\n",
       "      <th>Annual_Income</th>\n",
       "      <th>cluster_2</th>\n",
       "    </tr>\n",
       "  </thead>\n",
       "  <tbody>\n",
       "    <tr>\n",
       "      <td>295</td>\n",
       "      <td>296</td>\n",
       "      <td>23</td>\n",
       "      <td>31876</td>\n",
       "      <td>0</td>\n",
       "    </tr>\n",
       "    <tr>\n",
       "      <td>296</td>\n",
       "      <td>297</td>\n",
       "      <td>23</td>\n",
       "      <td>39818</td>\n",
       "      <td>0</td>\n",
       "    </tr>\n",
       "    <tr>\n",
       "      <td>297</td>\n",
       "      <td>298</td>\n",
       "      <td>25</td>\n",
       "      <td>70877</td>\n",
       "      <td>1</td>\n",
       "    </tr>\n",
       "    <tr>\n",
       "      <td>298</td>\n",
       "      <td>299</td>\n",
       "      <td>24</td>\n",
       "      <td>35258</td>\n",
       "      <td>0</td>\n",
       "    </tr>\n",
       "    <tr>\n",
       "      <td>299</td>\n",
       "      <td>300</td>\n",
       "      <td>25</td>\n",
       "      <td>37576</td>\n",
       "      <td>0</td>\n",
       "    </tr>\n",
       "  </tbody>\n",
       "</table>\n",
       "</div>"
      ],
      "text/plain": [
       "     CustomerID  Age  Annual_Income  cluster_2\n",
       "295         296   23          31876          0\n",
       "296         297   23          39818          0\n",
       "297         298   25          70877          1\n",
       "298         299   24          35258          0\n",
       "299         300   25          37576          0"
      ]
     },
     "execution_count": 59,
     "metadata": {},
     "output_type": "execute_result"
    }
   ],
   "source": [
    "from sklearn.cluster import KMeans\n",
    "\n",
    "X = df[['Age', 'Annual_Income']]\n",
    "\n",
    "# init = 클러스터 중심(centroids)을 어떻게 초기화할지 지정하는 옵\n",
    "# k-means++ : 초기 중심을 랜덤이 아니라, 서로 멀리 떨어지도록 선택하는 방식 (random보다 성능이 좋고 수렴이 빠름)\n",
    "# random : 초기 중심을 훈련 데이터에서 무작위로 선택\n",
    "\n",
    "# n_init = 초기 중심점 선택 횟수\n",
    "# max_iter = 중심점 초기화 이후 수행하는 이터레이션 횟수\n",
    "km = KMeans(n_init=30, n_clusters=2, random_state=1234)\n",
    "km.fit(X)\n",
    "df['cluster_2'] = km.predict(X)\n",
    "\n",
    "df.tail()"
   ]
  },
  {
   "cell_type": "code",
   "execution_count": 60,
   "id": "72676e88",
   "metadata": {},
   "outputs": [
    {
     "data": {
      "text/plain": [
       "array([[2.45033557e+01, 4.64324094e+04],\n",
       "       [2.43642384e+01, 8.23420993e+04]])"
      ]
     },
     "execution_count": 60,
     "metadata": {},
     "output_type": "execute_result"
    }
   ],
   "source": [
    "# 군집의 중심\n",
    "km.cluster_centers_"
   ]
  },
  {
   "cell_type": "code",
   "execution_count": 61,
   "id": "c6c3ee78",
   "metadata": {},
   "outputs": [
    {
     "data": {
      "text/html": [
       "<div>\n",
       "<style scoped>\n",
       "    .dataframe tbody tr th:only-of-type {\n",
       "        vertical-align: middle;\n",
       "    }\n",
       "\n",
       "    .dataframe tbody tr th {\n",
       "        vertical-align: top;\n",
       "    }\n",
       "\n",
       "    .dataframe thead th {\n",
       "        text-align: right;\n",
       "    }\n",
       "</style>\n",
       "<table border=\"1\" class=\"dataframe\">\n",
       "  <thead>\n",
       "    <tr style=\"text-align: right;\">\n",
       "      <th></th>\n",
       "      <th>CustomerID</th>\n",
       "      <th>Age</th>\n",
       "      <th>Annual_Income</th>\n",
       "      <th>cluster_2</th>\n",
       "      <th>cluster_3</th>\n",
       "    </tr>\n",
       "  </thead>\n",
       "  <tbody>\n",
       "    <tr>\n",
       "      <td>295</td>\n",
       "      <td>296</td>\n",
       "      <td>23</td>\n",
       "      <td>31876</td>\n",
       "      <td>0</td>\n",
       "      <td>1</td>\n",
       "    </tr>\n",
       "    <tr>\n",
       "      <td>296</td>\n",
       "      <td>297</td>\n",
       "      <td>23</td>\n",
       "      <td>39818</td>\n",
       "      <td>0</td>\n",
       "      <td>1</td>\n",
       "    </tr>\n",
       "    <tr>\n",
       "      <td>297</td>\n",
       "      <td>298</td>\n",
       "      <td>25</td>\n",
       "      <td>70877</td>\n",
       "      <td>1</td>\n",
       "      <td>0</td>\n",
       "    </tr>\n",
       "    <tr>\n",
       "      <td>298</td>\n",
       "      <td>299</td>\n",
       "      <td>24</td>\n",
       "      <td>35258</td>\n",
       "      <td>0</td>\n",
       "      <td>1</td>\n",
       "    </tr>\n",
       "    <tr>\n",
       "      <td>299</td>\n",
       "      <td>300</td>\n",
       "      <td>25</td>\n",
       "      <td>37576</td>\n",
       "      <td>0</td>\n",
       "      <td>1</td>\n",
       "    </tr>\n",
       "  </tbody>\n",
       "</table>\n",
       "</div>"
      ],
      "text/plain": [
       "     CustomerID  Age  Annual_Income  cluster_2  cluster_3\n",
       "295         296   23          31876          0          1\n",
       "296         297   23          39818          0          1\n",
       "297         298   25          70877          1          0\n",
       "298         299   24          35258          0          1\n",
       "299         300   25          37576          0          1"
      ]
     },
     "execution_count": 61,
     "metadata": {},
     "output_type": "execute_result"
    }
   ],
   "source": [
    "km = KMeans(n_init=30, n_clusters=3, random_state=1234)\n",
    "km.fit(X)\n",
    "df['cluster_3'] = km.predict(X)\n",
    "\n",
    "df.tail()"
   ]
  },
  {
   "cell_type": "code",
   "execution_count": 62,
   "id": "9cba4d19",
   "metadata": {},
   "outputs": [
    {
     "data": {
      "text/plain": [
       "array([[2.42736842e+01, 6.69049263e+04],\n",
       "       [2.45585586e+01, 4.16879459e+04],\n",
       "       [2.44468085e+01, 8.90293191e+04]])"
      ]
     },
     "execution_count": 62,
     "metadata": {},
     "output_type": "execute_result"
    }
   ],
   "source": [
    "km.cluster_centers_    "
   ]
  },
  {
   "cell_type": "code",
   "execution_count": 63,
   "id": "d4204a91",
   "metadata": {},
   "outputs": [
    {
     "name": "stdout",
     "output_type": "stream",
     "text": [
      "[Age                 24.503356\n",
      "Annual_Income    46432.409396\n",
      "dtype: float64, Age                 24.364238\n",
      "Annual_Income    82342.099338\n",
      "dtype: float64]\n",
      "min_dist 35909.689942044664\n",
      "goodness 2.026553024277859\n",
      "\n",
      "[Age                 24.273684\n",
      "Annual_Income    66904.926316\n",
      "dtype: float64, Age                 24.558559\n",
      "Annual_Income    41687.945946\n",
      "dtype: float64, Age                 24.446809\n",
      "Annual_Income    89029.319149\n",
      "dtype: float64]\n",
      "min_dist 25216.98037145263\n",
      "min_dist 22124.39283382404\n",
      "min_dist 47341.37320312211\n",
      "goodness 1.7804841919429824\n",
      "\n"
     ]
    }
   ],
   "source": [
    "for k in [2, 3]:\n",
    "    list_cent = []\n",
    "    list_max_dist = []\n",
    "    \n",
    "    for i in range(k):\n",
    "        cls = 'cluster_' + str(k)\n",
    "        center = df.loc[df[cls] == i, ['Age', 'Annual_Income']].mean() # 군집의 중심\n",
    "        list_cent.append(center)\n",
    "        list_dist = []\n",
    "        for j in df.loc[df[cls] == i, :].index:\n",
    "            # 군집의 중심과 군집의 데이터들 간의 유클리드 거리\n",
    "            num_dist = np.sqrt(((df.loc[j, ['Age', 'Annual_Income']] - center) ** 2).sum()) \n",
    "            # print(\"num_dist\", num_dist)\n",
    "            list_dist.append(num_dist)\n",
    "        max_dist = np.max(list_dist)\n",
    "        list_max_dist.append(max_dist)\n",
    "\n",
    "    print(list_cent)\n",
    "\n",
    "    list_min_dist = []\n",
    "    for i in range(k):\n",
    "        for j in range(i + 1, k):\n",
    "            # 군집의 중심들 간의 유클리드 거리\n",
    "            min_dist = np.sqrt(((list_cent[i] - list_cent[j]) ** 2).sum())\n",
    "            print(\"min_dist\", min_dist)\n",
    "            list_min_dist.append(min_dist)\n",
    "    \n",
    "    goodness = np.min(list_min_dist) / np.max(list_max_dist)\n",
    "    print(\"goodness\", goodness)\n",
    "    print()"
   ]
  },
  {
   "cell_type": "code",
   "execution_count": 64,
   "id": "2ff698ff",
   "metadata": {},
   "outputs": [],
   "source": [
    "####################################################################################################"
   ]
  },
  {
   "attachments": {
    "image.png": {
     "image/png": "[encoded data removed]"
    }
   },
   "cell_type": "markdown",
   "id": "6105dd0e",
   "metadata": {},
   "source": [
    "![image.png](attachment:image.png)"
   ]
  },
  {
   "cell_type": "code",
   "execution_count": 77,
   "id": "0d629f4c",
   "metadata": {},
   "outputs": [
    {
     "name": "stdout",
     "output_type": "stream",
     "text": [
      "0 25 0.08421052631578947\n",
      "0 21 0.12631578947368421\n",
      "0 20 0.09473684210526316\n",
      "0 26 0.05263157894736842\n",
      "0 27 0.10526315789473684\n",
      "0 23 0.12631578947368421\n",
      "0 29 0.10526315789473684\n",
      "0 22 0.10526315789473684\n",
      "0 24 0.11578947368421053\n",
      "0 28 0.08421052631578947\n",
      "H = 3.2868065961587742\n",
      "\n",
      "1 23 0.0990990990990991\n",
      "1 26 0.06306306306306306\n",
      "1 28 0.07207207207207207\n",
      "1 29 0.15315315315315314\n",
      "1 27 0.0990990990990991\n",
      "1 25 0.09009009009009009\n",
      "1 22 0.11711711711711711\n",
      "1 21 0.11711711711711711\n",
      "1 24 0.10810810810810811\n",
      "1 20 0.08108108108108109\n",
      "H = 3.2788713888018512\n",
      "\n",
      "2 24 0.09574468085106383\n",
      "2 26 0.06382978723404255\n",
      "2 28 0.11702127659574468\n",
      "2 20 0.13829787234042554\n",
      "2 29 0.1276595744680851\n",
      "2 22 0.09574468085106383\n",
      "2 23 0.07446808510638298\n",
      "2 25 0.06382978723404255\n",
      "2 27 0.10638297872340426\n",
      "2 21 0.11702127659574468\n",
      "H = 3.276059836864861\n",
      "\n"
     ]
    }
   ],
   "source": [
    "# cluster3에 대해 Age별 불순도 계산\n",
    "for k in range(3):\n",
    "    H = 0\n",
    "    for age in df[df['cluster_3'] == k]['Age'].unique().tolist():\n",
    "        count_age = df[(df['cluster_3'] == k) & (df['Age'] == age)]['Age'].count()\n",
    "        count_tot = df[(df['cluster_3'] == k)]['Age'].count()\n",
    "        p = count_age / count_tot\n",
    "        print(k, age, p)\n",
    "        H += (-p) * np.log2(p)\n",
    "    \n",
    "    print(\"H =\", H)\n",
    "    print()"
   ]
  },
  {
   "cell_type": "code",
   "execution_count": 43,
   "id": "b42fe98e",
   "metadata": {},
   "outputs": [],
   "source": [
    "####################################################################################################"
   ]
  },
  {
   "attachments": {
    "image.png": {
     "image/png": "[encoded data removed]"
    }
   },
   "cell_type": "markdown",
   "id": "e3895129",
   "metadata": {},
   "source": [
    "![image.png](attachment:image.png)"
   ]
  },
  {
   "attachments": {
    "image.png": {
     "image/png": "[encoded data removed]"
    }
   },
   "cell_type": "markdown",
   "id": "b6955e08",
   "metadata": {},
   "source": [
    "![image.png](attachment:image.png)"
   ]
  },
  {
   "cell_type": "code",
   "execution_count": 44,
   "id": "9192bc9a",
   "metadata": {},
   "outputs": [
    {
     "name": "stdout",
     "output_type": "stream",
     "text": [
      "Silhouette Score: 0.722\n",
      "Silhouette Score: 0.670\n"
     ]
    }
   ],
   "source": [
    "from sklearn.metrics import silhouette_score\n",
    "\n",
    "for k in [2, 3]:\n",
    "    cls = 'cluster_' + str(k)\n",
    "    score = silhouette_score(X, df[cls])\n",
    "    print(f\"Silhouette Score: {score:.3f}\")"
   ]
  },
  {
   "cell_type": "code",
   "execution_count": 45,
   "id": "d5efe782",
   "metadata": {},
   "outputs": [],
   "source": [
    "# 실루엣 계수 Example\n",
    "# 샘플명   좌표 (x, y)     클러스터\n",
    "# A       (0, 0)          0\n",
    "# B       (1, 0)          0\n",
    "# C       (5, 0)          1"
   ]
  },
  {
   "cell_type": "code",
   "execution_count": 2,
   "id": "699b3a44",
   "metadata": {},
   "outputs": [
    {
     "name": "stdout",
     "output_type": "stream",
     "text": [
      "silhouette_samples: [0.81818182 0.77777778 0.77777778 0.80196097 0.80196097 0.80196097]\n",
      "silhouette_score: 0.7966033820301107\n"
     ]
    }
   ],
   "source": [
    "from sklearn.metrics import silhouette_samples, silhouette_score\n",
    "import numpy as np\n",
    "\n",
    "X = np.array([[0, 0, 0], [1, 0, 0], [5, 0, 0], [6, 0, 0], [5, 5, 0], [6, 5, 0]])\n",
    "labels = np.array([0, 0, 1, 1, 2, 2])\n",
    "\n",
    "# 각 점별 실루엣 점수 확인\n",
    "print(\"silhouette_samples:\", silhouette_samples(X, labels))\n",
    "\n",
    "# 전체 평균\n",
    "print(\"silhouette_score:\", silhouette_score(X, labels))"
   ]
  },
  {
   "cell_type": "code",
   "execution_count": 3,
   "id": "c32ffffc",
   "metadata": {},
   "outputs": [
    {
     "name": "stdout",
     "output_type": "stream",
     "text": [
      "silhouette_samples: [0.81818182 0.77777778 0.77777778 0.80196097 0.80196097 0.80196097]\n",
      "silhouette_score: 0.7966033820301107\n"
     ]
    }
   ],
   "source": [
    "from sklearn.metrics import silhouette_samples, silhouette_score\n",
    "import numpy as np\n",
    "\n",
    "X = np.array([[0, 0], [1, 0], [5, 0], [6, 0], [5, 5], [6, 5]])\n",
    "labels = np.array([0, 0, 1, 1, 2, 2])\n",
    "\n",
    "# 각 점별 실루엣 점수 확인\n",
    "print(\"silhouette_samples:\", silhouette_samples(X, labels))\n",
    "\n",
    "# 전체 평균\n",
    "print(\"silhouette_score:\", silhouette_score(X, labels))"
   ]
  },
  {
   "cell_type": "code",
   "execution_count": 47,
   "id": "6a55a1d8",
   "metadata": {},
   "outputs": [
    {
     "name": "stdout",
     "output_type": "stream",
     "text": [
      "Sample A: Silhouette = 0.818\n",
      "Sample B: Silhouette = 0.778\n",
      "Sample C: Silhouette = 0.778\n",
      "Sample D: Silhouette = 0.802\n",
      "Sample E: Silhouette = 0.802\n",
      "Sample F: Silhouette = 0.802\n",
      "\n",
      "Average Silhouette Score: 0.797\n"
     ]
    }
   ],
   "source": [
    "import math\n",
    "\n",
    "# 1. 데이터 정의 (샘플 좌표와 클러스터 라벨)\n",
    "samples = {\n",
    "    'A': {'coord': (0, 0), 'label': 2},\n",
    "    'B': {'coord': (1, 0), 'label': 2},\n",
    "    'C': {'coord': (5, 0), 'label': 1},\n",
    "    'D': {'coord': (6, 0), 'label': 1},    \n",
    "    'E': {'coord': (5, 5), 'label': 0},\n",
    "    'F': {'coord': (6, 5), 'label': 0},        \n",
    "}\n",
    "\n",
    "# 2. 유클리드 거리 함수 정의\n",
    "def euclidean(p1, p2):\n",
    "    return math.sqrt(sum((a - b) ** 2 for a, b in zip(p1, p2)))\n",
    "\n",
    "# 3. 실루엣 계수 계산 함수\n",
    "def silhouette_score_manual(samples):\n",
    "    scores = {}\n",
    "\n",
    "    for name_i, info_i in samples.items():\n",
    "        coord_i = info_i['coord']\n",
    "        label_i = info_i['label']\n",
    "\n",
    "        a_i = 0  # 같은 클러스터 거리 평균\n",
    "        b_i = float('inf')  # 가장 가까운 다른 클러스터 거리 평균\n",
    "\n",
    "        same_cluster_dists = []\n",
    "        other_cluster_dists = {}\n",
    "\n",
    "        for name_j, info_j in samples.items():\n",
    "            if name_i == name_j:\n",
    "                continue\n",
    "\n",
    "            coord_j = info_j['coord']\n",
    "            label_j = info_j['label']\n",
    "            dist = euclidean(coord_i, coord_j)\n",
    "\n",
    "            if label_j == label_i:\n",
    "                same_cluster_dists.append(dist)\n",
    "            else:\n",
    "                other_cluster_dists.setdefault(label_j, []).append(dist)\n",
    "\n",
    "        # a(i): 같은 클러스터 내 거리 평균\n",
    "        if same_cluster_dists:\n",
    "            a_i = sum(same_cluster_dists) / len(same_cluster_dists)\n",
    "        else:\n",
    "            a_i = 0  # 혼자 있는 경우\n",
    "\n",
    "        # b(i): 가장 가까운 다른 클러스터와의 거리 평균\n",
    "        for dists in other_cluster_dists.values():\n",
    "            avg = sum(dists) / len(dists)\n",
    "            b_i = min(b_i, avg)\n",
    "\n",
    "        # s(i) 계산\n",
    "        s_i = (b_i - a_i) / max(a_i, b_i) if max(a_i, b_i) > 0 else 0\n",
    "        scores[name_i] = s_i\n",
    "\n",
    "    # 평균 실루엣 점수\n",
    "    avg_score = sum(scores.values()) / len(scores)\n",
    "    return scores, avg_score\n",
    "\n",
    "# 4. 실행\n",
    "individual_scores, avg_score = silhouette_score_manual(samples)\n",
    "\n",
    "# 5. 출력\n",
    "for name, score in individual_scores.items():\n",
    "    print(f\"Sample {name}: Silhouette = {score:.3f}\")\n",
    "print(f\"\\nAverage Silhouette Score: {avg_score:.3f}\")"
   ]
  },
  {
   "cell_type": "code",
   "execution_count": null,
   "id": "72d33fd4",
   "metadata": {},
   "outputs": [],
   "source": []
  },
  {
   "cell_type": "code",
   "execution_count": null,
   "id": "1876a56c",
   "metadata": {},
   "outputs": [],
   "source": []
  },
  {
   "cell_type": "code",
   "execution_count": null,
   "id": "7e43ab93",
   "metadata": {},
   "outputs": [],
   "source": []
  },
  {
   "cell_type": "code",
   "execution_count": null,
   "id": "251f5851",
   "metadata": {},
   "outputs": [],
   "source": []
  },
  {
   "cell_type": "code",
   "execution_count": null,
   "id": "c9aa7ad9",
   "metadata": {},
   "outputs": [],
   "source": []
  },
  {
   "cell_type": "code",
   "execution_count": null,
   "id": "e4ce6aef",
   "metadata": {},
   "outputs": [],
   "source": []
  },
  {
   "cell_type": "code",
   "execution_count": null,
   "id": "dc9b73bf",
   "metadata": {},
   "outputs": [],
   "source": []
  },
  {
   "cell_type": "code",
   "execution_count": null,
   "id": "7832c4fe",
   "metadata": {},
   "outputs": [],
   "source": []
  },
  {
   "cell_type": "code",
   "execution_count": null,
   "id": "0b1f0530",
   "metadata": {},
   "outputs": [],
   "source": []
  },
  {
   "cell_type": "code",
   "execution_count": null,
   "id": "fd711628",
   "metadata": {},
   "outputs": [],
   "source": []
  },
  {
   "cell_type": "code",
   "execution_count": null,
   "id": "a6d40840",
   "metadata": {},
   "outputs": [],
   "source": []
  }
 ],
 "metadata": {
  "kernelspec": {
   "display_name": "Python 3 (ipykernel)",
   "language": "python",
   "name": "python3"
  },
  "language_info": {
   "codemirror_mode": {
    "name": "ipython",
    "version": 3
   },
   "file_extension": ".py",
   "mimetype": "text/x-python",
   "name": "python",
   "nbconvert_exporter": "python",
   "pygments_lexer": "ipython3",
   "version": "3.7.4"
  }
 },
 "nbformat": 4,
 "nbformat_minor": 5
}
