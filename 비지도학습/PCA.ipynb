{
 "cells": [
  {
   "cell_type": "code",
   "execution_count": 2,
   "id": "a94a80fe",
   "metadata": {},
   "outputs": [
    {
     "data": {
      "text/html": [
       "<div>\n",
       "<style scoped>\n",
       "    .dataframe tbody tr th:only-of-type {\n",
       "        vertical-align: middle;\n",
       "    }\n",
       "\n",
       "    .dataframe tbody tr th {\n",
       "        vertical-align: top;\n",
       "    }\n",
       "\n",
       "    .dataframe thead th {\n",
       "        text-align: right;\n",
       "    }\n",
       "</style>\n",
       "<table border=\"1\" class=\"dataframe\">\n",
       "  <thead>\n",
       "    <tr style=\"text-align: right;\">\n",
       "      <th></th>\n",
       "      <th>var1</th>\n",
       "      <th>var2</th>\n",
       "      <th>var3</th>\n",
       "      <th>var4</th>\n",
       "      <th>var5</th>\n",
       "      <th>var6</th>\n",
       "      <th>var7</th>\n",
       "      <th>var8</th>\n",
       "      <th>var9</th>\n",
       "      <th>var10</th>\n",
       "    </tr>\n",
       "  </thead>\n",
       "  <tbody>\n",
       "    <tr>\n",
       "      <td>0</td>\n",
       "      <td>0.471435</td>\n",
       "      <td>-1.190976</td>\n",
       "      <td>1.432707</td>\n",
       "      <td>-0.312652</td>\n",
       "      <td>-0.720589</td>\n",
       "      <td>0.887163</td>\n",
       "      <td>0.859588</td>\n",
       "      <td>-0.636524</td>\n",
       "      <td>0.015696</td>\n",
       "      <td>-2.242685</td>\n",
       "    </tr>\n",
       "    <tr>\n",
       "      <td>1</td>\n",
       "      <td>1.150036</td>\n",
       "      <td>0.991946</td>\n",
       "      <td>0.953324</td>\n",
       "      <td>-2.021255</td>\n",
       "      <td>-0.334077</td>\n",
       "      <td>0.002118</td>\n",
       "      <td>0.405453</td>\n",
       "      <td>0.289092</td>\n",
       "      <td>1.321158</td>\n",
       "      <td>-1.546906</td>\n",
       "    </tr>\n",
       "    <tr>\n",
       "      <td>2</td>\n",
       "      <td>-0.202646</td>\n",
       "      <td>-0.655969</td>\n",
       "      <td>0.193421</td>\n",
       "      <td>0.553439</td>\n",
       "      <td>1.318152</td>\n",
       "      <td>-0.469305</td>\n",
       "      <td>0.675554</td>\n",
       "      <td>-1.817027</td>\n",
       "      <td>-0.183109</td>\n",
       "      <td>1.058969</td>\n",
       "    </tr>\n",
       "    <tr>\n",
       "      <td>3</td>\n",
       "      <td>-0.397840</td>\n",
       "      <td>0.337438</td>\n",
       "      <td>1.047579</td>\n",
       "      <td>1.045938</td>\n",
       "      <td>0.863717</td>\n",
       "      <td>-0.122092</td>\n",
       "      <td>0.124713</td>\n",
       "      <td>-0.322795</td>\n",
       "      <td>0.841675</td>\n",
       "      <td>2.390961</td>\n",
       "    </tr>\n",
       "    <tr>\n",
       "      <td>4</td>\n",
       "      <td>0.076200</td>\n",
       "      <td>-0.566446</td>\n",
       "      <td>0.036142</td>\n",
       "      <td>-2.074978</td>\n",
       "      <td>0.247792</td>\n",
       "      <td>-0.897157</td>\n",
       "      <td>-0.136795</td>\n",
       "      <td>0.018289</td>\n",
       "      <td>0.755414</td>\n",
       "      <td>0.215269</td>\n",
       "    </tr>\n",
       "  </tbody>\n",
       "</table>\n",
       "</div>"
      ],
      "text/plain": [
       "       var1      var2      var3      var4      var5      var6      var7  \\\n",
       "0  0.471435 -1.190976  1.432707 -0.312652 -0.720589  0.887163  0.859588   \n",
       "1  1.150036  0.991946  0.953324 -2.021255 -0.334077  0.002118  0.405453   \n",
       "2 -0.202646 -0.655969  0.193421  0.553439  1.318152 -0.469305  0.675554   \n",
       "3 -0.397840  0.337438  1.047579  1.045938  0.863717 -0.122092  0.124713   \n",
       "4  0.076200 -0.566446  0.036142 -2.074978  0.247792 -0.897157 -0.136795   \n",
       "\n",
       "       var8      var9     var10  \n",
       "0 -0.636524  0.015696 -2.242685  \n",
       "1  0.289092  1.321158 -1.546906  \n",
       "2 -1.817027 -0.183109  1.058969  \n",
       "3 -0.322795  0.841675  2.390961  \n",
       "4  0.018289  0.755414  0.215269  "
      ]
     },
     "execution_count": 2,
     "metadata": {},
     "output_type": "execute_result"
    }
   ],
   "source": [
    "import pandas as pd\n",
    "import numpy as np\n",
    "\n",
    "np.random.seed(1234)\n",
    "\n",
    "data = np.random.randn(100, 10)\n",
    "df = pd.DataFrame(data, columns=[f\"var{i+1}\" for i in range(10)])\n",
    "\n",
    "df.head()"
   ]
  },
  {
   "cell_type": "code",
   "execution_count": 9,
   "id": "e75fd32f",
   "metadata": {},
   "outputs": [
    {
     "data": {
      "text/html": [
       "<div>\n",
       "<style scoped>\n",
       "    .dataframe tbody tr th:only-of-type {\n",
       "        vertical-align: middle;\n",
       "    }\n",
       "\n",
       "    .dataframe tbody tr th {\n",
       "        vertical-align: top;\n",
       "    }\n",
       "\n",
       "    .dataframe thead th {\n",
       "        text-align: right;\n",
       "    }\n",
       "</style>\n",
       "<table border=\"1\" class=\"dataframe\">\n",
       "  <thead>\n",
       "    <tr style=\"text-align: right;\">\n",
       "      <th></th>\n",
       "      <th>var1</th>\n",
       "      <th>var2</th>\n",
       "      <th>var3</th>\n",
       "      <th>var4</th>\n",
       "      <th>var5</th>\n",
       "      <th>var6</th>\n",
       "      <th>var7</th>\n",
       "      <th>var8</th>\n",
       "      <th>var9</th>\n",
       "      <th>var10</th>\n",
       "    </tr>\n",
       "  </thead>\n",
       "  <tbody>\n",
       "    <tr>\n",
       "      <td>0</td>\n",
       "      <td>0.396759</td>\n",
       "      <td>-1.169771</td>\n",
       "      <td>1.509972</td>\n",
       "      <td>-0.242212</td>\n",
       "      <td>-0.542748</td>\n",
       "      <td>1.019232</td>\n",
       "      <td>0.761109</td>\n",
       "      <td>-0.744043</td>\n",
       "      <td>-0.102699</td>\n",
       "      <td>-2.106934</td>\n",
       "    </tr>\n",
       "    <tr>\n",
       "      <td>1</td>\n",
       "      <td>1.199705</td>\n",
       "      <td>1.076854</td>\n",
       "      <td>0.958638</td>\n",
       "      <td>-1.823511</td>\n",
       "      <td>-0.169623</td>\n",
       "      <td>0.045435</td>\n",
       "      <td>0.307314</td>\n",
       "      <td>0.234588</td>\n",
       "      <td>1.245020</td>\n",
       "      <td>-1.430360</td>\n",
       "    </tr>\n",
       "    <tr>\n",
       "      <td>2</td>\n",
       "      <td>-0.400840</td>\n",
       "      <td>-0.619152</td>\n",
       "      <td>0.084682</td>\n",
       "      <td>0.559349</td>\n",
       "      <td>1.425383</td>\n",
       "      <td>-0.473264</td>\n",
       "      <td>0.577213</td>\n",
       "      <td>-1.992162</td>\n",
       "      <td>-0.307939</td>\n",
       "      <td>1.103584</td>\n",
       "    </tr>\n",
       "    <tr>\n",
       "      <td>3</td>\n",
       "      <td>-0.631800</td>\n",
       "      <td>0.403246</td>\n",
       "      <td>1.067040</td>\n",
       "      <td>1.015153</td>\n",
       "      <td>0.986687</td>\n",
       "      <td>-0.091231</td>\n",
       "      <td>0.026784</td>\n",
       "      <td>-0.412345</td>\n",
       "      <td>0.750016</td>\n",
       "      <td>2.398808</td>\n",
       "    </tr>\n",
       "    <tr>\n",
       "      <td>4</td>\n",
       "      <td>-0.070899</td>\n",
       "      <td>-0.527016</td>\n",
       "      <td>-0.096204</td>\n",
       "      <td>-1.873232</td>\n",
       "      <td>0.392094</td>\n",
       "      <td>-0.944020</td>\n",
       "      <td>-0.234528</td>\n",
       "      <td>-0.051725</td>\n",
       "      <td>0.660963</td>\n",
       "      <td>0.283172</td>\n",
       "    </tr>\n",
       "  </tbody>\n",
       "</table>\n",
       "</div>"
      ],
      "text/plain": [
       "       var1      var2      var3      var4      var5      var6      var7  \\\n",
       "0  0.396759 -1.169771  1.509972 -0.242212 -0.542748  1.019232  0.761109   \n",
       "1  1.199705  1.076854  0.958638 -1.823511 -0.169623  0.045435  0.307314   \n",
       "2 -0.400840 -0.619152  0.084682  0.559349  1.425383 -0.473264  0.577213   \n",
       "3 -0.631800  0.403246  1.067040  1.015153  0.986687 -0.091231  0.026784   \n",
       "4 -0.070899 -0.527016 -0.096204 -1.873232  0.392094 -0.944020 -0.234528   \n",
       "\n",
       "       var8      var9     var10  \n",
       "0 -0.744043 -0.102699 -2.106934  \n",
       "1  0.234588  1.245020 -1.430360  \n",
       "2 -1.992162 -0.307939  1.103584  \n",
       "3 -0.412345  0.750016  2.398808  \n",
       "4 -0.051725  0.660963  0.283172  "
      ]
     },
     "execution_count": 9,
     "metadata": {},
     "output_type": "execute_result"
    }
   ],
   "source": [
    "from sklearn.preprocessing import StandardScaler\n",
    "\n",
    "ss = StandardScaler()\n",
    "scaled_data = ss.fit_transform(df)\n",
    "\n",
    "df_s = pd.DataFrame(scaled_data, columns=[f\"var{i+1}\" for i in range(10)])\n",
    "\n",
    "df_s.head()"
   ]
  },
  {
   "cell_type": "code",
   "execution_count": 10,
   "id": "0f8a8dc0",
   "metadata": {},
   "outputs": [
    {
     "data": {
      "text/plain": [
       "((80, 10), (20, 10))"
      ]
     },
     "execution_count": 10,
     "metadata": {},
     "output_type": "execute_result"
    }
   ],
   "source": [
    "from sklearn.model_selection import train_test_split\n",
    "\n",
    "train, test = train_test_split(df_s, test_size=0.2, random_state=1234)\n",
    "train.shape, test.shape"
   ]
  },
  {
   "cell_type": "code",
   "execution_count": 17,
   "id": "e76edc73",
   "metadata": {},
   "outputs": [
    {
     "data": {
      "text/plain": [
       "array([0.15736462, 0.14131353, 0.12313415, 0.10998224, 0.10494287,\n",
       "       0.09509089, 0.09022798, 0.07331753, 0.06028985, 0.04433633])"
      ]
     },
     "execution_count": 17,
     "metadata": {},
     "output_type": "execute_result"
    }
   ],
   "source": [
    "from sklearn.decomposition import PCA\n",
    "\n",
    "# svd_solver = SVD 알고리즘 방식 지정\n",
    "# \"auto\" 기본값. 데이터 크기와 n_components에 따라 아래 알고리즘 중 적절한 것을 자동 선택함.\n",
    "# \"full\" 정확한 고전적인 SVD 방식 사용. 데이터 크기가 작거나, 정확도가 중요한 경우에 적합. 계산 비용이 큼.\n",
    "# \"arpack\" 희소한 데이터나 n_components < min(n_samples, n_features)인 경우에 적합한 희소 SVD 방식.\n",
    "# \"randomized\" 대규모 데이터에 대해 근사적인 SVD 계산. 속도가 빠르고, 대용량 데이터셋에 적합. 정확도는 약간 떨어질 수 있음.\n",
    "pca = PCA(svd_solver='full')\n",
    "pca.fit(train)\n",
    "var_list = pca.explained_variance_ratio_\n",
    "\n",
    "var_list"
   ]
  },
  {
   "cell_type": "code",
   "execution_count": 29,
   "id": "e49f4ea1",
   "metadata": {},
   "outputs": [
    {
     "data": {
      "text/plain": [
       "(array([1.66869861, 1.49849241, 1.30571776, 1.16625463, 1.11281695,\n",
       "        1.00834634, 0.95677988, 0.77746108, 0.63931521, 0.47014364]),\n",
       " array([[ 0.22319146, -0.30790823, -0.56563344, -0.05256223,  0.52669645,\n",
       "         -0.43814766, -0.12246097, -0.113729  , -0.07417794,  0.1727954 ],\n",
       "        [-0.4323397 ,  0.01417735, -0.33773311, -0.17708182, -0.18709533,\n",
       "         -0.04302926, -0.44670501,  0.35281449, -0.40817447, -0.37413067],\n",
       "        [ 0.19841493,  0.09055921, -0.07049008,  0.28713364, -0.03659912,\n",
       "          0.16862827, -0.36123419,  0.62576973,  0.17465679,  0.53165599],\n",
       "        [-0.23067862,  0.51447626,  0.18734595, -0.59079668,  0.41274831,\n",
       "         -0.11435047, -0.14367523,  0.06240294,  0.25932748,  0.1507902 ],\n",
       "        [ 0.47396074,  0.54201885, -0.16837044,  0.00589565,  0.1806307 ,\n",
       "          0.33020282,  0.11039871, -0.03986343, -0.53849773, -0.08817765],\n",
       "        [ 0.33641472, -0.22494061, -0.1791467 , -0.66632958, -0.37912524,\n",
       "          0.0354911 ,  0.34425125,  0.29623263,  0.04840146,  0.08085329],\n",
       "        [-0.41574072,  0.06903137,  0.05775366,  0.10109094, -0.00553672,\n",
       "         -0.26981772,  0.50664882,  0.16840817, -0.46812758,  0.48146592],\n",
       "        [ 0.19320866,  0.41236358, -0.08919695,  0.24827699, -0.18119918,\n",
       "         -0.62895763,  0.20353778,  0.26027306,  0.2492319 , -0.3511724 ],\n",
       "        [ 0.29203927, -0.29745573,  0.66057704, -0.0680587 ,  0.25317397,\n",
       "         -0.24215979, -0.13914189,  0.3097868 , -0.3336762 , -0.18929494],\n",
       "        [ 0.19343303,  0.15631075,  0.13353668, -0.11777142, -0.49250509,\n",
       "         -0.35684647, -0.43144792, -0.43091957, -0.21263398,  0.34568136]]))"
      ]
     },
     "execution_count": 29,
     "metadata": {},
     "output_type": "execute_result"
    }
   ],
   "source": [
    "eigenvalues = pca.explained_variance_\n",
    "eigenvectors = pca.components_\n",
    "\n",
    "eigenvalues, eigenvectors"
   ]
  },
  {
   "cell_type": "code",
   "execution_count": 18,
   "id": "a1109f86",
   "metadata": {},
   "outputs": [
    {
     "name": "stdout",
     "output_type": "stream",
     "text": [
      "5 0.6367374081720558\n",
      "6 0.7318283000849632\n",
      "7 0.8220562793741056\n",
      "8 0.8953738143649844\n",
      "9 0.9556636682091915\n"
     ]
    }
   ],
   "source": [
    "# 60% 이상 설명할 수 있는 최소 차원의 수 찾기 => 5\n",
    "for i in range(10):\n",
    "    s = np.sum(var_list[:i])\n",
    "    if(s > 0.6): print(i, s)"
   ]
  },
  {
   "cell_type": "code",
   "execution_count": 20,
   "id": "bb1975ab",
   "metadata": {},
   "outputs": [
    {
     "data": {
      "text/plain": [
       "array([0.15736462, 0.29867815, 0.4218123 , 0.53179454, 0.63673741,\n",
       "       0.7318283 , 0.82205628, 0.89537381, 0.95566367, 1.        ])"
      ]
     },
     "execution_count": 20,
     "metadata": {},
     "output_type": "execute_result"
    }
   ],
   "source": [
    "cumulative_variance = np.cumsum(pca.explained_variance_ratio_)\n",
    "cumulative_variance"
   ]
  },
  {
   "cell_type": "code",
   "execution_count": 22,
   "id": "6bed11f5",
   "metadata": {},
   "outputs": [
    {
     "data": {
      "text/plain": [
       "5"
      ]
     },
     "execution_count": 22,
     "metadata": {},
     "output_type": "execute_result"
    }
   ],
   "source": [
    "min_components = np.argmax(cumulative_variance >= 0.60) + 1\n",
    "min_components"
   ]
  },
  {
   "cell_type": "code",
   "execution_count": 26,
   "id": "d532c287",
   "metadata": {},
   "outputs": [
    {
     "data": {
      "text/html": [
       "<div>\n",
       "<style scoped>\n",
       "    .dataframe tbody tr th:only-of-type {\n",
       "        vertical-align: middle;\n",
       "    }\n",
       "\n",
       "    .dataframe tbody tr th {\n",
       "        vertical-align: top;\n",
       "    }\n",
       "\n",
       "    .dataframe thead th {\n",
       "        text-align: right;\n",
       "    }\n",
       "</style>\n",
       "<table border=\"1\" class=\"dataframe\">\n",
       "  <thead>\n",
       "    <tr style=\"text-align: right;\">\n",
       "      <th></th>\n",
       "      <th>v1</th>\n",
       "      <th>v2</th>\n",
       "      <th>v3</th>\n",
       "      <th>v4</th>\n",
       "      <th>v5</th>\n",
       "    </tr>\n",
       "  </thead>\n",
       "  <tbody>\n",
       "    <tr>\n",
       "      <td>0</td>\n",
       "      <td>1.364746</td>\n",
       "      <td>1.380137</td>\n",
       "      <td>-0.094587</td>\n",
       "      <td>-0.006229</td>\n",
       "      <td>0.720995</td>\n",
       "    </tr>\n",
       "    <tr>\n",
       "      <td>1</td>\n",
       "      <td>-1.875474</td>\n",
       "      <td>-0.766516</td>\n",
       "      <td>0.450379</td>\n",
       "      <td>-0.797257</td>\n",
       "      <td>-1.441772</td>\n",
       "    </tr>\n",
       "    <tr>\n",
       "      <td>2</td>\n",
       "      <td>-0.190794</td>\n",
       "      <td>0.582614</td>\n",
       "      <td>0.107553</td>\n",
       "      <td>-0.960593</td>\n",
       "      <td>2.221013</td>\n",
       "    </tr>\n",
       "    <tr>\n",
       "      <td>3</td>\n",
       "      <td>2.360462</td>\n",
       "      <td>0.792242</td>\n",
       "      <td>-0.882309</td>\n",
       "      <td>-0.115069</td>\n",
       "      <td>-1.478089</td>\n",
       "    </tr>\n",
       "    <tr>\n",
       "      <td>4</td>\n",
       "      <td>-1.266641</td>\n",
       "      <td>0.493597</td>\n",
       "      <td>-1.973910</td>\n",
       "      <td>0.613511</td>\n",
       "      <td>-1.357879</td>\n",
       "    </tr>\n",
       "  </tbody>\n",
       "</table>\n",
       "</div>"
      ],
      "text/plain": [
       "         v1        v2        v3        v4        v5\n",
       "0  1.364746  1.380137 -0.094587 -0.006229  0.720995\n",
       "1 -1.875474 -0.766516  0.450379 -0.797257 -1.441772\n",
       "2 -0.190794  0.582614  0.107553 -0.960593  2.221013\n",
       "3  2.360462  0.792242 -0.882309 -0.115069 -1.478089\n",
       "4 -1.266641  0.493597 -1.973910  0.613511 -1.357879"
      ]
     },
     "execution_count": 26,
     "metadata": {},
     "output_type": "execute_result"
    }
   ],
   "source": [
    "# 차원 축소 \n",
    "\n",
    "train_reduced = pd.DataFrame(pca.transform(train)[:, :min_components], columns=['v1','v2','v3','v4','v5'])\n",
    "train_reduced.head()"
   ]
  },
  {
   "cell_type": "code",
   "execution_count": 28,
   "id": "9330a3fa",
   "metadata": {},
   "outputs": [
    {
     "data": {
      "text/html": [
       "<div>\n",
       "<style scoped>\n",
       "    .dataframe tbody tr th:only-of-type {\n",
       "        vertical-align: middle;\n",
       "    }\n",
       "\n",
       "    .dataframe tbody tr th {\n",
       "        vertical-align: top;\n",
       "    }\n",
       "\n",
       "    .dataframe thead th {\n",
       "        text-align: right;\n",
       "    }\n",
       "</style>\n",
       "<table border=\"1\" class=\"dataframe\">\n",
       "  <thead>\n",
       "    <tr style=\"text-align: right;\">\n",
       "      <th></th>\n",
       "      <th>v1</th>\n",
       "      <th>v2</th>\n",
       "      <th>v3</th>\n",
       "      <th>v4</th>\n",
       "      <th>v5</th>\n",
       "    </tr>\n",
       "  </thead>\n",
       "  <tbody>\n",
       "    <tr>\n",
       "      <td>0</td>\n",
       "      <td>-0.019794</td>\n",
       "      <td>-0.224283</td>\n",
       "      <td>0.423310</td>\n",
       "      <td>0.699655</td>\n",
       "      <td>-1.499431</td>\n",
       "    </tr>\n",
       "    <tr>\n",
       "      <td>1</td>\n",
       "      <td>-1.306574</td>\n",
       "      <td>0.564127</td>\n",
       "      <td>1.472364</td>\n",
       "      <td>1.029241</td>\n",
       "      <td>-0.306320</td>\n",
       "    </tr>\n",
       "    <tr>\n",
       "      <td>2</td>\n",
       "      <td>-0.426331</td>\n",
       "      <td>-0.875099</td>\n",
       "      <td>-0.407616</td>\n",
       "      <td>-0.331106</td>\n",
       "      <td>-0.489932</td>\n",
       "    </tr>\n",
       "    <tr>\n",
       "      <td>3</td>\n",
       "      <td>-0.189382</td>\n",
       "      <td>1.536476</td>\n",
       "      <td>0.391513</td>\n",
       "      <td>-2.171239</td>\n",
       "      <td>0.157084</td>\n",
       "    </tr>\n",
       "    <tr>\n",
       "      <td>4</td>\n",
       "      <td>-0.642996</td>\n",
       "      <td>0.140483</td>\n",
       "      <td>-1.724839</td>\n",
       "      <td>0.532127</td>\n",
       "      <td>0.494353</td>\n",
       "    </tr>\n",
       "  </tbody>\n",
       "</table>\n",
       "</div>"
      ],
      "text/plain": [
       "         v1        v2        v3        v4        v5\n",
       "0 -0.019794 -0.224283  0.423310  0.699655 -1.499431\n",
       "1 -1.306574  0.564127  1.472364  1.029241 -0.306320\n",
       "2 -0.426331 -0.875099 -0.407616 -0.331106 -0.489932\n",
       "3 -0.189382  1.536476  0.391513 -2.171239  0.157084\n",
       "4 -0.642996  0.140483 -1.724839  0.532127  0.494353"
      ]
     },
     "execution_count": 28,
     "metadata": {},
     "output_type": "execute_result"
    }
   ],
   "source": [
    "test_reduced = pd.DataFrame(pca.transform(test)[:, :min_components], columns=['v1','v2','v3','v4','v5'])\n",
    "test_reduced.head()"
   ]
  },
  {
   "cell_type": "code",
   "execution_count": 30,
   "id": "0af32761",
   "metadata": {},
   "outputs": [],
   "source": [
    "# --------------------------------------------------------- #"
   ]
  },
  {
   "cell_type": "code",
   "execution_count": 36,
   "id": "ac20ec09",
   "metadata": {},
   "outputs": [
    {
     "data": {
      "text/html": [
       "<div>\n",
       "<style scoped>\n",
       "    .dataframe tbody tr th:only-of-type {\n",
       "        vertical-align: middle;\n",
       "    }\n",
       "\n",
       "    .dataframe tbody tr th {\n",
       "        vertical-align: top;\n",
       "    }\n",
       "\n",
       "    .dataframe thead th {\n",
       "        text-align: right;\n",
       "    }\n",
       "</style>\n",
       "<table border=\"1\" class=\"dataframe\">\n",
       "  <thead>\n",
       "    <tr style=\"text-align: right;\">\n",
       "      <th></th>\n",
       "      <th>v1</th>\n",
       "      <th>v2</th>\n",
       "      <th>v3</th>\n",
       "      <th>v4</th>\n",
       "      <th>v5</th>\n",
       "    </tr>\n",
       "  </thead>\n",
       "  <tbody>\n",
       "    <tr>\n",
       "      <td>0</td>\n",
       "      <td>1.364746</td>\n",
       "      <td>1.380137</td>\n",
       "      <td>-0.094587</td>\n",
       "      <td>-0.006229</td>\n",
       "      <td>0.720995</td>\n",
       "    </tr>\n",
       "    <tr>\n",
       "      <td>1</td>\n",
       "      <td>-1.875474</td>\n",
       "      <td>-0.766516</td>\n",
       "      <td>0.450379</td>\n",
       "      <td>-0.797257</td>\n",
       "      <td>-1.441772</td>\n",
       "    </tr>\n",
       "    <tr>\n",
       "      <td>2</td>\n",
       "      <td>-0.190794</td>\n",
       "      <td>0.582614</td>\n",
       "      <td>0.107553</td>\n",
       "      <td>-0.960593</td>\n",
       "      <td>2.221013</td>\n",
       "    </tr>\n",
       "    <tr>\n",
       "      <td>3</td>\n",
       "      <td>2.360462</td>\n",
       "      <td>0.792242</td>\n",
       "      <td>-0.882309</td>\n",
       "      <td>-0.115069</td>\n",
       "      <td>-1.478089</td>\n",
       "    </tr>\n",
       "    <tr>\n",
       "      <td>4</td>\n",
       "      <td>-1.266641</td>\n",
       "      <td>0.493597</td>\n",
       "      <td>-1.973910</td>\n",
       "      <td>0.613511</td>\n",
       "      <td>-1.357879</td>\n",
       "    </tr>\n",
       "    <tr>\n",
       "      <td>...</td>\n",
       "      <td>...</td>\n",
       "      <td>...</td>\n",
       "      <td>...</td>\n",
       "      <td>...</td>\n",
       "      <td>...</td>\n",
       "    </tr>\n",
       "    <tr>\n",
       "      <td>75</td>\n",
       "      <td>0.750611</td>\n",
       "      <td>2.213803</td>\n",
       "      <td>2.296645</td>\n",
       "      <td>0.583381</td>\n",
       "      <td>-0.958052</td>\n",
       "    </tr>\n",
       "    <tr>\n",
       "      <td>76</td>\n",
       "      <td>1.537186</td>\n",
       "      <td>1.775188</td>\n",
       "      <td>-0.888037</td>\n",
       "      <td>-0.084382</td>\n",
       "      <td>-0.812130</td>\n",
       "    </tr>\n",
       "    <tr>\n",
       "      <td>77</td>\n",
       "      <td>-0.317917</td>\n",
       "      <td>-1.864794</td>\n",
       "      <td>-2.070302</td>\n",
       "      <td>-0.288442</td>\n",
       "      <td>1.012760</td>\n",
       "    </tr>\n",
       "    <tr>\n",
       "      <td>78</td>\n",
       "      <td>-0.086512</td>\n",
       "      <td>-1.092315</td>\n",
       "      <td>0.748343</td>\n",
       "      <td>-0.734778</td>\n",
       "      <td>-1.293337</td>\n",
       "    </tr>\n",
       "    <tr>\n",
       "      <td>79</td>\n",
       "      <td>0.134700</td>\n",
       "      <td>-2.192489</td>\n",
       "      <td>0.070034</td>\n",
       "      <td>-1.494891</td>\n",
       "      <td>0.322596</td>\n",
       "    </tr>\n",
       "  </tbody>\n",
       "</table>\n",
       "<p>80 rows × 5 columns</p>\n",
       "</div>"
      ],
      "text/plain": [
       "          v1        v2        v3        v4        v5\n",
       "0   1.364746  1.380137 -0.094587 -0.006229  0.720995\n",
       "1  -1.875474 -0.766516  0.450379 -0.797257 -1.441772\n",
       "2  -0.190794  0.582614  0.107553 -0.960593  2.221013\n",
       "3   2.360462  0.792242 -0.882309 -0.115069 -1.478089\n",
       "4  -1.266641  0.493597 -1.973910  0.613511 -1.357879\n",
       "..       ...       ...       ...       ...       ...\n",
       "75  0.750611  2.213803  2.296645  0.583381 -0.958052\n",
       "76  1.537186  1.775188 -0.888037 -0.084382 -0.812130\n",
       "77 -0.317917 -1.864794 -2.070302 -0.288442  1.012760\n",
       "78 -0.086512 -1.092315  0.748343 -0.734778 -1.293337\n",
       "79  0.134700 -2.192489  0.070034 -1.494891  0.322596\n",
       "\n",
       "[80 rows x 5 columns]"
      ]
     },
     "execution_count": 36,
     "metadata": {},
     "output_type": "execute_result"
    }
   ],
   "source": [
    "pca_reduced = PCA(n_components=min_components)\n",
    "reduced_data = pca_reduced.fit_transform(train)\n",
    "df_reduced = pd.DataFrame(reduced_data, columns=[f\"v{i+1}\" for i in range(min_components)])\n",
    "df_reduced"
   ]
  },
  {
   "cell_type": "code",
   "execution_count": 41,
   "id": "ba94243f",
   "metadata": {},
   "outputs": [
    {
     "data": {
      "text/plain": [
       "False"
      ]
     },
     "execution_count": 41,
     "metadata": {},
     "output_type": "execute_result"
    }
   ],
   "source": [
    "df_reduced.equals(train_reduced) # 소수점 자리가 다름."
   ]
  },
  {
   "cell_type": "code",
   "execution_count": 52,
   "id": "9387f1ae",
   "metadata": {},
   "outputs": [
    {
     "data": {
      "text/plain": [
       "v1    80\n",
       "v2    80\n",
       "v3    80\n",
       "v4    80\n",
       "v5    80\n",
       "dtype: int64"
      ]
     },
     "execution_count": 52,
     "metadata": {},
     "output_type": "execute_result"
    }
   ],
   "source": [
    "num = 10\n",
    "(round(train_reduced, num) == round(df_reduced, num)).sum()"
   ]
  },
  {
   "cell_type": "code",
   "execution_count": null,
   "id": "39ed9869",
   "metadata": {},
   "outputs": [],
   "source": []
  }
 ],
 "metadata": {
  "kernelspec": {
   "display_name": "Python 3 (ipykernel)",
   "language": "python",
   "name": "python3"
  },
  "language_info": {
   "codemirror_mode": {
    "name": "ipython",
    "version": 3
   },
   "file_extension": ".py",
   "mimetype": "text/x-python",
   "name": "python",
   "nbconvert_exporter": "python",
   "pygments_lexer": "ipython3",
   "version": "3.7.4"
  }
 },
 "nbformat": 4,
 "nbformat_minor": 5
}
